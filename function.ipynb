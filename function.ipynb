{
 "cells": [
  {
   "cell_type": "code",
   "execution_count": 1,
   "metadata": {},
   "outputs": [
    {
     "name": "stdout",
     "output_type": "stream",
     "text": [
      "ABCdef\n",
      "Zapped\n",
      "ABCdef\n"
     ]
    }
   ],
   "source": [
    "def fred():\n",
    "    print( \"Zapped\")\n",
    "def jane():\n",
    "    print( \"ABCdef\")\n",
    "\n",
    "\n",
    "jane() \n",
    "fred() \n",
    "jane()\n"
   ]
  },
  {
   "cell_type": "code",
   "execution_count": 3,
   "metadata": {},
   "outputs": [],
   "source": [
    "def grosspay():\n",
    "    #collect data\n",
    "    hours = int(input('Input number of hours worked: '))\n",
    "    rate = int(input('Input bill rate: '))\n",
    "    ft = 40\n",
    "    #find total\n",
    "    if (float(hours) <= ft):\n",
    "        gross = float(hours)*float(rate)\n",
    "        print('The total for the period is:')\n",
    "        print('$'\"{0:.2f}\".format(gross))\n",
    "    elif (float(hours) > ft): \n",
    "        ftotal = ft*float(rate)\n",
    "        ot = float(hours) - ft\n",
    "        ottotal = ot * (float(rate)*1.5)\n",
    "        gross = ftotal + ottotal\n",
    "        print('The total for the period is:')\n",
    "        print('40 hr $'\"{0:.2f}\".format(ftotal))\n",
    "        print('OT hr $'\"{0:.2f}\".format(ottotal))\n",
    "        print('Gross total  $'\"{0:.2f}\".format(gross))\n",
    "    \n",
    "              #print(total)\n",
    "    #print total \n",
    "   # print('The total for the period is:')\n",
    "   # print('$'\"{0:.2f}\".format(ftotal))\n",
    "   # print('$'\"{0:.2f}\".format(ftotal))"
   ]
  },
  {
   "cell_type": "code",
   "execution_count": 5,
   "metadata": {
    "scrolled": true
   },
   "outputs": [
    {
     "name": "stdout",
     "output_type": "stream",
     "text": [
      "Input number of hours worked: 41\n",
      "Input bill rate: 40\n",
      "The total for the period is:\n",
      "40 hr $1600.00\n",
      "OT hr $60.00\n",
      "Gross total  $1660.00\n"
     ]
    }
   ],
   "source": [
    "grosspay()"
   ]
  },
  {
   "cell_type": "code",
   "execution_count": 6,
   "metadata": {},
   "outputs": [
    {
     "name": "stdout",
     "output_type": "stream",
     "text": [
      "Input number of hours worked: 40\n",
      "Input bill rate: 10\n",
      "The total for the period is:\n",
      "$400.00\n"
     ]
    }
   ],
   "source": [
    "grosspay()"
   ]
  },
  {
   "cell_type": "code",
   "execution_count": 9,
   "metadata": {},
   "outputs": [
    {
     "name": "stdout",
     "output_type": "stream",
     "text": [
      "Input number of hours worked: 45\n",
      "Input bill rate: 40\n",
      "The total for the period is:\n",
      "40 hr $1600.00\n",
      "OT hr $300.00\n",
      "Gross total  $1900.00\n"
     ]
    }
   ],
   "source": [
    "grosspay()"
   ]
  },
  {
   "cell_type": "code",
   "execution_count": null,
   "metadata": {},
   "outputs": [],
   "source": []
  }
 ],
 "metadata": {
  "kernelspec": {
   "display_name": "Python 3",
   "language": "python",
   "name": "python3"
  },
  "language_info": {
   "codemirror_mode": {
    "name": "ipython",
    "version": 3
   },
   "file_extension": ".py",
   "mimetype": "text/x-python",
   "name": "python",
   "nbconvert_exporter": "python",
   "pygments_lexer": "ipython3",
   "version": "3.7.6"
  }
 },
 "nbformat": 4,
 "nbformat_minor": 2
}
