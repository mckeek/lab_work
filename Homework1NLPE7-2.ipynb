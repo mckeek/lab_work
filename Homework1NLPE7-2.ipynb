{
 "cells": [
  {
   "cell_type": "code",
   "execution_count": 1,
   "metadata": {},
   "outputs": [],
   "source": [
    "import os, sys, json, argparse\n",
    "import pandas as p\n",
    "import numpy as np\n",
    "import nltk\n",
    "import re\n",
    "import os\n",
    "import codecs\n",
    "from sklearn import feature_extraction\n",
    "import mpld3\n",
    "from string import punctuation\n",
    "\n",
    "import urllib.request, html5lib\n",
    "from bs4 import BeautifulSoup, Tag, UnicodeDammit"
   ]
  },
  {
   "cell_type": "code",
   "execution_count": 2,
   "metadata": {},
   "outputs": [],
   "source": [
    "#first i found a routine that extracted a json version of a script and converted it something usable\n",
    "#used the same author to extract the scripts from http://www.imsdb.com/scripts into a json file\n",
    "#the parsing routine started out as an interactive py and i converted it to a batch process. \n",
    "\n",
    "SW5 = '/Users/kenmckee/Desktop/SWE5'\n",
    "SW7 = '/Users/kenmckee/Desktop/SWE7ANA'\n",
    "\n",
    "with open('/Users/kenmckee/Desktop/SWE5') as fd:\n",
    "    script = json.load(fd)\n",
    "    \n"
   ]
  },
  {
   "cell_type": "code",
   "execution_count": 3,
   "metadata": {},
   "outputs": [],
   "source": [
    "BLOCK_TYPES=['character', 'speech', 'stage direction', 'location']\n",
    "CHARACTER=0\n",
    "SPEECH=1\n",
    "DIRECTIONS=2\n",
    "LOCATION=3"
   ]
  },
  {
   "cell_type": "code",
   "execution_count": 4,
   "metadata": {},
   "outputs": [],
   "source": [
    "#adapted this routine from https://github.com/Adrien-Luxey/Da-Fonky-Movie-Script-Parser\n",
    "\n",
    "def extract_characters(script):\n",
    "    '''\n",
    "    Extracts the (unique) characters list from the script\n",
    "    '''\n",
    "    characters=[]\n",
    "    for block in script['movie_script']:\n",
    "        if(block['type'] == BLOCK_TYPES[SPEECH]):\n",
    "            character = block['character']\n",
    "            if not character in characters:\n",
    "                characters.append(character)\n",
    "\n",
    "    return characters\n",
    "\n",
    "def extract_locations(script):\n",
    "    '''\n",
    "    Extracts the (unique) locations list from the script\n",
    "    '''\n",
    "    locations=[]\n",
    "    for block in script['movie_script']:\n",
    "        if(block['type'] == BLOCK_TYPES[LOCATION]):\n",
    "            location = block['text']\n",
    "            if not location in locations:\n",
    "                locations.append(location)\n",
    "\n",
    "    return locations\n",
    "\n",
    "def extract_directions(script):\n",
    "    '''\n",
    "    Extracts the stage directions list from the script\n",
    "    '''\n",
    "    directions=[]\n",
    "    for block in script['movie_script']:\n",
    "        if(block['type'] == BLOCK_TYPES[DIRECTIONS]):\n",
    "            directions.append(block['text'])\n",
    "\n",
    "    return directions\n",
    "\n",
    "def extract_speech_given_character(script, character, strict_match=False):\n",
    "    '''\n",
    "    Extracts the given character's utterances from the script\n",
    "\n",
    "    If strict_match is True, we will only extract utterances that perfectly match (==) the parameter;\n",
    "    otherwise, we will extract utterances whose character partly matches (in) the parameter.\n",
    "    In both cases, the match is case-insensitive.\n",
    "\n",
    "    Also asks the user wether one wants to keep the character's name before each utterance.\n",
    "    '''\n",
    "\n",
    "    speeches=[]\n",
    "    for block in script['movie_script']:\n",
    "        if( block['type'] == BLOCK_TYPES[SPEECH] and\n",
    "            (strict_match and (character.lower() == block['character'].lower()) or\n",
    "             not strict_match and (character.lower() in block['character'].lower())) ):\n",
    "            if( keep_character_name ):\n",
    "                speeches.append(block['character'])\n",
    "            speeches.append(block['text'])\n",
    "\n",
    "    return speeches\n",
    "\n",
    "def extract_all_characters_speech(script):\n",
    "    '''\n",
    "    Extracts all speeches from the script\n",
    "    '''\n",
    "    return extract_speech_given_character(script, '')\n",
    "\n",
    "def extract_speech_asking_user(script):\n",
    "    '''\n",
    "    Extracts utterances by asking the user which character one wants to get\n",
    "\n",
    "    Also asks wether the user wants a perfect (==) or partial (in) match.\n",
    "    '''\n",
    "    character = input_string('Please provide the name of the character: ')\n",
    "\n",
    "    strict_match = False\n",
    "    answer = input('Do you want utterances of this exact character (or any character that matches \\'{}\\')? (y/N) '.format(character))\n",
    "    if( answer == 'y' or answer =='Y' ):\n",
    "        strict_match = True\n",
    "\n",
    "    return extract_speech_given_character(script, character, strict_match)\n",
    "\n",
    "def extract_speech_using_characters_list(script):\n",
    "    '''\n",
    "    Extracts utterances by providing the user with the characters list\n",
    "\n",
    "    Also asks wether the user wants a perfect (==) or partial (in) match.\n",
    "    '''\n",
    "    characters = sorted(extract_characters(script))\n",
    "    character = characters[input_from_list('Please choose a character:', characters)]\n",
    "\n",
    "    strict_match = False\n",
    "    answer = input('Do you want utterances of this exact character (or any character that matches \\'{}\\')? (y/N) '.format(character))\n",
    "    if( answer == 'y' or answer =='Y' ):\n",
    "        strict_match = True\n",
    "\n",
    "    return extract_speech_given_character(script, character, strict_match)\n",
    "\n",
    "def extract_speech(script):\n",
    "    '''\n",
    "    Asks the user which speeches one wants to extract, and calls the appropriate function\n",
    "    '''\n",
    "    speech=[]\n",
    "\n",
    "    choices = ['all characters',\n",
    "               'give the character\\'s name',\n",
    "               'choose from the characters list']\n",
    "\n",
    "    action = input_from_list(\"Which character speeches do you want to extract?\", choices)\n",
    "\n",
    "    if( action == 0 ):\n",
    "        return extract_all_characters_speech(script)\n",
    "    elif( action == 1 ):\n",
    "        return extract_speech_asking_user(script)\n",
    "    elif( action == 2 ):\n",
    "        return extract_speech_using_characters_list(script)\n",
    "\n",
    "\n",
    "\n"
   ]
  },
  {
   "cell_type": "code",
   "execution_count": 26,
   "metadata": {},
   "outputs": [
    {
     "name": "stdout",
     "output_type": "stream",
     "text": [
      "['THREEPIO', 'LUKE', 'IMPERIAL OFFICER', 'VADER', 'REBEL OFFICER', 'TROOPER', 'CHIEF PILOT', 'CAPTAIN', 'WOMAN', 'FIXER', 'CAMIE', 'BIGGS', 'DEAK', 'LEIA', 'COMMANDER', 'SECOND OFFICER', 'FIRST TROOPER', 'SECOND TROOPER', 'BERU', 'OWEN', 'AUNT BERU', 'BEN', 'TAGGE', 'MOTTI', 'TARKIN', 'BARTENDER', 'CREATURE', 'HUMAN', 'HAN', 'GREEDO', 'JABBA', 'OFFICER CASS', 'OFFICER', 'VOICE', \"HAN'S VOICE\", 'GANTRY OFFICER', 'INTERCOM VOICE', 'TROOPER VOICE', 'FIRST OFFICER', \"BEN'S VOICE\", 'WILLARD', 'DODONNA', 'GOLD LEADER', 'WEDGE', \"MAN'S VOICE\", 'RED LEADER', 'CHIEF', 'MASSASSI INTERCOM VOICE', 'RED TEN', 'RED SEVEN', 'PORKINS', 'RED NINE', 'RED ELEVEN', 'READ LEADER', 'ASTRO-OFFICER', 'CONTROL OFFICER', \"LUKE'S VOICE\", 'GOLD FIVE', 'GOLD TWO', \"WINGMAN'S VOICE\", \"RED LEADER'S VOICE\", \"RED TEN'S VOICE\", \"RED NINE'S VOICE\", 'DEATH STAR INTERCOM VOICE', 'BASE VOICE', 'WINGMAN', 'TECHNICIAN']\n"
     ]
    },
    {
     "data": {
      "text/plain": [
       "67"
      ]
     },
     "execution_count": 26,
     "metadata": {},
     "output_type": "execute_result"
    }
   ],
   "source": [
    "keep_character_name = True\n",
    "strict_match = False\n",
    "\n",
    "result_character = extract_characters(script)\n",
    "result_direction = extract_directions(script)\n",
    "result_location = extract_locations(script)\n",
    "result_speech = extract_all_characters_speech(script)\n",
    "print(result_character)\n",
    "\n",
    "#print(result_location)\n",
    "#print(result_location)\n",
    "\n",
    "\n",
    "len(result_character)"
   ]
  },
  {
   "cell_type": "code",
   "execution_count": 6,
   "metadata": {},
   "outputs": [],
   "source": [
    "keep_character_name = True\n",
    "strict_match = False\n",
    "\n",
    "text=[]\n",
    "characters=[]\n",
    "for character in result_character:\n",
    "    for block in script['movie_script']:\n",
    "        if( block['type'] == BLOCK_TYPES[SPEECH] and\n",
    "            (strict_match and (character.lower() == block['character'].lower()) or\n",
    "             not strict_match and (character.lower() in block['character'].lower())) ):\n",
    "            if( keep_character_name ):\n",
    "                characters.append(block['character'])\n",
    "                text.append(block['text'])"
   ]
  },
  {
   "cell_type": "code",
   "execution_count": 7,
   "metadata": {},
   "outputs": [
    {
     "name": "stdout",
     "output_type": "stream",
     "text": [
      "[\"Did you hear that? They've shut down the main reactor. We'll be destroyed for sure. This is madness!\", \"We're doomed!\", \"There'll be no escape for the Princess this time.\", \"What's that?\", 'I should have known better than to trust the logic of a half-sized thermocapsulary dehousing assister...', 'Artoo! Artoo-Detoo, where are you?', 'At last! Where have you been?', \"They're heading in this direction. What are we going to do? We'll be sent to the spice mine of Kessel or smashed into who knows what!\", 'Wait a minute, where are you going?', \"Hey, you're not permitted in there. It's restricted. You'll be deactivated for sure..\", \"Don't call me a mindless philosopher, you overweight glob of grease! Now come out before somebody sees you.\", \"Secret mission? What plans? What are you talking about? I'm not getting in there!\", \"I'm going to regret this.\", \"That's funny, the damage doesn't look as bad from out here.\", 'Are you sure this things safe?', \"How did I get into this mess? I really don't know how. We seem to be made to suffer. It's our lot in life.\", \"I've got to rest before I fall apart. My joints are almost frozen.\", 'What a desolate place this is.', 'Where are you going?', \"Well, I'm not going that way. It's much too rocky. This way is much easier.\", 'What makes you think there are settlements over there?', \"Don't get technical with me.\", \"What mission? What are you talking about? I've had just about enough of you! Go that way! You'll be malfunctioning within a day, you nearsighted scrap pile!\", \"And don't let me catch you following me begging for help, because you won't get it.\", \"No more adventures. I'm not going that way.\", \"That malfunctioning little twerp. This is all his fault! He tricked me into going this way, but he'll do no better.\", \"Wait, what's that? A transport! I'm saved!\", 'Over here! Help! Please, help!', \"Artoo-Detoo! It's you! It's you!\", 'Wake up! Wake up!', \"We're doomed.\", \"Do you think they'll melt us down?\", \"Don't shoot! Don't shoot! Will this never end?\", \"(quickly) Sir -- not in an environment such as this -- that's why I've also been programmed for over thirty secondary functions that...\", 'Vaporators! Sir -- My first job was programming binary load lifter... very similar to your vaporators. You could say...', \"Of course I can, sir. It's like a second language for me... I'm as fluent in Bocce...\", 'Shutting up, sir.', '(pointing to Artoo) Excuse me, sir, but that R2 unit is in prime condition. A real bargain.', \"Uh, I'm quite sure you'll be very pleased with that one, sir. He really is in first-class condition. I've worked with him before. Here he comes.\", \"(to Artoo) Now, don't you forget this! Why I should stick my neck out for you is quite beyond my capacity!\", \"Thank the maker! This oil bath is going to feel so good. I've got such a bad case of dust contamination, I can barely move!\", 'Is there anything I might do to help?', \"I don't think so, sir. I'm only a droid and not very knowledgeable about such things. Not on this planet, anyways. As a matter of fact, I'm not even sure which planet I'm on.\", 'I see, sir.', 'I see, sir Luke.', 'And I am See-Threepio, human-cyborg relations, and this is my counterpart, Artoo-Detoo.', \"With all we've been through, sometimes I'm amazed we're in as good condition as we are, what with the Rebellion and all.\", \"That's how we came to be in your service, if you take my meaning, sir.\", \"Several, I think. Actually, there's not much to tell. I'm not much more than an interpreter, and not very good at telling stories. Well, not at making them interesting, anyways.\", 'What is what?!? He asked you a question... (pointing to Leia) What is that?', \"Oh, he says it's nothing, sir. Merely a malfunction. Old data. Pay it no mind.\", \"I'm afraid I'm not quite sure, sir.\", 'I think she was a passenger on our last voyage. A person of some importance, sir -- I believe. Our captain was attached to...', \"Behave yourself, Artoo. You're going to get us in trouble. It's all right, you can trust him. He's our new master.\", \"He says he's the property of Obi-Wan Kenobi, a resident of these parts. And it's a private message for him. Quite frankly, sir I don't know what he's talking about. Our last master was Captain Antilles, but with what we've been through, this little R2 unit has become a bit eccentric.\", \"I beg your pardon, sir, but do you know what he's talking about?\", 'He says the restraining bolt has short circuited his recording system. He suggests that if you remove the bolt, he might be able to play back the entire recording.', \"What message? The one you're carrying inside your rusty innards!\", \"I'm sorry, sir, but he appears to have picked up a slight flutter.\", '(to Artoo) Just you reconsider playing that message for him.', \"No, I don't think he likes you at all.\", \"No, I don't like you either.\", \"It wasn't my fault, sir. Please don't deactivate me. I told him not to go, but he's faulty, malfunctioning; kept babbling on about his mission.\", \"That R2 unit has always been a problem. These astro-droids are getting quite out of hand. Even I can't understand their logic at times.\", \"Pardon me, sir, but couldn't we go after him?\", 'Oh, he excels at that, sir.', 'Sir, would it help if you told him it was my fault.', \"Deactivate! Well, on the other hand if you hadn't removed his restraining bolt...\", \"Master Luke here is your rightful owner. We'll have no more of this Obi-Wan Kenobi jibberish... and don't talk to me about your mission, either. You're fortunate he doesn't blast you into a million pieces right here.\", \"If you don't mind my saying so, sir, I think you should deactivate the little fugitive until you've gotten him back to your workshop.\", 'Oh my... sir, he says there are several creatures approaching from the southeast.', 'Where am I? I must have taken a bad step...', \"I don't think I can make it. You go on, Master Luke. There's no sense in you risking yourself on my account. I'm done for.\", \"Sir, if you'll not be needing me, I'll close down for awhile.\", \"I can't abide these Jawas. Disgusting creatures.\", 'Come along, Artoo.', 'I heartily agree with you sir.', \"I don't like the look of this.\", 'Lock the door, Artoo.', \"I would much rather have gone with Master Luke than stay here with you. I don't know what all the trouble is about, but I'm sure it must be your fault.\", 'You watch your language!', 'Hello, sir.', \"Oh, my. I'd forgotten how much I hate space travel.\", 'Now be careful, Artoo.', \"He made a fair move. Screaming about it won't help you.\", 'But sir, nobody worries about upsetting a droid.', 'I see your point, sir. I suggest a new strategy, Artoo. Let the Wookiee win.', 'We found the computer outlet, sir.', \"He says he's found the main computer to power the tractor beam that's holding the ship here. He'll try to make the precise location appear on the monitor.\", 'The tractor beam is coupled to the main reactor in seven locations. A power loss at one of the terminals will allow the ship to leave.', 'I\\'m afraid I\\'m not quite sure, sir. He says \"I found her\", and keeps repeating, \"She\\'s here.\"', 'Princess Leia.', \"Level five. Detention block A A-twenty- three. I'm afraid she's scheduled to be terminated.\", \"Master Luke, sir! Pardon me for asking... but, ah... what should Artoo and I do if we're discovered here?\", \"That isn't very reassuring.\", '(over comlink) Yes sir?', 'I said, all systems have been alerted to your presence, sir. The main entrance seems to be the only way in or out; all other information on your level is restricted.', 'Oh, no!', \"They're madmen! They're heading for the prison level. If you hurry, you might catch them.\", '(to Artoo) Come on!', \"Oh! All this excitement has overrun the circuits of my counterpart here. If you don't mind, I'd like to take him down to maintenance.\", \"They aren't here! Something must have happened to them. See if they've been captured.\", 'Hurry!', \"(to Artoo) Thank goodness, they haven't found them! Where could they be?\", 'Use the comlink? Oh, my! I forgot I turned it off!', 'Are you there, sir?', \"We've had some problems...\", '(to Artoo) No. Shut them all down! Hurry!', \"Listen to them! They're dying, Artoo! Curse my metal body! I wasn't fast enough. It's all my fault! My poor master!\", \"(voice) For the moment. Uh, we're in the main hangar across from the ship.\", 'Where could they be?', \"Come on, Artoo, we're going!\", 'Oooh!', \"Help! I think I'm melting! (to Artoo) This is all your fault.\", \"Hang on tight,Artoo, you've got to come back.\", \"You wouldn't want my life to get boring, would you?\", 'Hang on, Artoo!', \"Oh, my! Artoo! Can you hear me? Say something! (to mechanic) You can repair him, can't you?\", \"You must repair him! Sir, if any of my circuits or gears will help, I'll gladly donate them.\", 'Hurry up! Come with me! What are you waiting for?! Get in gear!', 'Shape it up you guys!... Biggs?', \"I didn't know you were back! When did you get in?\", \"The Academy didn't change you much...but you're back so soon? Hey, what happened, didn't you get your commission?\", \"I almost forgot. There's a battle going on! Right here in our system. Come and look!\", 'There they are!', 'But there was a lot of firing earlier...', 'Hey, easy with those...', \"(Very animated) ...so I cut off my power, shut down the afterburners and came in low on Deak's trail. I was so close I thought I was going to fry my instruments. As it was I busted up the Skyhopper pretty bad. Uncle Owen was pretty upset. He grounded me for the rest of the season. You should have been there... it was fantastic.\", \"Look who's talking. Now that you've been around those giant starships you're beginning to sound like my uncle. You've gotten soft in the city...\", \"Well, things haven't been the same since you left, Biggs. It's been so... quiet.\", 'What are you talking about?', 'Join the Rebellion?! Are you kidding! How?', \"I'm sorry. I'm quiet. (he whispers) Listen how quiet I am. You can barely hear me...\", \"You're crazy! You could wander around forever trying to find them.\", \"And I'm stuck here...\", \"Not likely! I had to cancel my application. There has been a lot of unrest among the Sandpeople since you left... they've even raided the outskirts of Anchorhead.\", \"I know, but he's got enough vaporators going to make the place pay off. He needs me for just one more season. I can't leave him now.\", \"It couldn't happen here. You said it yourself. The Empire won't bother with this rock.\", 'I wish I was going... Are you going to be around long?', \"Then I guess I won't see you.\", \"Well, I'll be at the Academy next season... after that who knows. I won't be drafted into the Imperial Starfleet that's for sure... Take care of yourself, you'll always be the best friend I've got.\", \"It looks like we don't have much of a choice but I'll remind him.\", 'But I was going into Toshi Station to pick up some power converters...', \"All right, come on! And the red one, come on. Well, come on, Red, let's go.\", 'Uncle Owen...', 'This R2 unit has a bad motivator. Look!', 'Uncle Owen...', 'What about that one?', 'Yeah, take it away.', \"Okay, let's go.\", \"It just isn't fair. Oh, Biggs is right. I'm never gonna get out of here!\", 'Well, not unless you can alter time, speed up the harvest, or teleport me off this rock!', \"Well, if there's a bright center to the universe, you're on the planet that it's farthest from.\", 'Uh, you can call me Luke.', '(laughing) Just Luke.', 'Hello.', 'You got a lot of carbon scoring here. It looks like you boys have seen a lot of action.', 'You know of the Rebellion against the Empire?', 'Have you been in many battles?', \"Well, my little friend, you've got something jammed in here real good. Were you on a cruiser or...\", \"What's this?\", \"Who is she? She's beautiful.\", 'Is there more to this recording?', 'Obi-Wan Kenobi? I wonder if he means old Ben Kenobi?', \"Well, I don't know anyone named Obi- Wan, but old Ben lives out beyond the dune sea. He's kind of a strange old hermit.\", \"I wonder who she is. It sounds like she's in trouble. I'd better play back the whole thing.\", \"H'm? Oh, yeah, well, I guess you're too small to run away on me if I take this off! Okay.\", 'There you go.', \"Well, wait a minute. Where'd she go? Bring her back! Play back the entire message.\", \"All right, I'll be right there, Aunt Beru.\", \"Well, see what you can do with him. I'll be right back.\", 'You know, I think that R2 unit we bought might have been stolen.', 'Well, I stumbled across a recording while I was cleaning him. He says he belongs to someone called Obi-Wan Kenobi.', \"I thought he might have meant old Ben. Do you know what he's talking about? Well, I wonder if he's related to Ben.\", 'But what if this Obi-Wan comes looking for him?', 'He knew my father?', 'Yes, sir. I think those new droids are going to work out fine. In fact, I, uh, was also thinking about our agreement about my staying on another season. And if these new droids do work out, I want to transmit my application to the Academy this year.', \"Sure, there're more than enough droids.\", \"But it's a whole 'nother year.\", \"Yeah, that's what you said last year when Biggs and Tank left.\", \"It looks like I'm going nowhere. I have to finish cleaning those droids.\", 'What are you doing hiding there?', 'Oh, no!', \"How could I be so stupid? He's nowhere in sight. Blast it!\", \"It's too dangerous with all the Sandpeople around. We'll have to wait until morning.\", \"All right, I'll be there in a few minutes. Boy, am I gonna get it.\", 'You know that little droid is going to cause me a lot of trouble.', \"(yelling) How's that.\", \"Old Ben Kenobi lives out in this direction somewhere, but I don't see how that R2 unit could have come this far. We must have missed him. Uncle Owen isn't going to take this very well.\", \"(brightening) Sure. He needs you. He'd probably only deactivate you for a day or so...\", \"Wait, there's something dead ahead on the scanner. It looks like our droid... hit the accelerator.\", \"Hey, whoa, just where do you think you're going?\", \"Well, come on. It's getting late. I only hope we can get back before Uncle Owen really blows up.\", \"No, he's not going to try anything.\", \"What's wrong with him now?\", \"Sandpeople! Or worst! Come on, let's have a look. Come on.\", \"There are two Banthas down there but I don't see any... wait a second, they're Sandpeople all right. I can see one of them now.\", 'What happened?', 'Ben? Ben Kenobi! Boy, am I glad to see you!', \"Oh, this little droid! I think he's searching for his former master... I've never seen such devotion in a droid before... there seems to be no stopping him. He claims to be the property of an Obi-Wan Kenobi. Is he a relative of yours? Do you know who he's talking about?\", 'I think my uncle knew him. He said he was dead.', 'You know him!', 'Then the droid does belong to you.', 'Threepio!', \"Can you stand? We've got to get out of here before the Sandpeople return.\", \"No, you're not. What kind of talk is that?\", \"No, my father didn't fight in the wars. He was a navigator on a spice freighter.\", 'You fought in the Clone Wars?', \"I wish I'd known him.\", 'Sure, go ahead.', 'What is it?', 'How did my father die?', 'The Force?', 'I saw part of the message he was...', \"(laughing) Alderaan? I'm not going to Alderaan. I've got to go home. It's late, I'm in for it as it is.\", \"I can't get involved! I've got work to do! It's not that I like the Empire. I hate it! But there's nothing I can do about it right now. It's such a long way from here.\", '(sighing) Oh, God, my uncle. How am I ever going to explain this?', \"Look, I can take you as far as Anchorhead. You can get a transport there to Mos Eisley or wherever you're going.\", \"It looks like Sandpeople did this, all right. Look, here are Gaffi sticks, Bantha tracks. It's just... I never heard of them hitting anything this big before.\", 'These are the same Jawas that sold us Artoo and Threepio.', 'Why would Imperial troops want to slaughter Jawas?', 'If they traced the robots here, they may have learned who they sold them to. And that would lead them home!', 'Uncle Owen! Aunt Beru! Uncle Owen!', \"I want to come with you to Alderaan. There's nothing here for me now. I want to learn the ways of the Force and become a Jedi like my father.\", 'About three or four seasons.', \"Go on, go on. I can't understand how we got by those troopers. I thought we were dead.\", \"Do you really think we're going to find a pilot here that'll take us to Alderaan?\", \"I'm ready for anything.\", 'What?', \"Listen, why don't you wait out by the speeder. We don't want any trouble.\", \"I'm sorry.\", \"I'll be careful than.\", 'Ten thousand? We could almost buy our own ship for that!', \"You bet I could. I'm not such a bad pilot myself! We don't have to sit here and listen...\", \"That's okay. I'm never coming back to this planet again.\", \"He says it's the best he can do. Since the XP-38 came out, they're just not in demand.\", 'What a piece of junk.', \"Why don't you outrun them? I thought you said this thing was fast.\", \"Are you kidding? At the rate they're gaining...\", \"What's that flashing?\", \"Are you all right? What's wrong?\", 'You mean it controls your actions?', \"You don't believe in the Force, do you?\", \"(laughing) With the blast shield down, I can't even see. How am I supposed to fight?\", 'You know, I did feel something. I could almost see the remote.', \"What's going on?\", 'What do you mean? Where is it?', 'What? How?', 'Maybe they know what happened.', 'It followed us!', \"It sure is leaving in a big hurry. If they identify us, we're in big trouble.\", 'It must have gotten lost, been part of a convoy or something.', \"Look at him. He's headed for that small moon.\", 'I have a very bad feeling about this.', 'Why are we still moving towards it?', \"But there's gotta be something you can do!\", \"Boy, it's lucky you had these compartments.\", \"You know, between his howling and your blasting everything in sight, it's a wonder the whole station doesn't know we're here.\", 'I want to go with you.', 'But he can...', 'Ben is a great man.', \"I didn't hear you give any ideas...\", 'Who do you think...', 'What is it?', 'Well, who... who has he found?', \"The princess? She's here?\", \"Oh, no! We've got to do something.\", \"The droid belongs to her. She's the one in the message... We've got to help her.\", \"But he didn't know she was here. Look, will you just find a way back into the detention block?\", \"They're going to execute her. Look, a few minutes ago you said you didn't want to just wait here to be captured. Now all you want to do is stay.\", \"But they're going to kill her!\", \"She's rich.\", 'Yes. Rich, powerful! Listen, if you were to rescue her, the reward would be...', 'Well more wealth that you can imagine.', \"You'll get it!\", 'You will...', 'All right.', 'Uh... Threepio, hand me those binders there will you?', \"Okay. Now, I'm going to put these on you.\", 'Okay. Han, you put these on.', 'Lock the door!', \"I can't see a thing in this helmet.\", \"Why didn't you say so before?\", 'Prisoner transfer from Block one-one- three-eight.', \"He's going to pull us all apart.\", \"What? Oh... the uniform. I'm Luke Skywalker. I'm here to rescue you.\", \"I'm here to rescue you. I've got your R2 unit. I'm here with Ben Kenobi.\", 'Come on!', 'See-Threepio! See-Threepio!', \"We've been cut off! Are there any other ways out of the cell bay?... What was that? I didn't copy!\", \"There isn't any other way out.\", \"Well, I didn't...\", 'No! wait!', \"Will you forget it? I already tried it. It's magnetically sealed!\", \"There's something alive in here!\", 'Something just moves past my leg! Look! Did you see that?', 'Help!', \"Blast it, will you! My gun's jammed.\", 'Anywhere! Oh!!', \"I don't know, it just let go of me and disappeared...\", 'The walls are moving!', 'Wait a minute!', 'Threepio! Come in Threepio! Threepio! Where could he be?', 'Threepio! Come in, Threepio! Threepio!', 'Where could he be? Threepio! Threepio, will you come in?', 'Threepio!', '(over comlink) Will you shut up and listen to me? Shut down all garbage mashers on the detention level, will you? Do you copy?', 'Shut down all the garbage mashers on the detention level.', '(over comlink) Shut down all the garbage mashers on the detention level.', \"(over comlink) Threepio, we're all right!\", \"We're all right. You did great.\", 'Hey... hey, open the pressure maintenance hatch on unit number... where are we?', \"Well, let's get moving!\", 'See-Threepio, do you copy?', \"We're right above you. Stand by.\", 'Where are you going? Come back!', 'What good will it do us if he gets himself killed? Come on!', '(gasping) I think we took a wrong turn.', 'That oughta hold it for a while.', 'Oh, I think I just blasted it.', 'Here, hold this.', 'Is the ship all right?', 'Look!', 'No!', \"I can't believe he's gone.\", \"They're coming in too fast!\", 'Got him! I got him!', \"(laughing) That's it! We did it!\", 'I care!', 'So... what do you think of her, Han?', '(under his breath) Good...', 'No!', \"It's not impossible. I used to bull's- eye womp rats in my T-sixteen back home. They're not much bigger than two meters.\", \"So... you got your reward and you're just leaving then?\", \"(getting angry) Come on! Why don't you take a look around? You know what's about to happen, what they're up against. They could use a good pilot like you. You're turning your back on them.\", \"All right. Well, take care of yourself, Han. I guess that's what you're best at, isn't it?\", \"Oh, it's Han! I don't know, I really thought he'd change his mind.\", 'I only wish Ben were here.', \"Biggs! Of course, I'll be up there with you! Listen, have I got some stories to tell...\", \"Thank you, sir. I'll try.\", \"I told you I'd make it someday, Biggs.\", 'Not on your life! That little droid and I have been through a lot together. (to Artoo) You okay, Artoo?', 'Red Five standing by.', \"This is Red Five; I'm going in!\", \"I got a little cooked, but I'm okay.\", \"I'm on my way in now...\", \"I'm on it.\", \"My scope's negative. I don't see anything.\", \"Hang on, Biggs, I'm coming in.\", 'Got him!', \"I'm hit, but not bad.\", 'Artoo, see what you can do with it. Hang on back there.', \"I can't shake him!\", 'Blast it! Wedge where are you?', 'Thanks, Wedge.', 'No sign of any... wait!', '(over headset) Coming in point three five.', \"(over headset) Red Leader, we're right above you. Turn to point...\", \"...oh-five; we'll cover for you.\", \"(over speaker) Biggs, Wedge, let's close it up. We're going in. We're going in full throttle.\", \"It'll be just like Beggar's Canyon back home.\", 'Watch yourself! Increase speed full throttle!', \"You worry about those fighters! I'll worry about the tower!\", \"(to Artoo) Artoo... that, that stabilizer's broken loose again! See if you can't lock it down!\", '(over speaker) Get clear, Wedge.', \"You can't do any more good back there!\", 'Artoo, try and increase the power!', \"(over speaker) Nothing. I'm all right.\", \"I've lost Artoo!\", \"(laughing) I knew you'd come back! I just knew it!\", 'Oh, no!', \"He'll be all right.\", 'The Death Star plans are not in the main computer.', 'The final check-out is complete. All systems are operational. What course shall we set?', 'Where are those transmissions you intercepted?', 'What have you done with those plans?', 'If this is a consular ship... were is the Ambassador?', \"Commander, tear this ship apart until you've found those plans and bring me the Ambassador. I want her alive!\", \"Don't play games with me, Your Highness. You weren't on any mercy mission this time. You passed directly through a restricted system. Several transmissions were beamed to this ship by Rebel spies. I want to know what happened to the plans they sent you.\", \"You're a part of the Rebel Alliance... and a traitor. Take her away!\", 'I have traced the Rebel spies to her. Now she is my only link to find their secret base!', 'Leave that to me. Send a distress signal and then inform the senate that all aboard were killed!', \"She must have hidden the plans in the escape pod. Send a detachment down to retrieve them. See to it personally, Commander. There'll be no one to stop us this time.\", 'The plans you refer to will soon be back in our hands.', \"Don't be too proud of this technological terror you've constructed. The ability to destroy a planet is insignificant next to the power of the Force.\", 'I find your lack of faith disturbing.', 'As you wish.', 'And, now Your Highness, we will discuss the location of your hidden Rebel base.', 'Her resistance to the mind probe is considerable. It will be some time before we can extract any information from her.', 'What do you mean?', 'Commence primary ignition.', 'I told you she would never consciously betray the Rebellion.', 'They must be trying to return the stolen plans to the princess. She may yet be of some use to us.', 'Did you find any droids?', 'Send a scanning crew on board. I want every part of this ship checked.', \"I sense something... a presence I haven't felt since...\", 'He is here...', 'A tremor in the Force. The last time I felt it was in the presence of my old master.', \"Don't underestimate the power of the Force.\", 'Obi-Wan is here. The Force is with him.', 'Escape is not his plan. I must face him alone.', \"I've been waiting for you, Obi-Wan. We meet again, at last. The circle is now complete.\", 'When I left you, I was but the learner; now I am the master.', 'Your powers are weak, old man.', 'They have just made the jump into hyperspace.', 'This will be a day long remembered. It has seen the end of Kenobi and it will soon see the end of the Rebellion.', \"We'll have to destroy them ship to ship. Get the crews to their fighters.\", 'Several fighters have broken off from the main group. Come with me!', 'Stay in attack formation!', \"I'll take them myself! Cover me!\", 'Close up formation.', 'Let him go! Stay on the leader!', \"I'm on the leader.\", 'The Force is strong with this one!', 'I have you now.', 'What?', 'We intercepted no transmissions. Aaah... This is a consular ship. Were on a diplomatic mission.', 'There she is! Set for stun!', \"She'll be all right. Inform Lord Vader we have a prisoner.\", 'Someone was in the pod. The tracks go off in this direction.', 'Look, sir -- droids.', 'How long have you had these droids?', 'Let me see your identification.', \"We don't need to see his identification.\", \"These are not the droids we're looking for.\", 'You can go about your business.', 'Move along. Move along.', \"All right, we'll check it out.\", 'With pleasure.', \"All right, check that side of the street. It's secure. Move on to the next door.\", 'Which way?', 'All right, men. Load your weapons!', 'Stop that ship!', \"Blast 'em!\", \"The ship's all yours. If the scanners pick up anything, report it immediately. All right, let's go.\", 'Open up in there!', 'Take over! (pointing to the dead officer) See to him! Look there!', 'All right.', 'Give me regular reports.', \"Do you know what's going on?\", \"Maybe it's another drill.\", 'What was that?', \"Oh, it's nothing. Don't worry about it.\", \"It's them! Blast them!\", 'Close the blast doors!', 'Open the blast doors! Open the blast doors!', 'There goes another one.', 'Hold your fire. There are no life forms. It must have been short- circuited.', \"I've told you kids to slow down!\", 'Did I hear a young noise blast through here?', 'I keep telling you, the Rebellion is a long way from here. I doubt if the Empire would even fight to keep this system. Believe me Luke, this planet is a big hunk of nothing...', 'It was just wormie on another rampage.', \"Don't worry about it, Wormie.\", \"Just now. I wanted to surprise you, hot shot. I thought you'd be here... certainly didn't expect you to be out working. (he laughs)\", 'Of course I got it. Signed aboard The Rand Ecliptic last week. First mate Biggs Darklighter at your service... (he salutes) ...I just came to say good-bye to all you unfortunate landlocked simpletons.', \"That's no battle, hot shot... they're just sitting there! Probably a freighter-tanker refueling.\", \"You ought to take it easy Luke. You may be the hottest bushpilot this side of Mos Eisley, but those little Skyhoppers are dangerous. Keep it up, and one day, whammo, you're going to be nothing more than a dark spot on the down side of a canyon wall.\", \"I've missed you kid.\", \"Luke, I didn't come back just to say good-bye... I shouldn't tell you this, but you're the only one I can trust... and if I don't come back, I want somebody to know.\", \"I made some friends at the Academy. (he whispers) ...when our frigate goes to one of the central systems, we're going to jump ship and join the Alliance...\", 'Quiet down will ya! You got a mouth bigger than a meteor crater!', 'My friend has a friend on Bestine who might help us make contact.', \"I know it's a long shot, but if I don't find them I'll do what I can on my own... It's what we always talked about. Luke, I'm not going to wait for the Empire to draft me into service. The Rebellion is spreading and I want to be on the right side -- the side I believe in.\", \"I thought you were going to the Academy next term. You'll get your chance to get off this rock.\", 'Your uncle could hold off a whole colony of Sandpeople with one blaster.', \"I feel for you, Luke, you're going to have to learn what seems to be important or what really is important. What good is all your uncle's work if it's taken over by the Empire?... You know they're starting to nationalize commerce in the central systems... it won't be long before your uncle is merely a tenant, slaving for the greater glory of the Empire.\", 'Things always change.', \"No, I'm leaving in the morning...\", \"Maybe someday... I'll keep a lookout.\", 'So long, Luke.', \"Luke! I don't believe it! How'd you get here... are you going out with us?!\", 'Sir, Luke is the best bushpilot in the outer rim territories.', \"I've got to get aboard. Listen, you'll tell me your stories when we come back. All right?\", \"(going off) You did, all right. It's going to be like old times, Luke. We're a couple of shooting stars that'll never be stopped!\", 'Red Three standing by.', '(over headset) Luke, pull up!', 'Are you all right?', \"I can't see it! Where is he?!\", \"He's on me tight, I can't shake him... I can't shake him.\", '(over speaker) Pull in! Luke... pull in!', '(over speaker) Good shooting, Wedge!', '(over speaker) Red Three, standing by.', 'Luke, at that speed will you be able to pull out in time?', \"We'll stay back far enough to cover you.\", \"Hurry, Luke, they're coming in much faster this time. I can't hold them!\", '(over headset) Hurry up, Luke!', 'Wait!', 'Not again! Forget it.', \"Lord Vader, I should have known. Only you could be so bold. The Imperial Senate will not sit for this, when they hear you've attacked a diplomatic...\", \"I don't know what you're talking about. I'm a member of the Imperial Senate on a diplomatic mission to Alderaan...\", \"Help me, Obi-Wan Kenobi. You're my only hope.\", \"Help me, Obi-Wan Kenobi. You're my only hope. Help me, Obi-Wan Kenobi. You're my only hope.\", 'Help me, Obi-Wan Kenobi...', \"General Kenobi, years ago you served my father in the Clone Wars. Now he begs you to help him in his struggle against the Empire. I regret that I am unable to present my father's request to you in person, but my ship has fallen under attack and I'm afraid my mission to bring you to Alderaan has failed. I have placed information vital to the survival of the Rebellion into the memory systems of this R2 unit. My father will know how to retrieve it. You must see this droid safely delivered to him on Alderaan. This is our most desperate hour. Help me, Obi-Wan Kenobi, you're my only hope.\", \"Governor Tarkin, I should have expected to find you holding Vader's leash. I recognized your foul stench when I was brought on board.\", 'I surprised you had the courage to take the responsibility yourself!', 'The more you tighten your grip, Tarkin, the more star systems will slip through your fingers.', \"No! Alderaan is peaceful. We have no weapons. You can't possibly...\", '(softly) Dantooine.', \"They're on Dantooine.\", 'What?', 'No!', \"(finally) Aren't you a little short to be a stormtrooper?\", \"You're who?\", 'Ben Kenobi is here! Where is he?', 'Looks like you managed to cut off our only escape route.', \"This is some rescue. When you came in here, didn't you have a plan for getting out?\", 'Somebody has to save our skins. Into the garbage chute, wise guy.', \"Put that thing away! You're going to get us all killed.\", 'It could be worse...', 'Luke!', 'Luke, Luke, grab a hold of this.', 'Grab him!', 'What happened?', \"Don't just stand there. Try to brace it with something.\", \"I can't\", \"I'm trying!\", \"No, wait. They'll hear!\", \"Listen. I don't know who you are, or where you came from, but from now on, you do as I tell you. Okay?\", \"It's a wonder you're still alive. (looking at Chewie) Will somebody get this big walking carpet out of my way?\", \"You came in that thing? You're braver that I thought.\", 'He certainly has courage.', \"There's no lock!\", \"Quick, we've got to get across. Find the control that extends the bridge.\", \"They're coming through!\", 'Here they come!', 'For luck!', 'We ran into some old friends.', 'Come on! Luke, its too late!', \"There wasn't anything you could have done.\", '(into intercom) Here they come!', \"We've lost lateral controls.\", 'There are still two more of them out there!', 'We did it!', \"That doesn't sound too hard. Besides, they let us go. It's the only explanation for the ease of our escape.\", 'Their tracking us!', 'At least the information in Artoo is still intact.', \"The technical readouts of that battle station. I only hope that when the data is analyzed, a weakness can be found. It's not over yet!\", \"You needn't worry about your reward. If money is all that you love, then that's what you'll receive!\", 'Your friend is quite a mercenary. I wonder if he really cares about anything... or anyone.', \"We don't have time for our sorrows, Commander. The battle station has surely tracked us here. (looking pointedly to Han) It's the only explanation for the ease of our escape. You must use the information in this R2 unit to plan the attack. It is our only hope.\", \"What's wrong?\", \"He's got to follow his own path. No one can choose it for him.\", 'Luke! Luke! Luke!', '(laughing) Hey, I knew there was more to you than money.', 'Holding her is dangerous. If word of this gets out, it could generate sympathy for the Rebellion in the senate.', \"She'll die before she tells you anything.\", 'Yes, sir.', 'Lord Vader, the battle station plans are not aboard this ship! And no transmissions were made. An escape pod was jettisoned during the fighting, but no life forms were aboard.', 'Someone was in the pod. The tracks go off in this direction.', 'Take over! (pointing to the dead officer) See to him! Look there!', 'Give me regular reports.', \"Do you know what's going on?\", \"Oh, it's nothing. Don't worry about it.\", \"It's them! Blast them!\", 'Look, sir -- droids.', \"Maybe it's another drill.\", 'What was that?', 'Luke, tell Owen that if he gets a translator to be sure it speaks Bocce.', 'Luke? Luke! Come to dinner!', 'Where are you going?', \"Owen, he can't stay here forever. Most of his friends have gone. It means so much to him.\", \"Luke's just not a farmer, Owen. He has too much of his father in him.\", 'He said he had some things to do before he started today, so he left early.', 'I think so.', 'I have no need for a protocol droid.', 'What I really need is a droid that understands the binary language of moisture vaporators.', 'Do you speak Bocce?', \"All right shut up! (turning to Jawa) I'll take this one.\", 'Luke, take these two over to the garage, will you? I want you to have both of them cleaned up before dinner.', 'You can waste time with your friends when your chores are done. Now come on, get to it!', 'Yeah?', \"(to the head Jawa) Hey, what're you trying to push on us?\", 'Yeah?', \"(to Jawa) What about that blue one? We'll take that one.\", 'What makes you think that?', \"That old man's just a crazy old wizard. Tomorrow I want you to take that R2 unit into Anchorhead and have its memory flushed. That'll be the end of it. It belongs to us now.\", \"He won't, I don't think he exists any more. He died about the same time as your father.\", 'I told you to forget it. Your only concern is to prepare the new droids for tomorrow. In the morning I want them on the south ridge working out those condensers.', 'You mean the next semester before harvest?', \"Harvest is when I need you the most. Only one more season. This year we'll make enough on the harvest so I'll be able to hire some more hands. And then you can go to the Academy next year.\", 'You must understand I need you here, Luke.', \"Look, it's only one more season.\", \"I'll make it up to him next year. I promise.\", \"That's what I'm afraid of.\", \"Luke, I'm shutting the power down for the night.\", 'Luke? Luke? Luke? Where could he be loafing now!', 'Have you seen Luke this morning?', 'Uh? Did he take those two new droids with him?', \"Well, he'd better have those units in the south range repaired be midday or there'll be hell to pay!\", 'Luke? Luke! Come to dinner!', 'Where are you going?', \"Owen, he can't stay here forever. Most of his friends have gone. It means so much to him.\", \"Luke's just not a farmer, Owen. He has too much of his father in him.\", 'He said he had some things to do before he started today, so he left early.', 'I think so.', \"Hello there! Come here my little friend. Don't be afraid.\", \"Don't worry, he'll be all right.\", \"Rest easy, son, you've had a busy day. You're fortunate you're still in one piece.\", 'The Jundland wastes are not to be traveled lightly. Tell me young Luke, what brings you out this far?', \"Obi-Wan Kenobi... Obi-Wan? Now thats a name I haven't heard in a long time... a long time.\", \"Oh, he's not dead, not... not yet.\", \"Well of course, of course I know him. He's me! I haven't gone by the name Obi-Wan since oh, before you were born.\", \"Don't seem to remember ever owning a droid. Very interesting...\", 'I think we better get indoors. The Sandpeople are easily startled but they will soon be back and in greater numbers.', \"Quickly, son... they're on the move.\", \"That's what your uncle told you. He didn't hold with your father's ideals. Thought he should have stayed here and not gotten involved.\", 'Yes, I was once a Jedi Knight the same as your father.', \"He was the best star-pilot in the galaxy, and a cunning warrior. I understand you've become quite a good pilot yourself. And he was a good friend. Which reminds me...\", \"I have something here for you. Your father wanted you to have this when you were old enough, but your uncle wouldn't allow it. He feared you might follow old Obi-Wan on some damned-fool idealistic crusade like your father did.\", 'Your fathers lightsaber. This is the weapon of a Jedi Knight. Not as clumsy or as random as a blaster.', 'An elegant weapon for a more civilized time. For over a thousand generations the Jedi Knights were the guardians of peace and justice in the Old Republic. Before the dark times, before the Empire.', 'A young Jedi named Darth Vader, who was a pupil of mine until he turned to evil, helped the Empire hunt down and destroy the Jedi Knights. He betrayed and murdered your father. Now the Jedi are all but extinct. Vader was seduced by the dark side of the Force.', \"Well, the Force is what gives a Jedi his power. It's an energy field created by all living things. It surrounds us and penetrates us. It binds the galaxy together.\", \"Now, let's see if we can't figure out what you are, my little friend. And where you come from.\", 'I seem to have found it.', \"You must learn the ways of the Force if you're to come with me to Alderaan.\", \"I need your help, Luke. She needs your help. I'm getting too old for this sort of thing.\", \"That's your uncle talking.\", 'Learn about the Force, Luke.', 'You must do what you feel is right, of course.', \"They didn't. But we are meant to think they did. These tracks are side by side. Sandpeople always ride single file to hide there numbers.\", 'And these blast points, too accurate for Sandpeople. Only Imperial stormtroopers are so precise.', \"Wait, Luke! It's too dangerous.\", \"There's nothing you could have done, Luke, had you been there. You'd have been killed, too, and the droids would be in the hands of the Empire.\", 'Mos Eisley Spaceport. You will never find a more wretched hive of scum and villainy. We must be cautious.', \"They're for sale if you want them.\", \"You don't need to see his identification.\", 'These are not the droids your looking for.', 'He can go about his business.', '(to Luke) Move along.', 'The Force can have a strong influence on the weak-minded. You will find it a powerful ally.', 'Well, most of the best freighter pilots can be found here. Only watch your step. This place can be a little rough.', \"This little one isn't worth the effort. Come let me buy you something...\", \"This is Chewbacca. He's first-mate on a ship that might suit our needs.\", \"Yes, indeed. If it's a fast ship.\", 'Should I have?', 'Only passengers. Myself, the boy, two droids, and no questions asked.', \"Let's just say we'd like to avoid any Imperial entanglements.\", \"We haven't that much with us. But we could pay you two thousand now, plus fifteen when we reach Alderaan.\", 'Ninety-four.', \"You'll have to sell your speeder.\", 'It will be enough.', \"If the ship's as fast as he's boasting, we ought to do well.\", 'How long before you can make the jump to light speed?', 'I felt a great disturbance in the Force... as if millions of voices suddenly cried out in terror and were suddenly silenced. I fear something terrible has happened.', \"You'd better get on with your exercises.\", 'Remember, a Jedi can feel the Force flowing through him.', 'Partially. But it also obeys your commands.', 'I suggest you try it again, Luke.', 'This time, let go your conscious self and act on instinct.', \"Your eyes can deceive you. Don't trust them.\", 'Stretch out with your feelings.', 'You see, you can do it.', \"In my experience, there's no such thing as luck.\", \"That's good. You have taken your first step into a larger world.\", 'Destroyed... by the Empire!', \"It's an Imperial fighter.\", \"No. It's a short range fighter.\", \"It'd be as well to let it go. It's too far out of range.\", \"A fighter that size couldn't get this deep into space on its own.\", \"That's no moon! It's a space station.\", \"You can't win. But there are alternatives to fighting.\", 'Leave that to me!', \"Who's the more foolish... the fool or the fool who follows him?\", 'Plug in. He should be able to interpret the entire Imperial computer network.', \"I don't think you boys can help. I must go alone.\", 'Be patient, Luke. Stay and watch over the droids.', 'They must be delivered safely or other star systems will suffer the same fate as Alderaan. Your destiny lies along a different path than mine. The Force will be with you... always!', 'Only a master of evil, Darth.', \"You can't win, Darth. If you strike me down, I shall become more powerful than you can possibly imagine.\", 'Run, Luke! Run!', 'Luke, the Force will be with you.', 'Use the Force, Luke.', 'Let go, Luke.', 'Luke, trust me.', 'Remember, the Force will be with you... always.', \"Until this battle station is fully operational we are vulnerable. The Rebel Alliance is too well equipped. They're more dangerous than you realize.\", 'The Rebellion will continue to gain a support in the Imperial Senate as long as....', \"That's impossible! How will the Emperor maintain control without the bureaucracy?\", 'And what of the Rebellion? If the Rebels have obtained a complete technical readout of this station, it is possible, however unlikely, that they might find a weakness and exploit it.', 'Dangerous to your starfleet, Commander, not to this battle station!', \"Any attack made by the Rebels against this station would be a useless gesture, no matter what technical data they've obtained. This station is now the ultimate power in the universe. I suggest we use it!\", \"Don't try to frighten us with your sorcerer's ways, Lord Vader. Your sad devotion to that ancient religion has not helped you conjure up the stolen data tapes, or given you clairvoyance enough to find the Rebel's hidden fort...\", \"We've entered the Alderaan system.\", \"The Imperial Senate will no longer be of any concern to us. I've just received word that the Emperor has dissolved the council permanently. The last remnants of the Old Republic have been swept away.\", 'The regional governors now have direct control over territories. Fear will keep the local systems in line. Fear of this battle station.', 'Enough of this! Vader, release him!', 'This bickering is pointless. Lord Vader will provide us with the location of the Rebel fortress by the time this station is operational. We will then crush the Rebellion with one swift stroke.', 'Perhaps she would respond to an alternative form of persuasion.', \"I think it is time we demonstrate the full power of this station. (to soldier) Set your course for Princess Leia's home planet of Alderaan.\", \"Charming to the last. You don't know how hard I found it signing the order to terminate your life!\", 'Princess Leia, before your execution I would like you to be my guest at a ceremony that will make this battle station operational. No star system will dare oppose the Emperor now.', \"Not after we demonstrate the power of this station. In a way, you have determined the choice of the planet that'll be destroyed first. Since you are reluctant to provide us with the location of the Rebel base, I have chosen to test this station's destructive power... on your home planet of Alderaan.\", 'You would prefer another target? A military target? Then name the system!', \"I grow tired of asking this. So it'll be the last time. Where is the Rebel base?\", 'There. You see Lord Vader, she can be reasonable. (addressing Motti) Continue with the operation. You may fire when ready.', \"You're far too trusting. Dantooine is too remote to make an effective demonstration. But don't worry. We will deal with your Rebel friends soon enough.\", 'Yes.', 'She lied! She lied to us!', 'Terminate her... immediately!', 'Yes.', 'Obi-Wan Kenobi! What makes you think so?', 'Surely he must be dead by now.', \"The Jedi are extinct, their fire has gone out of the universe. You, my friend, are all that's left of their religion.\", 'Yes.', 'The princess! Put all sections on alert!', \"If you're right, he must not be allowed to escape.\", 'Are they away?', \"You're sure the homing beacon is secure aboard their ship? I'm taking an awful risk, Vader. This had better work.\", 'Yes.', 'Evacuate? In out moment of triumph? I think you overestimate their chances!', 'You may fire when ready.', \"We don't serve their kind here!\", \"Your droids. They'll have to wait outside. We don't want them here.\", 'No blasters! No blaster!', 'Negola dewaghi wooldugger?!?', \"He doesn't like you.\", \"I don't like you either.\", \"Don't insult us. You just watch yourself. We're wanted men. I have the death sentence in twelve systems.\", \"You'll be dead.\", \"Han Solo. I'm captain of the Millennium Falcon. Chewie here tells me you're looking for passage to the Alderaan system.\", \"Fast ship? You've never heard of the Millennium Falcon?\", \"It's the ship that made the Kessel run in less than twelve parsecs!\", \"I've outrun Imperial starships, not the local bulk-cruisers, mind you. I'm talking about the big Corellian ships now. She's fast enough for you, old man. What's the cargo?\", 'What is it? Some kind of local trouble?', \"Well, that's the trick, isn't it? And it's going to cost you something extra. Ten thousand in advance.\", \"But who's going to fly it, kid! You?\", 'Seventeen, huh!', \"Okay. You guys got yourself a ship. We'll leave as soon as you're ready. Docking bay Ninety-four.\", \"Looks like somebody's beginning to take an interest in your handiwork.\", 'Seventeen thousand! Those guys must really be desperate. This could really save my neck. Get back to the ship and get her ready.', \"Yes, Greedo. As a matter of fact, I was just going to see your boss. Tell Jabba that I've got his money.\", 'Yeah, but this time I got the money.', \"I don't have it with me. Tell Jabba...\", 'Even I get boarded sometimes. Do you think I had a choice?', 'Over my dead body.', \"Yes, I'll bet you have.\", 'Sorry about the mess.', \"I've been waiting for you, Jabba.\", \"I'm not the type to run.\", 'You sent Greedo to blast me.', \"I think he thought he was. Next time don't send one of those twerps. If you've got something to say to me, come see me yourself.\", \"You know, even I get boarded sometimes, Jabba. I had no choice, but I've got a charter now and I can pay you back, plus a little extra. I just need some more time.\", \"Jabba, I'll pay you because it's my pleasure.\", \"She'll make point five beyond the speed of light. She may not look like much, but she's got it where it counts, kid. I've added some special modifications myself.\", \"We're a little rushed, so if you'll hurry aboard we'll get out of here.\", 'Chewie, get us out of here!', 'It looks like an Imperial cruiser. Our passengers must be hotter than I thought. Try and hold them off. Angle the deflector shield while I make the calculations for the jump to light speed.', \"Stay sharp! There are two more coming in; they're going to try to cut us off.\", \"Watch your mouth, kid, or you're going to find yourself floating home. We'll be safe enough once we make the jump to hyperspace. Besides, I know a few maneuvers. We'll lose them!\", \"Here's where the fun begins!\", \"It'll take a few moments to get the coordinates from the navi-computer.\", \"Traveling through hyperspace isn't like dusting crops, boy! Without precise calculations we could fly right through a star or bounce too close to a supernova and that'd end your trip real quick, wouldn't it?\", \"We're losing our deflector shield. Go strap yourself in, I'm going to make the jump to light speed.\", \"Well, you can forget your troubles with those Imperial slugs. I told you I'd outrun 'em.\", \"Don't everyone thank me at once.\", 'Anyway, we should be at Alderaan about oh-two-hundred hours.', \"(interrupting) Let him have it. It's not wise to upset a Wookiee.\", \"That's 'cause droids don't pull people's arms out of their socket when they lose. Wookiees are known to do that.\", 'Hokey religions and ancient weapons are no match for a good blaster at your side, kid.', \"Kid, I've flown from one side of this galaxy to the other. I've seen a lot of strange stuff, but I've never seen anything to make me believe there's one all-powerful force controlling everything. There's no mystical energy field that controls my destiny.\", \"It's all a lot of simple tricks and nonsense.\", 'I call it luck.', \"Look, going good against remotes is one thing. Going good against the living? That's something else.\", \"Looks like we're coming up on Alderaan.\", 'Stand by, Chewie, here we go. Cut in the sublight engines.', \"What the...? Aw, we've come out of hyperspace into a meteor shower. Some kind of asteroid collision. It's not on any of the charts.\", 'Our position is correct, except... no, Alderaan!', \"Thats what I'm trying to tell you, kid. It ain't there. It's been totally blown away.\", \"The entire starfleet couldn't destroy the whole planet. It'd take a thousand ships with more fire power than I've...\", \"There's another ship coming in.\", \"There aren't any bases around here. Where did it come from?\", \"Not if I can help it. Chewie...jam it's transmissions.\", 'Not for long...', \"Well, he ain't going to be around long enough to tell anyone about us.\", \"I think I can get him before he gets there... he's almost in range.\", \"It's too big to be a space station.\", 'Yeah, I think your right. Full reverse! Chewie, lock in the auxiliary power.', \"We're caught in a tractor beam! It's pulling us in!\", \"There's nothin' I can do about it, kid. I'm in full power. I'm going to have to shut down. But they're not going to get me without a fight!\", \"I use them for smuggling. I never thought I'd be smuggling myself in them. This is ridiculous. Even if I could take off, I'd never get past the tractor beam.\", 'Damn fool. I knew that you were going to say that!', 'Hey down there, could you give us a hand with this?', 'Bring them on! I prefer a straight fight to all this sneaking around.', \"Whatever you say. I've done more that I bargained for on this trip already.\", 'Boy you said it, Chewie.', 'Where did you dig up that old fossil?', 'Yeah, great at getting us into trouble.', 'Well, anything would be better than just hanging around waiting for him to pick us up...', \"Princess? What's going on?\", 'What are you talking about?', \"Now, look, don't get any funny ideas. The old man wants us to wait right here.\", \"I'm not going anywhere.\", 'Marching into the detention area is not what I had in mind.', 'Better her than me...', 'Rich?', 'What?', \"I don't know, I can imagine quite a bit!\", 'I better!', \"All right, kid. But you'd better be right about this.\", \"What's your plan?\", \"Don't worry, Chewie. I think I know what he has in mind.\", \"And hope they don't have blasters.\", 'This is not going to work.', 'I did say so before!', \"Look out! He's loose!\", 'Go get him!', \"We've got to find out which cell this princess of yours is in. Here it is... cell twenty-one-eight-seven. You go get her. I'll hold them here.\", '(sounding official) Everything is under control. Situation normal.', \"(getting nervous) Uh... had a slight weapons malfunction. But, uh, everything's perfectly all right now. We're fine. We're all fine here, now, thank you. How are you?\", 'Uh, uh, negative. We had a reactor leak here now. Give us a few minutes to lock it down. Large leak... very dangerous.', \"Boring conversation anyway. (yelling down the hall) Luke! We're going to have company!\", 'Chewie!', 'Get behind me! Get behind me!', \"Can't get out that way.\", \"(sarcastically) Maybe you'd like it back in your cell, Your Highness.\", \"I can't hold them off forever! Now what?\", \"(pointing to Luke) He's the brains, sweetheart.\", 'What the hell are you doing?', \"Get in there you big furry oaf! I don't care what you smell! Get in there and don't worry about it.\", \"Wonderful girl! Either I'm going to kill her or I'm beginning to like her. Get in there!\", \"(sarcastically) Oh! The garbage chute was a really wonderful idea. What an incredible smell you've discovered! Let's get out of here! Get away from there...\", \"Absolutely, Your Worship. Look, I had everything under control until you led us down here. You know, it's not going to take them long to figure out what happened to us.\", \"It's worse.\", \"That's your imagination.\", 'What?', 'Luke! Luke! Luke!', 'Where?', 'Luke! Luke!', \"I've got a very bad feeling about this.\", 'Get to the top!', \"One thing's for sure. We're all going to be a lot thinner! (to Leia) Get on top of it!\", '(over comlink) Three-two-six-eight-two-seven.', 'If we can just avoid any more female advice, we ought to be able to get out of here.', '(to Chewie) Where are you going?', '(to Chewie) Come here, you big coward!', 'Chewie! Come here!', \"Look, Your Worshipfulness, let's get one thing straight! I take orders from one person! Me!\", 'No reward is worth this.', '(looking at his ship) There she is.', 'Nice! Come on!', '(to Luke and Leia) Get back to the ship!', \"Didn't we just leave this party?\", 'What kept you?', 'Seems okay, if we can get to it. Just hope the old man got the tractor beam out of commission.', \"Now's our chance! Go!\", '(to Luke) Come on!', 'Blast the door! Kid!', 'I hope the old man got that tractor beam out if commission, or this is going to be a real short trip. Okay, hit it!', \"(to Chewie) We're coming up on the sentry ships. Hold 'em off! Angle the deflector shields while I charge up the main guns!\", \"(to Luke) Come on, buddy, we're not out of this yet!\", '(to Luke) You in, kid? Okay, stay sharp!', \"Don't worry, she'll hold together.\", '(to ship) You hear me, baby? Hold together!', \"Great kid! Don't get cocky.\", 'Not a bad bit of rescuing, huh? You know, sometimes I even amaze myself.', 'Easy... you call that easy?', 'Not this ship, sister.', \"What's so important? What's he carrying?\", \"It is for me, sister! Look, I ain't in this for your revolution, and I'm not in it for you, Princess. I expect to be well paid. I'm in it for the money!\", \"I'm trying not to, kid!\", \"Still, she's got a lot of spirit. I don't know, what do you think? Do you think a princess and a guy like me...\", \"That's right, yeah! I got some old debts I've got to pay off with this stuff. Even if I didn't, you don't think I'd be fool enough to stick around here, do you? Why don't you come with us? You're pretty good in a fight. I could use you.\", \"What good's a reward if you ain't around to use it? Besides, attacking that battle station ain't my idea of courage. It's more like suicide.\", 'Hey, Luke... may the Force be with you!', \"What're you lookin' at? I know what I'm doing.\", '(yelling) Yahoo!', \"(into mike) You're all clear, kid.\", \"(over speaker) Now let's blow this thing and go home!\", 'Great shot, kid. That was one in a million.', '(laughing) Hey! Hey!', \"Well, I wasn't gonna let you get all the credit and take all the reward.\", 'Going somewhere, Solo?', \"It's too late. You should have paid him when you had the chance. Jabba's put a price on your head, so large that every bounty hunter in the galaxy will be looking for you. I'm lucky I found you first.\", 'If you give it to me, I might forget I found you.', \"Jabba's through with you. He has no time for smugglers who drop their shipments at the first sign of an Imperial cruiser.\", 'You can tell that to Jabba. He may only take your ship.', \"That's the idea. I've been looking forward to killing you for a long time.\", 'Come on out, Solo!', 'I expected you would be.', \"(fatherly-smooth) Han, my boy, there are times when you disappoint me... why haven't you paid me? And why did you have to fry poor Greedo like that... after all we've been through together.\", \"(mock surprise) Han, why you're the best smuggler in the business. You're too valuable to fry. He was only relaying my concern at your delays. He wasn't going to blast you.\", \"Han, Han! If only you hadn't had to dump that shipment of spice... you understand I just can't make an exception. Where would I be if every pilot who smuggled for me dumped their shipment at the first sign of an Imperial starship? It's not good business.\", \"(to his men) Put your blasters away. Han, my boy, I'm only doing this because you're the best and I need you. So, for an extra, say twenty percent I'll give you a little more time... but this is it. If you disappoint me again, I'll put a price on your head so large you won't be able to go near a civilized system for the rest of your short life.\", 'Our scout ships have reached Dantooine. They found the remains of a Rebel base, but they estimate that it has been deserted for some time. They are now conducting an extensive search of the surrounding systems.', 'The Death Star plans are not in the main computer.', 'We intercepted no transmissions. Aaah... This is a consular ship. Were on a diplomatic mission.', 'Lord Vader, the battle station plans are not aboard this ship! And no transmissions were made. An escape pod was jettisoned during the fighting, but no life forms were aboard.', 'The final check-out is complete. All systems are operational. What course shall we set?', 'Our scout ships have reached Dantooine. They found the remains of a Rebel base, but they estimate that it has been deserted for some time. They are now conducting an extensive search of the surrounding systems.', 'To you stations! (to another officer) Come with me.', 'Close all outboard shields! Close all outboard shields!', \"(to Vader) There's no one on board, sir. According to the log, the crew abandoned ship right after takeoff. It must be a decoy, sir. Several of the escape pods have been jettisoned.\", 'No, sir. If there were any on board, they must also have jettisoned.', 'Yes, sir.', 'Get me a scanning crew in here on the double. I want every part of this ship checked!', \"TX-four-one-two. Why aren't you at your post? TX-four-one-two, do you copy?\", \"Take over. We've got a bad transmitter. I'll see what I can do.\", 'Where are you taking this... thing?', \"I wasn't notified. I'll have to clear it.\", '(to his troops) Follow me! You stand guard.', 'Secure this area until the alert is canceled.', \"We count thirty Rebel ships, Lord Vader. But they're so small they're evading our turbo-lasers!\", \"Squad leaders, we've picked up a new group of signals. Enemy fighters coming your way.\", \"We've analyzed their attack, sir, and there is a danger. Should I have your ship standing by?\", \"(over intercom) We've captured a freighter entering the remains of the Alderaan system. It's markings match those of a ship that blasted its way out of Mos Eisley.\", '(over intercom) Unlock one-five-seven and nine. Release charges.', 'Hey down there, could you give us a hand with this?', 'What happened?', \"We're sending a squad up.\", \"Who is this? What's your operating number?\", 'Governor Tarkin, we have an emergency alert in detention block A A-twenty- three.', 'Open up in there!', 'Run, Luke! Run!', '(over loudspeaker) All flight trooper, man your stations. All flight troops, man your stations.', 'Luke, the Force will be with you.', 'Stand-by alert. Death Star approaching. Estimated time to firing range, fifteen minutes.', 'Artoo, see what you can do with it. Hang on back there.', '(over speaker) Death Star will be in range in five minutes.', '(over speaker) Yes, sir.', '(over speaker) Rebel base, three minutes and closing.', '(over headset) Copy, Base One. Luke, take Red Two and Three. Hold up here and wait for my signal... to start your run.', 'Red Five, can you see them from where you are?', \"(over speaker) It's a hit!\", 'Rebel base, one minute and closing.', 'Rebel base, thirty seconds and closing.', 'Use the Force, Luke.', 'Let go, Luke.', 'Luke, trust me.', \"(over speaker) His computer's off. Luke, you switched off your targeting computer. What's wrong?\", 'The Death Star has cleared the planet. The Death Star has cleared the planet.', 'Rebel base, in range.', 'Commence primary ignition.', 'Stand by to fire at Rebel base.', 'Standing by.', 'Remember, the Force will be with you... always.', 'Hey down there, could you give us a hand with this?', \"TX-four-one-two. Why aren't you at your post? TX-four-one-two, do you copy?\", \"Take over. We've got a bad transmitter. I'll see what I can do.\", 'What happened?', \"We're sending a squad up.\", \"Who is this? What's your operating number?\", 'Governor Tarkin, we have an emergency alert in detention block A A-twenty- three.', 'Stand-by alert. Death Star approaching. Estimated time to firing range, fifteen minutes.', '(over speaker) Death Star will be in range in five minutes.', 'Rebel base, one minute and closing.', 'Rebel base, thirty seconds and closing.', 'The Death Star has cleared the planet. The Death Star has cleared the planet.', 'Rebel base, in range.', 'Commence primary ignition.', 'Stand by to fire at Rebel base.', 'Standing by.', 'Open up in there!', '(to his troops) Follow me! You stand guard.', 'Run, Luke! Run!', 'Luke, the Force will be with you.', 'Use the Force, Luke.', 'Let go, Luke.', 'Luke, trust me.', 'Remember, the Force will be with you... always.', \"(holding Leia) You're safe! We had feared the worst.\", 'When we heard about Alderaan, we were afraid that you were... lost along with your father.', \"The battle station is heavily shielded and carries a firepower greater than half the star fleet. It's defenses are designed around a direct large- scale assault. A small one-man fighter should be able to penetrate the outer defense.\", \"Well, the Empire doesn't consider a small one-man fighter to be any threat, or they'd have a tighter defense. An analysis of the plans provided by Princess Leia has demonstrated a weakness in the battle station.\", \"The approach will not be easy. You are required to maneuver straight down this trench and skim the surface to this point. The target area is only two meters wide. It's a small thermal exhaust port, right below the main port. The shaft leads directly to the reactor system. A precise hit will start a chain reaction which should destroy the station.\", \"Only a precise hit will set up a chain reaction. The shaft is ray- shielded, so you'll have to use proton torpedoes.\", 'Man your ships! And may the Force be with you!', '(over headset) Red Leader, this is Base One. Keep half your group out of range for the next run.', 'Pardon me for asking, sir, but what good are snub fighters going to be against that?', 'Red Leader, this is Gold Leader.', \"We're starting for the target shaft now.\", '(over speaker) Red Leader...', \"This is Gold Leader. We're starting out attack run.\", '(over speaker) The exhaust post is...', '...marked and locked in!', 'Switch power to front deflector screens.', 'How many guns do you think, Gold Five.', 'Switching to targeting computer.', \"They've coming in! Three marks at two ten.\", \"(into mike) I can't maneuver!\", \"We're too close.\", 'Loosen up!', \"That's impossible, even for a computer.\", 'Red Two standing by.', 'Look at the size of that thing!', '(over war room speaker system) Heavy fire, boss! Twenty-degrees.', '(over speaker) Watch your back, Luke!', \"(over headset) Watch your back! Fighter's above you, coming in!\", \"I'm on him, Luke!\", '(over headset) Hold on!', '(over speaker) This is Red Two. Flying toward you.', 'Right with you, boss.', \"(over headset) My scope shows the tower, but I can't see the exhaust port! Are you sure the computer can hit it?\", 'What about the tower?', \"(over speaker) I'm hit! I can't stay with you.\", 'Sorry!', '(over loudspeaker) All flight trooper, man your stations. All flight troops, man your stations.', '(over speaker) Yes, sir.', 'Are you... Luke Skywalker? Have you been checked out on the Incom T-sixty- five?', \"I met your father once when I was just a boy, he was a great pilot. You'll do all right. If you've got half of your father's skill, you'll do better than all right.\", 'All wings report in.', 'Lock S-foils in attack position.', 'Hold tight!', '(over headset) Switch your deflectors on.', '(over headset) Double front!', '(over headset) Cut the chatter, Red Two.', 'Accelerate to attack speed. This is it, boys!', '(over headset) I copy, Gold Leader.', \"We're in position. I'm going to cut across the axis and try and draw their fire.\", '(over speaker) I see it. Stay low.', \"Luke, let me know when you're going in.\", \"Watch yourself! There's a lot of fire coming from the right side of that deflection tower.\", \"Keep up your visual scanning. With all this jamming, they'll be on top of you before your scope can pick them up.\", \"Biggs! You've picked one up... watch it!\", '(over headset) Red Six...', '(over speaker) Can you see Red Five?', '(over speaker) I copy, Gold Leader. Move into position.', 'I copy, Gold Five.', 'Red Group, this is Red Leader.', '(over speaker) Rendezvous at mark six point one.', '(over headset) Copy, Base One. Luke, take Red Two and Three. Hold up here and wait for my signal... to start your run.', 'This is it!', 'Keep your eyes open for those fighters!', \"I'm in range.\", \"Target's coming up!\", 'Just hold them off for a few seconds.', 'Almost there!', \"It's away!\", '(over speaker) Negative.', \"Negative! It didn't go in. It just impacted on the surface.\", '(over headset) Stay there...', '...I just lost my starboard engine.', '(over headset) Get set to make your attack run.', 'There goes another one.', 'This R2 unit of your seems a bit beat up. Do you want a new one?', 'Okay, easy she goes!', 'Stand-by alert. Death Star approaching. Estimated time to firing range, fifteen minutes.', '(over speaker) Death Star will be in range in five minutes.', 'The Death Star has cleared the planet. The Death Star has cleared the planet.', 'Red Ten standing by.', \"(over speaker) There's a heavy fire zone on this side. Red Five, where are you?\", 'We should be able to see it by now.', \"There's too much interference!\", 'Red Five, can you see them from where you are?', 'I see them.', \"I can't hold them!\", \"(over Biggs' headset) Red Seven standing by.\", 'Red Six standing by.', '(over headset) Red Nine standing by.', \"(over speaker) It's a hit!\", '(over headset) Red Eleven standing by.', \"(over headset) We're passing through their magnetic field.\", \"We count thirty Rebel ships, Lord Vader. But they're so small they're evading our turbo-lasers!\", \"Squad leaders, we've picked up a new group of signals. Enemy fighters coming your way.\", 'Artoo, see what you can do with it. Hang on back there.', \"(over speaker) I'd say about twenty guns. Some on the surface, some on the towers.\", 'Stabilize your read deflectors. Watch for enemy fighters.', 'Stay on target.', 'Stay on target!', 'Gold Five to Red Leader...', '(over headset) Lost Tiree, lost Dutch.', 'They came from behind...', \"Computer's locked. Getting a signal.\", \"The guns... they've stopped!\", '(over speaker) Yes, sir.', '(over headset) Copy, Base One. Luke, take Red Two and Three. Hold up here and wait for my signal... to start your run.', 'Red Five, can you see them from where you are?', \"(over speaker) It's a hit!\", 'Rebel base, one minute and closing.', 'Rebel base, thirty seconds and closing.', 'Rebel base, in range.', 'Commence primary ignition.', \"(over speaker) His computer's off. Luke, you switched off your targeting computer. What's wrong?\", '(over speaker) Yes, sir.', 'Look out!', \"We'll get to work on him right away.\"]\n"
     ]
    }
   ],
   "source": [
    "textl = []\n",
    "for line in text:\n",
    "        line2 = line.replace('\\n',' ') \n",
    "        textl.append(line2)\n",
    "        \n",
    "print(textl)"
   ]
  },
  {
   "cell_type": "code",
   "execution_count": 8,
   "metadata": {},
   "outputs": [
    {
     "data": {
      "text/plain": [
       "str"
      ]
     },
     "execution_count": 8,
     "metadata": {},
     "output_type": "execute_result"
    }
   ],
   "source": [
    "type(textl)\n",
    "textll = \" \".join(textl)\n",
    "type(textll)"
   ]
  },
  {
   "cell_type": "code",
   "execution_count": 9,
   "metadata": {},
   "outputs": [
    {
     "name": "stdout",
     "output_type": "stream",
     "text": [
      "Did you hear that? They've shut down the main reactor. We'll be destroyed for sure. This is madness! We're doomed! There'll be no escape for the Princess this time. What's that? I should have known better than to trust the logic of a half-sized thermocapsulary dehousing assister... Artoo! Artoo-Detoo, where are you? At last! Where have you been? They're heading in this direction. What are we going to do? We'll be sent to the spice mine of Kessel or smashed into who knows what! Wait a minute, where are you going? Hey, you're not permitted in there. It's restricted. You'll be deactivated for sure.. Don't call me a mindless philosopher, you overweight glob of grease! Now come out before somebody sees you. Secret mission? What plans? What are you talking about? I'm not getting in there! I'm going to regret this. That's funny, the damage doesn't look as bad from out here. Are you sure this things safe? How did I get into this mess? I really don't know how. We seem to be made to suffer. It's our lot in life. I've got to rest before I fall apart. My joints are almost frozen. What a desolate place this is. Where are you going? Well, I'm not going that way. It's much too rocky. This way is much easier. What makes you think there are settlements over there? Don't get technical with me. What mission? What are you talking about? I've had just about enough of you! Go that way! You'll be malfunctioning within a day, you nearsighted scrap pile! And don't let me catch you following me begging for help, because you won't get it. No more adventures. I'm not going that way. That malfunctioning little twerp. This is all his fault! He tricked me into going this way, but he'll do no better. Wait, what's that? A transport! I'm saved! Over here! Help! Please, help! Artoo-Detoo! It's you! It's you! Wake up! Wake up! We're doomed. Do you think they'll melt us down? Don't shoot! Don't shoot! Will this never end? (quickly) Sir -- not in an environment such as this -- that's why I've also been programmed for over thirty secondary functions that... Vaporators! Sir -- My first job was programming binary load lifter... very similar to your vaporators. You could say... Of course I can, sir. It's like a second language for me... I'm as fluent in Bocce... Shutting up, sir. (pointing to Artoo) Excuse me, sir, but that R2 unit is in prime condition. A real bargain. Uh, I'm quite sure you'll be very pleased with that one, sir. He really is in first-class condition. I've worked with him before. Here he comes. (to Artoo) Now, don't you forget this! Why I should stick my neck out for you is quite beyond my capacity! Thank the maker! This oil bath is going to feel so good. I've got such a bad case of dust contamination, I can barely move! Is there anything I might do to help? I don't think so, sir. I'm only a droid and not very knowledgeable about such things. Not on this planet, anyways. As a matter of fact, I'm not even sure which planet I'm on. I see, sir. I see, sir Luke. And I am See-Threepio, human-cyborg relations, and this is my counterpart, Artoo-Detoo. With all we've been through, sometimes I'm amazed we're in as good condition as we are, what with the Rebellion and all. That's how we came to be in your service, if you take my meaning, sir. Several, I think. Actually, there's not much to tell. I'm not much more than an interpreter, and not very good at telling stories. Well, not at making them interesting, anyways. What is what?!? He asked you a question... (pointing to Leia) What is that? Oh, he says it's nothing, sir. Merely a malfunction. Old data. Pay it no mind. I'm afraid I'm not quite sure, sir. I think she was a passenger on our last voyage. A person of some importance, sir -- I believe. Our captain was attached to... Behave yourself, Artoo. You're going to get us in trouble. It's all right, you can trust him. He's our new master. He says he's the property of Obi-Wan Kenobi, a resident of these parts. And it's a private message for him. Quite frankly, sir I don't know what he's talking about. Our last master was Captain Antilles, but with what we've been through, this little R2 unit has become a bit eccentric. I beg your pardon, sir, but do you know what he's talking about? He says the restraining bolt has short circuited his recording system. He suggests that if you remove the bolt, he might be able to play back the entire recording. What message? The one you're carrying inside your rusty innards! I'm sorry, sir, but he appears to have picked up a slight flutter. (to Artoo) Just you reconsider playing that message for him. No, I don't think he likes you at all. No, I don't like you either. It wasn't my fault, sir. Please don't deactivate me. I told him not to go, but he's faulty, malfunctioning; kept babbling on about his mission. That R2 unit has always been a problem. These astro-droids are getting quite out of hand. Even I can't understand their logic at times. Pardon me, sir, but couldn't we go after him? Oh, he excels at that, sir. Sir, would it help if you told him it was my fault. Deactivate! Well, on the other hand if you hadn't removed his restraining bolt... Master Luke here is your rightful owner. We'll have no more of this Obi-Wan Kenobi jibberish... and don't talk to me about your mission, either. You're fortunate he doesn't blast you into a million pieces right here. If you don't mind my saying so, sir, I think you should deactivate the little fugitive until you've gotten him back to your workshop. Oh my... sir, he says there are several creatures approaching from the southeast. Where am I? I must have taken a bad step... I don't think I can make it. You go on, Master Luke. There's no sense in you risking yourself on my account. I'm done for. Sir, if you'll not be needing me, I'll close down for awhile. I can't abide these Jawas. Disgusting creatures. Come along, Artoo. I heartily agree with you sir. I don't like the look of this. Lock the door, Artoo. I would much rather have gone with Master Luke than stay here with you. I don't know what all the trouble is about, but I'm sure it must be your fault. You watch your language! Hello, sir. Oh, my. I'd forgotten how much I hate space travel. Now be careful, Artoo. He made a fair move. Screaming about it won't help you. But sir, nobody worries about upsetting a droid. I see your point, sir. I suggest a new strategy, Artoo. Let the Wookiee win. We found the computer outlet, sir. He says he's found the main computer to power the tractor beam that's holding the ship here. He'll try to make the precise location appear on the monitor. The tractor beam is coupled to the main reactor in seven locations. A power loss at one of the terminals will allow the ship to leave. I'm afraid I'm not quite sure, sir. He says \"I found her\", and keeps repeating, \"She's here.\" Princess Leia. Level five. Detention block A A-twenty- three. I'm afraid she's scheduled to be terminated. Master Luke, sir! Pardon me for asking... but, ah... what should Artoo and I do if we're discovered here? That isn't very reassuring. (over comlink) Yes sir? I said, all systems have been alerted to your presence, sir. The main entrance seems to be the only way in or out; all other information on your level is restricted. Oh, no! They're madmen! They're heading for the prison level. If you hurry, you might catch them. (to Artoo) Come on! Oh! All this excitement has overrun the circuits of my counterpart here. If you don't mind, I'd like to take him down to maintenance. They aren't here! Something must have happened to them. See if they've been captured. Hurry! (to Artoo) Thank goodness, they haven't found them! Where could they be? Use the comlink? Oh, my! I forgot I turned it off! Are you there, sir? We've had some problems... (to Artoo) No. Shut them all down! Hurry! Listen to them! They're dying, Artoo! Curse my metal body! I wasn't fast enough. It's all my fault! My poor master! (voice) For the moment. Uh, we're in the main hangar across from the ship. Where could they be? Come on, Artoo, we're going! Oooh! Help! I think I'm melting! (to Artoo) This is all your fault. Hang on tight,Artoo, you've got to come back. You wouldn't want my life to get boring, would you? Hang on, Artoo! Oh, my! Artoo! Can you hear me? Say something! (to mechanic) You can repair him, can't you? You must repair him! Sir, if any of my circuits or gears will help, I'll gladly donate them. Hurry up! Come with me! What are you waiting for?! Get in gear! Shape it up you guys!... Biggs? I didn't know you were back! When did you get in? The Academy didn't change you much...but you're back so soon? Hey, what happened, didn't you get your commission? I almost forgot. There's a battle going on! Right here in our system. Come and look! There they are! But there was a lot of firing earlier... Hey, easy with those... (Very animated) ...so I cut off my power, shut down the afterburners and came in low on Deak's trail. I was so close I thought I was going to fry my instruments. As it was I busted up the Skyhopper pretty bad. Uncle Owen was pretty upset. He grounded me for the rest of the season. You should have been there... it was fantastic. Look who's talking. Now that you've been around those giant starships you're beginning to sound like my uncle. You've gotten soft in the city... Well, things haven't been the same since you left, Biggs. It's been so... quiet. What are you talking about? Join the Rebellion?! Are you kidding! How? I'm sorry. I'm quiet. (he whispers) Listen how quiet I am. You can barely hear me... You're crazy! You could wander around forever trying to find them. And I'm stuck here... Not likely! I had to cancel my application. There has been a lot of unrest among the Sandpeople since you left... they've even raided the outskirts of Anchorhead. I know, but he's got enough vaporators going to make the place pay off. He needs me for just one more season. I can't leave him now. It couldn't happen here. You said it yourself. The Empire won't bother with this rock. I wish I was going... Are you going to be around long? Then I guess I won't see you. Well, I'll be at the Academy next season... after that who knows. I won't be drafted into the Imperial Starfleet that's for sure... Take care of yourself, you'll always be the best friend I've got. It looks like we don't have much of a choice but I'll remind him. But I was going into Toshi Station to pick up some power converters... All right, come on! And the red one, come on. Well, come on, Red, let's go. Uncle Owen... This R2 unit has a bad motivator. Look! Uncle Owen... What about that one? Yeah, take it away. Okay, let's go. It just isn't fair. Oh, Biggs is right. I'm never gonna get out of here! Well, not unless you can alter time, speed up the harvest, or teleport me off this rock! Well, if there's a bright center to the universe, you're on the planet that it's farthest from. Uh, you can call me Luke. (laughing) Just Luke. Hello. You got a lot of carbon scoring here. It looks like you boys have seen a lot of action. You know of the Rebellion against the Empire? Have you been in many battles? Well, my little friend, you've got something jammed in here real good. Were you on a cruiser or... What's this? Who is she? She's beautiful. Is there more to this recording? Obi-Wan Kenobi? I wonder if he means old Ben Kenobi? Well, I don't know anyone named Obi- Wan, but old Ben lives out beyond the dune sea. He's kind of a strange old hermit. I wonder who she is. It sounds like she's in trouble. I'd better play back the whole thing. H'm? Oh, yeah, well, I guess you're too small to run away on me if I take this off! Okay. There you go. Well, wait a minute. Where'd she go? Bring her back! Play back the entire message. All right, I'll be right there, Aunt Beru. Well, see what you can do with him. I'll be right back. You know, I think that R2 unit we bought might have been stolen. Well, I stumbled across a recording while I was cleaning him. He says he belongs to someone called Obi-Wan Kenobi. I thought he might have meant old Ben. Do you know what he's talking about? Well, I wonder if he's related to Ben. But what if this Obi-Wan comes looking for him? He knew my father? Yes, sir. I think those new droids are going to work out fine. In fact, I, uh, was also thinking about our agreement about my staying on another season. And if these new droids do work out, I want to transmit my application to the Academy this year. Sure, there're more than enough droids. But it's a whole 'nother year. Yeah, that's what you said last year when Biggs and Tank left. It looks like I'm going nowhere. I have to finish cleaning those droids. What are you doing hiding there? Oh, no! How could I be so stupid? He's nowhere in sight. Blast it! It's too dangerous with all the Sandpeople around. We'll have to wait until morning. All right, I'll be there in a few minutes. Boy, am I gonna get it. You know that little droid is going to cause me a lot of trouble. (yelling) How's that. Old Ben Kenobi lives out in this direction somewhere, but I don't see how that R2 unit could have come this far. We must have missed him. Uncle Owen isn't going to take this very well. (brightening) Sure. He needs you. He'd probably only deactivate you for a day or so... Wait, there's something dead ahead on the scanner. It looks like our droid... hit the accelerator. Hey, whoa, just where do you think you're going? Well, come on. It's getting late. I only hope we can get back before Uncle Owen really blows up. No, he's not going to try anything. What's wrong with him now? Sandpeople! Or worst! Come on, let's have a look. Come on. There are two Banthas down there but I don't see any... wait a second, they're Sandpeople all right. I can see one of them now. What happened? Ben? Ben Kenobi! Boy, am I glad to see you! Oh, this little droid! I think he's searching for his former master... I've never seen such devotion in a droid before... there seems to be no stopping him. He claims to be the property of an Obi-Wan Kenobi. Is he a relative of yours? Do you know who he's talking about? I think my uncle knew him. He said he was dead. You know him! Then the droid does belong to you. Threepio! Can you stand? We've got to get out of here before the Sandpeople return. No, you're not. What kind of talk is that? No, my father didn't fight in the wars. He was a navigator on a spice freighter. You fought in the Clone Wars? I wish I'd known him. Sure, go ahead. What is it? How did my father die? The Force? I saw part of the message he was... (laughing) Alderaan? I'm not going to Alderaan. I've got to go home. It's late, I'm in for it as it is. I can't get involved! I've got work to do! It's not that I like the Empire. I hate it! But there's nothing I can do about it right now. It's such a long way from here. (sighing) Oh, God, my uncle. How am I ever going to explain this? Look, I can take you as far as Anchorhead. You can get a transport there to Mos Eisley or wherever you're going. It looks like Sandpeople did this, all right. Look, here are Gaffi sticks, Bantha tracks. It's just... I never heard of them hitting anything this big before. These are the same Jawas that sold us Artoo and Threepio. Why would Imperial troops want to slaughter Jawas? If they traced the robots here, they may have learned who they sold them to. And that would lead them home! Uncle Owen! Aunt Beru! Uncle Owen! I want to come with you to Alderaan. There's nothing here for me now. I want to learn the ways of the Force and become a Jedi like my father. About three or four seasons. Go on, go on. I can't understand how we got by those troopers. I thought we were dead. Do you really think we're going to find a pilot here that'll take us to Alderaan? I'm ready for anything. What? Listen, why don't you wait out by the speeder. We don't want any trouble. I'm sorry. I'll be careful than. Ten thousand? We could almost buy our own ship for that! You bet I could. I'm not such a bad pilot myself! We don't have to sit here and listen... That's okay. I'm never coming back to this planet again. He says it's the best he can do. Since the XP-38 came out, they're just not in demand. What a piece of junk. Why don't you outrun them? I thought you said this thing was fast. Are you kidding? At the rate they're gaining... What's that flashing? Are you all right? What's wrong? You mean it controls your actions? You don't believe in the Force, do you? (laughing) With the blast shield down, I can't even see. How am I supposed to fight? You know, I did feel something. I could almost see the remote. What's going on? What do you mean? Where is it? What? How? Maybe they know what happened. It followed us! It sure is leaving in a big hurry. If they identify us, we're in big trouble. It must have gotten lost, been part of a convoy or something. Look at him. He's headed for that small moon. I have a very bad feeling about this. Why are we still moving towards it? But there's gotta be something you can do! Boy, it's lucky you had these compartments. You know, between his howling and your blasting everything in sight, it's a wonder the whole station doesn't know we're here. I want to go with you. But he can... Ben is a great man. I didn't hear you give any ideas... Who do you think... What is it? Well, who... who has he found? The princess? She's here? Oh, no! We've got to do something. The droid belongs to her. She's the one in the message... We've got to help her. But he didn't know she was here. Look, will you just find a way back into the detention block? They're going to execute her. Look, a few minutes ago you said you didn't want to just wait here to be captured. Now all you want to do is stay. But they're going to kill her! She's rich. Yes. Rich, powerful! Listen, if you were to rescue her, the reward would be... Well more wealth that you can imagine. You'll get it! You will... All right. Uh... Threepio, hand me those binders there will you? Okay. Now, I'm going to put these on you. Okay. Han, you put these on. Lock the door! I can't see a thing in this helmet. Why didn't you say so before? Prisoner transfer from Block one-one- three-eight. He's going to pull us all apart. What? Oh... the uniform. I'm Luke Skywalker. I'm here to rescue you. I'm here to rescue you. I've got your R2 unit. I'm here with Ben Kenobi. Come on! See-Threepio! See-Threepio! We've been cut off! Are there any other ways out of the cell bay?... What was that? I didn't copy! There isn't any other way out. Well, I didn't... No! wait! Will you forget it? I already tried it. It's magnetically sealed! There's something alive in here! Something just moves past my leg! Look! Did you see that? Help! Blast it, will you! My gun's jammed. Anywhere! Oh!! I don't know, it just let go of me and disappeared... The walls are moving! Wait a minute! Threepio! Come in Threepio! Threepio! Where could he be? Threepio! Come in, Threepio! Threepio! Where could he be? Threepio! Threepio, will you come in? Threepio! (over comlink) Will you shut up and listen to me? Shut down all garbage mashers on the detention level, will you? Do you copy? Shut down all the garbage mashers on the detention level. (over comlink) Shut down all the garbage mashers on the detention level. (over comlink) Threepio, we're all right! We're all right. You did great. Hey... hey, open the pressure maintenance hatch on unit number... where are we? Well, let's get moving! See-Threepio, do you copy? We're right above you. Stand by. Where are you going? Come back! What good will it do us if he gets himself killed? Come on! (gasping) I think we took a wrong turn. That oughta hold it for a while. Oh, I think I just blasted it. Here, hold this. Is the ship all right? Look! No! I can't believe he's gone. They're coming in too fast! Got him! I got him! (laughing) That's it! We did it! I care! So... what do you think of her, Han? (under his breath) Good... No! It's not impossible. I used to bull's- eye womp rats in my T-sixteen back home. They're not much bigger than two meters. So... you got your reward and you're just leaving then? (getting angry) Come on! Why don't you take a look around? You know what's about to happen, what they're up against. They could use a good pilot like you. You're turning your back on them. All right. Well, take care of yourself, Han. I guess that's what you're best at, isn't it? Oh, it's Han! I don't know, I really thought he'd change his mind. I only wish Ben were here. Biggs! Of course, I'll be up there with you! Listen, have I got some stories to tell... Thank you, sir. I'll try. I told you I'd make it someday, Biggs. Not on your life! That little droid and I have been through a lot together. (to Artoo) You okay, Artoo? Red Five standing by. This is Red Five; I'm going in! I got a little cooked, but I'm okay. I'm on my way in now... I'm on it. My scope's negative. I don't see anything. Hang on, Biggs, I'm coming in. Got him! I'm hit, but not bad. Artoo, see what you can do with it. Hang on back there. I can't shake him! Blast it! Wedge where are you? Thanks, Wedge. No sign of any... wait! (over headset) Coming in point three five. (over headset) Red Leader, we're right above you. Turn to point... ...oh-five; we'll cover for you. (over speaker) Biggs, Wedge, let's close it up. We're going in. We're going in full throttle. It'll be just like Beggar's Canyon back home. Watch yourself! Increase speed full throttle! You worry about those fighters! I'll worry about the tower! (to Artoo) Artoo... that, that stabilizer's broken loose again! See if you can't lock it down! (over speaker) Get clear, Wedge. You can't do any more good back there! Artoo, try and increase the power! (over speaker) Nothing. I'm all right. I've lost Artoo! (laughing) I knew you'd come back! I just knew it! Oh, no! He'll be all right. The Death Star plans are not in the main computer. The final check-out is complete. All systems are operational. What course shall we set? Where are those transmissions you intercepted? What have you done with those plans? If this is a consular ship... were is the Ambassador? Commander, tear this ship apart until you've found those plans and bring me the Ambassador. I want her alive! Don't play games with me, Your Highness. You weren't on any mercy mission this time. You passed directly through a restricted system. Several transmissions were beamed to this ship by Rebel spies. I want to know what happened to the plans they sent you. You're a part of the Rebel Alliance... and a traitor. Take her away! I have traced the Rebel spies to her. Now she is my only link to find their secret base! Leave that to me. Send a distress signal and then inform the senate that all aboard were killed! She must have hidden the plans in the escape pod. Send a detachment down to retrieve them. See to it personally, Commander. There'll be no one to stop us this time. The plans you refer to will soon be back in our hands. Don't be too proud of this technological terror you've constructed. The ability to destroy a planet is insignificant next to the power of the Force. I find your lack of faith disturbing. As you wish. And, now Your Highness, we will discuss the location of your hidden Rebel base. Her resistance to the mind probe is considerable. It will be some time before we can extract any information from her. What do you mean? Commence primary ignition. I told you she would never consciously betray the Rebellion. They must be trying to return the stolen plans to the princess. She may yet be of some use to us. Did you find any droids? Send a scanning crew on board. I want every part of this ship checked. I sense something... a presence I haven't felt since... He is here... A tremor in the Force. The last time I felt it was in the presence of my old master. Don't underestimate the power of the Force. Obi-Wan is here. The Force is with him. Escape is not his plan. I must face him alone. I've been waiting for you, Obi-Wan. We meet again, at last. The circle is now complete. When I left you, I was but the learner; now I am the master. Your powers are weak, old man. They have just made the jump into hyperspace. This will be a day long remembered. It has seen the end of Kenobi and it will soon see the end of the Rebellion. We'll have to destroy them ship to ship. Get the crews to their fighters. Several fighters have broken off from the main group. Come with me! Stay in attack formation! I'll take them myself! Cover me! Close up formation. Let him go! Stay on the leader! I'm on the leader. The Force is strong with this one! I have you now. What? We intercepted no transmissions. Aaah... This is a consular ship. Were on a diplomatic mission. There she is! Set for stun! She'll be all right. Inform Lord Vader we have a prisoner. Someone was in the pod. The tracks go off in this direction. Look, sir -- droids. How long have you had these droids? Let me see your identification. We don't need to see his identification. These are not the droids we're looking for. You can go about your business. Move along. Move along. All right, we'll check it out. With pleasure. All right, check that side of the street. It's secure. Move on to the next door. Which way? All right, men. Load your weapons! Stop that ship! Blast 'em! The ship's all yours. If the scanners pick up anything, report it immediately. All right, let's go. Open up in there! Take over! (pointing to the dead officer) See to him! Look there! All right. Give me regular reports. Do you know what's going on? Maybe it's another drill. What was that? Oh, it's nothing. Don't worry about it. It's them! Blast them! Close the blast doors! Open the blast doors! Open the blast doors! There goes another one. Hold your fire. There are no life forms. It must have been short- circuited. I've told you kids to slow down! Did I hear a young noise blast through here? I keep telling you, the Rebellion is a long way from here. I doubt if the Empire would even fight to keep this system. Believe me Luke, this planet is a big hunk of nothing... It was just wormie on another rampage. Don't worry about it, Wormie. Just now. I wanted to surprise you, hot shot. I thought you'd be here... certainly didn't expect you to be out working. (he laughs) Of course I got it. Signed aboard The Rand Ecliptic last week. First mate Biggs Darklighter at your service... (he salutes) ...I just came to say good-bye to all you unfortunate landlocked simpletons. That's no battle, hot shot... they're just sitting there! Probably a freighter-tanker refueling. You ought to take it easy Luke. You may be the hottest bushpilot this side of Mos Eisley, but those little Skyhoppers are dangerous. Keep it up, and one day, whammo, you're going to be nothing more than a dark spot on the down side of a canyon wall. I've missed you kid. Luke, I didn't come back just to say good-bye... I shouldn't tell you this, but you're the only one I can trust... and if I don't come back, I want somebody to know. I made some friends at the Academy. (he whispers) ...when our frigate goes to one of the central systems, we're going to jump ship and join the Alliance... Quiet down will ya! You got a mouth bigger than a meteor crater! My friend has a friend on Bestine who might help us make contact. I know it's a long shot, but if I don't find them I'll do what I can on my own... It's what we always talked about. Luke, I'm not going to wait for the Empire to draft me into service. The Rebellion is spreading and I want to be on the right side -- the side I believe in. I thought you were going to the Academy next term. You'll get your chance to get off this rock. Your uncle could hold off a whole colony of Sandpeople with one blaster. I feel for you, Luke, you're going to have to learn what seems to be important or what really is important. What good is all your uncle's work if it's taken over by the Empire?... You know they're starting to nationalize commerce in the central systems... it won't be long before your uncle is merely a tenant, slaving for the greater glory of the Empire. Things always change. No, I'm leaving in the morning... Maybe someday... I'll keep a lookout. So long, Luke. Luke! I don't believe it! How'd you get here... are you going out with us?! Sir, Luke is the best bushpilot in the outer rim territories. I've got to get aboard. Listen, you'll tell me your stories when we come back. All right? (going off) You did, all right. It's going to be like old times, Luke. We're a couple of shooting stars that'll never be stopped! Red Three standing by. (over headset) Luke, pull up! Are you all right? I can't see it! Where is he?! He's on me tight, I can't shake him... I can't shake him. (over speaker) Pull in! Luke... pull in! (over speaker) Good shooting, Wedge! (over speaker) Red Three, standing by. Luke, at that speed will you be able to pull out in time? We'll stay back far enough to cover you. Hurry, Luke, they're coming in much faster this time. I can't hold them! (over headset) Hurry up, Luke! Wait! Not again! Forget it. Lord Vader, I should have known. Only you could be so bold. The Imperial Senate will not sit for this, when they hear you've attacked a diplomatic... I don't know what you're talking about. I'm a member of the Imperial Senate on a diplomatic mission to Alderaan... Help me, Obi-Wan Kenobi. You're my only hope. Help me, Obi-Wan Kenobi. You're my only hope. Help me, Obi-Wan Kenobi. You're my only hope. Help me, Obi-Wan Kenobi... General Kenobi, years ago you served my father in the Clone Wars. Now he begs you to help him in his struggle against the Empire. I regret that I am unable to present my father's request to you in person, but my ship has fallen under attack and I'm afraid my mission to bring you to Alderaan has failed. I have placed information vital to the survival of the Rebellion into the memory systems of this R2 unit. My father will know how to retrieve it. You must see this droid safely delivered to him on Alderaan. This is our most desperate hour. Help me, Obi-Wan Kenobi, you're my only hope. Governor Tarkin, I should have expected to find you holding Vader's leash. I recognized your foul stench when I was brought on board. I surprised you had the courage to take the responsibility yourself! The more you tighten your grip, Tarkin, the more star systems will slip through your fingers. No! Alderaan is peaceful. We have no weapons. You can't possibly... (softly) Dantooine. They're on Dantooine. What? No! (finally) Aren't you a little short to be a stormtrooper? You're who? Ben Kenobi is here! Where is he? Looks like you managed to cut off our only escape route. This is some rescue. When you came in here, didn't you have a plan for getting out? Somebody has to save our skins. Into the garbage chute, wise guy. Put that thing away! You're going to get us all killed. It could be worse... Luke! Luke, Luke, grab a hold of this. Grab him! What happened? Don't just stand there. Try to brace it with something. I can't I'm trying! No, wait. They'll hear! Listen. I don't know who you are, or where you came from, but from now on, you do as I tell you. Okay? It's a wonder you're still alive. (looking at Chewie) Will somebody get this big walking carpet out of my way? You came in that thing? You're braver that I thought. He certainly has courage. There's no lock! Quick, we've got to get across. Find the control that extends the bridge. They're coming through! Here they come! For luck! We ran into some old friends. Come on! Luke, its too late! There wasn't anything you could have done. (into intercom) Here they come! We've lost lateral controls. There are still two more of them out there! We did it! That doesn't sound too hard. Besides, they let us go. It's the only explanation for the ease of our escape. Their tracking us! At least the information in Artoo is still intact. The technical readouts of that battle station. I only hope that when the data is analyzed, a weakness can be found. It's not over yet! You needn't worry about your reward. If money is all that you love, then that's what you'll receive! Your friend is quite a mercenary. I wonder if he really cares about anything... or anyone. We don't have time for our sorrows, Commander. The battle station has surely tracked us here. (looking pointedly to Han) It's the only explanation for the ease of our escape. You must use the information in this R2 unit to plan the attack. It is our only hope. What's wrong? He's got to follow his own path. No one can choose it for him. Luke! Luke! Luke! (laughing) Hey, I knew there was more to you than money. Holding her is dangerous. If word of this gets out, it could generate sympathy for the Rebellion in the senate. She'll die before she tells you anything. Yes, sir. Lord Vader, the battle station plans are not aboard this ship! And no transmissions were made. An escape pod was jettisoned during the fighting, but no life forms were aboard. Someone was in the pod. The tracks go off in this direction. Take over! (pointing to the dead officer) See to him! Look there! Give me regular reports. Do you know what's going on? Oh, it's nothing. Don't worry about it. It's them! Blast them! Look, sir -- droids. Maybe it's another drill. What was that? Luke, tell Owen that if he gets a translator to be sure it speaks Bocce. Luke? Luke! Come to dinner! Where are you going? Owen, he can't stay here forever. Most of his friends have gone. It means so much to him. Luke's just not a farmer, Owen. He has too much of his father in him. He said he had some things to do before he started today, so he left early. I think so. I have no need for a protocol droid. What I really need is a droid that understands the binary language of moisture vaporators. Do you speak Bocce? All right shut up! (turning to Jawa) I'll take this one. Luke, take these two over to the garage, will you? I want you to have both of them cleaned up before dinner. You can waste time with your friends when your chores are done. Now come on, get to it! Yeah? (to the head Jawa) Hey, what're you trying to push on us? Yeah? (to Jawa) What about that blue one? We'll take that one. What makes you think that? That old man's just a crazy old wizard. Tomorrow I want you to take that R2 unit into Anchorhead and have its memory flushed. That'll be the end of it. It belongs to us now. He won't, I don't think he exists any more. He died about the same time as your father. I told you to forget it. Your only concern is to prepare the new droids for tomorrow. In the morning I want them on the south ridge working out those condensers. You mean the next semester before harvest? Harvest is when I need you the most. Only one more season. This year we'll make enough on the harvest so I'll be able to hire some more hands. And then you can go to the Academy next year. You must understand I need you here, Luke. Look, it's only one more season. I'll make it up to him next year. I promise. That's what I'm afraid of. Luke, I'm shutting the power down for the night. Luke? Luke? Luke? Where could he be loafing now! Have you seen Luke this morning? Uh? Did he take those two new droids with him? Well, he'd better have those units in the south range repaired be midday or there'll be hell to pay! Luke? Luke! Come to dinner! Where are you going? Owen, he can't stay here forever. Most of his friends have gone. It means so much to him. Luke's just not a farmer, Owen. He has too much of his father in him. He said he had some things to do before he started today, so he left early. I think so. Hello there! Come here my little friend. Don't be afraid. Don't worry, he'll be all right. Rest easy, son, you've had a busy day. You're fortunate you're still in one piece. The Jundland wastes are not to be traveled lightly. Tell me young Luke, what brings you out this far? Obi-Wan Kenobi... Obi-Wan? Now thats a name I haven't heard in a long time... a long time. Oh, he's not dead, not... not yet. Well of course, of course I know him. He's me! I haven't gone by the name Obi-Wan since oh, before you were born. Don't seem to remember ever owning a droid. Very interesting... I think we better get indoors. The Sandpeople are easily startled but they will soon be back and in greater numbers. Quickly, son... they're on the move. That's what your uncle told you. He didn't hold with your father's ideals. Thought he should have stayed here and not gotten involved. Yes, I was once a Jedi Knight the same as your father. He was the best star-pilot in the galaxy, and a cunning warrior. I understand you've become quite a good pilot yourself. And he was a good friend. Which reminds me... I have something here for you. Your father wanted you to have this when you were old enough, but your uncle wouldn't allow it. He feared you might follow old Obi-Wan on some damned-fool idealistic crusade like your father did. Your fathers lightsaber. This is the weapon of a Jedi Knight. Not as clumsy or as random as a blaster. An elegant weapon for a more civilized time. For over a thousand generations the Jedi Knights were the guardians of peace and justice in the Old Republic. Before the dark times, before the Empire. A young Jedi named Darth Vader, who was a pupil of mine until he turned to evil, helped the Empire hunt down and destroy the Jedi Knights. He betrayed and murdered your father. Now the Jedi are all but extinct. Vader was seduced by the dark side of the Force. Well, the Force is what gives a Jedi his power. It's an energy field created by all living things. It surrounds us and penetrates us. It binds the galaxy together. Now, let's see if we can't figure out what you are, my little friend. And where you come from. I seem to have found it. You must learn the ways of the Force if you're to come with me to Alderaan. I need your help, Luke. She needs your help. I'm getting too old for this sort of thing. That's your uncle talking. Learn about the Force, Luke. You must do what you feel is right, of course. They didn't. But we are meant to think they did. These tracks are side by side. Sandpeople always ride single file to hide there numbers. And these blast points, too accurate for Sandpeople. Only Imperial stormtroopers are so precise. Wait, Luke! It's too dangerous. There's nothing you could have done, Luke, had you been there. You'd have been killed, too, and the droids would be in the hands of the Empire. Mos Eisley Spaceport. You will never find a more wretched hive of scum and villainy. We must be cautious. They're for sale if you want them. You don't need to see his identification. These are not the droids your looking for. He can go about his business. (to Luke) Move along. The Force can have a strong influence on the weak-minded. You will find it a powerful ally. Well, most of the best freighter pilots can be found here. Only watch your step. This place can be a little rough. This little one isn't worth the effort. Come let me buy you something... This is Chewbacca. He's first-mate on a ship that might suit our needs. Yes, indeed. If it's a fast ship. Should I have? Only passengers. Myself, the boy, two droids, and no questions asked. Let's just say we'd like to avoid any Imperial entanglements. We haven't that much with us. But we could pay you two thousand now, plus fifteen when we reach Alderaan. Ninety-four. You'll have to sell your speeder. It will be enough. If the ship's as fast as he's boasting, we ought to do well. How long before you can make the jump to light speed? I felt a great disturbance in the Force... as if millions of voices suddenly cried out in terror and were suddenly silenced. I fear something terrible has happened. You'd better get on with your exercises. Remember, a Jedi can feel the Force flowing through him. Partially. But it also obeys your commands. I suggest you try it again, Luke. This time, let go your conscious self and act on instinct. Your eyes can deceive you. Don't trust them. Stretch out with your feelings. You see, you can do it. In my experience, there's no such thing as luck. That's good. You have taken your first step into a larger world. Destroyed... by the Empire! It's an Imperial fighter. No. It's a short range fighter. It'd be as well to let it go. It's too far out of range. A fighter that size couldn't get this deep into space on its own. That's no moon! It's a space station. You can't win. But there are alternatives to fighting. Leave that to me! Who's the more foolish... the fool or the fool who follows him? Plug in. He should be able to interpret the entire Imperial computer network. I don't think you boys can help. I must go alone. Be patient, Luke. Stay and watch over the droids. They must be delivered safely or other star systems will suffer the same fate as Alderaan. Your destiny lies along a different path than mine. The Force will be with you... always! Only a master of evil, Darth. You can't win, Darth. If you strike me down, I shall become more powerful than you can possibly imagine. Run, Luke! Run! Luke, the Force will be with you. Use the Force, Luke. Let go, Luke. Luke, trust me. Remember, the Force will be with you... always. Until this battle station is fully operational we are vulnerable. The Rebel Alliance is too well equipped. They're more dangerous than you realize. The Rebellion will continue to gain a support in the Imperial Senate as long as.... That's impossible! How will the Emperor maintain control without the bureaucracy? And what of the Rebellion? If the Rebels have obtained a complete technical readout of this station, it is possible, however unlikely, that they might find a weakness and exploit it. Dangerous to your starfleet, Commander, not to this battle station! Any attack made by the Rebels against this station would be a useless gesture, no matter what technical data they've obtained. This station is now the ultimate power in the universe. I suggest we use it! Don't try to frighten us with your sorcerer's ways, Lord Vader. Your sad devotion to that ancient religion has not helped you conjure up the stolen data tapes, or given you clairvoyance enough to find the Rebel's hidden fort... We've entered the Alderaan system. The Imperial Senate will no longer be of any concern to us. I've just received word that the Emperor has dissolved the council permanently. The last remnants of the Old Republic have been swept away. The regional governors now have direct control over territories. Fear will keep the local systems in line. Fear of this battle station. Enough of this! Vader, release him! This bickering is pointless. Lord Vader will provide us with the location of the Rebel fortress by the time this station is operational. We will then crush the Rebellion with one swift stroke. Perhaps she would respond to an alternative form of persuasion. I think it is time we demonstrate the full power of this station. (to soldier) Set your course for Princess Leia's home planet of Alderaan. Charming to the last. You don't know how hard I found it signing the order to terminate your life! Princess Leia, before your execution I would like you to be my guest at a ceremony that will make this battle station operational. No star system will dare oppose the Emperor now. Not after we demonstrate the power of this station. In a way, you have determined the choice of the planet that'll be destroyed first. Since you are reluctant to provide us with the location of the Rebel base, I have chosen to test this station's destructive power... on your home planet of Alderaan. You would prefer another target? A military target? Then name the system! I grow tired of asking this. So it'll be the last time. Where is the Rebel base? There. You see Lord Vader, she can be reasonable. (addressing Motti) Continue with the operation. You may fire when ready. You're far too trusting. Dantooine is too remote to make an effective demonstration. But don't worry. We will deal with your Rebel friends soon enough. Yes. She lied! She lied to us! Terminate her... immediately! Yes. Obi-Wan Kenobi! What makes you think so? Surely he must be dead by now. The Jedi are extinct, their fire has gone out of the universe. You, my friend, are all that's left of their religion. Yes. The princess! Put all sections on alert! If you're right, he must not be allowed to escape. Are they away? You're sure the homing beacon is secure aboard their ship? I'm taking an awful risk, Vader. This had better work. Yes. Evacuate? In out moment of triumph? I think you overestimate their chances! You may fire when ready. We don't serve their kind here! Your droids. They'll have to wait outside. We don't want them here. No blasters! No blaster! Negola dewaghi wooldugger?!? He doesn't like you. I don't like you either. Don't insult us. You just watch yourself. We're wanted men. I have the death sentence in twelve systems. You'll be dead. Han Solo. I'm captain of the Millennium Falcon. Chewie here tells me you're looking for passage to the Alderaan system. Fast ship? You've never heard of the Millennium Falcon? It's the ship that made the Kessel run in less than twelve parsecs! I've outrun Imperial starships, not the local bulk-cruisers, mind you. I'm talking about the big Corellian ships now. She's fast enough for you, old man. What's the cargo? What is it? Some kind of local trouble? Well, that's the trick, isn't it? And it's going to cost you something extra. Ten thousand in advance. But who's going to fly it, kid! You? Seventeen, huh! Okay. You guys got yourself a ship. We'll leave as soon as you're ready. Docking bay Ninety-four. Looks like somebody's beginning to take an interest in your handiwork. Seventeen thousand! Those guys must really be desperate. This could really save my neck. Get back to the ship and get her ready. Yes, Greedo. As a matter of fact, I was just going to see your boss. Tell Jabba that I've got his money. Yeah, but this time I got the money. I don't have it with me. Tell Jabba... Even I get boarded sometimes. Do you think I had a choice? Over my dead body. Yes, I'll bet you have. Sorry about the mess. I've been waiting for you, Jabba. I'm not the type to run. You sent Greedo to blast me. I think he thought he was. Next time don't send one of those twerps. If you've got something to say to me, come see me yourself. You know, even I get boarded sometimes, Jabba. I had no choice, but I've got a charter now and I can pay you back, plus a little extra. I just need some more time. Jabba, I'll pay you because it's my pleasure. She'll make point five beyond the speed of light. She may not look like much, but she's got it where it counts, kid. I've added some special modifications myself. We're a little rushed, so if you'll hurry aboard we'll get out of here. Chewie, get us out of here! It looks like an Imperial cruiser. Our passengers must be hotter than I thought. Try and hold them off. Angle the deflector shield while I make the calculations for the jump to light speed. Stay sharp! There are two more coming in; they're going to try to cut us off. Watch your mouth, kid, or you're going to find yourself floating home. We'll be safe enough once we make the jump to hyperspace. Besides, I know a few maneuvers. We'll lose them! Here's where the fun begins! It'll take a few moments to get the coordinates from the navi-computer. Traveling through hyperspace isn't like dusting crops, boy! Without precise calculations we could fly right through a star or bounce too close to a supernova and that'd end your trip real quick, wouldn't it? We're losing our deflector shield. Go strap yourself in, I'm going to make the jump to light speed. Well, you can forget your troubles with those Imperial slugs. I told you I'd outrun 'em. Don't everyone thank me at once. Anyway, we should be at Alderaan about oh-two-hundred hours. (interrupting) Let him have it. It's not wise to upset a Wookiee. That's 'cause droids don't pull people's arms out of their socket when they lose. Wookiees are known to do that. Hokey religions and ancient weapons are no match for a good blaster at your side, kid. Kid, I've flown from one side of this galaxy to the other. I've seen a lot of strange stuff, but I've never seen anything to make me believe there's one all-powerful force controlling everything. There's no mystical energy field that controls my destiny. It's all a lot of simple tricks and nonsense. I call it luck. Look, going good against remotes is one thing. Going good against the living? That's something else. Looks like we're coming up on Alderaan. Stand by, Chewie, here we go. Cut in the sublight engines. What the...? Aw, we've come out of hyperspace into a meteor shower. Some kind of asteroid collision. It's not on any of the charts. Our position is correct, except... no, Alderaan! Thats what I'm trying to tell you, kid. It ain't there. It's been totally blown away. The entire starfleet couldn't destroy the whole planet. It'd take a thousand ships with more fire power than I've... There's another ship coming in. There aren't any bases around here. Where did it come from? Not if I can help it. Chewie...jam it's transmissions. Not for long... Well, he ain't going to be around long enough to tell anyone about us. I think I can get him before he gets there... he's almost in range. It's too big to be a space station. Yeah, I think your right. Full reverse! Chewie, lock in the auxiliary power. We're caught in a tractor beam! It's pulling us in! There's nothin' I can do about it, kid. I'm in full power. I'm going to have to shut down. But they're not going to get me without a fight! I use them for smuggling. I never thought I'd be smuggling myself in them. This is ridiculous. Even if I could take off, I'd never get past the tractor beam. Damn fool. I knew that you were going to say that! Hey down there, could you give us a hand with this? Bring them on! I prefer a straight fight to all this sneaking around. Whatever you say. I've done more that I bargained for on this trip already. Boy you said it, Chewie. Where did you dig up that old fossil? Yeah, great at getting us into trouble. Well, anything would be better than just hanging around waiting for him to pick us up... Princess? What's going on? What are you talking about? Now, look, don't get any funny ideas. The old man wants us to wait right here. I'm not going anywhere. Marching into the detention area is not what I had in mind. Better her than me... Rich? What? I don't know, I can imagine quite a bit! I better! All right, kid. But you'd better be right about this. What's your plan? Don't worry, Chewie. I think I know what he has in mind. And hope they don't have blasters. This is not going to work. I did say so before! Look out! He's loose! Go get him! We've got to find out which cell this princess of yours is in. Here it is... cell twenty-one-eight-seven. You go get her. I'll hold them here. (sounding official) Everything is under control. Situation normal. (getting nervous) Uh... had a slight weapons malfunction. But, uh, everything's perfectly all right now. We're fine. We're all fine here, now, thank you. How are you? Uh, uh, negative. We had a reactor leak here now. Give us a few minutes to lock it down. Large leak... very dangerous. Boring conversation anyway. (yelling down the hall) Luke! We're going to have company! Chewie! Get behind me! Get behind me! Can't get out that way. (sarcastically) Maybe you'd like it back in your cell, Your Highness. I can't hold them off forever! Now what? (pointing to Luke) He's the brains, sweetheart. What the hell are you doing? Get in there you big furry oaf! I don't care what you smell! Get in there and don't worry about it. Wonderful girl! Either I'm going to kill her or I'm beginning to like her. Get in there! (sarcastically) Oh! The garbage chute was a really wonderful idea. What an incredible smell you've discovered! Let's get out of here! Get away from there... Absolutely, Your Worship. Look, I had everything under control until you led us down here. You know, it's not going to take them long to figure out what happened to us. It's worse. That's your imagination. What? Luke! Luke! Luke! Where? Luke! Luke! I've got a very bad feeling about this. Get to the top! One thing's for sure. We're all going to be a lot thinner! (to Leia) Get on top of it! (over comlink) Three-two-six-eight-two-seven. If we can just avoid any more female advice, we ought to be able to get out of here. (to Chewie) Where are you going? (to Chewie) Come here, you big coward! Chewie! Come here! Look, Your Worshipfulness, let's get one thing straight! I take orders from one person! Me! No reward is worth this. (looking at his ship) There she is. Nice! Come on! (to Luke and Leia) Get back to the ship! Didn't we just leave this party? What kept you? Seems okay, if we can get to it. Just hope the old man got the tractor beam out of commission. Now's our chance! Go! (to Luke) Come on! Blast the door! Kid! I hope the old man got that tractor beam out if commission, or this is going to be a real short trip. Okay, hit it! (to Chewie) We're coming up on the sentry ships. Hold 'em off! Angle the deflector shields while I charge up the main guns! (to Luke) Come on, buddy, we're not out of this yet! (to Luke) You in, kid? Okay, stay sharp! Don't worry, she'll hold together. (to ship) You hear me, baby? Hold together! Great kid! Don't get cocky. Not a bad bit of rescuing, huh? You know, sometimes I even amaze myself. Easy... you call that easy? Not this ship, sister. What's so important? What's he carrying? It is for me, sister! Look, I ain't in this for your revolution, and I'm not in it for you, Princess. I expect to be well paid. I'm in it for the money! I'm trying not to, kid! Still, she's got a lot of spirit. I don't know, what do you think? Do you think a princess and a guy like me... That's right, yeah! I got some old debts I've got to pay off with this stuff. Even if I didn't, you don't think I'd be fool enough to stick around here, do you? Why don't you come with us? You're pretty good in a fight. I could use you. What good's a reward if you ain't around to use it? Besides, attacking that battle station ain't my idea of courage. It's more like suicide. Hey, Luke... may the Force be with you! What're you lookin' at? I know what I'm doing. (yelling) Yahoo! (into mike) You're all clear, kid. (over speaker) Now let's blow this thing and go home! Great shot, kid. That was one in a million. (laughing) Hey! Hey! Well, I wasn't gonna let you get all the credit and take all the reward. Going somewhere, Solo? It's too late. You should have paid him when you had the chance. Jabba's put a price on your head, so large that every bounty hunter in the galaxy will be looking for you. I'm lucky I found you first. If you give it to me, I might forget I found you. Jabba's through with you. He has no time for smugglers who drop their shipments at the first sign of an Imperial cruiser. You can tell that to Jabba. He may only take your ship. That's the idea. I've been looking forward to killing you for a long time. Come on out, Solo! I expected you would be. (fatherly-smooth) Han, my boy, there are times when you disappoint me... why haven't you paid me? And why did you have to fry poor Greedo like that... after all we've been through together. (mock surprise) Han, why you're the best smuggler in the business. You're too valuable to fry. He was only relaying my concern at your delays. He wasn't going to blast you. Han, Han! If only you hadn't had to dump that shipment of spice... you understand I just can't make an exception. Where would I be if every pilot who smuggled for me dumped their shipment at the first sign of an Imperial starship? It's not good business. (to his men) Put your blasters away. Han, my boy, I'm only doing this because you're the best and I need you. So, for an extra, say twenty percent I'll give you a little more time... but this is it. If you disappoint me again, I'll put a price on your head so large you won't be able to go near a civilized system for the rest of your short life. Our scout ships have reached Dantooine. They found the remains of a Rebel base, but they estimate that it has been deserted for some time. They are now conducting an extensive search of the surrounding systems. The Death Star plans are not in the main computer. We intercepted no transmissions. Aaah... This is a consular ship. Were on a diplomatic mission. Lord Vader, the battle station plans are not aboard this ship! And no transmissions were made. An escape pod was jettisoned during the fighting, but no life forms were aboard. The final check-out is complete. All systems are operational. What course shall we set? Our scout ships have reached Dantooine. They found the remains of a Rebel base, but they estimate that it has been deserted for some time. They are now conducting an extensive search of the surrounding systems. To you stations! (to another officer) Come with me. Close all outboard shields! Close all outboard shields! (to Vader) There's no one on board, sir. According to the log, the crew abandoned ship right after takeoff. It must be a decoy, sir. Several of the escape pods have been jettisoned. No, sir. If there were any on board, they must also have jettisoned. Yes, sir. Get me a scanning crew in here on the double. I want every part of this ship checked! TX-four-one-two. Why aren't you at your post? TX-four-one-two, do you copy? Take over. We've got a bad transmitter. I'll see what I can do. Where are you taking this... thing? I wasn't notified. I'll have to clear it. (to his troops) Follow me! You stand guard. Secure this area until the alert is canceled. We count thirty Rebel ships, Lord Vader. But they're so small they're evading our turbo-lasers! Squad leaders, we've picked up a new group of signals. Enemy fighters coming your way. We've analyzed their attack, sir, and there is a danger. Should I have your ship standing by? (over intercom) We've captured a freighter entering the remains of the Alderaan system. It's markings match those of a ship that blasted its way out of Mos Eisley. (over intercom) Unlock one-five-seven and nine. Release charges. Hey down there, could you give us a hand with this? What happened? We're sending a squad up. Who is this? What's your operating number? Governor Tarkin, we have an emergency alert in detention block A A-twenty- three. Open up in there! Run, Luke! Run! (over loudspeaker) All flight trooper, man your stations. All flight troops, man your stations. Luke, the Force will be with you. Stand-by alert. Death Star approaching. Estimated time to firing range, fifteen minutes. Artoo, see what you can do with it. Hang on back there. (over speaker) Death Star will be in range in five minutes. (over speaker) Yes, sir. (over speaker) Rebel base, three minutes and closing. (over headset) Copy, Base One. Luke, take Red Two and Three. Hold up here and wait for my signal... to start your run. Red Five, can you see them from where you are? (over speaker) It's a hit! Rebel base, one minute and closing. Rebel base, thirty seconds and closing. Use the Force, Luke. Let go, Luke. Luke, trust me. (over speaker) His computer's off. Luke, you switched off your targeting computer. What's wrong? The Death Star has cleared the planet. The Death Star has cleared the planet. Rebel base, in range. Commence primary ignition. Stand by to fire at Rebel base. Standing by. Remember, the Force will be with you... always. Hey down there, could you give us a hand with this? TX-four-one-two. Why aren't you at your post? TX-four-one-two, do you copy? Take over. We've got a bad transmitter. I'll see what I can do. What happened? We're sending a squad up. Who is this? What's your operating number? Governor Tarkin, we have an emergency alert in detention block A A-twenty- three. Stand-by alert. Death Star approaching. Estimated time to firing range, fifteen minutes. (over speaker) Death Star will be in range in five minutes. Rebel base, one minute and closing. Rebel base, thirty seconds and closing. The Death Star has cleared the planet. The Death Star has cleared the planet. Rebel base, in range. Commence primary ignition. Stand by to fire at Rebel base. Standing by. Open up in there! (to his troops) Follow me! You stand guard. Run, Luke! Run! Luke, the Force will be with you. Use the Force, Luke. Let go, Luke. Luke, trust me. Remember, the Force will be with you... always. (holding Leia) You're safe! We had feared the worst. When we heard about Alderaan, we were afraid that you were... lost along with your father. The battle station is heavily shielded and carries a firepower greater than half the star fleet. It's defenses are designed around a direct large- scale assault. A small one-man fighter should be able to penetrate the outer defense. Well, the Empire doesn't consider a small one-man fighter to be any threat, or they'd have a tighter defense. An analysis of the plans provided by Princess Leia has demonstrated a weakness in the battle station. The approach will not be easy. You are required to maneuver straight down this trench and skim the surface to this point. The target area is only two meters wide. It's a small thermal exhaust port, right below the main port. The shaft leads directly to the reactor system. A precise hit will start a chain reaction which should destroy the station. Only a precise hit will set up a chain reaction. The shaft is ray- shielded, so you'll have to use proton torpedoes. Man your ships! And may the Force be with you! (over headset) Red Leader, this is Base One. Keep half your group out of range for the next run. Pardon me for asking, sir, but what good are snub fighters going to be against that? Red Leader, this is Gold Leader. We're starting for the target shaft now. (over speaker) Red Leader... This is Gold Leader. We're starting out attack run. (over speaker) The exhaust post is... ...marked and locked in! Switch power to front deflector screens. How many guns do you think, Gold Five. Switching to targeting computer. They've coming in! Three marks at two ten. (into mike) I can't maneuver! We're too close. Loosen up! That's impossible, even for a computer. Red Two standing by. Look at the size of that thing! (over war room speaker system) Heavy fire, boss! Twenty-degrees. (over speaker) Watch your back, Luke! (over headset) Watch your back! Fighter's above you, coming in! I'm on him, Luke! (over headset) Hold on! (over speaker) This is Red Two. Flying toward you. Right with you, boss. (over headset) My scope shows the tower, but I can't see the exhaust port! Are you sure the computer can hit it? What about the tower? (over speaker) I'm hit! I can't stay with you. Sorry! (over loudspeaker) All flight trooper, man your stations. All flight troops, man your stations. (over speaker) Yes, sir. Are you... Luke Skywalker? Have you been checked out on the Incom T-sixty- five? I met your father once when I was just a boy, he was a great pilot. You'll do all right. If you've got half of your father's skill, you'll do better than all right. All wings report in. Lock S-foils in attack position. Hold tight! (over headset) Switch your deflectors on. (over headset) Double front! (over headset) Cut the chatter, Red Two. Accelerate to attack speed. This is it, boys! (over headset) I copy, Gold Leader. We're in position. I'm going to cut across the axis and try and draw their fire. (over speaker) I see it. Stay low. Luke, let me know when you're going in. Watch yourself! There's a lot of fire coming from the right side of that deflection tower. Keep up your visual scanning. With all this jamming, they'll be on top of you before your scope can pick them up. Biggs! You've picked one up... watch it! (over headset) Red Six... (over speaker) Can you see Red Five? (over speaker) I copy, Gold Leader. Move into position. I copy, Gold Five. Red Group, this is Red Leader. (over speaker) Rendezvous at mark six point one. (over headset) Copy, Base One. Luke, take Red Two and Three. Hold up here and wait for my signal... to start your run. This is it! Keep your eyes open for those fighters! I'm in range. Target's coming up! Just hold them off for a few seconds. Almost there! It's away! (over speaker) Negative. Negative! It didn't go in. It just impacted on the surface. (over headset) Stay there... ...I just lost my starboard engine. (over headset) Get set to make your attack run. There goes another one. This R2 unit of your seems a bit beat up. Do you want a new one? Okay, easy she goes! Stand-by alert. Death Star approaching. Estimated time to firing range, fifteen minutes. (over speaker) Death Star will be in range in five minutes. The Death Star has cleared the planet. The Death Star has cleared the planet. Red Ten standing by. (over speaker) There's a heavy fire zone on this side. Red Five, where are you? We should be able to see it by now. There's too much interference! Red Five, can you see them from where you are? I see them. I can't hold them! (over Biggs' headset) Red Seven standing by. Red Six standing by. (over headset) Red Nine standing by. (over speaker) It's a hit! (over headset) Red Eleven standing by. (over headset) We're passing through their magnetic field. We count thirty Rebel ships, Lord Vader. But they're so small they're evading our turbo-lasers! Squad leaders, we've picked up a new group of signals. Enemy fighters coming your way. Artoo, see what you can do with it. Hang on back there. (over speaker) I'd say about twenty guns. Some on the surface, some on the towers. Stabilize your read deflectors. Watch for enemy fighters. Stay on target. Stay on target! Gold Five to Red Leader... (over headset) Lost Tiree, lost Dutch. They came from behind... Computer's locked. Getting a signal. The guns... they've stopped! (over speaker) Yes, sir. (over headset) Copy, Base One. Luke, take Red Two and Three. Hold up here and wait for my signal... to start your run. Red Five, can you see them from where you are? (over speaker) It's a hit! Rebel base, one minute and closing. Rebel base, thirty seconds and closing. Rebel base, in range. Commence primary ignition. (over speaker) His computer's off. Luke, you switched off your targeting computer. What's wrong? (over speaker) Yes, sir. Look out! We'll get to work on him right away.\n"
     ]
    }
   ],
   "source": [
    "#print(allwords_tokenized)\n",
    "\n",
    "print(textll)"
   ]
  },
  {
   "cell_type": "code",
   "execution_count": 10,
   "metadata": {},
   "outputs": [],
   "source": [
    "def tokenize():\n",
    "    if textll is not None:\n",
    "        words = textll.lower().split()\n",
    "        return words\n",
    "    else:\n",
    "        return None\n",
    "\n",
    "def map_book(tokens):\n",
    "    hash_map = {}\n",
    "\n",
    "    if tokens is not None:\n",
    "        for element in tokens:\n",
    "            # Remove Punctuation\n",
    "            word = element.replace(\",\",\"\")\n",
    "            word = word.replace(\".\",\"\")\n",
    "\n",
    "            # Word Exist?\n",
    "            if word in hash_map:\n",
    "                hash_map[word] = hash_map[word] + 1\n",
    "            else:\n",
    "                hash_map[word] = 1\n",
    "\n",
    "        return hash_map\n",
    "    else:\n",
    "        return None"
   ]
  },
  {
   "cell_type": "code",
   "execution_count": 11,
   "metadata": {},
   "outputs": [
    {
     "name": "stdout",
     "output_type": "stream",
     "text": [
      "[('the', 433), ('you', 363), ('to', 309), ('i', 289), ('a', 234), ('of', 162), ('in', 140), ('this', 130), ('your', 124), ('be', 118), ('it', 118), ('is', 113), ('and', 95), ('on', 94), ('what', 87), ('have', 85), ('for', 84), ('he', 84), ('that', 80), ('are', 79), (\"don't\", 74), (\"i'm\", 74), ('all', 74), ('not', 70), (\"it's\", 70), ('my', 68), ('with', 68), ('we', 66), ('going', 65), ('me', 65), ('(over', 65), ('here', 61), ('get', 61), ('can', 59), ('but', 57), ('if', 56), ('luke', 55), ('will', 52), ('there', 51), ('do', 51), ('sir', 47), ('no', 46), ('come', 46), ('out', 46), ('right', 45), (\"you're\", 44), ('was', 44), ('see', 43), ('now', 41), ('know', 41), ('got', 41), ('just', 40), ('about', 40), ('one', 40), ('him', 40), ('up', 38), ('think', 37), (\"we're\", 36), ('well', 36), ('us', 35), ('where', 34), ('take', 34), ('them', 34), ('they', 34), ('at', 33), ('go', 33), ('like', 32), ('so', 32), ('speaker)', 32), ('has', 31), ('only', 30), (\"can't\", 30), ('red', 30), (\"i've\", 29), ('more', 29), ('been', 29), ('by', 29), ('time', 28), ('as', 28), ('back', 28), ('our', 27), ('could', 27), ('(to', 27), ('ship', 27), ('force', 27), (\"they're\", 26), ('his', 26), (\"he's\", 26), (\"that's\", 25), (\"i'll\", 25), ('rebel', 25), ('look', 24), ('must', 24), ('down', 23), ('or', 23), ('too', 23), ('an', 23), ('old', 23), ('were', 23), ('headset)', 23), ('some', 22), ('before', 21), ('from', 21), ('oh', 21), ('want', 21), ('any', 21), ('when', 21), ('station', 21), ('did', 20), (\"what's\", 20), ('had', 20), (\"there's\", 20), ('hold', 20), ('base', 20), ('luke!', 20), ('than', 19), ('into', 19), ('good', 19), (\"we've\", 19), ('those', 19), ('off', 19), ('star', 19), ('how', 18), ('she', 18), (\"didn't\", 18), ('her', 18), ('sure', 17), ('who', 17), ('wait', 17), ('little', 17), ('obi-wan', 17), ('make', 17), ('yes', 17), ('something', 17), ('alderaan', 17), ('should', 16), ('much', 16), ('help', 16), ('planet', 16), ('would', 16), ('blast', 16), ('power', 16), ('it!', 16), ('two', 16), ('coming', 16), (\"we'll\", 15), (\"you'll\", 15), ('way', 15), ('enough', 15), ('let', 15), ('kenobi', 15), ('their', 15), (\"you've\", 15), ('stay', 15), ('uncle', 15), ('find', 15), ('imperial', 15), ('droids', 15), ('long', 15), ('death', 15), ('range', 15), ('why', 14), ('artoo', 14), ('these', 14), ('five', 14), ('father', 14), ('you?', 13), ('found', 13), ('battle', 13), ('vader', 13), ('hey', 12), ('talking', 12), ('there!', 12), ('bad', 12), ('lot', 12), ('over', 12), ('never', 12), ('say', 12), ('unit', 12), ('droid', 12), ('through', 12), ('tell', 12), ('three', 12), ('systems', 12), ('use', 12), ('thought', 12), ('okay', 12), ('run', 12), ('standing', 12), ('side', 12), ('that?', 11), ('better', 11), ('really', 11), ('r2', 11), ('anything', 11), ('even', 11), ('yourself', 11), ('watch', 11), ('on!', 11), ('him!', 11), ('around', 11), (\"let's\", 11), ('it?', 11), ('man', 11), ('leader', 11), ('worry', 11), ('fire', 11), ('main', 10), ('escape', 10), ('very', 10), ('might', 10), ('rebellion', 10), ('master', 10), ('system', 10), (\"i'd\", 10), ('computer', 10), ('try', 10), ('me!', 10), ('owen', 10), ('empire', 10), ('ben', 10), ('minutes', 10), ('hope', 10), ('jedi', 10), ('plans', 10), ('kid', 10), ('shut', 9), ('princess', 9), ('here!', 9), ('course', 9), ('artoo)', 9), ('uh', 9), ('quite', 9), ('am', 9), ('nothing', 9), ('last', 9), ('new', 9), ('close', 9), (\"she's\", 9), ('said', 9), ('no!', 9), ('them!', 9), ('listen', 9), ('sandpeople', 9), ('next', 9), ('friend', 9), ('looks', 9), ('thing', 9), ('another', 9), ('dead', 9), ('threepio!', 9), ('big', 9), ('may', 9), ('give', 9), ('aboard', 9), ('attack', 9), ('lord', 9), ('need', 9), ('made', 8), ('you!', 8), (\"won't\", 8), ('came', 8), ('says', 8), ('mind', 8), ('able', 8), ('told', 8), ('always', 8), ('detention', 8), (\"isn't\", 8), ('best', 8), ('boy', 8), ('what?', 8), ('keep', 8), ('hear', 7), ('trust', 7), ('going?', 7), ('about?', 7), ('getting', 7), ('things', 7), ('up!', 7), ('--', 7), ('such', 7), ('first', 7), ('afraid', 7), ('believe', 7), ('trouble', 7), ('mission', 7), ('until', 7), ('move', 7), (\"haven't\", 7), ('cut', 7), ('left', 7), ('biggs', 7), ('then', 7), ('away', 7), ('speed', 7), ('(laughing)', 7), ('against', 7), ('this?', 7), ('small', 7), ('work', 7), ('dangerous', 7), ('lost', 7), ('great', 7), ('put', 7), ('han', 7), ('open', 7), ('stand', 7), ('in!', 7), ('transmissions', 7), ('ships', 7), ('closing', 7), ('gold', 7), (\"they've\", 6), (\"doesn't\", 6), ('life', 6), ('almost', 6), ('thirty', 6), ('forget', 6), ('pay', 6), (\"wasn't\", 6), ('hand', 6), ('other', 6), ('done', 6), ('along', 6), ('lock', 6), ('gone', 6), ('point', 6), ('tractor', 6), ('leave', 6), ('level', 6), ('hurry', 6), ('happened', 6), ('fast', 6), ('hang', 6), ('academy', 6), ('easy', 6), ('season', 6), ('since', 6), ('yeah', 6), ('seen', 6), ('wonder', 6), ('looking', 6), ('knew', 6), ('year', 6), ('few', 6), ('hit', 6), ('home', 6), ('pilot', 6), ('still', 6), ('reward', 6), ('pull', 6), (\"you'd\", 6), ('senate', 6), ('jump', 6), ('fighters', 6), ('friends', 6), ('chewie', 6), ('jabba', 6), ('alert', 6), ('copy', 6), ('cleared', 6), ('artoo!', 5), ('minute', 5), ('day', 5), ('(pointing', 5), ('thank', 5), ('feel', 5), ('which', 5), ('several', 5), ('message', 5), ('short', 5), ('understand', 5), ('after', 5), ('beam', 5), ('precise', 5), ('comlink)', 5), ('seems', 5), ('information', 5), (\"aren't\", 5), ('back!', 5), ('same', 5), ('trying', 5), ('kind', 5), ('whole', 5), ('far', 5), ('part', 5), ('ready', 5), ('maybe', 5), ('garbage', 5), ('full', 5), ('operational', 5), ('signal', 5), ('pod', 5), ('soon', 5), ('destroy', 5), ('group', 5), ('most', 5), ('dantooine', 5), ('control', 5), ('luke?', 5), ('remember', 5), ('luke)', 5), ('fighter', 5), (\"ain't\", 5), ('reactor', 4), ('known', 4), ('direction', 4), ('call', 4), ('somebody', 4), ('rest', 4), ('technical', 4), (\"he'll\", 4), ('help!', 4), (\"they'll\", 4), ('also', 4), ('real', 4), ('sometimes', 4), ('leia)', 4), ('data', 4), ('become', 4), ('pardon', 4), ('play', 4), ('entire', 4), ('sorry', 4), ('picked', 4), ('either', 4), ('fault', 4), ('times', 4), (\"couldn't\", 4), ('him?', 4), ('gotten', 4), ('approaching', 4), ('space', 4), ('location', 4), ('block', 4), ('be?', 4), ('off!', 4), ('across', 4), ('waiting', 4), ('look!', 4), ('firing', 4), ('quiet', 4), ('(he', 4), ('needs', 4), ('wish', 4), ('pick', 4), ('bring', 4), ('while', 4), ('happened?', 4), ('fight', 4), ('mos', 4), ('eisley', 4), ('tracks', 4), ('heard', 4), ('threepio', 4), ('learn', 4), ('ways', 4), (\"that'll\", 4), ('ten', 4), ('own', 4), ('again', 4), ('right?', 4), ('wrong?', 4), ('on?', 4), ('everything', 4), ('rescue', 4), ('cell', 4), ('copy?', 4), ('gets', 4), ('together', 4), ('wedge', 4), ('complete', 4), ('commander', 4), ('send', 4), ('commence', 4), ('primary', 4), ('ignition', 4), ('board', 4), ('every', 4), ('hyperspace', 4), ('end', 4), ('diplomatic', 4), ('set', 4), (\"she'll\", 4), ('business', 4), ('ship!', 4), ('shot', 4), ('tarkin', 4), ('chewie)', 4), ('its', 4), ('money', 4), ('follow', 4), ('jettisoned', 4), ('once', 4), ('galaxy', 4), ('thousand', 4), ('myself', 4), ('fifteen', 4), ('light', 4), ('fool', 4), ('kid!', 4), ('deflector', 4), ('position', 4), ('tx-four-one-two', 4), ('squad', 4), ('flight', 4), ('stations', 4), ('start', 4), ('hit!', 4), ('seconds', 4), ('destroyed', 3), (\"there'll\", 3), ('sent', 3), ('spice', 3), ('mine', 3), ('restricted', 3), ('seem', 3), ('apart', 3), ('place', 3), ('makes', 3), ('because', 3), ('vaporators', 3), ('condition', 3), ('beyond', 3), ('matter', 3), ('fact', 3), ('service', 3), ('stories', 3), ('captain', 3), ('bit', 3), ('bolt', 3), ('recording', 3), ('deactivate', 3), ('taken', 3), ('step', 3), ('hello', 3), ('suggest', 3), ('win', 3), ('holding', 3), ('leia', 3), ('a-twenty-', 3), ('asking', 3), ('here?', 3), ('presence', 3), ('captured', 3), ('down!', 3), (\"wouldn't\", 3), ('me?', 3), ('change', 3), ('fry', 3), ('pretty', 3), (\"who's\", 3), ('beginning', 3), ('forever', 3), ('anchorhead', 3), ('guess', 3), ('starfleet', 3), ('care', 3), ('choice', 3), ('one?', 3), ('gonna', 3), ('harvest', 3), ('universe', 3), ('cruiser', 3), ('means', 3), ('anyone', 3), ('stolen', 3), ('belongs', 3), ('someone', 3), ('fine', 3), ('doing', 3), ('morning', 3), (\"he'd\", 3), ('late', 3), ('freighter', 3), ('troops', 3), ('outrun', 3), ('controls', 3), ('shield', 3), ('us!', 3), ('leaving', 3), ('imagine', 3), ('wait!', 3), ('mashers', 3), ('above', 3), ('negative', 3), ('shake', 3), ('sign', 3), ('cover', 3), (\"it'll\", 3), ('yourself!', 3), ('clear', 3), ('shall', 3), ('consular', 3), ('highness', 3), ('alliance', 3), ('away!', 3), ('hidden', 3), ('hands', 3), ('scanning', 3), ('crew', 3), ('felt', 3), ('plan', 3), ('identification', 3), ('secure', 3), ('officer)', 3), ('doors!', 3), ('goes', 3), ('forms', 3), ('young', 3), ('wanted', 3), ('ought', 3), ('dark', 3), ('blaster', 3), ('starting', 3), ('greater', 3), (\"father's\", 3), ('under', 3), ('governor', 3), ('courage', 3), ('weapons', 3), ('(looking', 3), ('(into', 3), ('intercom)', 3), ('besides', 3), ('weakness', 3), ('fighting', 3), ('jawa)', 3), ('head', 3), ('concern', 3), ('name', 3), ('darth', 3), ('field', 3), ('fear', 3), ('run!', 3), ('emperor', 3), ('without', 3), ('local', 3), ('extra', 3), ('greedo', 3), ('trip', 3), ('area', 3), ('large', 3), ('behind', 3), ('idea', 3), ('paid', 3), ('remains', 3), ('enemy', 3), ('stand-by', 3), ('estimated', 3), ('are?', 3), (\"computer's\", 3), ('targeting', 3), ('half', 3), ('surface', 3), ('target', 3), ('exhaust', 3), ('shaft', 3), ('guns', 3), ('six', 3), ('logic', 2), ('artoo-detoo', 2), ('heading', 2), ('kessel', 2), ('knows', 2), ('secret', 2), ('mission?', 2), ('plans?', 2), ('regret', 2), ('funny', 2), ('suffer', 2), ('there?', 2), ('malfunctioning', 2), ('catch', 2), ('fault!', 2), ('please', 2), ('wake', 2), ('shoot!', 2), ('binary', 2), ('load', 2), ('second', 2), ('language', 2), ('bocce', 2), ('shutting', 2), ('comes', 2), ('this!', 2), ('stick', 2), ('neck', 2), ('barely', 2), ('anyways', 2), ('see-threepio', 2), ('counterpart', 2), ('telling', 2), ('interesting', 2), ('asked', 2), ('merely', 2), ('malfunction', 2), ('person', 2), ('property', 2), ('restraining', 2), ('circuited', 2), ('slight', 2), ('kept', 2), (\"hadn't\", 2), ('talk', 2), ('fortunate', 2), ('million', 2), ('creatures', 2), ('sense', 2), ('jawas', 2), ('door', 2), ('hate', 2), ('careful', 2), ('fair', 2), ('wookiee', 2), ('seven', 2), ('allow', 2), ('sir?', 2), ('oh!', 2), ('circuits', 2), ('maintenance', 2), ('hurry!', 2), ('my!', 2), ('forgot', 2), ('turned', 2), ('poor', 2), ('moment', 2), ('boring', 2), ('repair', 2), ('in?', 2), ('low', 2), ('upset', 2), ('starships', 2), ('sound', 2), ('join', 2), ('how?', 2), ('whispers)', 2), ('application', 2), ('happen', 2), ('rock', 2), ('boys', 2), ('empire?', 2), ('many', 2), ('jammed', 2), ('kenobi?', 2), ('named', 2), ('lives', 2), ('strange', 2), ('aunt', 2), ('cleaning', 2), ('meant', 2), ('nowhere', 2), ('sight', 2), ('(yelling)', 2), ('somewhere', 2), ('missed', 2), ('probably', 2), ('ahead', 2), ('wrong', 2), ('kenobi!', 2), ('devotion', 2), ('return', 2), ('wars', 2), ('clone', 2), ('alderaan?', 2), ('do!', 2), ('ever', 2), ('sold', 2), ('traced', 2), ('home!', 2), ('owen!', 2), ('speeder', 2), ('buy', 2), ('that!', 2), ('bet', 2), ('myself!', 2), ('sit', 2), ('piece', 2), ('mean', 2), ('remote', 2), ('mean?', 2), ('feeling', 2), ('lucky', 2), ('ideas', 2), ('princess?', 2), ('ago', 2), ('kill', 2), ('rich', 2), ('door!', 2), ('prisoner', 2), ('see-threepio!', 2), ('already', 2), ('alive', 2), ('past', 2), ('moving!', 2), ('turn', 2), ('blasted', 2), ('impossible', 2), ('bigger', 2), ('meters', 2), ('(getting', 2), ('han!', 2), ('biggs!', 2), ('someday', 2), ('life!', 2), ('canyon', 2), ('increase', 2), ('fighters!', 2), ('broken', 2), ('again!', 2), ('final', 2), ('check-out', 2), ('set?', 2), ('directly', 2), ('spies', 2), ('inform', 2), ('retrieve', 2), ('stop', 2), ('terror', 2), ('yet', 2), ('droids?', 2), ('checked', 2), ('alone', 2), ('go!', 2), ('strong', 2), ('intercepted', 2), ('aaah', 2), ('check', 2), ('pleasure', 2), ('way?', 2), ('men', 2), (\"ship's\", 2), ('yours', 2), ('report', 2), ('over!', 2), ('regular', 2), ('reports', 2), ('drill', 2), ('wormie', 2), ('hot', 2), ('certainly', 2), ('expect', 2), ('working', 2), ('good-bye', 2), ('bushpilot', 2), ('central', 2), ('mouth', 2), ('meteor', 2), ('chance', 2), ('important', 2), ('outer', 2), ('territories', 2), ('shooting', 2), ('stopped!', 2), ('memory', 2), ('safely', 2), ('delivered', 2), ('desperate', 2), ('expected', 2), ('possibly', 2), ('save', 2), ('chute', 2), ('wise', 2), ('guy', 2), ('killed', 2), ('worse', 2), ('grab', 2), ('thing?', 2), ('quick', 2), ('come!', 2), ('hard', 2), ('explanation', 2), ('ease', 2), ('analyzed', 2), ('yet!', 2), ('surely', 2), ('path', 2), ('word', 2), ('tells', 2), ('during', 2), ('dinner!', 2), (\"luke's\", 2), ('farmer', 2), ('started', 2), ('today', 2), ('early', 2), ('yeah?', 2), (\"what're\", 2), ('us?', 2), ('tomorrow', 2), ('south', 2), ('hell', 2), ('son', 2), ('thats', 2), ('numbers', 2), ('knight', 2), ('feared', 2), ('weapon', 2), ('civilized', 2), ('knights', 2), ('republic', 2), ('evil', 2), ('helped', 2), ('extinct', 2), ('energy', 2), ('figure', 2), ('powerful', 2), ('worth', 2), ('passengers', 2), ('avoid', 2), ('plus', 2), ('ninety-four', 2), ('suddenly', 2), ('eyes', 2), ('luck', 2), (\"it'd\", 2), ('size', 2), ('destiny', 2), ('continue', 2), ('rebels', 2), ('obtained', 2), ('ancient', 2), ('religion', 2), ('direct', 2), ('release', 2), ('provide', 2), ('demonstrate', 2), ('terminate', 2), ('prefer', 2), ('target?', 2), ('ship?', 2), ('taking', 2), ('twelve', 2), ('millennium', 2), ('fly', 2), ('seventeen', 2), ('guys', 2), ('boss', 2), ('boarded', 2), ('angle', 2), ('calculations', 2), ('sharp!', 2), ('lose', 2), (\"'em\", 2), ('anyway', 2), ('match', 2), ('stuff', 2), ('smuggling', 2), ('straight', 2), ('blasters', 2), ('out!', 2), ('leak', 2), ('chewie!', 2), ('(sarcastically)', 2), ('wonderful', 2), ('top', 2), ('ship)', 2), ('commission', 2), ('mike)', 2), ('hey!', 2), (\"jabba's\", 2), ('price', 2), ('disappoint', 2), ('shipment', 2), ('twenty', 2), ('scout', 2), ('reached', 2), ('estimate', 2), ('deserted', 2), ('conducting', 2), ('extensive', 2), ('search', 2), ('surrounding', 2), ('outboard', 2), ('shields!', 2), ('double', 2), ('post?', 2), ('transmitter', 2), ('troops)', 2), ('guard', 2), ('count', 2), ('evading', 2), ('turbo-lasers!', 2), ('leaders', 2), ('signals', 2), ('nine', 2), ('sending', 2), ('operating', 2), ('number?', 2), ('emergency', 2), ('loudspeaker)', 2), ('trooper', 2), ('switched', 2), ('shielded', 2), ('one-man', 2), ('defense', 2), ('port', 2), ('chain', 2), ('reaction', 2), ('locked', 2), ('switch', 2), ('heavy', 2), ('scope', 2), ('tower', 2), ('five?', 2), ('deflectors', 2), ('madness!', 1), ('doomed!', 1), ('half-sized', 1), ('thermocapsulary', 1), ('dehousing', 1), ('assister', 1), ('last!', 1), ('been?', 1), ('do?', 1), ('smashed', 1), ('what!', 1), ('permitted', 1), ('deactivated', 1), ('mindless', 1), ('philosopher', 1), ('overweight', 1), ('glob', 1), ('grease!', 1), ('sees', 1), ('damage', 1), ('safe?', 1), ('mess?', 1), ('fall', 1), ('joints', 1), ('frozen', 1), ('desolate', 1), ('rocky', 1), ('easier', 1), ('settlements', 1), ('way!', 1), ('within', 1), ('nearsighted', 1), ('scrap', 1), ('pile!', 1), ('following', 1), ('begging', 1), ('adventures', 1), ('twerp', 1), ('tricked', 1), ('transport!', 1), ('saved!', 1), ('artoo-detoo!', 1), ('doomed', 1), ('melt', 1), ('down?', 1), ('end?', 1), ('(quickly)', 1), ('environment', 1), ('programmed', 1), ('secondary', 1), ('functions', 1), ('vaporators!', 1), ('job', 1), ('programming', 1), ('lifter', 1), ('similar', 1), ('fluent', 1), ('excuse', 1), ('prime', 1), ('bargain', 1), ('pleased', 1), ('first-class', 1), ('worked', 1), ('capacity!', 1), ('maker!', 1), ('oil', 1), ('bath', 1), ('case', 1), ('dust', 1), ('contamination', 1), ('move!', 1), ('help?', 1), ('knowledgeable', 1), ('human-cyborg', 1), ('relations', 1), ('amazed', 1), ('meaning', 1), ('actually', 1), ('interpreter', 1), ('making', 1), ('what?!?', 1), ('question', 1), ('passenger', 1), ('voyage', 1), ('importance', 1), ('attached', 1), ('behave', 1), ('resident', 1), ('parts', 1), ('private', 1), ('frankly', 1), ('antilles', 1), ('eccentric', 1), ('beg', 1), ('suggests', 1), ('remove', 1), ('message?', 1), ('carrying', 1), ('inside', 1), ('rusty', 1), ('innards!', 1), ('appears', 1), ('flutter', 1), ('reconsider', 1), ('playing', 1), ('likes', 1), ('faulty', 1), ('malfunctioning;', 1), ('babbling', 1), ('problem', 1), ('astro-droids', 1), ('excels', 1), ('deactivate!', 1), ('removed', 1), ('rightful', 1), ('owner', 1), ('jibberish', 1), ('pieces', 1), ('saying', 1), ('fugitive', 1), ('workshop', 1), ('southeast', 1), ('i?', 1), ('risking', 1), ('account', 1), ('needing', 1), ('awhile', 1), ('abide', 1), ('disgusting', 1), ('heartily', 1), ('agree', 1), ('rather', 1), ('language!', 1), ('forgotten', 1), ('travel', 1), ('screaming', 1), ('nobody', 1), ('worries', 1), ('upsetting', 1), ('strategy', 1), ('outlet', 1), ('appear', 1), ('monitor', 1), ('coupled', 1), ('locations', 1), ('loss', 1), ('terminals', 1), ('\"i', 1), ('her\"', 1), ('keeps', 1), ('repeating', 1), ('\"she\\'s', 1), ('here\"', 1), ('scheduled', 1), ('terminated', 1), ('sir!', 1), ('ah', 1), ('discovered', 1), ('reassuring', 1), ('alerted', 1), ('entrance', 1), ('out;', 1), ('madmen!', 1), ('prison', 1), ('excitement', 1), ('overrun', 1), ('goodness', 1), ('comlink?', 1), ('problems', 1), ('dying', 1), ('curse', 1), ('metal', 1), ('body!', 1), ('master!', 1), ('(voice)', 1), ('hangar', 1), ('going!', 1), ('oooh!', 1), ('melting!', 1), ('tightartoo', 1), ('something!', 1), ('mechanic)', 1), ('gears', 1), ('gladly', 1), ('donate', 1), ('for?!', 1), ('gear!', 1), ('shape', 1), ('guys!', 1), ('biggs?', 1), ('muchbut', 1), ('soon?', 1), ('commission?', 1), ('are!', 1), ('earlier', 1), ('(very', 1), ('animated)', 1), ('afterburners', 1), (\"deak's\", 1), ('trail', 1), ('instruments', 1), ('busted', 1), ('skyhopper', 1), ('grounded', 1), ('fantastic', 1), ('giant', 1), ('soft', 1), ('city', 1), ('rebellion?!', 1), ('kidding!', 1), ('crazy!', 1), ('wander', 1), ('stuck', 1), ('likely!', 1), ('cancel', 1), ('unrest', 1), ('among', 1), ('raided', 1), ('outskirts', 1), ('bother', 1), ('long?', 1), ('drafted', 1), ('remind', 1), ('toshi', 1), ('converters', 1), ('motivator', 1), ('unless', 1), ('alter', 1), ('teleport', 1), ('rock!', 1), ('bright', 1), ('center', 1), ('farthest', 1), ('carbon', 1), ('scoring', 1), ('action', 1), ('battles?', 1), ('she?', 1), ('beautiful', 1), ('recording?', 1), ('obi-', 1), ('wan', 1), ('dune', 1), ('sea', 1), ('hermit', 1), ('sounds', 1), (\"h'm?\", 1), (\"where'd\", 1), ('go?', 1), ('beru', 1), ('bought', 1), ('stumbled', 1), ('called', 1), ('related', 1), ('father?', 1), ('thinking', 1), ('agreement', 1), ('staying', 1), ('transmit', 1), (\"there're\", 1), (\"'nother\", 1), ('tank', 1), ('finish', 1), ('hiding', 1), ('stupid?', 1), ('cause', 1), (\"how's\", 1), ('(brightening)', 1), ('scanner', 1), ('accelerator', 1), ('whoa', 1), ('blows', 1), ('now?', 1), ('sandpeople!', 1), ('worst!', 1), ('banthas', 1), ('ben?', 1), ('glad', 1), ('droid!', 1), ('searching', 1), ('former', 1), ('stopping', 1), ('claims', 1), ('relative', 1), ('yours?', 1), ('does', 1), ('belong', 1), ('stand?', 1), ('navigator', 1), ('fought', 1), ('wars?', 1), ('die?', 1), ('force?', 1), ('saw', 1), ('involved!', 1), ('(sighing)', 1), ('god', 1), ('explain', 1), ('transport', 1), ('wherever', 1), ('gaffi', 1), ('sticks', 1), ('bantha', 1), ('hitting', 1), ('slaughter', 1), ('jawas?', 1), ('robots', 1), ('learned', 1), ('lead', 1), ('beru!', 1), ('four', 1), ('seasons', 1), ('troopers', 1), ('thousand?', 1), ('xp-38', 1), ('demand', 1), ('junk', 1), ('them?', 1), ('kidding?', 1), ('rate', 1), ('gaining', 1), ('flashing?', 1), ('actions?', 1), ('supposed', 1), ('fight?', 1), ('followed', 1), ('identify', 1), ('convoy', 1), ('headed', 1), ('moon', 1), ('moving', 1), ('towards', 1), ('gotta', 1), ('compartments', 1), ('between', 1), ('howling', 1), ('blasting', 1), ('found?', 1), ('block?', 1), ('execute', 1), ('her!', 1), ('powerful!', 1), ('wealth', 1), ('binders', 1), ('helmet', 1), ('before?', 1), ('transfer', 1), ('one-one-', 1), ('three-eight', 1), ('uniform', 1), ('skywalker', 1), ('bay?', 1), ('copy!', 1), ('tried', 1), ('magnetically', 1), ('sealed!', 1), ('moves', 1), ('leg!', 1), (\"gun's\", 1), ('anywhere!', 1), ('oh!!', 1), ('disappeared', 1), ('walls', 1), ('minute!', 1), ('right!', 1), ('pressure', 1), ('hatch', 1), ('number', 1), ('we?', 1), ('himself', 1), ('killed?', 1), ('(gasping)', 1), ('took', 1), ('oughta', 1), ('fast!', 1), ('care!', 1), ('han?', 1), ('(under', 1), ('breath)', 1), ('used', 1), (\"bull's-\", 1), ('eye', 1), ('womp', 1), ('rats', 1), ('t-sixteen', 1), ('then?', 1), ('angry)', 1), ('around?', 1), ('turning', 1), ('artoo?', 1), ('five;', 1), ('cooked', 1), (\"scope's\", 1), ('thanks', 1), ('oh-five;', 1), ('throttle', 1), (\"beggar's\", 1), ('throttle!', 1), ('tower!', 1), (\"stabilizer's\", 1), ('loose', 1), ('power!', 1), ('intercepted?', 1), ('ambassador?', 1), ('tear', 1), ('ambassador', 1), ('alive!', 1), ('games', 1), (\"weren't\", 1), ('mercy', 1), ('passed', 1), ('beamed', 1), ('traitor', 1), ('link', 1), ('base!', 1), ('distress', 1), ('killed!', 1), ('detachment', 1), ('personally', 1), ('refer', 1), ('proud', 1), ('technological', 1), ('constructed', 1), ('ability', 1), ('insignificant', 1), ('lack', 1), ('faith', 1), ('disturbing', 1), ('discuss', 1), ('resistance', 1), ('probe', 1), ('considerable', 1), ('extract', 1), ('consciously', 1), ('betray', 1), ('tremor', 1), ('underestimate', 1), ('face', 1), ('meet', 1), ('circle', 1), ('learner;', 1), ('powers', 1), ('weak', 1), ('remembered', 1), ('crews', 1), ('formation!', 1), ('formation', 1), ('leader!', 1), ('one!', 1), ('is!', 1), ('stun!', 1), ('street', 1), ('weapons!', 1), (\"'em!\", 1), ('scanners', 1), ('immediately', 1), ('short-', 1), ('kids', 1), ('slow', 1), ('noise', 1), ('doubt', 1), ('hunk', 1), ('rampage', 1), ('surprise', 1), ('laughs)', 1), ('signed', 1), ('rand', 1), ('ecliptic', 1), ('week', 1), ('mate', 1), ('darklighter', 1), ('salutes)', 1), ('unfortunate', 1), ('landlocked', 1), ('simpletons', 1), ('sitting', 1), ('freighter-tanker', 1), ('refueling', 1), ('hottest', 1), ('skyhoppers', 1), ('whammo', 1), ('spot', 1), ('wall', 1), (\"shouldn't\", 1), ('frigate', 1), ('ya!', 1), ('crater!', 1), ('bestine', 1), ('contact', 1), ('talked', 1), ('draft', 1), ('spreading', 1), ('term', 1), ('colony', 1), (\"uncle's\", 1), ('nationalize', 1), ('commerce', 1), ('tenant', 1), ('slaving', 1), ('glory', 1), ('lookout', 1), (\"how'd\", 1), ('us?!', 1), ('rim', 1), ('(going', 1), ('off)', 1), ('couple', 1), ('stars', 1), ('he?!', 1), ('tight', 1), ('wedge!', 1), ('time?', 1), ('faster', 1), ('bold', 1), ('attacked', 1), ('member', 1), ('general', 1), ('years', 1), ('served', 1), ('begs', 1), ('struggle', 1), ('unable', 1), ('present', 1), ('request', 1), ('fallen', 1), ('failed', 1), ('placed', 1), ('vital', 1), ('survival', 1), ('hour', 1), (\"vader's\", 1), ('leash', 1), ('recognized', 1), ('foul', 1), ('stench', 1), ('brought', 1), ('surprised', 1), ('responsibility', 1), ('tighten', 1), ('grip', 1), ('slip', 1), ('fingers', 1), ('peaceful', 1), ('(softly)', 1), ('(finally)', 1), ('stormtrooper?', 1), ('who?', 1), ('he?', 1), ('managed', 1), ('route', 1), ('out?', 1), ('skins', 1), ('brace', 1), ('trying!', 1), ('hear!', 1), ('okay?', 1), ('walking', 1), ('carpet', 1), ('braver', 1), ('lock!', 1), ('extends', 1), ('bridge', 1), ('through!', 1), ('luck!', 1), ('ran', 1), ('late!', 1), ('lateral', 1), ('tracking', 1), ('least', 1), ('intact', 1), ('readouts', 1), (\"needn't\", 1), ('love', 1), ('receive!', 1), ('mercenary', 1), ('cares', 1), ('sorrows', 1), ('tracked', 1), ('pointedly', 1), ('han)', 1), ('choose', 1), ('generate', 1), ('sympathy', 1), ('die', 1), ('translator', 1), ('speaks', 1), ('protocol', 1), ('understands', 1), ('moisture', 1), ('speak', 1), ('bocce?', 1), ('(turning', 1), ('garage', 1), ('both', 1), ('cleaned', 1), ('dinner', 1), ('waste', 1), ('chores', 1), ('push', 1), ('blue', 1), (\"man's\", 1), ('crazy', 1), ('wizard', 1), ('flushed', 1), ('exists', 1), ('died', 1), ('prepare', 1), ('ridge', 1), ('condensers', 1), ('semester', 1), ('harvest?', 1), ('hire', 1), ('promise', 1), ('night', 1), ('loafing', 1), ('now!', 1), ('morning?', 1), ('uh?', 1), ('units', 1), ('repaired', 1), ('midday', 1), ('pay!', 1), ('busy', 1), ('jundland', 1), ('wastes', 1), ('traveled', 1), ('lightly', 1), ('brings', 1), ('far?', 1), ('obi-wan?', 1), ('born', 1), ('owning', 1), ('indoors', 1), ('easily', 1), ('startled', 1), ('quickly', 1), ('ideals', 1), ('stayed', 1), ('involved', 1), ('star-pilot', 1), ('cunning', 1), ('warrior', 1), ('reminds', 1), ('damned-fool', 1), ('idealistic', 1), ('crusade', 1), ('fathers', 1), ('lightsaber', 1), ('clumsy', 1), ('random', 1), ('elegant', 1), ('generations', 1), ('guardians', 1), ('peace', 1), ('justice', 1), ('pupil', 1), ('hunt', 1), ('betrayed', 1), ('murdered', 1), ('seduced', 1), ('gives', 1), ('created', 1), ('living', 1), ('surrounds', 1), ('penetrates', 1), ('binds', 1), ('sort', 1), ('ride', 1), ('single', 1), ('file', 1), ('hide', 1), ('points', 1), ('accurate', 1), ('stormtroopers', 1), ('spaceport', 1), ('wretched', 1), ('hive', 1), ('scum', 1), ('villainy', 1), ('cautious', 1), ('sale', 1), ('influence', 1), ('weak-minded', 1), ('ally', 1), ('pilots', 1), ('rough', 1), ('effort', 1), ('chewbacca', 1), ('first-mate', 1), ('suit', 1), ('indeed', 1), ('have?', 1), ('questions', 1), (\"we'd\", 1), ('entanglements', 1), ('reach', 1), ('sell', 1), ('boasting', 1), ('speed?', 1), ('disturbance', 1), ('millions', 1), ('voices', 1), ('cried', 1), ('silenced', 1), ('terrible', 1), ('exercises', 1), ('flowing', 1), ('partially', 1), ('obeys', 1), ('commands', 1), ('conscious', 1), ('self', 1), ('act', 1), ('instinct', 1), ('deceive', 1), ('stretch', 1), ('feelings', 1), ('experience', 1), ('larger', 1), ('world', 1), ('empire!', 1), ('deep', 1), ('moon!', 1), ('alternatives', 1), ('foolish', 1), ('follows', 1), ('plug', 1), ('interpret', 1), ('network', 1), ('patient', 1), ('fate', 1), ('lies', 1), ('different', 1), ('always!', 1), ('strike', 1), ('fully', 1), ('vulnerable', 1), ('equipped', 1), ('realize', 1), ('gain', 1), ('support', 1), ('impossible!', 1), ('maintain', 1), ('bureaucracy?', 1), ('rebellion?', 1), ('readout', 1), ('possible', 1), ('however', 1), ('unlikely', 1), ('exploit', 1), ('station!', 1), ('useless', 1), ('gesture', 1), ('ultimate', 1), ('frighten', 1), (\"sorcerer's\", 1), ('sad', 1), ('conjure', 1), ('tapes', 1), ('given', 1), ('clairvoyance', 1), (\"rebel's\", 1), ('fort', 1), ('entered', 1), ('longer', 1), ('received', 1), ('dissolved', 1), ('council', 1), ('permanently', 1), ('remnants', 1), ('swept', 1), ('regional', 1), ('governors', 1), ('line', 1), ('bickering', 1), ('pointless', 1), ('fortress', 1), ('crush', 1), ('swift', 1), ('stroke', 1), ('perhaps', 1), ('respond', 1), ('alternative', 1), ('form', 1), ('persuasion', 1), ('soldier)', 1), (\"leia's\", 1), ('charming', 1), ('signing', 1), ('order', 1), ('execution', 1), ('guest', 1), ('ceremony', 1), ('dare', 1), ('oppose', 1), ('determined', 1), ('reluctant', 1), ('chosen', 1), ('test', 1), (\"station's\", 1), ('destructive', 1), ('military', 1), ('system!', 1), ('grow', 1), ('tired', 1), ('base?', 1), ('reasonable', 1), ('(addressing', 1), ('motti)', 1), ('operation', 1), ('trusting', 1), ('effective', 1), ('demonstration', 1), ('deal', 1), ('lied!', 1), ('lied', 1), ('immediately!', 1), ('so?', 1), ('princess!', 1), ('sections', 1), ('alert!', 1), ('allowed', 1), ('away?', 1), ('homing', 1), ('beacon', 1), ('awful', 1), ('risk', 1), ('evacuate?', 1), ('triumph?', 1), ('overestimate', 1), ('chances!', 1), ('serve', 1), ('outside', 1), ('blasters!', 1), ('blaster!', 1), ('negola', 1), ('dewaghi', 1), ('wooldugger?!?', 1), ('insult', 1), ('sentence', 1), ('solo', 1), ('falcon', 1), ('passage', 1), ('falcon?', 1), ('less', 1), ('parsecs!', 1), ('bulk-cruisers', 1), ('corellian', 1), ('cargo?', 1), ('trouble?', 1), ('trick', 1), ('cost', 1), ('advance', 1), ('huh!', 1), ('docking', 1), ('bay', 1), (\"somebody's\", 1), ('interest', 1), ('handiwork', 1), ('thousand!', 1), ('choice?', 1), ('body', 1), ('mess', 1), ('type', 1), ('twerps', 1), ('charter', 1), ('counts', 1), ('added', 1), ('special', 1), ('modifications', 1), ('rushed', 1), ('hotter', 1), ('in;', 1), ('floating', 1), ('safe', 1), ('maneuvers', 1), (\"here's\", 1), ('fun', 1), ('begins!', 1), ('moments', 1), ('coordinates', 1), ('navi-computer', 1), ('traveling', 1), ('dusting', 1), ('crops', 1), ('boy!', 1), ('bounce', 1), ('supernova', 1), (\"that'd\", 1), ('losing', 1), ('strap', 1), ('troubles', 1), ('slugs', 1), ('everyone', 1), ('oh-two-hundred', 1), ('hours', 1), ('(interrupting)', 1), (\"'cause\", 1), (\"people's\", 1), ('arms', 1), ('socket', 1), ('wookiees', 1), ('hokey', 1), ('religions', 1), ('flown', 1), ('all-powerful', 1), ('controlling', 1), ('mystical', 1), ('simple', 1), ('tricks', 1), ('nonsense', 1), ('remotes', 1), ('living?', 1), ('else', 1), ('sublight', 1), ('engines', 1), ('the?', 1), ('aw', 1), ('shower', 1), ('asteroid', 1), ('collision', 1), ('charts', 1), ('correct', 1), ('except', 1), ('alderaan!', 1), ('totally', 1), ('blown', 1), ('bases', 1), ('from?', 1), ('chewiejam', 1), ('reverse!', 1), ('auxiliary', 1), ('caught', 1), ('beam!', 1), ('pulling', 1), (\"nothin'\", 1), ('fight!', 1), ('ridiculous', 1), ('damn', 1), ('sneaking', 1), ('whatever', 1), ('bargained', 1), ('dig', 1), ('fossil?', 1), ('hanging', 1), ('wants', 1), ('anywhere', 1), ('marching', 1), ('rich?', 1), ('bit!', 1), ('better!', 1), ('plan?', 1), ('before!', 1), ('loose!', 1), ('twenty-one-eight-seven', 1), ('(sounding', 1), ('official)', 1), ('situation', 1), ('normal', 1), ('nervous)', 1), (\"everything's\", 1), ('perfectly', 1), ('conversation', 1), ('(yelling', 1), ('hall)', 1), ('company!', 1), ('forever!', 1), ('brains', 1), ('sweetheart', 1), ('doing?', 1), ('furry', 1), ('oaf!', 1), ('smell!', 1), ('girl!', 1), ('incredible', 1), ('smell', 1), ('discovered!', 1), ('absolutely', 1), ('worship', 1), ('led', 1), ('imagination', 1), ('where?', 1), ('top!', 1), (\"thing's\", 1), ('thinner!', 1), ('three-two-six-eight-two-seven', 1), ('female', 1), ('advice', 1), ('coward!', 1), ('worshipfulness', 1), ('straight!', 1), ('orders', 1), ('person!', 1), ('nice!', 1), ('party?', 1), (\"now's\", 1), ('chance!', 1), ('sentry', 1), ('shields', 1), ('charge', 1), ('guns!', 1), ('buddy', 1), ('kid?', 1), ('baby?', 1), ('together!', 1), ('cocky', 1), ('rescuing', 1), ('huh?', 1), ('amaze', 1), ('easy?', 1), ('sister', 1), ('important?', 1), ('carrying?', 1), ('sister!', 1), ('revolution', 1), ('money!', 1), ('spirit', 1), ('think?', 1), ('yeah!', 1), ('debts', 1), (\"good's\", 1), ('attacking', 1), ('suicide', 1), (\"lookin'\", 1), ('at?', 1), ('yahoo!', 1), ('blow', 1), ('credit', 1), ('solo?', 1), ('bounty', 1), ('hunter', 1), ('smugglers', 1), ('drop', 1), ('shipments', 1), ('forward', 1), ('killing', 1), ('solo!', 1), ('(fatherly-smooth)', 1), ('(mock', 1), ('surprise)', 1), ('smuggler', 1), ('valuable', 1), ('relaying', 1), ('delays', 1), ('dump', 1), ('exception', 1), ('smuggled', 1), ('dumped', 1), ('starship?', 1), ('men)', 1), ('percent', 1), ('near', 1), ('stations!', 1), ('vader)', 1), ('according', 1), ('log', 1), ('abandoned', 1), ('takeoff', 1), ('decoy', 1), ('pods', 1), ('checked!', 1), ('notified', 1), ('canceled', 1), ('danger', 1), ('by?', 1), ('entering', 1), ('markings', 1), ('unlock', 1), ('one-five-seven', 1), ('charges', 1), ('(holding', 1), ('safe!', 1), ('worst', 1), ('heavily', 1), ('carries', 1), ('firepower', 1), ('fleet', 1), ('defenses', 1), ('designed', 1), ('large-', 1), ('scale', 1), ('assault', 1), ('penetrate', 1), ('consider', 1), ('threat', 1), (\"they'd\", 1), ('tighter', 1), ('analysis', 1), ('provided', 1), ('demonstrated', 1), ('approach', 1), ('required', 1), ('maneuver', 1), ('trench', 1), ('skim', 1), ('wide', 1), ('thermal', 1), ('below', 1), ('leads', 1), ('ray-', 1), ('proton', 1), ('torpedoes', 1), ('ships!', 1), ('snub', 1), ('post', 1), ('marked', 1), ('front', 1), ('screens', 1), ('switching', 1), ('marks', 1), ('maneuver!', 1), ('loosen', 1), ('thing!', 1), ('war', 1), ('room', 1), ('speaker', 1), ('system)', 1), ('boss!', 1), ('twenty-degrees', 1), (\"fighter's\", 1), ('flying', 1), ('toward', 1), ('shows', 1), ('port!', 1), ('tower?', 1), ('sorry!', 1), ('skywalker?', 1), ('incom', 1), ('t-sixty-', 1), ('met', 1), ('skill', 1), ('wings', 1), ('s-foils', 1), ('tight!', 1), ('front!', 1), ('chatter', 1), ('accelerate', 1), ('boys!', 1), ('axis', 1), ('draw', 1), ('deflection', 1), ('visual', 1), ('jamming', 1), ('rendezvous', 1), ('mark', 1), (\"target's\", 1), ('negative!', 1), ('impacted', 1), ('starboard', 1), ('engine', 1), ('beat', 1), ('goes!', 1), ('zone', 1), ('interference!', 1), (\"biggs'\", 1), ('eleven', 1), ('passing', 1), ('magnetic', 1), ('towers', 1), ('stabilize', 1), ('read', 1), ('target!', 1), ('tiree', 1), ('dutch', 1)]\n"
     ]
    }
   ],
   "source": [
    "import operator\n",
    "# Tokenize the Book\n",
    "textlll = tokenize()\n",
    "\n",
    "\n",
    "# Create a Hash Map (Dictionary)\n",
    "map = map_book(textlll)\n",
    "\n",
    "smap = sorted(map.items(), key=operator.itemgetter(1), reverse=True)\n",
    "\n",
    "print(smap)"
   ]
  },
  {
   "cell_type": "code",
   "execution_count": 12,
   "metadata": {},
   "outputs": [
    {
     "data": {
      "text/plain": [
       "12158"
      ]
     },
     "execution_count": 12,
     "metadata": {},
     "output_type": "execute_result"
    }
   ],
   "source": [
    "#token count\n",
    "len(textlll)\n",
    "len(textlll)\n"
   ]
  },
  {
   "cell_type": "code",
   "execution_count": 13,
   "metadata": {},
   "outputs": [
    {
     "name": "stdout",
     "output_type": "stream",
     "text": [
      "Word: [the] Frequency: 433\n",
      "Word: [you] Frequency: 363\n",
      "Word: [too] Frequency: 23\n"
     ]
    }
   ],
   "source": [
    "word_list = ['the','you','too']\n",
    "# Show Word Information\n",
    "for word in word_list:\n",
    "    print('Word: [' + word + '] Frequency: ' + str(map[word]))\n",
    "\n",
    "#print(tokens)"
   ]
  },
  {
   "cell_type": "code",
   "execution_count": 14,
   "metadata": {},
   "outputs": [
    {
     "name": "stdout",
     "output_type": "stream",
     "text": [
      "the \t 433\n",
      "you \t 311\n",
      "to \t 306\n",
      "i \t 286\n",
      "a \t 234\n",
      "of \t 161\n",
      "in \t 128\n",
      "your \t 124\n",
      "this \t 117\n",
      "be \t 116\n",
      "is \t 107\n",
      "and \t 94\n",
      "what \t 87\n",
      "it \t 85\n",
      "have \t 84\n",
      "he \t 84\n",
      "for \t 81\n",
      "on \t 77\n",
      "are \t 76\n",
      "don't \t 74\n",
      "i'm \t 74\n",
      "that \t 74\n",
      "all \t 72\n",
      "it's \t 70\n",
      "not \t 68\n",
      "with \t 68\n",
      "we \t 66\n",
      "my \t 66\n",
      "(over \t 65\n",
      "going \t 63\n",
      "get \t 61\n",
      "can \t 57\n",
      "if \t 56\n",
      "but \t 55\n",
      "will \t 51\n",
      "do \t 48\n",
      "come \t 46\n",
      "you're \t 44\n",
      "was \t 42\n",
      "out \t 40\n",
      "got \t 40\n",
      "just \t 39\n",
      "see \t 39\n",
      "me \t 37\n",
      "we're \t 36\n",
      "about \t 36\n",
      "no \t 35\n",
      "where \t 34\n",
      "you. \t 34\n",
      "think \t 34\n",
      "there \t 34\n",
      "take \t 34\n",
      "they \t 34\n",
      "at \t 32\n",
      "like \t 32\n",
      "speaker) \t 32\n",
      "has \t 31\n",
      "only \t 30\n",
      "can't \t 30\n",
      "know \t 29\n",
      "well, \t 29\n",
      "been \t 29\n",
      "here \t 29\n",
      "one \t 29\n",
      "red \t 29\n",
      "i've \t 28\n",
      "more \t 28\n",
      "luke, \t 28\n",
      "as \t 27\n",
      "our \t 27\n",
      "['the', 'you', 'to', 'i', 'a', 'of', 'in', 'your', 'this', 'be', 'is', 'and', 'what', 'it', 'have', 'he', 'for', 'on', 'are', \"don't\", \"i'm\", 'that', 'all', \"it's\", 'not', 'with', 'we', 'my', '(over', 'going', 'get', 'can', 'if', 'but', 'will', 'do', 'come', \"you're\", 'was', 'out', 'got', 'just', 'see', 'me', \"we're\", 'about', 'no', 'where', 'you.', 'think', 'there', 'take', 'they', 'at', 'like', 'speaker)', 'has', 'only', \"can't\", 'know', 'well,', 'been', 'here', 'one', 'red', \"i've\", 'more', 'luke,', 'as', 'our']\n"
     ]
    },
    {
     "data": {
      "text/plain": [
       "list"
      ]
     },
     "execution_count": 14,
     "metadata": {},
     "output_type": "execute_result"
    }
   ],
   "source": [
    "#Term Frequency Analysis\n",
    "\n",
    "stoplistx = []\n",
    "import nltk\n",
    "from nltk.probability import FreqDist\n",
    "ndist = FreqDist(textlll)\n",
    "nitems = ndist.most_common(70)\n",
    "for item in nitems:\n",
    "    print (item[0], '\\t', item[1])\n",
    "    stoplistx.append(item[0])\n",
    "print(stoplistx)\n",
    "type(stoplistx)"
   ]
  },
  {
   "cell_type": "code",
   "execution_count": 15,
   "metadata": {},
   "outputs": [
    {
     "name": "stdout",
     "output_type": "stream",
     "text": [
      "{'is': 0.1875, 'will': 0.4375, 'flowing': 0.0625, 'be': 0.125, 'if': 0.0625, 'and': 0.0625, 'can': 0.0625}\n",
      "[]\n",
      "{'Luke.': 0.8, 'do': 0.2}\n",
      "{'Obi-Wan': 0.25, 'I': 0.25, 'Well,': 0.25, 'The': 0.25}\n"
     ]
    }
   ],
   "source": [
    "#Conditional Probabilities\n",
    "\n",
    "\n",
    "from collections import defaultdict\n",
    "\n",
    "def build_conditional_probabilities(corpus):\n",
    "\t\"\"\"\n",
    "\tThe function takes as its input a corpus string (words separated by \n",
    "\tspaces) and returns a 2D dictionnary of probabilities P(next|current) of\n",
    "\tseeing a word \"next\" conditionnaly to seeing a word \"current\". \n",
    "\t\"\"\"\n",
    "\n",
    "\t# First we parse the string to build a double dimension dictionnary that\n",
    "\t# returns the conditional probabilities.\n",
    "\n",
    "\t# We parse the string to build a first dictionnary indicating for each\n",
    "\t# word, what are the words that follow it in the string. Repeated next\n",
    "\t# words are kept so we use a list and not a set. \n",
    "\n",
    "\ttokenized_string = corpus.split()\n",
    "\tprevious_word = \"\"\n",
    "\tdictionnary = defaultdict(list)\n",
    "\n",
    "\tfor current_word in tokenized_string:\n",
    "\t\tif previous_word != \"\":\n",
    "\t\t\tdictionnary[previous_word].append(current_word)\n",
    "\t\tprevious_word = current_word\n",
    "\t\t\n",
    "\t# We know parse dictionnary to compute the probability each observed\n",
    "\t# next word for each word in the dictionnary. \n",
    "\n",
    "\tfor key in dictionnary.keys():\n",
    "\t\tnext_words = dictionnary[key]\n",
    "\t\tunique_words = set(next_words) # removes duplicated\n",
    "\t\tnb_words = len(next_words)\n",
    "\t\tprobabilities_given_key = {}\n",
    "\t\tfor unique_word in unique_words:\n",
    "\t\t\tprobabilities_given_key[unique_word] = \\\n",
    "\t\t\t\tfloat(next_words.count(unique_word)) / nb_words\n",
    "\t\tdictionnary[key] = probabilities_given_key\n",
    "\n",
    "\treturn dictionnary\n",
    "\n",
    "\n",
    "def bigram_next_word_predictor(conditional_probabilities, current, next_candidate):\n",
    "\t\"\"\"\n",
    "\tThe function takes as its input a 2D dictionnary of probabilities \n",
    "\tP(next|current) of seeing a word \"next\" conditionnaly to seeing a word \n",
    "\t\"current\", the current word being read, and a next candidate word, and\n",
    "\treturns P(next_candidate|current).\n",
    "\t\"\"\"\n",
    "\n",
    "\t# We look for the probability corresponding to the \n",
    "\t# current -> next_candidate pair\n",
    "\n",
    "\tif current in conditional_probabilities:\n",
    "\t\tif next_candidate in conditional_probabilities[current]:\n",
    "\t\t\treturn conditional_probabilities[current][next_candidate]\n",
    "\n",
    "\t#If current -> next_candidate pair has not been observed in the corpus,\n",
    "\t#the corresponding dictionnary keys will not be defined. We return \n",
    "\t#a probability 0.0\n",
    "\n",
    "\treturn 0.0\n",
    "\n",
    "# An example corpus to try out the function\n",
    "# We call the conditional probability dictionnary builder function\n",
    "conditional_probabilities = build_conditional_probabilities(textll)\n",
    "#type(conditional_probabilities)\n",
    "#print(conditional_probabilities)\n",
    "\n",
    "print(conditional_probabilities['Force'])\n",
    "print(conditional_probabilities['Force!'])\n",
    "print(conditional_probabilities['Force,'])\n",
    "print(conditional_probabilities['Force.'])"
   ]
  },
  {
   "cell_type": "code",
   "execution_count": 16,
   "metadata": {},
   "outputs": [
    {
     "name": "stdout",
     "output_type": "stream",
     "text": [
      "0.031746031746031744\n",
      "0.0\n"
     ]
    }
   ],
   "source": [
    "bigramx = bigram_next_word_predictor(conditional_probabilities, \"the\", \"Force\")\n",
    "bigramy = bigram_next_word_predictor(conditional_probabilities, \"the\", \"force\")\n",
    "\n",
    "\n",
    "\n",
    "#print(conditional_probabilities)\n",
    "print(bigramx)\n",
    "print(bigramy)"
   ]
  },
  {
   "cell_type": "code",
   "execution_count": 17,
   "metadata": {},
   "outputs": [],
   "source": [
    "# this function takes a string and a list of words as parameters.\n",
    "#   It will return all the words in the list that contain the string as a substring\n",
    "def searchstring (substring, wordlist):\n",
    "    # initialize the result\n",
    "    result = [ ]\n",
    "    #  loop over all the words\n",
    "    for word in wordlist:\n",
    "        # test each word if it contains the substring\n",
    "        if substring in word:\n",
    "            # add it to the result\n",
    "            result.append(word)\n",
    "    return result\n"
   ]
  },
  {
   "cell_type": "code",
   "execution_count": 18,
   "metadata": {},
   "outputs": [
    {
     "name": "stdout",
     "output_type": "stream",
     "text": [
      "The Force?\n",
      "I want to come with you to Alderaan. There's nothing here for me now. I want to learn the ways of the Force and become a Jedi like my father.\n",
      "You don't believe in the Force, do you?\n",
      "Don't be too proud of this technological terror you've constructed. The ability to destroy a planet is insignificant next to the power of the Force.\n",
      "A tremor in the Force. The last time I felt it was in the presence of my old master.\n",
      "Don't underestimate the power of the Force.\n",
      "Obi-Wan is here. The Force is with him.\n",
      "The Force is strong with this one!\n",
      "A young Jedi named Darth Vader, who was a pupil of mine until he turned to evil, helped the Empire hunt down and destroy the Jedi Knights. He betrayed and murdered your father. Now the Jedi are all but extinct. Vader was seduced by the dark side of the Force.\n",
      "Well, the Force is what gives a Jedi his power. It's an energy field created by all living things. It surrounds us and penetrates us. It binds the galaxy together.\n",
      "You must learn the ways of the Force if you're to come with me to Alderaan.\n",
      "Learn about the Force, Luke.\n",
      "The Force can have a strong influence on the weak-minded. You will find it a powerful ally.\n",
      "I felt a great disturbance in the Force... as if millions of voices suddenly cried out in terror and were suddenly silenced. I fear something terrible has happened.\n",
      "Remember, a Jedi can feel the Force flowing through him.\n",
      "They must be delivered safely or other star systems will suffer the same fate as Alderaan. Your destiny lies along a different path than mine. The Force will be with you... always!\n",
      "Luke, the Force will be with you.\n",
      "Use the Force, Luke.\n",
      "Remember, the Force will be with you... always.\n",
      "Hey, Luke... may the Force be with you!\n",
      "Luke, the Force will be with you.\n",
      "Use the Force, Luke.\n",
      "Remember, the Force will be with you... always.\n",
      "Luke, the Force will be with you.\n",
      "Use the Force, Luke.\n",
      "Remember, the Force will be with you... always.\n",
      "Man your ships! And may the Force be with you!\n"
     ]
    }
   ],
   "source": [
    "result = searchstring('Force', textl)\n",
    "\n",
    "for string in result:\n",
    "    print(string)\n",
    "\n",
    "    #print(result)"
   ]
  },
  {
   "cell_type": "code",
   "execution_count": 19,
   "metadata": {},
   "outputs": [],
   "source": [
    "# function that takes a word and returns true if it consists only\n",
    "#   of non-alphabetic characters\n",
    "\n",
    "def alpha_filter(w):\n",
    "  # pattern to match a word of non-alphabetical characters\n",
    "    pattern = re.compile('^[^a-z]+$')\n",
    "    if (pattern.match(w)):\n",
    "        return True\n",
    "    else:\n",
    "        return False\n"
   ]
  },
  {
   "cell_type": "code",
   "execution_count": 20,
   "metadata": {},
   "outputs": [
    {
     "name": "stdout",
     "output_type": "stream",
     "text": [
      "12151\n",
      "['did', 'you', 'hear', 'that?', \"they've\", 'shut', 'down', 'the', 'main', 'reactor.', \"we'll\", 'be', 'destroyed', 'for', 'sure.', 'this', 'is', 'madness!', \"we're\", 'doomed!', \"there'll\", 'be', 'no', 'escape', 'for', 'the', 'princess', 'this', 'time.', \"what's\", 'that?', 'i', 'should', 'have', 'known', 'better', 'than', 'to', 'trust', 'the', 'logic', 'of', 'a', 'half-sized', 'thermocapsulary', 'dehousing', 'assister...', 'artoo!', 'artoo-detoo,', 'where', 'are', 'you?', 'at', 'last!', 'where', 'have', 'you', 'been?', \"they're\", 'heading', 'in', 'this', 'direction.', 'what', 'are', 'we', 'going', 'to', 'do?', \"we'll\", 'be', 'sent', 'to', 'the', 'spice', 'mine', 'of', 'kessel', 'or', 'smashed', 'into', 'who', 'knows', 'what!', 'wait', 'a', 'minute,', 'where', 'are', 'you', 'going?', 'hey,', \"you're\", 'not', 'permitted', 'in', 'there.', \"it's\", 'restricted.', \"you'll\"]\n"
     ]
    }
   ],
   "source": [
    "alphawords = [w for w in textlll if not alpha_filter(w)]\n",
    "print(len(alphawords))\n",
    "print(alphawords[:100])\n"
   ]
  },
  {
   "cell_type": "code",
   "execution_count": 21,
   "metadata": {},
   "outputs": [
    {
     "name": "stdout",
     "output_type": "stream",
     "text": [
      "179\n",
      "['i', 'me', 'my', 'myself', 'we', 'our', 'ours', 'ourselves', 'you', \"you're\", \"you've\", \"you'll\", \"you'd\", 'your', 'yours', 'yourself', 'yourselves', 'he', 'him', 'his', 'himself', 'she', \"she's\", 'her', 'hers', 'herself', 'it', \"it's\", 'its', 'itself', 'they', 'them', 'their', 'theirs', 'themselves', 'what', 'which', 'who', 'whom', 'this', 'that', \"that'll\", 'these', 'those', 'am', 'is', 'are', 'was', 'were', 'be', 'been', 'being', 'have', 'has', 'had', 'having', 'do', 'does', 'did', 'doing', 'a', 'an', 'the', 'and', 'but', 'if', 'or', 'because', 'as', 'until', 'while', 'of', 'at', 'by', 'for', 'with', 'about', 'against', 'between', 'into', 'through', 'during', 'before', 'after', 'above', 'below', 'to', 'from', 'up', 'down', 'in', 'out', 'on', 'off', 'over', 'under', 'again', 'further', 'then', 'once', 'here', 'there', 'when', 'where', 'why', 'how', 'all', 'any', 'both', 'each', 'few', 'more', 'most', 'other', 'some', 'such', 'no', 'nor', 'not', 'only', 'own', 'same', 'so', 'than', 'too', 'very', 's', 't', 'can', 'will', 'just', 'don', \"don't\", 'should', \"should've\", 'now', 'd', 'll', 'm', 'o', 're', 've', 'y', 'ain', 'aren', \"aren't\", 'couldn', \"couldn't\", 'didn', \"didn't\", 'doesn', \"doesn't\", 'hadn', \"hadn't\", 'hasn', \"hasn't\", 'haven', \"haven't\", 'isn', \"isn't\", 'ma', 'mightn', \"mightn't\", 'mustn', \"mustn't\", 'needn', \"needn't\", 'shan', \"shan't\", 'shouldn', \"shouldn't\", 'wasn', \"wasn't\", 'weren', \"weren't\", 'won', \"won't\", 'wouldn', \"wouldn't\"]\n"
     ]
    }
   ],
   "source": [
    "nltkstopwords = nltk.corpus.stopwords.words('english')\n",
    "print(len(nltkstopwords))\n",
    "print(nltkstopwords)\n"
   ]
  },
  {
   "cell_type": "code",
   "execution_count": 22,
   "metadata": {
    "scrolled": true
   },
   "outputs": [
    {
     "name": "stdout",
     "output_type": "stream",
     "text": [
      "12158\n",
      "\n",
      "['did', 'you', 'hear', 'that?', \"they've\", 'shut', 'down', 'the', 'main', 'reactor.', \"we'll\", 'be', 'destroyed', 'for', 'sure.', 'this', 'is', 'madness!', \"we're\", 'doomed!', \"there'll\", 'be', 'no', 'escape', 'for', 'the', 'princess', 'this', 'time.', \"what's\", 'that?', 'i', 'should', 'have', 'known', 'better', 'than', 'to', 'trust', 'the', 'logic', 'of', 'a', 'half-sized', 'thermocapsulary', 'dehousing', 'assister...', 'artoo!', 'artoo-detoo,', 'where', 'are', 'you?', 'at', 'last!', 'where', 'have', 'you', 'been?', \"they're\", 'heading', 'in', 'this', 'direction.', 'what', 'are', 'we', 'going', 'to', 'do?', \"we'll\", 'be', 'sent', 'to', 'the', 'spice', 'mine', 'of', 'kessel', 'or', 'smashed', 'into', 'who', 'knows', 'what!', 'wait', 'a', 'minute,', 'where', 'are', 'you', 'going?', 'hey,', \"you're\", 'not', 'permitted', 'in', 'there.', \"it's\", 'restricted.', \"you'll\"]\n",
      "\n",
      "['look', 'out!', \"we'll\", 'get', 'to', 'work', 'on', 'him', 'right', 'away.']\n"
     ]
    }
   ],
   "source": [
    "print(len(textlll))\n",
    "print(\"\")\n",
    "print(textlll[:100])\n",
    "print(\"\")\n",
    "print(textlll[12148:12158])\n"
   ]
  },
  {
   "cell_type": "code",
   "execution_count": 23,
   "metadata": {},
   "outputs": [],
   "source": [
    "morestopwords = stoplistx\n"
   ]
  },
  {
   "cell_type": "code",
   "execution_count": 24,
   "metadata": {},
   "outputs": [
    {
     "name": "stdout",
     "output_type": "stream",
     "text": [
      "70\n",
      "['the', 'you', 'to', 'i', 'a', 'of', 'in', 'your', 'this', 'be', 'is', 'and', 'what', 'it', 'have', 'he', 'for', 'on', 'are', \"don't\", \"i'm\", 'that', 'all', \"it's\", 'not', 'with', 'we', 'my', '(over', 'going', 'get', 'can', 'if', 'but', 'will', 'do', 'come', \"you're\", 'was', 'out', 'got', 'just', 'see', 'me', \"we're\", 'about', 'no', 'where', 'you.', 'think', 'there', 'take', 'they', 'at', 'like', 'speaker)', 'has', 'only', \"can't\", 'know', 'well,', 'been', 'here', 'one', 'red', \"i've\", 'more', 'luke,', 'as', 'our']\n"
     ]
    }
   ],
   "source": [
    "stopwords =  morestopwords\n",
    "print(len(stopwords))\n",
    "print(stopwords)\n"
   ]
  },
  {
   "cell_type": "code",
   "execution_count": 25,
   "metadata": {},
   "outputs": [
    {
     "ename": "NameError",
     "evalue": "name 'stoppwords' is not defined",
     "output_type": "error",
     "traceback": [
      "\u001b[0;31m---------------------------------------------------------------------------\u001b[0m",
      "\u001b[0;31mNameError\u001b[0m                                 Traceback (most recent call last)",
      "\u001b[0;32m<ipython-input-25-2fb12f121248>\u001b[0m in \u001b[0;36m<module>\u001b[0;34m()\u001b[0m\n\u001b[1;32m      1\u001b[0m \u001b[0mtextllll\u001b[0m \u001b[0;34m=\u001b[0m \u001b[0;34m[\u001b[0m\u001b[0mw\u001b[0m \u001b[0;32mfor\u001b[0m \u001b[0mw\u001b[0m \u001b[0;32min\u001b[0m \u001b[0mtextlll\u001b[0m \u001b[0;32mif\u001b[0m \u001b[0;32mnot\u001b[0m \u001b[0mw\u001b[0m \u001b[0;32min\u001b[0m \u001b[0mstopwords\u001b[0m\u001b[0;34m]\u001b[0m\u001b[0;34m\u001b[0m\u001b[0m\n\u001b[0;32m----> 2\u001b[0;31m \u001b[0mprint\u001b[0m\u001b[0;34m(\u001b[0m\u001b[0mlen\u001b[0m\u001b[0;34m(\u001b[0m\u001b[0mstoppwords\u001b[0m\u001b[0;34m)\u001b[0m\u001b[0;34m)\u001b[0m\u001b[0;34m\u001b[0m\u001b[0m\n\u001b[0m",
      "\u001b[0;31mNameError\u001b[0m: name 'stoppwords' is not defined"
     ]
    }
   ],
   "source": [
    "textllll = [w for w in textlll if not w in stopwords]\n",
    "print(len(stoppwords))\n"
   ]
  },
  {
   "cell_type": "code",
   "execution_count": null,
   "metadata": {},
   "outputs": [],
   "source": [
    "dist = FreqDist(stoppwords)\n",
    "items = dist.most_common(30)\n",
    "for item in items:\n",
    "  print(item)\n",
    "\n"
   ]
  },
  {
   "cell_type": "code",
   "execution_count": null,
   "metadata": {},
   "outputs": [],
   "source": [
    "bigramsx = list(nltk.bigrams(textllll))\n",
    "\n",
    "#print(bigramsx[:20])\n",
    "\n",
    "bbgram = []\n",
    "fdist = nltk.FreqDist(bigramsx)\n",
    "for k,v in fdist.items():\n",
    "    if float(v) > 4:\n",
    "        bbgram.append(k)\n",
    "        bbgram.append(v)\n",
    "print(bbgram)\n",
    "\n",
    "dicts = {}\n",
    "keys = range(4)\n",
    "values = [\"Hi\", \"I\", \"am\", \"John\"]\n",
    "for i in keys:\n",
    "    for x in values:\n",
    "        dicts[i] = x\n",
    "print(dicts)"
   ]
  },
  {
   "cell_type": "code",
   "execution_count": null,
   "metadata": {},
   "outputs": [],
   "source": [
    "from nltk.collocations import *\n",
    "bigram_measures = nltk.collocations.BigramAssocMeasures()\n",
    "\n"
   ]
  },
  {
   "cell_type": "code",
   "execution_count": null,
   "metadata": {},
   "outputs": [],
   "source": [
    "finder = BigramCollocationFinder.from_words(textlll)\n",
    "scored = finder.score_ngrams(bigram_measures.raw_freq)\n"
   ]
  },
  {
   "cell_type": "code",
   "execution_count": null,
   "metadata": {},
   "outputs": [],
   "source": [
    "#print(scored)\n",
    "type(scored)\n",
    "\n",
    "scored.sort()\n",
    "\n",
    "print(sscored)\n",
    "#sscored =scored.sort(key=lambda tup: tup[2], reverse=True)\n",
    "#print(sscored)"
   ]
  },
  {
   "cell_type": "code",
   "execution_count": null,
   "metadata": {},
   "outputs": [],
   "source": [
    "def getKey(item):\n",
    "    return item[1]\n",
    "#sorted(scored, key=getKey, reverse = True)\n",
    "sorted(scored, key=getKey, reverse = True)"
   ]
  },
  {
   "cell_type": "code",
   "execution_count": null,
   "metadata": {},
   "outputs": [],
   "source": [
    "finder.apply_word_filter(alpha_filter)\n",
    "scored = finder.score_ngrams(bigram_measures.raw_freq)\n",
    "for bscore in scored[:50]:\n",
    "    print (bscore)\n"
   ]
  },
  {
   "cell_type": "code",
   "execution_count": null,
   "metadata": {},
   "outputs": [],
   "source": [
    "finder.apply_word_filter(lambda w: w in stopwords)\n",
    "scored = finder.score_ngrams(bigram_measures.raw_freq)\n",
    "for bscore in scored[:50]:\n",
    "    print (bscore)\n"
   ]
  },
  {
   "cell_type": "code",
   "execution_count": null,
   "metadata": {},
   "outputs": [],
   "source": [
    "finder2 = BigramCollocationFinder.from_words(textllll)\n",
    "finder2.apply_freq_filter(5)\n",
    "scored = finder2.score_ngrams(bigram_measures.raw_freq)\n",
    "for bscore in scored[:50]:\n",
    "    print (bscore)\n",
    "\n",
    "\n"
   ]
  },
  {
   "cell_type": "code",
   "execution_count": null,
   "metadata": {},
   "outputs": [],
   "source": [
    "finder2.apply_ngram_filter(lambda w1, w2: len(w1) > 5)\n",
    "scored = finder2.score_ngrams(bigram_measures.raw_freq)\n",
    "for bscore in scored[:50]:\n",
    "    print (bscore)"
   ]
  },
  {
   "cell_type": "code",
   "execution_count": null,
   "metadata": {},
   "outputs": [],
   "source": [
    "finder3 = BigramCollocationFinder.from_words(textllll)\n",
    "scored = finder3.score_ngrams(bigram_measures.pmi)\n",
    "for bscore in scored[:50]:\n",
    "    print (bscore)"
   ]
  },
  {
   "cell_type": "code",
   "execution_count": null,
   "metadata": {},
   "outputs": [],
   "source": [
    "finder3.apply_freq_filter(5)\n",
    "scored = finder3.score_ngrams(bigram_measures.pmi)\n",
    "for bscore in scored[:30]:\n",
    "    print (bscore)\n",
    "\n"
   ]
  },
  {
   "cell_type": "code",
   "execution_count": null,
   "metadata": {},
   "outputs": [],
   "source": []
  },
  {
   "cell_type": "code",
   "execution_count": null,
   "metadata": {},
   "outputs": [],
   "source": [
    "import csv\n",
    "dict = script\n",
    "w = csv.writer(open(\"SW5.csv\", \"w\"))\n",
    "for key, val in dict.items():\n",
    "    w.writerow([key, val])"
   ]
  }
 ],
 "metadata": {
  "kernelspec": {
   "display_name": "Python 3",
   "language": "python",
   "name": "python3"
  },
  "language_info": {
   "codemirror_mode": {
    "name": "ipython",
    "version": 3
   },
   "file_extension": ".py",
   "mimetype": "text/x-python",
   "name": "python",
   "nbconvert_exporter": "python",
   "pygments_lexer": "ipython3",
   "version": "3.6.5"
  }
 },
 "nbformat": 4,
 "nbformat_minor": 2
}
