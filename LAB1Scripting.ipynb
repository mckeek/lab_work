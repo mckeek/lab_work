{
 "cells": [
  {
   "cell_type": "code",
   "execution_count": 11,
   "metadata": {},
   "outputs": [
    {
     "name": "stdout",
     "output_type": "stream",
     "text": [
      "Number of teams: 27\n",
      "The attendance at Atlanta, was 13993 and the ticket price was $20.06.\n",
      "The attendance at Boston, was 14916 and the ticket price was $22.54.\n",
      "The attendance at Charlotte, was 23901 and the ticket price was $17.\n",
      "The attendance at Chicago, was 18404 and the ticket price was $21.98.\n",
      "The attendance at Cleveland, was 16969 and the ticket price was $19.63.\n",
      "The attendance at Dallas, was 16868 and the ticket price was $17.05.\n",
      "The attendance at Denver, was 12668 and the ticket price was $17.4.\n",
      "The attendance at Detroit, was 21454 and the ticket price was $24.42.\n",
      "The attendance at Golden_State, was 15025 and the ticket price was $17.04.\n",
      "The attendance at Houston, was 15846 and the ticket price was $17.56.\n",
      "The attendance at Indiana, was 12885 and the ticket price was $13.77.\n",
      "The attendance at LA_Clippers, was 11869 and the ticket price was $21.95.\n",
      "The attendance at LA_Lakers, was 17378 and the ticket price was $29.18.\n",
      "The attendance at Miami, was 15008 and the ticket price was $17.6.\n",
      "The attendance at Milwaukee, was 16088 and the ticket price was $14.08.\n",
      "The attendance at Minnesota, was 26160 and the ticket price was $10.92.\n",
      "The attendance at New_Jersey, was 12160 and the ticket price was $13.31.\n",
      "The attendance at New_York, was 17815 and the ticket price was $22.7.\n",
      "The attendance at Orlando, was 15606 and the ticket price was $20.47.\n",
      "The attendance at Philadelphia, was 14017 and the ticket price was $19.04.\n",
      "The attendance at Phoenix, was 14114 and the ticket price was $16.59.\n",
      "The attendance at Portland, was 12884 and the ticket price was $22.19.\n",
      "The attendance at Sacramento, was 17014 and the ticket price was $16.96.\n",
      "The attendance at San_Antonio, was 14722 and the ticket price was $16.79.\n",
      "The attendance at Seattle, was 12244 and the ticket price was $18.11.\n",
      "The attendance at Utah, was 12616 and the ticket price was $18.41.\n",
      "The attendance at Washington, was 11565 and the ticket price was $14.55.\n"
     ]
    }
   ],
   "source": [
    "#For the NBAfile.py program, for each line, create a string using string formatting that puts the team, attendance, and ticket prices into a formatted string. Each line should look something like:\n",
    "#‘The attendance at Atlanta was 13993 and the ticket price was $20.06’\n",
    "#Your program should then print these strings instead of the lines. Submit your code and the output of your program.\n",
    "#DUE 24 hours before the live session in Week 3.\n",
    "\n",
    "# open the file for reading (in the same directory as the program)\n",
    "path = '/Users/kenmckee/Desktop/GS/F18/Scrpt/NBA-Attendance-1989.txt'\n",
    "NBAfile = open (path, 'r')\n",
    "\n",
    "\n",
    "# iterate over the lines of the file and count the number of lines\n",
    "\n",
    "count = 0\n",
    "\n",
    "NBAlist = [ ]\n",
    "\n",
    "for line in NBAfile:\n",
    "\n",
    "    # increment adds one to the count variable\n",
    "\n",
    "    count += 1\n",
    "\n",
    "    # strip the newline at the end of the line (and other white space from ends)\n",
    "\n",
    "    textline = line.strip()\n",
    "\n",
    "    # split the line on whitespace\n",
    "\n",
    "    items = textline.split()\n",
    "\n",
    "    # add the list of items to the NBAlist\n",
    "    \n",
    "    NBAlist.append(items)\n",
    "# print the number of teams read\n",
    "\n",
    "print('Number of teams:', count)\n",
    "\n",
    "\n",
    "# print the lines from the list\n",
    "\n",
    "for line in NBAlist:\n",
    "    print (\"The attendance at {l}, was {a} and the ticket price was ${p}.\".format(l=line[0],a=line[1], p=line[2]))\n",
    "\n",
    "NBAfile.close()\n",
    "\n",
    "\n",
    "\n"
   ]
  },
  {
   "cell_type": "code",
   "execution_count": null,
   "metadata": {},
   "outputs": [],
   "source": [
    "#For the NBAfile.py program, for each line, create a string using string formatting that puts the team, attendance, and ticket prices into a formatted string. Each line should look something like:\n",
    "#‘The attendance at Atlanta was 13993 and the ticket price was $20.06’\n",
    "#Your program should then print these strings instead of the lines. Submit your code and the output of your program.\n",
    "\n",
    "for x in samples:\n",
    "    if len(x) > 2 and len(x) < 5:\n",
    "        print(x)"
   ]
  }
 ],
 "metadata": {
  "kernelspec": {
   "display_name": "Python 3",
   "language": "python",
   "name": "python3"
  },
  "language_info": {
   "codemirror_mode": {
    "name": "ipython",
    "version": 3
   },
   "file_extension": ".py",
   "mimetype": "text/x-python",
   "name": "python",
   "nbconvert_exporter": "python",
   "pygments_lexer": "ipython3",
   "version": "3.7.6"
  }
 },
 "nbformat": 4,
 "nbformat_minor": 2
}
