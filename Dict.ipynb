{
 "cells": [
  {
   "cell_type": "markdown",
   "metadata": {},
   "source": [
    "Dictionaries: You may wish to write the code for parts a–d in one Python file. Consider the following two dictionaries:\n",
    "stock = {\"banana\": 6, \"apple\": 0, \"orange\": 32, \"pear\": 15}\n",
    "prices = {\"banana\": 4, \"apple\": 2, \"orange\": 1.5, \"pear\": 3}\n",
    "a. Show the expression that gets the value of the stock dictionary at the key ‘orange’.\n",
    "Show a statement that adds an item to the stock dictionary called ‘cherry’ with some integer value and that adds ‘cherry’ to the prices dictionary with a numeric value. (Or pick your own fruit name.)\n",
    "b. Write the code for a loop that iterates over the stock dictionary and prints each key and value.\n",
    "c. Suppose that we have a list:\n",
    "groceries = [‘apple’, ‘banana’, ‘pear’]\n",
    "Write the code that will sum the total number in stock of the items in the groceries list.\n",
    "d. Write the code that can print out the total value in stock of all the items. This program can iterate over the stock dictionary and for each item multiply the number in stock times the price of that item in the prices dictionary. (This can include the items for ‘cherry’ or not, as you choose.)\n",
    "Due 24 hours before the live session in Week 4."
   ]
  },
  {
   "cell_type": "code",
   "execution_count": 18,
   "metadata": {},
   "outputs": [],
   "source": [
    "stock = {\"banana\": 6, \"apple\": 0, \"orange\": 32, \"pear\": 15}\n",
    "prices = {\"banana\": 4, \"apple\": 2, \"orange\": 1.5, \"pear\": 3}\n",
    "groceries = [\"apple\", \"banana\", \"pear\"] "
   ]
  },
  {
   "cell_type": "code",
   "execution_count": 19,
   "metadata": {},
   "outputs": [
    {
     "name": "stdout",
     "output_type": "stream",
     "text": [
      "32\n"
     ]
    }
   ],
   "source": [
    "#a\n",
    "print(stock[\"orange\"])"
   ]
  },
  {
   "cell_type": "code",
   "execution_count": 20,
   "metadata": {},
   "outputs": [],
   "source": [
    "#a.1\n",
    "stock[\"cherry\"] = 33\n",
    "prices[\"cherry\"] = 3.33\n",
    "\n"
   ]
  },
  {
   "cell_type": "code",
   "execution_count": 21,
   "metadata": {},
   "outputs": [
    {
     "name": "stdout",
     "output_type": "stream",
     "text": [
      "banana in stock 6 price 4\n",
      "apple in stock 0 price 2\n",
      "orange in stock 32 price 1.5\n",
      "pear in stock 15 price 3\n",
      "cherry in stock 33 price 3.33\n"
     ]
    }
   ],
   "source": [
    "for i in stock:\n",
    "    print(i,\"in stock\", stock[i],\"price\", prices[i])\n"
   ]
  },
  {
   "cell_type": "code",
   "execution_count": 32,
   "metadata": {},
   "outputs": [],
   "source": [
    "stocktotal = 0\n",
    "invtotal = {}\n",
    "for i in stock:\n",
    "    total = float(stock[i])*float(prices[i])\n",
    "    stocktotal = float(total) + float(stocktotal)\n",
    "    invtotal[i] = total\n",
    "    "
   ]
  },
  {
   "cell_type": "code",
   "execution_count": 35,
   "metadata": {},
   "outputs": [
    {
     "name": "stdout",
     "output_type": "stream",
     "text": [
      "banana in stock 6 price 4 total= 24.0\n",
      "apple in stock 0 price 2 total= 0.0\n",
      "orange in stock 32 price 1.5 total= 48.0\n",
      "pear in stock 15 price 3 total= 45.0\n",
      "cherry in stock 33 price 3.33 total= 109.89\n",
      "\n",
      "the inventory total is 226.89\n"
     ]
    }
   ],
   "source": [
    "for i in stock:\n",
    "    print(i,\"in stock\", stock[i],\"price\", prices[i], \"total=\", invtotal[i])\n",
    "print(\"\\nthe inventory total is\", stocktotal)"
   ]
  },
  {
   "cell_type": "code",
   "execution_count": 30,
   "metadata": {},
   "outputs": [
    {
     "name": "stdout",
     "output_type": "stream",
     "text": [
      "apple @ price 2 running total= 2.0\n",
      "banana @ price 4 running total= 6.0\n",
      "pear @ price 3 running total= 9.0\n"
     ]
    }
   ],
   "source": [
    "total = 0\n",
    "for i in groceries:\n",
    "    total = float(prices[i]+ float(total))\n",
    "    print(i,\"@\",\"price\", prices[i], \"running total=\", total)"
   ]
  },
  {
   "cell_type": "code",
   "execution_count": 41,
   "metadata": {},
   "outputs": [
    {
     "name": "stdout",
     "output_type": "stream",
     "text": [
      "ABC\n",
      "Zap\n",
      "ABC\n"
     ]
    }
   ],
   "source": [
    "def fred():\n",
    "    print(\"Zap\") \n",
    "def jane():\n",
    "    print(\"ABC\") \n",
    "\n",
    "jane()\n",
    "fred() \n",
    "jane()\n"
   ]
  },
  {
   "cell_type": "code",
   "execution_count": null,
   "metadata": {},
   "outputs": [],
   "source": []
  }
 ],
 "metadata": {
  "kernelspec": {
   "display_name": "Python 3",
   "language": "python",
   "name": "python3"
  },
  "language_info": {
   "codemirror_mode": {
    "name": "ipython",
    "version": 3
   },
   "file_extension": ".py",
   "mimetype": "text/x-python",
   "name": "python",
   "nbconvert_exporter": "python",
   "pygments_lexer": "ipython3",
   "version": "3.6.5"
  }
 },
 "nbformat": 4,
 "nbformat_minor": 2
}
