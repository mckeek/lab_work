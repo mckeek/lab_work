{
 "cells": [
  {
   "cell_type": "code",
   "execution_count": 4,
   "metadata": {},
   "outputs": [
    {
     "name": "stdout",
     "output_type": "stream",
     "text": [
      "<class 'bool'>\n",
      "<class 'float'>\n",
      "<class 'str'>\n"
     ]
    }
   ],
   "source": [
    "m = True\n",
    "n = 3.14\n",
    "q = \"−7.2345907654\"\n",
    "print (type(m))\n",
    "print(type(n))\n",
    "print(type(q))"
   ]
  },
  {
   "cell_type": "code",
   "execution_count": 6,
   "metadata": {},
   "outputs": [
    {
     "name": "stdout",
     "output_type": "stream",
     "text": [
      "Monty Python\n",
      "Monty Python\n",
      "Monty Python\n"
     ]
    }
   ],
   "source": [
    "String1 = 'Monty Python'\n",
    "String2 = \"Monty Python\"\n",
    "String3 = 'Monty ' + 'Python'\n",
    "\n",
    "print(String1)\n",
    "print(String2)\n",
    "print(String3)"
   ]
  },
  {
   "cell_type": "code",
   "execution_count": 12,
   "metadata": {},
   "outputs": [
    {
     "name": "stdout",
     "output_type": "stream",
     "text": [
      "4\n",
      "8\n",
      "16\n",
      "12\n"
     ]
    }
   ],
   "source": [
    "Evennumbers = [2, 4, 6, 8, 10, 12, 14, 16, 18]\n",
    "Temp = Evennumbers[1]+Evennumbers[3]\n",
    "\n",
    "\n",
    "print(Evennumbers[1])\n",
    "print(Evennumbers[3])\n",
    "print(Evennumbers[7])\n",
    "\n",
    "print(Temp)"
   ]
  },
  {
   "cell_type": "code",
   "execution_count": 13,
   "metadata": {},
   "outputs": [
    {
     "name": "stdout",
     "output_type": "stream",
     "text": [
      "['hat', 'passport', 'laptop', 'suit', 'shoes']\n",
      "['sunglasses', 'hat', 'passport', 'laptop']\n"
     ]
    }
   ],
   "source": [
    "Suitcase = [\"sunglasses\", \"hat\", \"passport\", \"laptop\", \"suit\", \"shoes\"]\n",
    "print(Suitcase[1:]) \n",
    "print(Suitcase[:4])\n"
   ]
  },
  {
   "cell_type": "code",
   "execution_count": 14,
   "metadata": {},
   "outputs": [
    {
     "name": "stdout",
     "output_type": "stream",
     "text": [
      "2\n",
      "3\n",
      "4\n",
      "5\n"
     ]
    }
   ],
   "source": [
    "xlist = [1, 2, 3, 4]\n",
    "for x in xlist:\n",
    "     print(x + 1)"
   ]
  },
  {
   "cell_type": "code",
   "execution_count": 15,
   "metadata": {},
   "outputs": [
    {
     "name": "stdout",
     "output_type": "stream",
     "text": [
      "Type Threshold: 55\n"
     ]
    },
    {
     "ename": "TypeError",
     "evalue": "'>' not supported between instances of 'int' and 'str'",
     "output_type": "error",
     "traceback": [
      "\u001b[0;31m---------------------------------------------------------------------------\u001b[0m",
      "\u001b[0;31mTypeError\u001b[0m                                 Traceback (most recent call last)",
      "\u001b[0;32m<ipython-input-15-9f49ffd0d206>\u001b[0m in \u001b[0;36m<module>\u001b[0;34m()\u001b[0m\n\u001b[1;32m      1\u001b[0m \u001b[0mnlist\u001b[0m \u001b[0;34m=\u001b[0m \u001b[0;34m[\u001b[0m\u001b[0;36m8\u001b[0m\u001b[0;34m,\u001b[0m \u001b[0;36m92\u001b[0m\u001b[0;34m,\u001b[0m \u001b[0;36m79\u001b[0m\u001b[0;34m,\u001b[0m \u001b[0;36m55\u001b[0m\u001b[0;34m,\u001b[0m \u001b[0;36m23\u001b[0m\u001b[0;34m,\u001b[0m \u001b[0;36m17\u001b[0m\u001b[0;34m,\u001b[0m \u001b[0;36m4\u001b[0m\u001b[0;34m,\u001b[0m \u001b[0;36m45\u001b[0m\u001b[0;34m,\u001b[0m \u001b[0;36m63\u001b[0m\u001b[0;34m,\u001b[0m \u001b[0;36m9\u001b[0m\u001b[0;34m,\u001b[0m \u001b[0;36m100\u001b[0m\u001b[0;34m]\u001b[0m\u001b[0;34m\u001b[0m\u001b[0m\n\u001b[1;32m      2\u001b[0m \u001b[0mthreshold\u001b[0m \u001b[0;34m=\u001b[0m \u001b[0minput\u001b[0m\u001b[0;34m(\u001b[0m\u001b[0;34m'Type Threshold: '\u001b[0m\u001b[0;34m)\u001b[0m\u001b[0;34m\u001b[0m\u001b[0m\n\u001b[0;32m----> 3\u001b[0;31m \u001b[0;32mif\u001b[0m \u001b[0;34m(\u001b[0m\u001b[0mmax\u001b[0m\u001b[0;34m(\u001b[0m\u001b[0mnlist\u001b[0m\u001b[0;34m)\u001b[0m \u001b[0;34m>\u001b[0m \u001b[0mthreshold\u001b[0m\u001b[0;34m)\u001b[0m\u001b[0;34m:\u001b[0m\u001b[0;34m\u001b[0m\u001b[0m\n\u001b[0m\u001b[1;32m      4\u001b[0m      \u001b[0mprint\u001b[0m\u001b[0;34m(\u001b[0m\u001b[0;34m'Great'\u001b[0m\u001b[0;34m)\u001b[0m\u001b[0;34m\u001b[0m\u001b[0m\n\u001b[1;32m      5\u001b[0m \u001b[0;32melse\u001b[0m\u001b[0;34m:\u001b[0m\u001b[0;34m\u001b[0m\u001b[0m\n",
      "\u001b[0;31mTypeError\u001b[0m: '>' not supported between instances of 'int' and 'str'"
     ]
    }
   ],
   "source": [
    "nlist = [8, 92, 79, 55, 23, 17, 4, 45, 63, 9, 100]\n",
    "threshold = input('Type Threshold: ')\n",
    "if (max(nlist) > threshold):\n",
    "     print('Great')\n",
    "else:\n",
    "     print('Not great')"
   ]
  },
  {
   "cell_type": "code",
   "execution_count": 141,
   "metadata": {},
   "outputs": [],
   "source": [
    "example1 = ['abab', 'xyz', 'aa', 'x', 'bcb']\n",
    "example2 = ['', 'x', 'xy', 'xyx', 'xx']\n",
    "example3 = ['aaa', 'be', 'abc', 'hello']"
   ]
  },
  {
   "cell_type": "markdown",
   "metadata": {},
   "source": [
    "Suppose that you have a list of strings named examples. Write a Python loop that goes through the list and prints each string where the string length is three or more and the first and last characters of the strings are the same.\n",
    "\n",
    "Test your code on the following three versions of the list examples:\n",
    "examples = ['abab', 'xyz', 'aa', 'x', 'bcb']\n",
    "examples = ['', 'x', 'xy', 'xyx', 'xx']\n",
    "examples = ['aaa', 'be', 'abc', 'hello']\n",
    "\n",
    "You may do this exercise either in the interpreter or in a program. Please submit your code and the output from the three examples."
   ]
  },
  {
   "cell_type": "markdown",
   "metadata": {},
   "source": [
    "pattern = re.compile('^[^a-z]+$')\n",
    "import re\n",
    "for x in examples:\n",
    "        if float(len(x)) > 2:\n",
    "            l = x\n",
    "            print(l)\n"
   ]
  },
  {
   "cell_type": "code",
   "execution_count": 152,
   "metadata": {},
   "outputs": [
    {
     "name": "stdout",
     "output_type": "stream",
     "text": [
      "{'aaa': None, 'be': 'short string', 'abc': None, 'hello': None}\n",
      "{'aaa': 'TRUE', 'be': 'FALSE', 'abc': 'FALSE', 'hello': 'FALSE'}\n"
     ]
    }
   ],
   "source": [
    "pattern = re.compile('[^a-z]+$')\n",
    "patternx = re.compile('^\\w+$')\n",
    "patternz = re.compile('^.+?$')\n",
    "\n",
    "result = {}\n",
    "import re\n",
    "for x in example3:\n",
    "    if len(x) > 2:\n",
    "        m = re.search(pattern, x)\n",
    "        result[x] = m\n",
    "    else:\n",
    "        result[x] = \"short string\"\n",
    "print(result)\n",
    "    \n",
    "\n",
    "\n",
    "    "
   ]
  },
  {
   "cell_type": "code",
   "execution_count": 156,
   "metadata": {},
   "outputs": [
    {
     "name": "stdout",
     "output_type": "stream",
     "text": [
      "{'aaa': 'TRUE', 'be': 'SHORT', 'abc': 'FALSE', 'hello': 'FALSE'}\n"
     ]
    }
   ],
   "source": [
    "resultx = {}\n",
    "import re\n",
    "for x in example3:\n",
    "    if len(x) > 2:\n",
    "        for i in x:\n",
    "            if x[0] == x[-1]: \n",
    "                resultx[x] = \"TRUE\"\n",
    "            else:\n",
    "                resultx[x] = \"FALSE\"  \n",
    "    else:\n",
    "        resultx[x] = \"SHORT\"\n",
    "print(resultx)"
   ]
  },
  {
   "cell_type": "markdown",
   "metadata": {},
   "source": [
    "{'abab': 'FALSE', 'xyz': 'FALSE', 'aa': 'FALSE', 'x': 'FALSE', 'bcb': 'TRUE'}\n",
    "{'': 'FALSE', 'x': 'FALSE', 'xy': 'FALSE', 'xyx': 'TRUE', 'xx': 'FALSE'}\n",
    "{'aaa': 'TRUE', 'be': 'FALSE', 'abc': 'FALSE', 'hello': 'FALSE'}"
   ]
  },
  {
   "cell_type": "code",
   "execution_count": 86,
   "metadata": {},
   "outputs": [
    {
     "name": "stdout",
     "output_type": "stream",
     "text": [
      "a\n",
      "b\n",
      "a\n",
      "b\n",
      "x\n",
      "y\n",
      "z\n",
      "a\n",
      "a\n",
      "x\n",
      "b\n",
      "c\n",
      "b\n"
     ]
    }
   ],
   "source": [
    "regex = re.compile('\\w')\n",
    "for i in examples:\n",
    "    for l in i:\n",
    "        if \n",
    "        print(l)"
   ]
  },
  {
   "cell_type": "code",
   "execution_count": 51,
   "metadata": {},
   "outputs": [
    {
     "ename": "TypeError",
     "evalue": "'builtin_function_or_method' object is not subscriptable",
     "output_type": "error",
     "traceback": [
      "\u001b[0;31m---------------------------------------------------------------------------\u001b[0m",
      "\u001b[0;31mTypeError\u001b[0m                                 Traceback (most recent call last)",
      "\u001b[0;32m<ipython-input-51-4380a7837dc3>\u001b[0m in \u001b[0;36m<module>\u001b[0;34m()\u001b[0m\n\u001b[1;32m      2\u001b[0m \u001b[0;32mfor\u001b[0m \u001b[0mi\u001b[0m \u001b[0;32min\u001b[0m \u001b[0mexamples\u001b[0m\u001b[0;34m:\u001b[0m\u001b[0;34m\u001b[0m\u001b[0m\n\u001b[1;32m      3\u001b[0m     \u001b[0mfirst\u001b[0m \u001b[0;34m=\u001b[0m \u001b[0mi\u001b[0m\u001b[0;34m[\u001b[0m\u001b[0;36m0\u001b[0m\u001b[0;34m]\u001b[0m\u001b[0;34m\u001b[0m\u001b[0m\n\u001b[0;32m----> 4\u001b[0;31m     \u001b[0ml\u001b[0m \u001b[0;34m=\u001b[0m \u001b[0mlen\u001b[0m\u001b[0;34m[\u001b[0m\u001b[0mi\u001b[0m\u001b[0;34m]\u001b[0m\u001b[0;34m\u001b[0m\u001b[0m\n\u001b[0m\u001b[1;32m      5\u001b[0m     \u001b[0mprint\u001b[0m\u001b[0;34m(\u001b[0m\u001b[0ml\u001b[0m\u001b[0;34m,\u001b[0m\u001b[0mfirst\u001b[0m\u001b[0;34m)\u001b[0m\u001b[0;34m\u001b[0m\u001b[0m\n",
      "\u001b[0;31mTypeError\u001b[0m: 'builtin_function_or_method' object is not subscriptable"
     ]
    }
   ],
   "source": []
  },
  {
   "cell_type": "code",
   "execution_count": null,
   "metadata": {},
   "outputs": [],
   "source": [
    "for i in examples\n",
    "    "
   ]
  },
  {
   "cell_type": "code",
   "execution_count": 4,
   "metadata": {},
   "outputs": [
    {
     "name": "stdout",
     "output_type": "stream",
     "text": [
      "today is a great day\n",
      "TODAY IS A GREAT DAY\n",
      "TODAY IS A GREAT DAY\n",
      "False\n",
      "TODAY IS A GREAT DAY\n",
      "-1\n",
      "TODAY IS A GREAT DAY\n"
     ]
    }
   ],
   "source": [
    "mp = 'Today is a Great DAY'\n",
    "\n",
    "mp = mp.lower()\n",
    "print(mp)\n",
    "mp = mp.upper()\n",
    "print(mp)\n",
    "mp = mp.strip()\n",
    "print(mp)\n",
    "print(mp.startswith('X'))  #where X is the starting letter of your string\n",
    "print(mp)\n",
    "print(mp.find('Z'))\n",
    "\n",
    "print(mp)"
   ]
  },
  {
   "cell_type": "code",
   "execution_count": 20,
   "metadata": {},
   "outputs": [
    {
     "name": "stdout",
     "output_type": "stream",
     "text": [
      "0.8475\n",
      "format is 0.85\n"
     ]
    }
   ],
   "source": [
    "#Use find and string slicing to extract the portions of the string after the colon character, and then use the float function to convert the extracted string into a floating point number with two decimals.\n",
    "\n",
    "#Submit the code you used and the results in a single file. Once you have submitted your file, check out at least two of your classmates' files and see if their code and results are the same.\n",
    "\n",
    "str = 'X-DSPAM-Confidence:0.8475'\n",
    "\n",
    "ssplit = str.split(\":\")\n",
    "\n",
    "num = float(ssplit[1])\n",
    "\n",
    "#print(num)\n",
    "\n",
    "print('format is {:.2f}'.format(num))"
   ]
  },
  {
   "cell_type": "code",
   "execution_count": 28,
   "metadata": {},
   "outputs": [
    {
     "name": "stdout",
     "output_type": "stream",
     "text": [
      "LENGTH\n",
      "lone =  5\n",
      "ltwo =  5\n",
      "tone =  5\n",
      "ttwo =  5\n",
      "ltone =  3\n",
      "\n",
      "\n",
      "SIZE\n",
      "lone =  104\n",
      "ltwo =  104\n",
      "tone =  88\n",
      "ttwo =  88\n",
      "ltone =  88\n"
     ]
    }
   ],
   "source": [
    "import sys\n",
    "\n",
    "lone = [10, 20, 30, 40, 50]\n",
    "ltwo = [\"two\", \"four\", \"six\", \"eight\", 'ten']\n",
    "tone = (10, 20, 30, 40, 50)\n",
    "ttwo = (\"two\", \"four\", \"six\", \"eight\",'ten')\n",
    "ltone = [(\"cheese\", \"queso\"), (\"red\", \"rojo\"), (\"school\", \"escuela\")]\n",
    "\n",
    "print(\"LENGTH\")\n",
    "print( \"lone = \", len(lone))\n",
    "print( \"ltwo = \", len(ltwo))\n",
    "print( \"tone = \", len(tone))\n",
    "print( \"ttwo = \", len(ttwo))\n",
    "print( \"ltone = \", len(ltone))\n",
    "\n",
    "print() \n",
    "print()\n",
    "print(\"SIZE\")\n",
    "print( \"lone = \", sys.getsizeof(lone))\n",
    "3print( \"ltwo = \", sys.getsizeof(ltwo))\n",
    "print( \"tone = \", sys.getsizeof(tone))\n",
    "print( \"ttwo = \", sys.getsizeof(ttwo))\n",
    "print( \"ltone = \", sys.getsizeof(ltone))"
   ]
  },
  {
   "cell_type": "code",
   "execution_count": 35,
   "metadata": {},
   "outputs": [
    {
     "name": "stdout",
     "output_type": "stream",
     "text": [
      "Input number of hours worked: 40\n",
      "Input bill rate: 30.50\n",
      "The total for the period is:\n",
      "$1220.00\n"
     ]
    }
   ],
   "source": [
    "\n",
    "#K McKee Week2 Program Exercise\n",
    "#Purpose: \n",
    "#Create a folder on your computer to store your Python programs. \n",
    "#Write a simple program to collect the number of hours worked and rate of pay from the user, \n",
    "#calculate the pay, output should be 'Pay:' and the amount calculated. Run your program in Python, \n",
    "#generate your result, \n",
    "#and place your program code and result in a text document and upload it here.\n",
    "\n",
    "#collect data\n",
    "hours = input('Input number of hours worked: ')\n",
    "rate = input('Input bill rate: ')\n",
    "#find total\n",
    "total = float(hours)*float(rate)\n",
    "\n",
    "#print(total)\n",
    "#print total \n",
    "print('The total for the period is:')\n",
    "print('$'\"{0:.2f}\".format(total))"
   ]
  },
  {
   "cell_type": "code",
   "execution_count": 68,
   "metadata": {},
   "outputs": [
    {
     "name": "stdout",
     "output_type": "stream",
     "text": [
      "Schools: 51\n",
      "School: ['New_York', '497', '510']\n",
      "School: ['Connecticut', '515', '515']\n",
      "School: ['Massachusetts', '518', '523']\n",
      "School: ['New_Jersey', '501', '514']\n",
      "School: ['New_Hampshire', '522', '521']\n",
      "School: ['D.C.', '489', '476']\n",
      "School: ['Maine', '505', '501']\n",
      "School: ['Pennsylvania', '501', '502']\n",
      "School: ['Delaware', '500', '499']\n",
      "School: ['Georgia', '494', '493']\n",
      "School: ['Rhode_Island', '503', '502']\n",
      "School: ['Virginia', '515', '509']\n",
      "School: ['North_Carolina', '499', '507']\n",
      "School: ['Maryland', '511', '515']\n",
      "School: ['Florida', '499', '499']\n",
      "School: ['Vermont', '516', '512']\n",
      "School: ['Indiana', '501', '506']\n",
      "School: ['South_Carolina', '491', '495']\n",
      "School: ['Hawaii', '487', '514']\n",
      "School: ['Oregon', '527', '528']\n",
      "School: ['Alaska', '518', '514']\n",
      "School: ['Texas', '493', '499']\n",
      "School: ['Washington', '528', '531']\n",
      "School: ['California', '501', '519']\n",
      "School: ['Nevada', '507', '514']\n",
      "School: ['Arizona', '523', '524']\n",
      "School: ['Montana', '537', '539']\n",
      "School: ['Ohio', '538', '542']\n",
      "School: ['Colorado', '554', '553']\n",
      "School: ['Idaho', '540', '539']\n",
      "School: ['West_Virginia', '524', '514']\n",
      "School: ['Tennessee', '567', '557']\n",
      "School: ['New_Mexico', '554', '543']\n",
      "School: ['Kentucky', '559', '557']\n",
      "School: ['Wyoming', '551', '546']\n",
      "School: ['Michigan', '563', '573']\n",
      "School: ['Illinois', '585', '597']\n",
      "School: ['Minnesota', '587', '593']\n",
      "School: ['Alabama', '560', '553']\n",
      "School: ['Kansas', '584', '585']\n",
      "School: ['Louisiana', '564', '561']\n",
      "School: ['Missouri', '587', '585']\n",
      "School: ['Nebraska', '569', '576']\n",
      "School: ['Oklahoma', '569', '566']\n",
      "School: ['Wisconsin', '587', '596']\n",
      "School: ['Utah', '565', '556']\n",
      "School: ['Arkansas', '569', '555']\n",
      "School: ['Iowa', '593', '602']\n",
      "School: ['South_Dakota', '594', '597']\n",
      "School: ['Mississippi', '562', '547']\n",
      "School: ['North_Dakota', '582', '601']\n"
     ]
    }
   ],
   "source": [
    "# This program reads a file and prints the lines and creates a list of items on the line\n",
    "\n",
    "\n",
    "# open the file for reading (in the same directory as the program)\n",
    "path = '/Users/kenmckee/Downloads/state_satscores_2004.txt'\n",
    "SATfile = open (path, 'r')\n",
    "\n",
    "\n",
    "# iterate over the lines of the file and count the number of lines\n",
    "\n",
    "count = 0\n",
    "\n",
    "SATlist = [ ]\n",
    "\n",
    "for line in SATfile:\n",
    "\n",
    "    # increment adds one to the count variable\n",
    "\n",
    "    count += 1\n",
    "\n",
    "    # strip the newline at the end of the line (and other white space from ends)\n",
    "\n",
    "    textline = line.strip()\n",
    "\n",
    "    # split the line on whitespace\n",
    "\n",
    "    items = textline.split()\n",
    "\n",
    "    # add the list of items to the SATlist\n",
    "    \n",
    "    SATlist.append(items)\n",
    "# print the number of teams read\n",
    "\n",
    "print('Schools:', count)\n",
    "\n",
    "\n",
    "# print the lines from the list\n",
    "\n",
    "for line in SATlist:\n",
    "    print ('School:', line)\n",
    "\n",
    "\n",
    "SATfile.close()\n",
    "\n"
   ]
  },
  {
   "cell_type": "markdown",
   "metadata": {},
   "source": [
    "\n",
    "For this question, you are to write a program that reads the data in the file state_satscores_2004.txt. Each line of this file has name of a state, mean Verbal SAT score, and mean Math SAT score.\n",
    "\n",
    "After reading the data, \n",
    "a. Print the state with the highest mean Verbal SAT score \n",
    "b. Print each state that has a mean Math SAT score greater than 500\n",
    "\n",
    "Submit the code and the output from your program.\n",
    "\n",
    "You may use the code developed for the NBA data as a template, but it is absolutely essential that you use appropriate variable names and that you write original comments for what your program does.\n",
    "\n",
    "If you prefer, you can write this program with a csv reader, using state_satscores_2004.tsv.\n",
    "\n",
    "\n"
   ]
  },
  {
   "cell_type": "code",
   "execution_count": 85,
   "metadata": {},
   "outputs": [
    {
     "name": "stdout",
     "output_type": "stream",
     "text": [
      "Schools with math above 500\n",
      "[('Iowa', '602'), ('North_Dakota', '601'), ('Illinois', '597'), ('South_Dakota', '597'), ('Wisconsin', '596'), ('Minnesota', '593'), ('Kansas', '585'), ('Missouri', '585'), ('Nebraska', '576'), ('Michigan', '573'), ('Oklahoma', '566'), ('Louisiana', '561'), ('Tennessee', '557'), ('Kentucky', '557'), ('Utah', '556'), ('Arkansas', '555'), ('Colorado', '553'), ('Alabama', '553'), ('Mississippi', '547'), ('Wyoming', '546'), ('New_Mexico', '543'), ('Ohio', '542'), ('Montana', '539'), ('Idaho', '539'), ('Washington', '531'), ('Oregon', '528'), ('Arizona', '524'), ('Massachusetts', '523'), ('New_Hampshire', '521'), ('California', '519'), ('Connecticut', '515'), ('Maryland', '515'), ('New_Jersey', '514'), ('Hawaii', '514'), ('Alaska', '514'), ('Nevada', '514'), ('West_Virginia', '514'), ('Vermont', '512'), ('New_York', '510'), ('Virginia', '509'), ('North_Carolina', '507'), ('Indiana', '506'), ('Pennsylvania', '502'), ('Rhode_Island', '502'), ('Maine', '501')]\n",
      "\n",
      "Schools with verbal above 500\n",
      "[('South_Dakota', '594'), ('Iowa', '593'), ('Minnesota', '587'), ('Missouri', '587'), ('Wisconsin', '587'), ('Illinois', '585'), ('Kansas', '584'), ('North_Dakota', '582'), ('Nebraska', '569'), ('Oklahoma', '569'), ('Arkansas', '569'), ('Tennessee', '567'), ('Utah', '565'), ('Louisiana', '564'), ('Michigan', '563'), ('Mississippi', '562'), ('Alabama', '560'), ('Kentucky', '559'), ('Colorado', '554'), ('New_Mexico', '554'), ('Wyoming', '551'), ('Idaho', '540'), ('Ohio', '538'), ('Montana', '537'), ('Washington', '528'), ('Oregon', '527'), ('West_Virginia', '524'), ('Arizona', '523'), ('New_Hampshire', '522'), ('Massachusetts', '518'), ('Alaska', '518'), ('Vermont', '516'), ('Connecticut', '515'), ('Virginia', '515'), ('Maryland', '511'), ('Nevada', '507'), ('Maine', '505'), ('Rhode_Island', '503'), ('New_Jersey', '501'), ('Pennsylvania', '501'), ('Indiana', '501'), ('California', '501')]\n",
      "\n",
      "max math score Iowa @ 602\n",
      "min math score D.C. @ 476\n",
      "\n",
      "max ver score South_Dakota @ 594\n",
      "min ver score Hawaii @ 487\n"
     ]
    }
   ],
   "source": [
    "num_rows = len(SATlist)\n",
    "\n",
    "\n",
    "\n",
    "#find schools with math scores > 500\n",
    "hschm = {}\n",
    "for (school, verbal, math) in SATlist:\n",
    "    if float(math) > 500:\n",
    "        hschm[school] = math\n",
    "\n",
    "hschv = {}\n",
    "for (school, verbal, math) in SATlist:\n",
    "    if float(verbal) > 500:\n",
    "        hschv[school] = verbal\n",
    "print(\"Schools with math above 500\")        \n",
    "print(sorted(hschm.items(), key=lambda kv: kv[1], reverse = True))\n",
    "print(\"\")\n",
    "print(\"Schools with verbal above 500\") \n",
    "print(sorted(hschv.items(), key=lambda kv: kv[1], reverse = True))\n",
    "#find the max and the min scores for each category in the list \n",
    "print(\"\")\n",
    "maxmat = max(SATlist, key=lambda x: x[2])\n",
    "minmat = min(SATlist, key=lambda x: x[2])\n",
    "\n",
    "maxver = max(SATlist, key=lambda x: x[1])\n",
    "minver = min(SATlist, key=lambda x: x[1])\n",
    "\n",
    "print('max math score', maxmat[0], '@', maxmat[2])\n",
    "print('min math score', minmat[0], '@', minmat[2])\n",
    "\n",
    "print(\"\")\n",
    "print('max ver score', maxver[0], '@', maxver[1])\n",
    "print('min ver score', minver[0], '@', minver[1])\n",
    "\n",
    "\n"
   ]
  },
  {
   "cell_type": "markdown",
   "metadata": {},
   "source": [
    "Schools with math above 500\n",
    "[('Iowa', '602'), ('North_Dakota', '601'), ('Illinois', '597'), ('South_Dakota', '597'), ('Wisconsin', '596'), ('Minnesota', '593'), ('Kansas', '585'), ('Missouri', '585'), ('Nebraska', '576'), ('Michigan', '573'), ('Oklahoma', '566'), ('Louisiana', '561'), ('Tennessee', '557'), ('Kentucky', '557'), ('Utah', '556'), ('Arkansas', '555'), ('Colorado', '553'), ('Alabama', '553'), ('Mississippi', '547'), ('Wyoming', '546'), ('New_Mexico', '543'), ('Ohio', '542'), ('Montana', '539'), ('Idaho', '539'), ('Washington', '531'), ('Oregon', '528'), ('Arizona', '524'), ('Massachusetts', '523'), ('New_Hampshire', '521'), ('California', '519'), ('Connecticut', '515'), ('Maryland', '515'), ('New_Jersey', '514'), ('Hawaii', '514'), ('Alaska', '514'), ('Nevada', '514'), ('West_Virginia', '514'), ('Vermont', '512'), ('New_York', '510'), ('Virginia', '509'), ('North_Carolina', '507'), ('Indiana', '506'), ('Pennsylvania', '502'), ('Rhode_Island', '502'), ('Maine', '501')]\n",
    "\n",
    "Schools with verbal above 500\n",
    "[('South_Dakota', '594'), ('Iowa', '593'), ('Minnesota', '587'), ('Missouri', '587'), ('Wisconsin', '587'), ('Illinois', '585'), ('Kansas', '584'), ('North_Dakota', '582'), ('Nebraska', '569'), ('Oklahoma', '569'), ('Arkansas', '569'), ('Tennessee', '567'), ('Utah', '565'), ('Louisiana', '564'), ('Michigan', '563'), ('Mississippi', '562'), ('Alabama', '560'), ('Kentucky', '559'), ('Colorado', '554'), ('New_Mexico', '554'), ('Wyoming', '551'), ('Idaho', '540'), ('Ohio', '538'), ('Montana', '537'), ('Washington', '528'), ('Oregon', '527'), ('West_Virginia', '524'), ('Arizona', '523'), ('New_Hampshire', '522'), ('Massachusetts', '518'), ('Alaska', '518'), ('Vermont', '516'), ('Connecticut', '515'), ('Virginia', '515'), ('Maryland', '511'), ('Nevada', '507'), ('Maine', '505'), ('Rhode_Island', '503'), ('New_Jersey', '501'), ('Pennsylvania', '501'), ('Indiana', '501'), ('California', '501')]\n",
    "\n",
    "max math score Iowa @ 602\n",
    "min math score D.C. @ 476\n",
    "\n",
    "max ver score South_Dakota @ 594\n",
    "min ver score Hawaii @ 487"
   ]
  }
 ],
 "metadata": {
  "kernelspec": {
   "display_name": "Python 3",
   "language": "python",
   "name": "python3"
  },
  "language_info": {
   "codemirror_mode": {
    "name": "ipython",
    "version": 3
   },
   "file_extension": ".py",
   "mimetype": "text/x-python",
   "name": "python",
   "nbconvert_exporter": "python",
   "pygments_lexer": "ipython3",
   "version": "3.6.5"
  }
 },
 "nbformat": 4,
 "nbformat_minor": 2
}
