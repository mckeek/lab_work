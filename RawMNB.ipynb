{
 "cells": [
  {
   "cell_type": "code",
   "execution_count": 1,
   "metadata": {},
   "outputs": [],
   "source": [
    "from nltk.probability import ELEProbDist, FreqDist\n",
    "from nltk import NaiveBayesClassifier\n",
    "from sklearn.model_selection import train_test_split\n",
    "from collections import defaultdict\n",
    "from nltk.tokenize import word_tokenize\n",
    "import pandas as pd\n",
    "import numpy as np\n",
    "import nltk\n",
    "from nltk.tokenize.api import TokenizerI\n",
    "from nltk.tokenize.util import align_tokens\n",
    "\n",
    "# import punkt\n",
    "from nltk.tokenize import TreebankWordTokenizer\n",
    "import nltk.tokenize.punkt\n",
    "from nltk.probability import FreqDist"
   ]
  },
  {
   "cell_type": "code",
   "execution_count": 2,
   "metadata": {},
   "outputs": [],
   "source": [
    "SWdf = pd.read_csv('NLPout.csv')"
   ]
  },
  {
   "cell_type": "code",
   "execution_count": 3,
   "metadata": {},
   "outputs": [
    {
     "data": {
      "text/plain": [
       "8"
      ]
     },
     "execution_count": 3,
     "metadata": {},
     "output_type": "execute_result"
    }
   ],
   "source": [
    "d = {\"TARKIN\": \"RED_LEADER\", \"WEDGE\": \"RED_LEADER\", \"RED LEADER\": \"RED_LEADER\",\"BEN'S VOICE\":\"BEN\",\"LUKE'S VOICE\":'LUKE',\"HAN'S VOICE\":\"HAN\", \"FIRST TROOPER\":\"TROOPER\", \"TROOPER VOICE\":\"TROOPER\"}\n",
    "SWdf = SWdf.replace(d)\n",
    "len(d)"
   ]
  },
  {
   "cell_type": "code",
   "execution_count": 4,
   "metadata": {},
   "outputs": [],
   "source": [
    "chars = [ 'LEIA','TROOPER','LUKE','HAN','THREEPIO','VADER','WEDGE','TARKIN','RED_LEADER','OFFICER','JABBA','BIGGS']\n",
    "#'LUKE','HAN','THREEPIO',\n",
    "ccorpus = SWdf.loc[SWdf['char'].isin(chars)]\n",
    "ccorpus = ccorpus[['text','char']]\n",
    "\n",
    "trainx, testx = train_test_split(ccorpus, test_size=0.2)"
   ]
  },
  {
   "cell_type": "code",
   "execution_count": 5,
   "metadata": {},
   "outputs": [
    {
     "data": {
      "text/plain": [
       "620"
      ]
     },
     "execution_count": 5,
     "metadata": {},
     "output_type": "execute_result"
    }
   ],
   "source": [
    "trainy = trainx.apply(tuple, axis=1)\n",
    "len(trainy)"
   ]
  },
  {
   "cell_type": "code",
   "execution_count": 6,
   "metadata": {},
   "outputs": [
    {
     "data": {
      "text/plain": [
       "620"
      ]
     },
     "execution_count": 6,
     "metadata": {},
     "output_type": "execute_result"
    }
   ],
   "source": [
    "train = []\n",
    "for (words, cclass) in trainy:\n",
    "    words_filtered = [e.lower() for e in words.split() if len(e) >= 3]\n",
    "    #print(words_filtered)\n",
    "    train.append((words_filtered, cclass))\n",
    "len(train)"
   ]
  },
  {
   "cell_type": "code",
   "execution_count": 7,
   "metadata": {},
   "outputs": [],
   "source": [
    "def get_words_in_tweets(train):\n",
    "    all_words = []\n",
    "    for (words, cclass) in train:\n",
    "      all_words.extend(words)\n",
    "    return all_words\n",
    "\n",
    "def get_word_features(wordlist):\n",
    "    wordlist = nltk.FreqDist(wordlist)\n",
    "    word_features = wordlist.keys()\n",
    "    return word_features\n",
    "\n"
   ]
  },
  {
   "cell_type": "code",
   "execution_count": 8,
   "metadata": {},
   "outputs": [
    {
     "data": {
      "text/plain": [
       "1874"
      ]
     },
     "execution_count": 8,
     "metadata": {},
     "output_type": "execute_result"
    }
   ],
   "source": [
    "word_features = get_word_features(get_words_in_tweets(train))\n",
    "len(word_features)"
   ]
  },
  {
   "cell_type": "code",
   "execution_count": 9,
   "metadata": {},
   "outputs": [],
   "source": [
    "def extract_features(document):\n",
    "    document_words = set(document)\n",
    "    features = {}\n",
    "    for word in word_features:\n",
    "        features['contains(%s)' % word] = (word in document_words)\n",
    "    return features\n"
   ]
  },
  {
   "cell_type": "code",
   "execution_count": 10,
   "metadata": {
    "scrolled": true
   },
   "outputs": [
    {
     "data": {
      "text/plain": [
       "620"
      ]
     },
     "execution_count": 10,
     "metadata": {},
     "output_type": "execute_result"
    }
   ],
   "source": [
    "training_set = nltk.classify.apply_features(extract_features, train)\n",
    "len(training_set)"
   ]
  },
  {
   "cell_type": "code",
   "execution_count": 11,
   "metadata": {},
   "outputs": [],
   "source": [
    "classifier = nltk.NaiveBayesClassifier.train(training_set)"
   ]
  },
  {
   "cell_type": "code",
   "execution_count": 12,
   "metadata": {},
   "outputs": [],
   "source": [
    "def train(labeled_featuresets, estimator=ELEProbDist):\n",
    "        \"\"\"\n",
    "        :param labeled_featuresets: A list of classified featuresets,\n",
    "            i.e., a list of tuples ``(featureset, label)``.\n",
    "        \"\"\"\n",
    "        label_freqdist = FreqDist()\n",
    "        feature_freqdist = defaultdict(FreqDist)\n",
    "        feature_values = defaultdict(set)\n",
    "        fnames = set()\n",
    "\n",
    "        # Count up how many times each feature value occurred, given\n",
    "        # the label and featurename.\n",
    "        for featureset, label in labeled_featuresets:\n",
    "            label_freqdist[label] += 1\n",
    "            for fname, fval in featureset.items():\n",
    "                # Increment freq(fval|label, fname)\n",
    "                feature_freqdist[label, fname][fval] += 1\n",
    "                # Record that fname can take the value fval.\n",
    "                feature_values[fname].add(fval)\n",
    "                # Keep a list of all feature names.\n",
    "                fnames.add(fname)\n",
    "\n",
    "        # If a feature didn't have a value given for an instance, then\n",
    "        # we assume that it gets the implicit value 'None.'  This loop\n",
    "        # counts up the number of 'missing' feature values for each\n",
    "        # (label,fname) pair, and increments the count of the fval\n",
    "        # 'None' by that amount.\n",
    "        for label in label_freqdist:\n",
    "            num_samples = label_freqdist[label]\n",
    "            for fname in fnames:\n",
    "                count = feature_freqdist[label, fname].N()\n",
    "                # Only add a None key when necessary, i.e. if there are\n",
    "                # any samples with feature 'fname' missing.\n",
    "                if num_samples - count > 0:\n",
    "                    feature_freqdist[label, fname][None] += num_samples - count\n",
    "                    feature_values[fname].add(None)\n",
    "\n",
    "        # Create the P(label) distribution\n",
    "        label_probdist = estimator(label_freqdist)\n",
    "\n",
    "        # Create the P(fval|label, fname) distribution\n",
    "        feature_probdist = {}\n",
    "        for ((label, fname), freqdist) in feature_freqdist.items():\n",
    "            probdist = estimator(freqdist, bins=len(feature_values[fname]))\n",
    "            feature_probdist[label, fname] = probdist\n",
    "\n",
    "        return label_probdist, feature_probdist"
   ]
  },
  {
   "cell_type": "code",
   "execution_count": 13,
   "metadata": {},
   "outputs": [],
   "source": [
    "label_probdist, feature_probdist = train(training_set, estimator=ELEProbDist)"
   ]
  },
  {
   "cell_type": "code",
   "execution_count": 14,
   "metadata": {},
   "outputs": [
    {
     "name": "stdout",
     "output_type": "stream",
     "text": [
      "LEIA 0.0728\n",
      "TROOPER 0.036\n",
      "LUKE 0.3272\n",
      "HAN 0.2008\n",
      "THREEPIO 0.1528\n",
      "VADER 0.052\n",
      "WEDGE 0.0008\n",
      "TARKIN 0.0008\n",
      "RED_LEADER 0.1016\n",
      "OFFICER 0.0136\n",
      "JABBA 0.0072\n",
      "BIGGS 0.036\n"
     ]
    }
   ],
   "source": [
    "for c in chars:\n",
    "    print(c, label_probdist.prob(c))"
   ]
  },
  {
   "cell_type": "code",
   "execution_count": 16,
   "metadata": {},
   "outputs": [],
   "source": [
    "#for c in chars:\n",
    "#    print(c, feature_probdist[(c, 'contains(force)')].prob(True))"
   ]
  },
  {
   "cell_type": "code",
   "execution_count": 17,
   "metadata": {},
   "outputs": [
    {
     "name": "stdout",
     "output_type": "stream",
     "text": [
      "Most Informative Features\n",
      "         contains(doing) = True            JABBA : LUKE   =     41.0 : 1.0\n",
      "          contains(out,) = True            JABBA : LUKE   =     41.0 : 1.0\n",
      "          contains(give) = True            JABBA : LUKE   =     41.0 : 1.0\n",
      "          contains(only) = True            JABBA : LUKE   =     41.0 : 1.0\n",
      "          contains(rest) = True            JABBA : LUKE   =     41.0 : 1.0\n",
      "         contains(away.) = True            JABBA : LUKE   =     41.0 : 1.0\n",
      "          contains(best) = True            JABBA : LUKE   =     41.0 : 1.0\n",
      "           contains(put) = True            JABBA : LUKE   =     41.0 : 1.0\n",
      "         contains(short) = True            JABBA : HAN    =     25.2 : 1.0\n",
      "           contains(why) = True            JABBA : HAN    =     25.2 : 1.0\n",
      "None\n"
     ]
    }
   ],
   "source": [
    "print( classifier.show_most_informative_features(10))"
   ]
  },
  {
   "cell_type": "code",
   "execution_count": 18,
   "metadata": {},
   "outputs": [
    {
     "data": {
      "text/plain": [
       "155"
      ]
     },
     "execution_count": 18,
     "metadata": {},
     "output_type": "execute_result"
    }
   ],
   "source": [
    "testy = testx.apply(tuple, axis=1)\n",
    "len(testy)\n",
    "\n",
    "#testy"
   ]
  },
  {
   "cell_type": "code",
   "execution_count": 19,
   "metadata": {},
   "outputs": [],
   "source": [
    "df = []\n",
    "for (words, cclass) in testy:\n",
    "    testout = classifier.classify(extract_features(words.split()))\n",
    "    df.append({'line': words, 'char': cclass, 'pred':\n",
    "        testout})\n",
    "        \n",
    "\n",
    "predictions = pd.DataFrame(df)"
   ]
  },
  {
   "cell_type": "code",
   "execution_count": 20,
   "metadata": {},
   "outputs": [
    {
     "data": {
      "text/plain": [
       "['BIGGS',\n",
       " 'HAN',\n",
       " 'JABBA',\n",
       " 'LEIA',\n",
       " 'LUKE',\n",
       " 'OFFICER',\n",
       " 'RED_LEADER',\n",
       " 'THREEPIO',\n",
       " 'TROOPER',\n",
       " 'VADER']"
      ]
     },
     "execution_count": 20,
     "metadata": {},
     "output_type": "execute_result"
    }
   ],
   "source": [
    "predictions = predictions.sort_values('char')\n",
    "char = list(predictions.char.unique())\n",
    "char"
   ]
  },
  {
   "cell_type": "code",
   "execution_count": 22,
   "metadata": {},
   "outputs": [
    {
     "data": {
      "image/png": "[encoded data removed]",
      "text/plain": [
       "<Figure size 432x288 with 2 Axes>"
      ]
     },
     "metadata": {},
     "output_type": "display_data"
    }
   ],
   "source": [
    "import itertools\n",
    "from sklearn.metrics import  confusion_matrix\n",
    "import matplotlib.pyplot as plt\n",
    "from sklearn.tree import DecisionTreeClassifier, export_graphviz\n",
    "def plot_confusion_matrix(cm, classes,\n",
    "                          title='x',\n",
    "                          cmap=plt.cm.Blues):\n",
    "    \n",
    " #   print(cm)\n",
    "\n",
    "    plt.imshow(cm, interpolation='nearest', cmap=cmap)\n",
    "    plt.title(title)\n",
    "    plt.colorbar()\n",
    "    tick_marks = np.arange(len(classes))\n",
    "    plt.xticks(tick_marks, classes, rotation=90)\n",
    "    plt.yticks(tick_marks, classes)\n",
    "\n",
    "    fmt = 'd'\n",
    "    thresh = cm.max() / 2.\n",
    "    for i, j in itertools.product(range(cm.shape[0]), range(cm.shape[1])):\n",
    "        plt.text(j, i, format(cm[i, j], fmt),\n",
    "                 horizontalalignment=\"center\",\n",
    "                 color=\"white\" if cm[i, j] > thresh else \"black\")\n",
    "\n",
    "    plt.ylabel('True label')\n",
    "    plt.xlabel('Predicted label')\n",
    "    plt.tight_layout()\n",
    "\n",
    "\n",
    "# Compute confusion matrix\n",
    "cnc_matrix = confusion_matrix(predictions[\"char\"], predictions[\"pred\"])\n",
    "np.set_printoptions(precision=2)\n",
    "\n",
    "# Compute confusion matrix\n",
    "#cns_matrix = confusion_matrix(X_test[\"Position\"], y_predp)\n",
    "#np.set_printoptions(precision=2)\n",
    "\n",
    "# Plot \n",
    "plt.figure()\n",
    "plot_confusion_matrix(cnc_matrix, classes=char,\n",
    "                      title='Predict Char Line')\n",
    "\n",
    "\n",
    "plt.show()\n",
    "\n",
    "# Plot \n",
    "#plt.figure()\n",
    "#plot_confusion_matrix(cnc_matrix, classes=pcnames,\n",
    "#                     title='Predict Char Line')\n",
    "\n",
    "\n",
    "#plt.show()\n",
    "\n"
   ]
  },
  {
   "cell_type": "code",
   "execution_count": null,
   "metadata": {},
   "outputs": [],
   "source": []
  }
 ],
 "metadata": {
  "kernelspec": {
   "display_name": "Python 3",
   "language": "python",
   "name": "python3"
  },
  "language_info": {
   "codemirror_mode": {
    "name": "ipython",
    "version": 3
   },
   "file_extension": ".py",
   "mimetype": "text/x-python",
   "name": "python",
   "nbconvert_exporter": "python",
   "pygments_lexer": "ipython3",
   "version": "3.6.5"
  }
 },
 "nbformat": 4,
 "nbformat_minor": 2
}
