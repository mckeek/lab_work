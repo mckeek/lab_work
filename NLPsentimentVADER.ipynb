{
 "cells": [
  {
   "cell_type": "code",
   "execution_count": 1,
   "metadata": {},
   "outputs": [],
   "source": [
    "#http://t-redactyl.io/blog/2017/04/using-vader-to-handle-sentiment-analysis-with-social-media-text.html\n",
    "from matplotlib import pyplot as plot\n",
    "from nltk.probability import ELEProbDist, FreqDist\n",
    "from nltk import NaiveBayesClassifier\n",
    "from sklearn.model_selection import train_test_split\n",
    "from nltk.sentiment.vader import SentimentIntensityAnalyzer\n",
    "\n",
    "from collections import defaultdict\n",
    "from nltk.tokenize import word_tokenize\n",
    "import json\n",
    "import nltk\n",
    "import pandas as pd\n",
    "import numpy as np\n",
    "import nltk\n",
    "import re\n",
    "import os\n",
    "import codecs\n",
    "from sklearn import feature_extraction\n",
    "from string import punctuation\n",
    "\n",
    "\n",
    "# import punkt\n",
    "from nltk.tokenize import TreebankWordTokenizer\n",
    "import nltk.tokenize.punkt\n",
    "from nltk.probability import FreqDist"
   ]
  },
  {
   "cell_type": "code",
   "execution_count": 2,
   "metadata": {},
   "outputs": [],
   "source": [
    "SWdf = pd.read_csv('NLPout.csv')\n",
    "#neg = lines = text_file.read().split(',')('negative-words.txt')\n",
    "#pos = pd.read_dcs('positive-words.txt')\n",
    "neg = 'negative-words.txt'\n",
    "pos = 'positive-words.txt'\n",
    "import codecs\n",
    "with codecs.open(neg, \"r\",encoding='utf-8', errors='ignore') as fdata:\n",
    "    neg = fdata.read()\n",
    "with codecs.open(pos, \"r\",encoding='utf-8', errors='ignore') as fdata:\n",
    "    pos = fdata.read()   \n",
    "#neg = neg.replace(\"\\r\\n\", \",\")\n",
    "#pos = pos.replace(\"\\r\\n\", \",\")"
   ]
  },
  {
   "cell_type": "code",
   "execution_count": 3,
   "metadata": {},
   "outputs": [],
   "source": [
    "d = {\"RED LEADER\": \"RED_LEADER\",\"BEN'S VOICE\":\"BEN\",\"LUKE'S VOICE\":'LUKE',\"HAN'S VOICE\":\"HAN\", \"FIRST TROOPER\":\"TROOPER\", \"TROOPER VOICE\":\"TROOPER\"}\n",
    "SWdf = SWdf.replace(d)"
   ]
  },
  {
   "cell_type": "code",
   "execution_count": 4,
   "metadata": {},
   "outputs": [],
   "source": [
    "chars = [ 'LEIA', 'BEN','LUKE','HAN','TROOPER','VADER','WEDGE','THREEPIO','TARKIN','RED_LEADER','OFFICER','JABBA','BIGGS']\n",
    "#'LUKE','HAN'\n",
    "ccorpus = SWdf.loc[SWdf['char'].isin(chars)]\n",
    "ccorpus = ccorpus[['text','char']]\n",
    "\n",
    "trainx, testx = train_test_split(ccorpus, test_size=0.2)"
   ]
  },
  {
   "cell_type": "code",
   "execution_count": 5,
   "metadata": {},
   "outputs": [],
   "source": [
    "trainA = SWdf.apply(tuple, axis=1)"
   ]
  },
  {
   "cell_type": "code",
   "execution_count": 6,
   "metadata": {},
   "outputs": [
    {
     "data": {
      "text/plain": [
       "684"
      ]
     },
     "execution_count": 6,
     "metadata": {},
     "output_type": "execute_result"
    }
   ],
   "source": [
    "trainy = trainx.apply(tuple, axis=1)\n",
    "len(trainy)"
   ]
  },
  {
   "cell_type": "code",
   "execution_count": 7,
   "metadata": {},
   "outputs": [],
   "source": [
    "analyser = SentimentIntensityAnalyzer()"
   ]
  },
  {
   "cell_type": "code",
   "execution_count": 8,
   "metadata": {},
   "outputs": [],
   "source": [
    "def print_sentiment_scores(sentence):\n",
    "    snt = analyser.polarity_scores(sentence)\n",
    "    return snt"
   ]
  },
  {
   "cell_type": "code",
   "execution_count": 9,
   "metadata": {},
   "outputs": [],
   "source": [
    "def print_sentiment_scores(tweets):\n",
    "    sent = analyser.polarity_scores(tweets)\n",
    "    slist = pd.Series([sent['pos'], sent['neg'], sent['neu'], sent['compound']])\n",
    "    return slist"
   ]
  },
  {
   "cell_type": "code",
   "execution_count": 10,
   "metadata": {},
   "outputs": [],
   "source": [
    "dat1 = []\n",
    "dat2 = []\n",
    "for (words, cclass) in trainy:\n",
    "    score = print_sentiment_scores(words)\n",
    "    #print(score)\n",
    "    #print(words_filtered)\n",
    "    dat1.append({'line': words, 'char': cclass})\n",
    "    dat2.append(score)\n",
    "dat1 = pd.DataFrame(dat1)\n",
    "dat2 = pd.DataFrame(dat2)\n",
    "dat2.rename(columns={0: 'pos', 1: 'neg', 2: 'neu', 3: 'comp'}, inplace=True)\n",
    "sent = pd.concat([dat1, dat2], axis=1)\n",
    "\n",
    "#df"
   ]
  },
  {
   "cell_type": "code",
   "execution_count": 11,
   "metadata": {},
   "outputs": [
    {
     "data": {
      "text/plain": [
       "0.9468"
      ]
     },
     "execution_count": 11,
     "metadata": {},
     "output_type": "execute_result"
    }
   ],
   "source": [
    "sent['comp'].max()"
   ]
  },
  {
   "cell_type": "code",
   "execution_count": 12,
   "metadata": {},
   "outputs": [
    {
     "data": {
      "text/plain": [
       "LUKE          199\n",
       "HAN           127\n",
       "THREEPIO       90\n",
       "BEN            64\n",
       "LEIA           48\n",
       "VADER          37\n",
       "BIGGS          28\n",
       "RED_LEADER     24\n",
       "TROOPER        22\n",
       "TARKIN         20\n",
       "WEDGE          12\n",
       "OFFICER         9\n",
       "JABBA           4\n",
       "Name: char, dtype: int64"
      ]
     },
     "execution_count": 12,
     "metadata": {},
     "output_type": "execute_result"
    }
   ],
   "source": [
    "sent['char'].value_counts()"
   ]
  },
  {
   "cell_type": "code",
   "execution_count": 13,
   "metadata": {},
   "outputs": [],
   "source": [
    "agg = sent.groupby('char').mean()\n"
   ]
  },
  {
   "cell_type": "code",
   "execution_count": 14,
   "metadata": {},
   "outputs": [
    {
     "data": {
      "image/png": "[encoded data removed]",
      "text/plain": [
       "<Figure size 1080x720 with 1 Axes>"
      ]
     },
     "metadata": {},
     "output_type": "display_data"
    }
   ],
   "source": [
    "import matplotlib.pyplot as plt\n",
    "ax = agg[['pos','neg','comp']].plot(kind='bar', title =\"Vader Score\", figsize=(15, 10), legend=True, fontsize=12)\n",
    "#ax.set_xlabel(chars, fontsize=12)\n",
    "plt.show()"
   ]
  },
  {
   "cell_type": "code",
   "execution_count": null,
   "metadata": {},
   "outputs": [],
   "source": []
  }
 ],
 "metadata": {
  "kernelspec": {
   "display_name": "Python 3",
   "language": "python",
   "name": "python3"
  },
  "language_info": {
   "codemirror_mode": {
    "name": "ipython",
    "version": 3
   },
   "file_extension": ".py",
   "mimetype": "text/x-python",
   "name": "python",
   "nbconvert_exporter": "python",
   "pygments_lexer": "ipython3",
   "version": "3.6.5"
  }
 },
 "nbformat": 4,
 "nbformat_minor": 2
}
