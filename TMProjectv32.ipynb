{
 "cells": [
  {
   "cell_type": "markdown",
   "metadata": {},
   "source": [
    "# Tutorial - build MNB with sklearn"
   ]
  },
  {
   "cell_type": "markdown",
   "metadata": {},
   "source": [
    "This tutorial demonstrates how to use the Sci-kit Learn (sklearn) package to build Multinomial Naive Bayes model, rank features, and use the model for prediction. \n",
    "\n",
    "The data from the Kaggle Sentiment Analysis on Movie Review Competition are used in this tutorial. Check out the details of the data and the competition on Kaggle.\n",
    "https://www.kaggle.com/c/sentiment-analysis-on-movie-reviews\n",
    "\n",
    "The tutorial also includes sample code to prepare your prediction result for submission to Kaggle. Although the competition is over, you can still submit your prediction to get an evaluation score."
   ]
  },
  {
   "cell_type": "markdown",
   "metadata": {},
   "source": [
    "# Step 1: Read in data"
   ]
  },
  {
   "cell_type": "code",
   "execution_count": 1,
   "metadata": {},
   "outputs": [],
   "source": [
    "# read in the training data\n",
    "\n",
    "# the data set includes four columns: PhraseId, SentenceId, Phrase, Sentiment\n",
    "# In this data set a sentence is further split into phrases \n",
    "# in order to build a sentiment classification model\n",
    "# that can not only predict sentiment of sentences but also shorter phrases\n",
    "\n",
    "# A data example:\n",
    "# PhraseId SentenceId Phrase Sentiment\n",
    "# 1 1 A series of escapades demonstrating the adage that what is good for the goose is also good for the gander , some of which occasionally amuses but none of which amounts to much of a story .1\n",
    "\n",
    "# the Phrase column includes the training examples\n",
    "# the Sentiment column includes the training labels\n",
    "# \"0\" for very negative\n",
    "# \"1\" for negative\n",
    "# \"2\" for neutral\n",
    "# \"3\" for positive\n",
    "# \"4\" for very positive\n",
    "\n",
    "\n",
    "import pandas as p\n",
    "pre=p.read_csv(\"/Users/kenmckee/Desktop/pri.csv\", delimiter=',') \n",
    "\n",
    "\n",
    "\n",
    "\n",
    "\n",
    "#print(pre)\n",
    "pre = pre.replace('\\n',' ', regex=True)\n",
    "pre = pre.replace('\\r',' ', regex=True)\n",
    "pre = pre.replace('\\.','', regex=True)\n",
    "\n",
    "chars = chars = ['BERNSTEIN','KANE','LELAND','SUSAN','THOMPSON']\n",
    "\n",
    "ccorpus = pre.loc[pre['char'].isin(chars)]\n",
    "#ccorpus = pre.groupby('char')['text'].apply(' '.join).reset_index()\n",
    "#ccorpus = ccorpus.groupby('char')['text'].apply(' '.join).reset_index()\n",
    "#ccorpus = ccorpus.apply(lambda x: x.str.strip() if x.dtype == \"object\" else x)\n",
    "\n",
    "\n",
    "\n",
    "\n",
    "y=ccorpus['char'].values \n",
    "X=ccorpus['text'].values\n",
    "\n"
   ]
  },
  {
   "cell_type": "markdown",
   "metadata": {},
   "source": [
    "# Step 2: Split train/test data for hold-out test"
   ]
  },
  {
   "cell_type": "code",
   "execution_count": 2,
   "metadata": {},
   "outputs": [
    {
     "name": "stdout",
     "output_type": "stream",
     "text": [
      "(403,) (403,) (269,) (269,)\n",
      "Charlie \n",
      "LELAND\n",
      "Mr Bernstein these men who are now with the Enquirer  who were with the Chronicle until yesterday  weren't they just as devoted to the Chronicle kind of paper as they are now to  our kind of paper?\n",
      "LELAND\n"
     ]
    }
   ],
   "source": [
    "# check the sklearn documentation for train_test_split\n",
    "# http://scikit-learn.org/stable/modules/generated/sklearn.model_selection.train_test_split.html\n",
    "# \"test_size\" : float, int, None, optional\n",
    "# If float, should be between 0.0 and 1.0 and represent the proportion of the dataset to include in the test split. \n",
    "# If int, represents the absolute number of test samples. \n",
    "# If None, the value is set to the complement of the train size. \n",
    "# By default, the value is set to 0.25. The default will change in version 0.21. It will remain 0.25 only if train_size is unspecified, otherwise it will complement the specified train_size.    \n",
    "\n",
    "from sklearn.model_selection import train_test_split\n",
    "X_train, X_test, y_train, y_test = train_test_split(X, y, test_size=0.4, random_state=0)\n",
    "\n",
    "print(X_train.shape, y_train.shape, X_test.shape, y_test.shape)\n",
    "print(X_train[0])\n",
    "print(y_train[0])\n",
    "print(X_test[0])\n",
    "print(y_test[0])"
   ]
  },
  {
   "cell_type": "markdown",
   "metadata": {},
   "source": [
    "# Step 2.1 Data Checking"
   ]
  },
  {
   "cell_type": "code",
   "execution_count": 3,
   "metadata": {},
   "outputs": [
    {
     "name": "stdout",
     "output_type": "stream",
     "text": [
      "train vectors\n",
      "{'BERNSTEIN', 'LELAND', 'KANE', 'THOMPSON', 'SUSAN'}\n",
      "[['BERNSTEIN' 58]\n",
      " ['KANE' 178]\n",
      " ['LELAND' 64]\n",
      " ['SUSAN' 63]\n",
      " ['THOMPSON' 40]]\n",
      "\n",
      " test vectors\n",
      "{'BERNSTEIN', 'LELAND', 'KANE', 'THOMPSON', 'SUSAN'}\n",
      "[['BERNSTEIN' 38]\n",
      " ['KANE' 134]\n",
      " ['LELAND' 40]\n",
      " ['SUSAN' 32]\n",
      " ['THOMPSON' 25]]\n"
     ]
    },
    {
     "name": "stderr",
     "output_type": "stream",
     "text": [
      "/anaconda3/lib/python3.6/site-packages/ipykernel_launcher.py:9: DeprecationWarning: `itemfreq` is deprecated!\n",
      "`itemfreq` is deprecated and will be removed in a future version. Use instead `np.unique(..., return_counts=True)`\n",
      "  if __name__ == '__main__':\n",
      "/anaconda3/lib/python3.6/site-packages/ipykernel_launcher.py:16: DeprecationWarning: `itemfreq` is deprecated!\n",
      "`itemfreq` is deprecated and will be removed in a future version. Use instead `np.unique(..., return_counts=True)`\n",
      "  app.launch_new_instance()\n"
     ]
    }
   ],
   "source": [
    "# Check how many training examples in each category\n",
    "# this is important to see whether the data set is balanced or skewed\n",
    "\n",
    "#print(list(y_train))\n",
    "print(\"train vectors\")\n",
    "training_labels = set(y_train)\n",
    "print(training_labels)\n",
    "from scipy.stats import itemfreq\n",
    "training_category_dist = itemfreq(y_train)\n",
    "print(training_category_dist)\n",
    "\n",
    "print(\"\\n test vectors\")\n",
    "training_labels = set(y_test)\n",
    "print(training_labels)\n",
    "from scipy.stats import itemfreq\n",
    "training_category_dist = itemfreq(y_test)\n",
    "print(training_category_dist)\n",
    "\n"
   ]
  },
  {
   "cell_type": "markdown",
   "metadata": {},
   "source": [
    "# Exercise A"
   ]
  },
  {
   "cell_type": "markdown",
   "metadata": {},
   "source": [
    "# Step 3: Vectorization"
   ]
  },
  {
   "cell_type": "code",
   "execution_count": 4,
   "metadata": {},
   "outputs": [],
   "source": [
    "# sklearn contains two vectorizers\n",
    "\n",
    "# CountVectorizer can give you Boolean or TF vectors\n",
    "# http://scikit-learn.org/stable/modules/generated/sklearn.feature_extraction.text.CountVectorizer.html\n",
    "\n",
    "# TfidfVectorizer can give you TF or TFIDF vectors\n",
    "# http://scikit-learn.org/stable/modules/generated/sklearn.feature_extraction.text.TfidfVectorizer.html\n",
    "\n",
    "# Read the sklearn documentation to understand all vectorization options\n",
    "\n",
    "from sklearn.feature_extraction.text import CountVectorizer\n",
    "from sklearn.feature_extraction.text import TfidfVectorizer\n",
    "\n",
    "# several commonly used vectorizer setting\n",
    "\n",
    "#  unigram boolean vectorizer, set minimum document frequency to 5\n",
    "unigram_bool_vectorizer = CountVectorizer(encoding='latin-1', binary=True, min_df=5, stop_words='english')\n",
    "\n",
    "#  unigram term frequency vectorizer, set minimum document frequency to 5\n",
    "unigram_count_vectorizer = CountVectorizer(encoding='latin-1', binary=False, min_df=5, stop_words='english')\n",
    "\n",
    "#  unigram and bigram term frequency vectorizer, set minimum document frequency to 5\n",
    "gram12_count_vectorizer = CountVectorizer(encoding='latin-1', ngram_range=(1,2), min_df=5, stop_words='english')\n",
    "\n",
    "#  unigram tfidf vectorizer, set minimum document frequency to 5\n",
    "unigram_tfidf_vectorizer = TfidfVectorizer(encoding='latin-1', use_idf=True, min_df=3, stop_words='english')\n",
    "\n",
    "#  unigram SVM vectorizer, set minimum document frequency to 5\n"
   ]
  },
  {
   "cell_type": "markdown",
   "metadata": {},
   "source": [
    "## Step 3.1: Vectorize the training data"
   ]
  },
  {
   "cell_type": "code",
   "execution_count": 5,
   "metadata": {},
   "outputs": [
    {
     "name": "stdout",
     "output_type": "stream",
     "text": [
      "(403, 227)\n",
      "[[0. 0. 0. 0. 0. 0. 0. 0. 0. 0. 0. 0. 0. 0. 0. 0. 0. 0. 1. 0. 0. 0. 0. 0.\n",
      "  0. 0. 0. 0. 0. 0. 0. 0. 0. 0. 0. 0. 0. 0. 0. 0. 0. 0. 0. 0. 0. 0. 0. 0.\n",
      "  0. 0. 0. 0. 0. 0. 0. 0. 0. 0. 0. 0. 0. 0. 0. 0. 0. 0. 0. 0. 0. 0. 0. 0.\n",
      "  0. 0. 0. 0. 0. 0. 0. 0. 0. 0. 0. 0. 0. 0. 0. 0. 0. 0. 0. 0. 0. 0. 0. 0.\n",
      "  0. 0. 0. 0. 0. 0. 0. 0. 0. 0. 0. 0. 0. 0. 0. 0. 0. 0. 0. 0. 0. 0. 0. 0.\n",
      "  0. 0. 0. 0. 0. 0. 0. 0. 0. 0. 0. 0. 0. 0. 0. 0. 0. 0. 0. 0. 0. 0. 0. 0.\n",
      "  0. 0. 0. 0. 0. 0. 0. 0. 0. 0. 0. 0. 0. 0. 0. 0. 0. 0. 0. 0. 0. 0. 0. 0.\n",
      "  0. 0. 0. 0. 0. 0. 0. 0. 0. 0. 0. 0. 0. 0. 0. 0. 0. 0. 0. 0. 0. 0. 0. 0.\n",
      "  0. 0. 0. 0. 0. 0. 0. 0. 0. 0. 0. 0. 0. 0. 0. 0. 0. 0. 0. 0. 0. 0. 0. 0.\n",
      "  0. 0. 0. 0. 0. 0. 0. 0. 0. 0. 0.]]\n",
      "227\n",
      "\n",
      " tfidf\n",
      "[('charlie', 18), ('ll', 99), ('mr', 119), ('carter', 12), ('ve', 204), ('good', 63), ('day', 28), ('wonderful', 215), ('kane', 82), ('singing', 161)]\n",
      "\n",
      " unigram\n",
      "[('charlie', 11), ('ll', 46), ('mr', 62), ('carter', 7), ('ve', 99), ('good', 30), ('day', 15), ('wonderful', 105), ('kane', 38), ('want', 100)]\n",
      "\n",
      " gram12\n",
      "[('charlie', 11), ('ll', 47), ('mr', 63), ('carter', 7), ('ve', 106), ('good', 31), ('day', 15), ('mr carter', 65), ('wonderful', 114), ('kane', 39)]\n",
      "\n",
      " bool\n",
      "[('charlie', 11), ('ll', 46), ('mr', 62), ('carter', 7), ('ve', 99), ('good', 30), ('day', 15), ('wonderful', 105), ('kane', 38), ('want', 100)]\n",
      "None\n"
     ]
    }
   ],
   "source": [
    "# The vectorizer can do \"fit\" and \"transform\"\n",
    "# fit is a process to collect unique tokens into the vocabulary\n",
    "# transform is a process to convert each document to vector based on the vocabulary\n",
    "# These two processes can be done together using fit_transform(), or used individually: fit() or transform()\n",
    "\n",
    "\n",
    "\n",
    "#  unigram boolean vectorizer, set minimum document frequency to 5\n",
    "X_train_bool = unigram_bool_vectorizer.fit_transform(X_train)\n",
    "X_test_bool = unigram_bool_vectorizer.transform(X_test)\n",
    "\n",
    "#  unigram term frequency vectorizer, set minimum document frequency to 5\n",
    "X_train_uni = unigram_count_vectorizer.fit_transform(X_train) \n",
    "X_test_uni = unigram_count_vectorizer.transform(X_test) \n",
    "\n",
    "#  unigram and bigram term frequency vectorizer, set minimum document frequency to 5\n",
    "X_train_gram = gram12_count_vectorizer.fit_transform(X_train) \n",
    "X_test_gram = gram12_count_vectorizer.transform(X_test)\n",
    "\n",
    "#  unigram tfidf vectorizer, set minimum document frequency to 5\n",
    "X_train_tfidf = unigram_tfidf_vectorizer.fit_transform(X_train)\n",
    "X_test_tfidf = unigram_tfidf_vectorizer.transform(X_test)\n",
    "\n",
    "\n",
    "\n",
    "# check the content of a document vector\n",
    "print(X_train_tfidf.shape)\n",
    "print(X_train_tfidf[0].toarray())\n",
    "\n",
    "# check the size of the constructed vocabulary\n",
    "print(len(unigram_tfidf_vectorizer.vocabulary_))\n",
    "\n",
    "# print out the first 10 items in the vocabulary\n",
    "print(\"\\n tfidf\")\n",
    "print(list(unigram_tfidf_vectorizer.vocabulary_.items())[:10])\n",
    "print(\"\\n unigram\")\n",
    "print(list(unigram_count_vectorizer.vocabulary_.items())[:10])\n",
    "print(\"\\n gram12\")\n",
    "print(list(gram12_count_vectorizer.vocabulary_.items())[:10])\n",
    "print(\"\\n bool\")\n",
    "print(list(unigram_bool_vectorizer.vocabulary_.items())[:10])\n",
    "\n",
    "\n",
    "# check word index in vocabulary\n",
    "print(unigram_tfidf_vectorizer.vocabulary_.get('imaginative'))"
   ]
  },
  {
   "cell_type": "markdown",
   "metadata": {},
   "source": [
    "# Exercise B"
   ]
  },
  {
   "cell_type": "markdown",
   "metadata": {},
   "source": [
    "# Step 4: Train a MNB classifier"
   ]
  },
  {
   "cell_type": "code",
   "execution_count": 6,
   "metadata": {},
   "outputs": [
    {
     "data": {
      "text/plain": [
       "MultinomialNB(alpha=1.0, class_prior=None, fit_prior=True)"
      ]
     },
     "execution_count": 6,
     "metadata": {},
     "output_type": "execute_result"
    }
   ],
   "source": [
    "# import the MNB module\n",
    "from sklearn.naive_bayes import MultinomialNB\n",
    "\n",
    "# initialize the MNB model\n",
    "nb_clf= MultinomialNB()\n",
    "\n",
    "# use the training data to train the MNB model\n",
    "nb_clf.fit(X_train_gram,y_train)"
   ]
  },
  {
   "cell_type": "markdown",
   "metadata": {},
   "source": [
    "# Step 4.1 Interpret a trained MNB model"
   ]
  },
  {
   "cell_type": "code",
   "execution_count": 7,
   "metadata": {},
   "outputs": [
    {
     "name": "stdout",
     "output_type": "stream",
     "text": [
      "-5.958424693029782\n",
      "-5.842094090453713\n",
      "-4.356708826689592\n",
      "-5.87493073085203\n",
      "-5.375278407684165\n"
     ]
    }
   ],
   "source": [
    "## interpreting naive Bayes models\n",
    "## by consulting the sklearn documentation you can also find out how to print the coef_ for naive Bayes \n",
    "## which are the conditional probabilities\n",
    "## http://scikit-learn.org/stable/modules/generated/sklearn.naive_bayes.MultinomialNB.html\n",
    "\n",
    "# the code below will print out the conditional prob of the word \"worthless\" in each category\n",
    "# sample output\n",
    "# -8.98942647599 -> logP('worthless'|very negative')\n",
    "# -11.1864401922 -> logP('worthless'|negative')\n",
    "# -12.3637684625 -> logP('worthless'|neutral')\n",
    "# -11.9886066961 -> logP('worthless'|positive')\n",
    "# -11.0504454621 -> logP('worthless'|very positive')\n",
    "# the above output means the word feature \"worthless\" is indicating \"very negative\" \n",
    "# because P('worthless'|very negative) is the greatest among all conditional probs\n",
    "\n",
    "gram12_count_vectorizer.vocabulary_.get('charlie')\n",
    "for i in range(0,5):\n",
    "  print(nb_clf.coef_[i][unigram_tfidf_vectorizer.vocabulary_.get('charlie')])"
   ]
  },
  {
   "cell_type": "markdown",
   "metadata": {},
   "source": [
    "Sample output:\n",
    "\n",
    "-8.5389826392\n",
    "-10.6436375867\n",
    "-11.8419845779\n",
    "-11.4778370023\n",
    "-10.6297551464"
   ]
  },
  {
   "cell_type": "code",
   "execution_count": 8,
   "metadata": {},
   "outputs": [
    {
     "name": "stdout",
     "output_type": "stream",
     "text": [
      "[(-4.166665223801727, 'tell'), (-4.166665223801727, 'thompson'), (-4.166665223801727, 'want'), (-4.0125145439744685, 'just'), (-3.878983151349946, 'don'), (-3.878983151349946, 'wonderful'), (-3.655839600035736, 'leland'), (-3.125211348973566, 'mr kane'), (-3.0680529351336174, 'kane'), (-2.7395488681615814, 'mr')]\n"
     ]
    }
   ],
   "source": [
    "# sort the conditional probability for category 0 \"very negative\"\n",
    "# print the words with highest conditional probs\n",
    "# these can be words popular in the \"very negative\" category alone, or words popular in all cateogires\n",
    "\n",
    "feature_ranks = sorted(zip(nb_clf.coef_[0], gram12_count_vectorizer.get_feature_names()))\n",
    "very_negative_features = feature_ranks[-10:]\n",
    "print(very_negative_features)"
   ]
  },
  {
   "cell_type": "code",
   "execution_count": 9,
   "metadata": {},
   "outputs": [],
   "source": [
    "# pretty print of top and bottom features\n",
    "\n",
    "# This is a function I found from stackexchange, and adapted a little bit\n",
    "# The purpose is to print the top and bottom features nicely\n",
    "# https://stackoverflow.com/questions/11116697/how-to-get-most-informative-features-for-scikit-learn-classifiers\n",
    "\n",
    "# You can find many useful scripts from stackexchange or GitHub\n",
    "# Most tasks are not so unique, so someone in this world might have done something similar and shared their code\n",
    "\n",
    "def show_most_and_least_informative_features(vectorizer, clf, class_idx=0, n=10):\n",
    "    feature_names = vectorizer.get_feature_names()\n",
    "    coefs_with_fns = sorted(zip(clf.coef_[class_idx], feature_names))\n",
    "    top = zip(coefs_with_fns[:n], coefs_with_fns[-n:])\n",
    "    for (coef_1, fn_1), (coef_2, fn_2) in top:\n",
    "        print(\"\\t%.4f\\t%-15s\\t\\t%.4f\\t%-15s\" % (coef_1, fn_1, coef_2, fn_2))\n",
    "        \n"
   ]
  },
  {
   "cell_type": "code",
   "execution_count": 10,
   "metadata": {},
   "outputs": [
    {
     "name": "stdout",
     "output_type": "stream",
     "text": [
      "\t-5.3753\task            \t\t-4.2767\tthought        \n",
      "\t-5.3753\tbrad           \t\t-4.2767\tyes            \n",
      "\t-5.3753\tbusiness       \t\t-3.9890\tdidn           \n",
      "\t-5.3753\tcame           \t\t-3.9890\tmr kane        \n",
      "\t-5.3753\tcarter         \t\t-3.9890\tsorry          \n",
      "\t-5.3753\tcents          \t\t-3.7658\tknow           \n",
      "\t-5.3753\tchanged        \t\t-3.7658\tll             \n",
      "\t-5.3753\tcharlie        \t\t-3.7658\tmaybe          \n",
      "\t-5.3753\tchronicle      \t\t-3.4294\tkane           \n",
      "\t-5.3753\tcountry        \t\t-3.1781\tmr             \n"
     ]
    }
   ],
   "source": [
    "# show most positive features (category 4)\n",
    "show_most_and_least_informative_features(gram12_count_vectorizer, nb_clf, class_idx=4, n=10)"
   ]
  },
  {
   "cell_type": "code",
   "execution_count": 11,
   "metadata": {},
   "outputs": [
    {
     "data": {
      "text/plain": [
       "-4.276666119016055"
      ]
     },
     "execution_count": 11,
     "metadata": {},
     "output_type": "execute_result"
    }
   ],
   "source": [
    "nb_clf.coef_[4][0]"
   ]
  },
  {
   "cell_type": "markdown",
   "metadata": {},
   "source": [
    "# Exercise C"
   ]
  },
  {
   "cell_type": "code",
   "execution_count": 12,
   "metadata": {},
   "outputs": [
    {
     "name": "stdout",
     "output_type": "stream",
     "text": [
      "Top Features:\n",
      "1.4937198603643935 sorry\n",
      "1.3932405586996475 mr bernstein\n",
      "1.3932405586996475 live\n",
      "1.3932405586996475 bernstein\n",
      "1.2904987373977888 maybe\n",
      "1.272588145012216 remember\n",
      "1.272588145012216 people\n",
      "1.272588145012216 mrs kane\n",
      "1.272588145012216 mrs\n",
      "1.272588145012216 love\n",
      "Bottom Features:\n",
      "0.72163390566055 wonderful\n",
      "0.7751533795617582 looking\n",
      "0.7751533795617582 thompson\n",
      "0.7751533795617582 want\n",
      "0.7834604782802581 mr kane\n",
      "0.8090719123271157 elected\n",
      "0.8090719123271157 thatcher\n",
      "0.8284652785634182 don\n",
      "0.8505848414053971 enquirer\n",
      "0.8505848414053971 looks\n"
     ]
    },
    {
     "data": {
      "text/plain": [
       "[None, None, None, None, None, None, None, None, None, None]"
      ]
     },
     "execution_count": 12,
     "metadata": {},
     "output_type": "execute_result"
    }
   ],
   "source": [
    "# calculate log ratio of conditional probs\n",
    "\n",
    "# In this exercise you will calculate the log ratio \n",
    "# between conditional probs in the \"very negative\" category\n",
    "# and conditional probs in the \"very positive\" category,\n",
    "# and then sort and print out the top and bottom 10 words\n",
    "\n",
    "# the conditional probs for the \"very negative\" category is stored in nb_clf.coef_[0]\n",
    "# the conditional probs for the \"very positive\" category is stored in nb_clf.coef_[4]\n",
    "\n",
    "# You can consult with similar code in week 4's sample script on feature weighting\n",
    "# Note that in sklearn's MultinomialNB the conditional probs have been converted to log values.\n",
    "\n",
    "# Your code starts here\n",
    "\n",
    "ratios = (nb_clf.feature_log_prob_[0]/nb_clf.feature_log_prob_[4])\n",
    "feature_ranks = sorted(zip(ratios,gram12_count_vectorizer.get_feature_names()))\n",
    "botton_features = feature_ranks[0:10]\n",
    "top_features = feature_ranks[-10:]\n",
    "print(\"Top Features:\")\n",
    "[print(x[0],x[1]) for x in reversed(top_features) ]\n",
    "print(\"Bottom Features:\")\n",
    "[print(x[0],x[1]) for x in botton_features]\n",
    "\n",
    "\n",
    "\n",
    "\n",
    "# Your code ends here"
   ]
  },
  {
   "cell_type": "markdown",
   "metadata": {},
   "source": [
    "# Step 5: Test the MNB classifier"
   ]
  },
  {
   "cell_type": "code",
   "execution_count": 13,
   "metadata": {},
   "outputs": [
    {
     "name": "stdout",
     "output_type": "stream",
     "text": [
      "Automatically created module for IPython interactive environment\n",
      "Confusion matrix, without normalization\n",
      "[[15 13  1  3  6]\n",
      " [11 97 13 10  3]\n",
      " [ 2 21 10  7  0]\n",
      " [ 2 12  4 11  3]\n",
      " [ 4 10  3  2  6]]\n",
      "Normalized confusion matrix\n",
      "[[0.39 0.34 0.03 0.08 0.16]\n",
      " [0.08 0.72 0.1  0.07 0.02]\n",
      " [0.05 0.53 0.25 0.17 0.  ]\n",
      " [0.06 0.38 0.12 0.34 0.09]\n",
      " [0.16 0.4  0.12 0.08 0.24]]\n"
     ]
    },
    {
     "data": {
      "text/plain": [
       "<Figure size 640x480 with 2 Axes>"
      ]
     },
     "metadata": {},
     "output_type": "display_data"
    },
    {
     "data": {
      "text/plain": [
       "<Figure size 640x480 with 2 Axes>"
      ]
     },
     "metadata": {},
     "output_type": "display_data"
    }
   ],
   "source": [
    "print(__doc__)\n",
    "\n",
    "import itertools\n",
    "import numpy as np\n",
    "import matplotlib.pyplot as plt\n",
    "\n",
    "from sklearn import svm, datasets\n",
    "from sklearn.model_selection import train_test_split\n",
    "from sklearn.metrics import confusion_matrix\n",
    "\n",
    "# Run classifier, using a model that is too regularized (C too low) to see\n",
    "# the impact on the results\n",
    "classifier = svm.SVC(decision_function_shape='ovo')\n",
    "classifiern = svm.LinearSVC()\n",
    "#y_pred = classifier.fit(X_train_gram, y_train).predict(X_test_gram)\n",
    "y_predx = classifiern.fit(X_train_gram, y_train).predict(X_test_gram)\n",
    "\n",
    "\n",
    "def plot_confusion_matrix(cm, classes,\n",
    "                          normalize=False,\n",
    "                          title='Confusion matrix',\n",
    "                          cmap=plt.cm.Blues):\n",
    "    \"\"\"\n",
    "    This function prints and plots the confusion matrix.\n",
    "    Normalization can be applied by setting `normalize=True`.\n",
    "    \"\"\"\n",
    "    if normalize:\n",
    "        cm = cm.astype('float') / cm.sum(axis=1)[:, np.newaxis]\n",
    "        print(\"Normalized confusion matrix\")\n",
    "    else:\n",
    "        print('Confusion matrix, without normalization')\n",
    "\n",
    "    print(cm)\n",
    "\n",
    "    plt.imshow(cm, interpolation='nearest', cmap=cmap)\n",
    "    plt.title(title)\n",
    "    plt.colorbar()\n",
    "    tick_marks = np.arange(len(classes))\n",
    "    plt.xticks(tick_marks, classes, rotation=45)\n",
    "    plt.yticks(tick_marks, classes)\n",
    "\n",
    "    fmt = '.2f' if normalize else 'd'\n",
    "    thresh = cm.max() / 2.\n",
    "    for i, j in itertools.product(range(cm.shape[0]), range(cm.shape[1])):\n",
    "        plt.text(j, i, format(cm[i, j], fmt),\n",
    "                 horizontalalignment=\"center\",\n",
    "                 color=\"white\" if cm[i, j] > thresh else \"black\")\n",
    "\n",
    "    plt.tight_layout()\n",
    "    plt.ylabel('True label')\n",
    "    plt.xlabel('Predicted label')\n",
    "\n",
    "# Compute confusion matrix\n",
    "cnf_matrix = confusion_matrix(y_test, y_predx)\n",
    "np.set_printoptions(precision=2)\n",
    "\n",
    "# Plot non-normalized confusion matrix\n",
    "plt.figure()\n",
    "plot_confusion_matrix(cnf_matrix, classes=chars,\n",
    "                      title='Confusion matrix, without normalization')\n",
    "\n",
    "# Plot normalized confusion matrix\n",
    "plt.figure()\n",
    "plot_confusion_matrix(cnf_matrix, classes=chars, normalize=True,\n",
    "                      title='SVM confusion matrix')\n",
    "\n",
    "plt.show()"
   ]
  },
  {
   "cell_type": "code",
   "execution_count": 14,
   "metadata": {},
   "outputs": [
    {
     "name": "stdout",
     "output_type": "stream",
     "text": [
      "Automatically created module for IPython interactive environment\n",
      "Confusion matrix, without normalization\n",
      "[[ 13  19   1   2   3]\n",
      " [  4 112   6   9   3]\n",
      " [  2  23  12   3   0]\n",
      " [  4  11   4  13   0]\n",
      " [  5  14   3   2   1]]\n",
      "Normalized confusion matrix\n",
      "[[0.34 0.5  0.03 0.05 0.08]\n",
      " [0.03 0.84 0.04 0.07 0.02]\n",
      " [0.05 0.57 0.3  0.07 0.  ]\n",
      " [0.12 0.34 0.12 0.41 0.  ]\n",
      " [0.2  0.56 0.12 0.08 0.04]]\n"
     ]
    },
    {
     "data": {
      "image/png": "[encoded data removed]",
      "text/plain": [
       "<Figure size 432x288 with 2 Axes>"
      ]
     },
     "metadata": {},
     "output_type": "display_data"
    },
    {
     "data": {
      "image/png": "[encoded data removed]",
      "text/plain": [
       "<Figure size 432x288 with 2 Axes>"
      ]
     },
     "metadata": {},
     "output_type": "display_data"
    }
   ],
   "source": [
    "print(__doc__)\n",
    "\n",
    "import itertools\n",
    "import numpy as np\n",
    "import matplotlib.pyplot as plt\n",
    "\n",
    "from sklearn import svm, datasets\n",
    "from sklearn.model_selection import train_test_split\n",
    "from sklearn.metrics import confusion_matrix\n",
    "\n",
    "# Run classifier, using a model that is too regularized (C too low) to see\n",
    "# the impact on the results\n",
    "#classifier = svm.SVC(kernel='linear', C=0.01)\n",
    "classifiern = nb_clf\n",
    "#y_pred = classifier.fit(X_train_gram, y_train).predict(X_test_gram)\n",
    "y_predn = classifiern.fit(X_train_gram, y_train).predict(X_test_gram)\n",
    "\n",
    "\n",
    "def plot_confusion_matrix(cm, classes,\n",
    "                          normalize=False,\n",
    "                          title='Confusion matrix',\n",
    "                          cmap=plt.cm.Blues):\n",
    "    \"\"\"\n",
    "    This function prints and plots the confusion matrix.\n",
    "    Normalization can be applied by setting `normalize=True`.\n",
    "    \"\"\"\n",
    "    if normalize:\n",
    "        cm = cm.astype('float') / cm.sum(axis=1)[:, np.newaxis]\n",
    "        print(\"Normalized confusion matrix\")\n",
    "    else:\n",
    "        print('Confusion matrix, without normalization')\n",
    "\n",
    "    print(cm)\n",
    "\n",
    "    plt.imshow(cm, interpolation='nearest', cmap=cmap)\n",
    "    plt.title(title)\n",
    "    plt.colorbar()\n",
    "    tick_marks = np.arange(len(classes))\n",
    "    plt.xticks(tick_marks, classes, rotation=45)\n",
    "    plt.yticks(tick_marks, classes)\n",
    "\n",
    "    fmt = '.2f' if normalize else 'd'\n",
    "    thresh = cm.max() / 2.\n",
    "    for i, j in itertools.product(range(cm.shape[0]), range(cm.shape[1])):\n",
    "        plt.text(j, i, format(cm[i, j], fmt),\n",
    "                 horizontalalignment=\"center\",\n",
    "                 color=\"white\" if cm[i, j] > thresh else \"black\")\n",
    "\n",
    "    plt.tight_layout()\n",
    "    plt.ylabel('True label')\n",
    "    plt.xlabel('Predicted label')\n",
    "\n",
    "# Compute confusion matrix\n",
    "cnf_matrix = confusion_matrix(y_test, y_predn)\n",
    "np.set_printoptions(precision=2)\n",
    "\n",
    "# Plot non-normalized confusion matrix\n",
    "plt.figure()\n",
    "plot_confusion_matrix(cnf_matrix, classes=chars,\n",
    "                      title='Confusion matrix, without normalization')\n",
    "\n",
    "# Plot normalized confusion matrix\n",
    "plt.figure()\n",
    "plot_confusion_matrix(cnf_matrix, classes=chars, normalize=True,\n",
    "                      title='MNB confusion matrix')\n",
    "\n",
    "plt.show()"
   ]
  },
  {
   "cell_type": "code",
   "execution_count": 15,
   "metadata": {},
   "outputs": [
    {
     "name": "stdout",
     "output_type": "stream",
     "text": [
      "[0.46 0.63 0.46 0.45 0.14]\n"
     ]
    },
    {
     "ename": "NameError",
     "evalue": "name 'y_pred' is not defined",
     "output_type": "error",
     "traceback": [
      "\u001b[0;31m---------------------------------------------------------------------------\u001b[0m",
      "\u001b[0;31mNameError\u001b[0m                                 Traceback (most recent call last)",
      "\u001b[0;32m<ipython-input-15-277d727ef140>\u001b[0m in \u001b[0;36m<module>\u001b[0;34m()\u001b[0m\n\u001b[1;32m      4\u001b[0m \u001b[0;32mfrom\u001b[0m \u001b[0msklearn\u001b[0m\u001b[0;34m.\u001b[0m\u001b[0mmetrics\u001b[0m \u001b[0;32mimport\u001b[0m \u001b[0mrecall_score\u001b[0m\u001b[0;34m\u001b[0m\u001b[0m\n\u001b[1;32m      5\u001b[0m \u001b[0mprint\u001b[0m\u001b[0;34m(\u001b[0m\u001b[0mprecision_score\u001b[0m\u001b[0;34m(\u001b[0m\u001b[0my_test\u001b[0m\u001b[0;34m,\u001b[0m \u001b[0my_predn\u001b[0m\u001b[0;34m,\u001b[0m \u001b[0maverage\u001b[0m\u001b[0;34m=\u001b[0m\u001b[0;32mNone\u001b[0m\u001b[0;34m)\u001b[0m\u001b[0;34m)\u001b[0m\u001b[0;34m\u001b[0m\u001b[0m\n\u001b[0;32m----> 6\u001b[0;31m \u001b[0mprint\u001b[0m\u001b[0;34m(\u001b[0m\u001b[0mrecall_score\u001b[0m\u001b[0;34m(\u001b[0m\u001b[0my_test\u001b[0m\u001b[0;34m,\u001b[0m \u001b[0my_pred\u001b[0m\u001b[0;34m,\u001b[0m \u001b[0maverage\u001b[0m\u001b[0;34m=\u001b[0m\u001b[0;32mNone\u001b[0m\u001b[0;34m)\u001b[0m\u001b[0;34m)\u001b[0m\u001b[0;34m\u001b[0m\u001b[0m\n\u001b[0m\u001b[1;32m      7\u001b[0m \u001b[0;34m\u001b[0m\u001b[0m\n\u001b[1;32m      8\u001b[0m \u001b[0;32mfrom\u001b[0m \u001b[0msklearn\u001b[0m\u001b[0;34m.\u001b[0m\u001b[0mmetrics\u001b[0m \u001b[0;32mimport\u001b[0m \u001b[0mclassification_report\u001b[0m\u001b[0;34m\u001b[0m\u001b[0m\n",
      "\u001b[0;31mNameError\u001b[0m: name 'y_pred' is not defined"
     ]
    }
   ],
   "source": [
    "# print classification report\n",
    "\n",
    "from sklearn.metrics import precision_score\n",
    "from sklearn.metrics import recall_score\n",
    "print(precision_score(y_test, y_predn, average=None))\n",
    "print(recall_score(y_test, y_pred, average=None))\n",
    "\n",
    "from sklearn.metrics import classification_report\n",
    "target_names = ['Bernstein','Kane','Leland','Susan','Thompson']\n",
    "print(classification_report(y_test, y_predx, target_names=target_names))\n",
    "\n",
    "from sklearn.metrics import classification_report\n",
    "target_names = ['Bernstein','Kane','Leland','Susan','Thompson']\n",
    "print(classification_report(y_test, y_predn, target_names=target_names))"
   ]
  },
  {
   "cell_type": "markdown",
   "metadata": {},
   "source": [
    "# Step 5.1 Interpret the prediction result"
   ]
  },
  {
   "cell_type": "code",
   "execution_count": null,
   "metadata": {},
   "outputs": [],
   "source": [
    "## find the calculated posterior probability\n",
    "posterior_probs = nb_clf.predict_proba(X_test_gram)\n",
    "\n",
    "## find the posterior probabilities for the first test example\n",
    "print(posterior_probs[0:50])\n",
    "\n",
    "# find the category prediction for the first test example\n",
    "y_pred = nb_clf.predict(X_test_gram)\n",
    "print(y_pred[0:50])\n",
    "\n",
    "# check the actual label for the first test example\n",
    "print(y_test[0:50])"
   ]
  },
  {
   "cell_type": "markdown",
   "metadata": {},
   "source": [
    "# Step 5.2 Error Analysis"
   ]
  },
  {
   "cell_type": "code",
   "execution_count": null,
   "metadata": {},
   "outputs": [],
   "source": [
    "# print out specific type of error for further analysis\n",
    "\n",
    "# print out the very positive examples that are mistakenly predicted as negative\n",
    "# according to the confusion matrix, there should be 53 such examples\n",
    "# note if you use a different vectorizer option, your result might be different\n",
    "\n",
    "err_cnt = 0\n",
    "for i in range(0, len(y_test)):\n",
    "    if(y_test[i]==4 and y_pred[i]==1):\n",
    "        print(X_test[i])\n",
    "        err_cnt = err_cnt+1\n",
    "print(\"errors:\", err_cnt)"
   ]
  },
  {
   "cell_type": "markdown",
   "metadata": {},
   "source": [
    "# Exercise D"
   ]
  },
  {
   "cell_type": "code",
   "execution_count": null,
   "metadata": {},
   "outputs": [],
   "source": [
    "# Can you find linguistic patterns in the above errors? \n",
    "# What kind of very positive examples were mistakenly predicted as negative?\n",
    "\n",
    "# Can you write code to print out the errors that very negative examples were mistakenly predicted as very positive?\n",
    "# Can you find lingustic patterns for this kind of errors?\n",
    "# Based on the above error analysis, what suggestions would you give to improve the current model?\n",
    "\n",
    "# Your code starts here\n",
    "err_cnt = 0\n",
    "for i in range(0, len(y_test)):\n",
    "    if(y_test[i]==0 and y_pred[i]==1):\n",
    "        print(X_test[i])\n",
    "        err_cnt = err_cnt+1\n",
    "print(\"errors:\", err_cnt)\n",
    "# Your code ends here"
   ]
  },
  {
   "cell_type": "markdown",
   "metadata": {},
   "source": [
    "# Step 6: write the prediction output to file"
   ]
  },
  {
   "cell_type": "code",
   "execution_count": null,
   "metadata": {},
   "outputs": [],
   "source": [
    "y_pred=nb_clf.predict(X_test_vec)\n",
    "output = open('/Users/byu/Desktop/data/prediction_output.csv', 'w')\n",
    "for x, value in enumerate(y_pred):\n",
    "  output.write(str(value) + '\\n') \n",
    "output.close()"
   ]
  },
  {
   "cell_type": "markdown",
   "metadata": {},
   "source": [
    "# Step 6.1 Prepare submission to Kaggle sentiment classification competition"
   ]
  },
  {
   "cell_type": "code",
   "execution_count": null,
   "metadata": {},
   "outputs": [],
   "source": [
    "########## submit to Kaggle submission\n",
    "\n",
    "# we are still using the model trained on 60% of the training data\n",
    "# you can re-train the model on the entire data set \n",
    "#   and use the new model to predict the Kaggle test data\n",
    "# below is sample code for using a trained model to predict Kaggle test data \n",
    "#    and format the prediction output for Kaggle submission\n",
    "\n",
    "# read in the test data\n",
    "kaggle_test=p.read_csv(\"/Users/byu/Desktop/data/kaggle/test.tsv\", delimiter='\\t') \n",
    "\n",
    "# preserve the id column of the test examples\n",
    "kaggle_ids=kaggle_test['PhraseId'].values\n",
    "\n",
    "# read in the text content of the examples\n",
    "kaggle_X_test=kaggle_test['Phrase'].values\n",
    "\n",
    "# vectorize the test examples using the vocabulary fitted from the 60% training data\n",
    "kaggle_X_test_vec=unigram_tfidf_vectorizer.transform(kaggle_X_test)\n",
    "\n",
    "# predict using the NB classifier that we built\n",
    "kaggle_pred=nb_clf.fit(X_train_vec, y_train).predict(kaggle_X_test_vec)\n",
    "\n",
    "# combine the test example ids with their predictions\n",
    "kaggle_submission=zip(kaggle_ids, kaggle_pred)\n",
    "\n",
    "# prepare output file\n",
    "outf=open('/Users/byu/Desktop/data/kaggle/kaggle_submission.csv', 'w')\n",
    "\n",
    "# write header\n",
    "outf.write('PhraseId,Sentiment\\n')\n",
    "\n",
    "# write predictions with ids to the output file\n",
    "for x, value in enumerate(kaggle_submission): outf.write(str(value[0]) + ',' + str(value[1]) + '\\n')\n",
    "\n",
    "# close the output file\n",
    "outf.close()"
   ]
  },
  {
   "cell_type": "markdown",
   "metadata": {},
   "source": [
    "# Exercise E"
   ]
  },
  {
   "cell_type": "code",
   "execution_count": null,
   "metadata": {},
   "outputs": [],
   "source": [
    "# generate your Kaggle submissions with boolean representation and TF representation\n",
    "# read in the test data\n",
    "kaggle_test=p.read_csv(\"/Users/kenmckee/Desktop/GS/S18/tm/ks/test.tsv\", delimiter='\\t') \n",
    "\n",
    "# preserve the id column of the test examples\n",
    "kaggle_ids=kaggle_test['PhraseId'].values\n",
    "\n",
    "# read in the text content of the examples\n",
    "kaggle_X_test=kaggle_test['Phrase'].values\n",
    "\n",
    "# vectorize the test examples using the vocabulary fitted from the 60% training data\n",
    "kaggle_X_test_vec=unigram_tfidf_vectorizer.transform(kaggle_X_test)\n",
    "\n",
    "# predict using the NB classifier that we built\n",
    "kaggle_pred=nb_clf.fit(X_train_vec, y_train).predict(kaggle_X_test_vec)\n",
    "\n",
    "# combine the test example ids with their predictions\n",
    "kaggle_submission=zip(kaggle_ids, kaggle_pred)\n",
    "\n",
    "# prepare output file\n",
    "outf=open('/Users/kenmckee/Desktop/GS/S18/tm/ks/kaggle_submission.csv', 'w')\n",
    "\n",
    "# write header\n",
    "outf.write('PhraseId,Sentiment\\n')\n",
    "\n",
    "# write predictions with ids to the output file\n",
    "for x, value in enumerate(kaggle_submission): outf.write(str(value[0]) + ',' + str(value[1]) + '\\n')\n",
    "\n",
    "# close the output file\n",
    "outf.close()\n",
    "# submit to Kaggle\n",
    "\n",
    "# report your scores here\n",
    "# which model gave better performance in the hold-out test\n",
    "# which model gave better performance in the Kaggle test"
   ]
  },
  {
   "cell_type": "markdown",
   "metadata": {},
   "source": [
    "Sample output:\n",
    "\n",
    "(93636, 9968)\n",
    "[[0 0 0 ..., 0 0 0]]\n",
    "9968\n",
    "[('disloc', 2484), ('surgeon', 8554), ('camaraderi', 1341), ('sketchiest', 7943), ('dedic', 2244), ('impud', 4376), ('adopt', 245), ('worker', 9850), ('buy', 1298), ('systemat', 8623)]\n",
    "245"
   ]
  },
  {
   "cell_type": "markdown",
   "metadata": {},
   "source": [
    "# BernoulliNB"
   ]
  },
  {
   "cell_type": "code",
   "execution_count": null,
   "metadata": {},
   "outputs": [],
   "source": [
    "from sklearn.naive_bayes import BernoulliNB\n",
    "X_train_vec_bool = unigram_tfidf_vectorizer.fit_transform(X_train)\n",
    "bernoulliNB_clf = BernoulliNB(X_train_vec_bool, y_train)"
   ]
  },
  {
   "cell_type": "markdown",
   "metadata": {},
   "source": [
    "# Cross Validation"
   ]
  },
  {
   "cell_type": "code",
   "execution_count": null,
   "metadata": {},
   "outputs": [],
   "source": [
    "# cross validation\n",
    "\n",
    "from sklearn.pipeline import Pipeline\n",
    "from sklearn.model_selection import cross_val_score\n",
    "nb_clf_pipe = Pipeline([('vect', CountVectorizer(encoding='latin-1', binary=False)),('nb', MultinomialNB())])\n",
    "scores = cross_val_score(nb_clf_pipe, X, y, cv=3)\n",
    "avg=sum(scores)/len(scores)\n",
    "print(avg)"
   ]
  },
  {
   "cell_type": "markdown",
   "metadata": {
    "collapsed": true
   },
   "source": [
    "# Exercise F"
   ]
  },
  {
   "cell_type": "code",
   "execution_count": null,
   "metadata": {},
   "outputs": [],
   "source": [
    "# run 3-fold cross validation to compare the performance of \n",
    "# (1) BernoulliNB (2) MultinomialNB with TF vectors (3) MultinomialNB with boolean vectors\n",
    "\n",
    "# Your code starts here\n",
    "# cross validation\n",
    "\n",
    "from sklearn.pipeline import Pipeline\n",
    "from sklearn.model_selection import cross_val_score\n",
    "nb_clf_pipe = Pipeline([('vect', CountVectorizer(encoding='latin-1', binary=False)),('nb', MultinomialNB())])\n",
    "scores = cross_val_score(nb_clf_pipe, X, y, cv=3)\n",
    "avg=sum(scores)/len(scores)\n",
    "print(avg)\n",
    "\n",
    "# Your code ends here"
   ]
  },
  {
   "cell_type": "markdown",
   "metadata": {},
   "source": [
    "# Optional: use external linguistic resources such as stemmer"
   ]
  },
  {
   "cell_type": "code",
   "execution_count": null,
   "metadata": {},
   "outputs": [],
   "source": [
    "from sklearn.feature_extraction.text import CountVectorizer\n",
    "import nltk.stem\n",
    "\n",
    "english_stemmer = nltk.stem.SnowballStemmer('english')\n",
    "class StemmedCountVectorizer(CountVectorizer):\n",
    "    def build_analyzer(self):\n",
    "        analyzer = super(StemmedCountVectorizer, self).build_analyzer()\n",
    "        return lambda doc: ([english_stemmer.stem(w) for w in analyzer(doc)])\n",
    "\n",
    "stem_vectorizer = StemmedCountVectorizer(min_df=3, analyzer=\"word\")\n",
    "X_train_stem_vec = stem_vectorizer.fit_transform(X_train)"
   ]
  },
  {
   "cell_type": "code",
   "execution_count": null,
   "metadata": {},
   "outputs": [],
   "source": [
    "# check the content of a document vector\n",
    "print(X_train_stem_vec.shape)\n",
    "print(X_train_stem_vec[0].toarray())\n",
    "\n",
    "# check the size of the constructed vocabulary\n",
    "print(len(stem_vectorizer.vocabulary_))\n",
    "\n",
    "# print out the first 10 items in the vocabulary\n",
    "print(list(stem_vectorizer.vocabulary_.items())[:10])\n",
    "\n",
    "# check word index in vocabulary\n",
    "print(stem_vectorizer.vocabulary_.get('adopt'))"
   ]
  },
  {
   "cell_type": "code",
   "execution_count": null,
   "metadata": {},
   "outputs": [],
   "source": []
  }
 ],
 "metadata": {
  "kernelspec": {
   "display_name": "Python 3",
   "language": "python",
   "name": "python3"
  },
  "language_info": {
   "codemirror_mode": {
    "name": "ipython",
    "version": 3
   },
   "file_extension": ".py",
   "mimetype": "text/x-python",
   "name": "python",
   "nbconvert_exporter": "python",
   "pygments_lexer": "ipython3",
   "version": "3.6.5"
  }
 },
 "nbformat": 4,
 "nbformat_minor": 2
}
