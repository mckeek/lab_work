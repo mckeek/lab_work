{
 "cells": [
  {
   "cell_type": "code",
   "execution_count": null,
   "metadata": {},
   "outputs": [],
   "source": [
    "name = input(\"what is your name \")\n",
    "\n",
    "print(\"Hello {} \".format(name))\n",
    "\n",
    "\n",
    "temp = input(\"what is the temp outside in Celcius?\") \n",
    "\n",
    "try: \n",
    "\n",
    "    fahren = (9/5*float(temp)) + 32\n",
    "\n",
    "\n",
    "             \n",
    "    print(\"the temp in Farenheight is {}\".format(fahren))\n",
    "except ValueError: \n",
    "    print(\"try a number\")"
   ]
  },
  {
   "cell_type": "code",
   "execution_count": null,
   "metadata": {},
   "outputs": [],
   "source": []
  }
 ],
 "metadata": {
  "kernelspec": {
   "display_name": "Python 3",
   "language": "python",
   "name": "python3"
  },
  "language_info": {
   "codemirror_mode": {
    "name": "ipython",
    "version": 3
   },
   "file_extension": ".py",
   "mimetype": "text/x-python",
   "name": "python",
   "nbconvert_exporter": "python",
   "pygments_lexer": "ipython3",
   "version": "3.7.6"
  }
 },
 "nbformat": 4,
 "nbformat_minor": 2
}
