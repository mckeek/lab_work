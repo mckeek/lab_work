{
 "cells": [
  {
   "cell_type": "code",
   "execution_count": null,
   "metadata": {},
   "outputs": [],
   "source": [
    "'''\n",
    " This program reads the American League baseball players, 2003, tsv file \n",
    "   and stores it in a list of dictionaries, one for each player\n",
    " Each line has the team, the player name, the salary and the position played.\n",
    " \n",
    " It describes the categorical fields by giving the number of categories \n",
    "      and how many examples there are of each category.\n",
    "'''\n",
    "\n",
    "import csv\n",
    "\n",
    "infile = '/Users/kenmckee/Downloads/ALbb.salaries.2003.tsv'\n",
    "\n",
    "def category_summarization(countrylist, fieldname):\n",
    "    '''   this function takes a countrylist, \n",
    "                    which is a list of dictionaries read from the tv_life_cont.csv file\n",
    "          and the name of one of the fields.\n",
    "          It prints out a categorical summary for that field.\n",
    "    '''   \n",
    "    valuelist = []\n",
    "    for player in playersList:\n",
    "        valuelist.append (player[fieldname])\n",
    "            \n",
    "    # report the number of categories and the number of rows per category\n",
    "    # the number of categories is the number of unique items, the set type gives us that\n",
    "    categories = set(valuelist)\n",
    "    numcategories = len(categories)\n",
    "\n",
    "    # the number of items of each category is given by the count function\n",
    "    # print these out for each category\n",
    "    print('Number of categories', numcategories)\n",
    "    # create a list of players in each category with their count for sorting\n",
    "    categoryList = []\n",
    "    for cat in categories:\n",
    "        # adds a 3 tuple to the list\n",
    "        categoryList.append((fieldname, cat, valuelist.count(cat)))\n",
    "    # sort the categories by the field value, which is at index 2\n",
    "    newlist = sorted(categoryList, key=lambda item: item[2], reverse=True)\n",
    "    # print the sorted players\n",
    "    for item in newlist:\n",
    "        print( 'Field {:s} with Category {:s} and number {:d}'.format(item[0],item[1],item[2])) \n",
    "    # end of function definition\n",
    "\n",
    "# create new empty list\n",
    "playersList = []\n",
    "\n",
    "with open(infile, 'rU') as csvfile:\n",
    "    # the csv file reader returns a list of the csv items on each line\n",
    "    ALReader = csv.reader(csvfile,  dialect='excel', delimiter='\\t')\n",
    "\n",
    "    # from each line, a list of row items, put each element in a dictionary\n",
    "    #   with a key representing the data\n",
    "    for line in ALReader:\n",
    "      # skip lines without data\n",
    "      if line[0] == '' or line[0].startswith('American') or line[0].startswith('Team')\\\n",
    "            or line[0].startswith('Source'):\n",
    "          continue\n",
    "      else:\n",
    "          try:\n",
    "            # create a dictionary for each player\n",
    "            player = {}\n",
    "            # add each piece of data under a key representing that data\n",
    "            player['team'] = line[0]\n",
    "            player['name'] = line[1]\n",
    "            player['sal'] = line[2]\n",
    "            player['position'] = line[3]\n",
    "    \n",
    "            # add this player to the list\n",
    "            playersList.append(player)\n",
    "    \n",
    "          except IndexError:\n",
    "            print ('Error: ', line)\n",
    "csvfile.close()\n",
    "\n",
    "print (\"Read\", len(playersList), \"player data\")\n",
    "\n",
    "# print a few fields from all of the players read from the file\n",
    "\n",
    "#  for player in playersList:\n",
    "#    print ('Team:', player['team'], ' Player: ', player['name'], ' Salary: ', player['sal'])\n",
    "\n",
    "\n",
    "# all the fields except for the 'name' field\n",
    "fieldnames = ['team', 'sal', 'position']\n",
    "\n",
    "for fieldname in fieldnames:\n",
    "    category_summarization(playersList, fieldname)\n",
    "    print()\n",
    "\n",
    "\n"
   ]
  },
  {
   "cell_type": "code",
   "execution_count": 5,
   "metadata": {},
   "outputs": [
    {
     "ename": "SyntaxError",
     "evalue": "'continue' not properly in loop (<ipython-input-5-f49eecc267d6>, line 20)",
     "output_type": "error",
     "traceback": [
      "\u001b[0;36m  File \u001b[0;32m\"<ipython-input-5-f49eecc267d6>\"\u001b[0;36m, line \u001b[0;32m20\u001b[0m\n\u001b[0;31m    continue\u001b[0m\n\u001b[0m    ^\u001b[0m\n\u001b[0;31mSyntaxError\u001b[0m\u001b[0;31m:\u001b[0m 'continue' not properly in loop\n"
     ]
    }
   ],
   "source": [
    "answer = [\"quit\",'Quit','QUIT']\n",
    "numString = []\n",
    "\n",
    "\n",
    "def addup():\n",
    "    numcount = 0\n",
    "    \n",
    "    try:\n",
    "    numInput = input(\"Enter a number or type quit \")\n",
    "    numString.append(numInput)\n",
    "    numcount = float(numcount) + 1 \n",
    "    while numInput not in answer:\n",
    "            val = int(numInput)\n",
    "        except ValueError:\n",
    "            print(\"That's not an int!\")\n",
    "            continue\n",
    "    else:\n",
    "         \n",
    "\n",
    "    print(numString)\n",
    "    continue\n",
    "\n",
    "\n",
    "addup()"
   ]
  },
  {
   "cell_type": "code",
   "execution_count": 3,
   "metadata": {},
   "outputs": [
    {
     "name": "stdout",
     "output_type": "stream",
     "text": [
      "[[1 2 3 4 5 6 7 8]]\n",
      "[[8 4 6]\n",
      " [1 2 3]]\n"
     ]
    }
   ],
   "source": [
    "import numpy as np\t\t# it is common to make this abbreviation\n",
    "a = np.array([1, 2, 3])\n",
    "a\n",
    "\n",
    "type(a)\t\t# python type\n",
    "\n",
    "a.dtype\t\t# numpy array property data type\n",
    "\n",
    "a.shape\t\t# numpy array property shape\n",
    "(3,)\t\t\t# one-dimensional (rank 1) array of length 3\n",
    "\n",
    "#Contrast this with a two-dimensional array, where a list is given for each row in the array.\n",
    "\n",
    "b = np.array([[1, 2, 3, 4, 5, 6, 7, 8]])\n",
    "print(b)\n",
    "c = np.array([[8, 4,6],[1, 2, 3]])\n",
    "print(c)"
   ]
  },
  {
   "cell_type": "code",
   "execution_count": 5,
   "metadata": {},
   "outputs": [
    {
     "name": "stdout",
     "output_type": "stream",
     "text": [
      "[[1 2 3 4 5 6 7 8]]\n",
      "[[8 4 6]\n",
      " [1 2 3]]\n"
     ]
    }
   ],
   "source": [
    "b = np.array([[1, 2, 3, 4, 5, 6, 7, 8]])\n",
    "print(b)\n",
    "c = np.array([[8, 4,6],[1, 2, 3]])\n",
    "print(c)"
   ]
  },
  {
   "cell_type": "code",
   "execution_count": 19,
   "metadata": {},
   "outputs": [
    {
     "name": "stdout",
     "output_type": "stream",
     "text": [
      "[5, 6, 7, 8, [1, 2, 3, 4]]\n",
      "[1, 2, 3, 4]\n",
      "None\n"
     ]
    },
    {
     "ename": "ValueError",
     "evalue": "setting an array element with a sequence.",
     "output_type": "error",
     "traceback": [
      "\u001b[0;31m---------------------------------------------------------------------------\u001b[0m",
      "\u001b[0;31mValueError\u001b[0m                                Traceback (most recent call last)",
      "\u001b[0;32m<ipython-input-19-2089f43f4a6c>\u001b[0m in \u001b[0;36m<module>\u001b[0;34m()\u001b[0m\n\u001b[1;32m     16\u001b[0m \u001b[0mprint\u001b[0m\u001b[0;34m(\u001b[0m\u001b[0mlol\u001b[0m\u001b[0;34m)\u001b[0m\u001b[0;34m\u001b[0m\u001b[0m\n\u001b[1;32m     17\u001b[0m \u001b[0mt\u001b[0m \u001b[0;34m=\u001b[0m \u001b[0mnp\u001b[0m\u001b[0;34m.\u001b[0m\u001b[0marray\u001b[0m\u001b[0;34m(\u001b[0m\u001b[0mfirstArray\u001b[0m\u001b[0;34m)\u001b[0m\u001b[0;34m\u001b[0m\u001b[0m\n\u001b[0;32m---> 18\u001b[0;31m \u001b[0mt\u001b[0m \u001b[0;34m=\u001b[0m \u001b[0mnp\u001b[0m\u001b[0;34m.\u001b[0m\u001b[0mappend\u001b[0m\u001b[0;34m(\u001b[0m\u001b[0mt\u001b[0m\u001b[0;34m,\u001b[0m \u001b[0msecondArray\u001b[0m\u001b[0;34m)\u001b[0m\u001b[0;34m\u001b[0m\u001b[0m\n\u001b[0m",
      "\u001b[0;32m/anaconda3/lib/python3.6/site-packages/numpy/lib/function_base.py\u001b[0m in \u001b[0;36mappend\u001b[0;34m(arr, values, axis)\u001b[0m\n\u001b[1;32m   5162\u001b[0m         \u001b[0;32mif\u001b[0m \u001b[0marr\u001b[0m\u001b[0;34m.\u001b[0m\u001b[0mndim\u001b[0m \u001b[0;34m!=\u001b[0m \u001b[0;36m1\u001b[0m\u001b[0;34m:\u001b[0m\u001b[0;34m\u001b[0m\u001b[0m\n\u001b[1;32m   5163\u001b[0m             \u001b[0marr\u001b[0m \u001b[0;34m=\u001b[0m \u001b[0marr\u001b[0m\u001b[0;34m.\u001b[0m\u001b[0mravel\u001b[0m\u001b[0;34m(\u001b[0m\u001b[0;34m)\u001b[0m\u001b[0;34m\u001b[0m\u001b[0m\n\u001b[0;32m-> 5164\u001b[0;31m         \u001b[0mvalues\u001b[0m \u001b[0;34m=\u001b[0m \u001b[0mravel\u001b[0m\u001b[0;34m(\u001b[0m\u001b[0mvalues\u001b[0m\u001b[0;34m)\u001b[0m\u001b[0;34m\u001b[0m\u001b[0m\n\u001b[0m\u001b[1;32m   5165\u001b[0m         \u001b[0maxis\u001b[0m \u001b[0;34m=\u001b[0m \u001b[0marr\u001b[0m\u001b[0;34m.\u001b[0m\u001b[0mndim\u001b[0m\u001b[0;34m-\u001b[0m\u001b[0;36m1\u001b[0m\u001b[0;34m\u001b[0m\u001b[0m\n\u001b[1;32m   5166\u001b[0m     \u001b[0;32mreturn\u001b[0m \u001b[0mconcatenate\u001b[0m\u001b[0;34m(\u001b[0m\u001b[0;34m(\u001b[0m\u001b[0marr\u001b[0m\u001b[0;34m,\u001b[0m \u001b[0mvalues\u001b[0m\u001b[0;34m)\u001b[0m\u001b[0;34m,\u001b[0m \u001b[0maxis\u001b[0m\u001b[0;34m=\u001b[0m\u001b[0maxis\u001b[0m\u001b[0;34m)\u001b[0m\u001b[0;34m\u001b[0m\u001b[0m\n",
      "\u001b[0;32m/anaconda3/lib/python3.6/site-packages/numpy/core/fromnumeric.py\u001b[0m in \u001b[0;36mravel\u001b[0;34m(a, order)\u001b[0m\n\u001b[1;32m   1529\u001b[0m         \u001b[0;32mreturn\u001b[0m \u001b[0masarray\u001b[0m\u001b[0;34m(\u001b[0m\u001b[0ma\u001b[0m\u001b[0;34m)\u001b[0m\u001b[0;34m.\u001b[0m\u001b[0mravel\u001b[0m\u001b[0;34m(\u001b[0m\u001b[0morder\u001b[0m\u001b[0;34m=\u001b[0m\u001b[0morder\u001b[0m\u001b[0;34m)\u001b[0m\u001b[0;34m\u001b[0m\u001b[0m\n\u001b[1;32m   1530\u001b[0m     \u001b[0;32melse\u001b[0m\u001b[0;34m:\u001b[0m\u001b[0;34m\u001b[0m\u001b[0m\n\u001b[0;32m-> 1531\u001b[0;31m         \u001b[0;32mreturn\u001b[0m \u001b[0masanyarray\u001b[0m\u001b[0;34m(\u001b[0m\u001b[0ma\u001b[0m\u001b[0;34m)\u001b[0m\u001b[0;34m.\u001b[0m\u001b[0mravel\u001b[0m\u001b[0;34m(\u001b[0m\u001b[0morder\u001b[0m\u001b[0;34m=\u001b[0m\u001b[0morder\u001b[0m\u001b[0;34m)\u001b[0m\u001b[0;34m\u001b[0m\u001b[0m\n\u001b[0m\u001b[1;32m   1532\u001b[0m \u001b[0;34m\u001b[0m\u001b[0m\n\u001b[1;32m   1533\u001b[0m \u001b[0;34m\u001b[0m\u001b[0m\n",
      "\u001b[0;32m/anaconda3/lib/python3.6/site-packages/numpy/core/numeric.py\u001b[0m in \u001b[0;36masanyarray\u001b[0;34m(a, dtype, order)\u001b[0m\n\u001b[1;32m    542\u001b[0m \u001b[0;34m\u001b[0m\u001b[0m\n\u001b[1;32m    543\u001b[0m     \"\"\"\n\u001b[0;32m--> 544\u001b[0;31m     \u001b[0;32mreturn\u001b[0m \u001b[0marray\u001b[0m\u001b[0;34m(\u001b[0m\u001b[0ma\u001b[0m\u001b[0;34m,\u001b[0m \u001b[0mdtype\u001b[0m\u001b[0;34m,\u001b[0m \u001b[0mcopy\u001b[0m\u001b[0;34m=\u001b[0m\u001b[0;32mFalse\u001b[0m\u001b[0;34m,\u001b[0m \u001b[0morder\u001b[0m\u001b[0;34m=\u001b[0m\u001b[0morder\u001b[0m\u001b[0;34m,\u001b[0m \u001b[0msubok\u001b[0m\u001b[0;34m=\u001b[0m\u001b[0;32mTrue\u001b[0m\u001b[0;34m)\u001b[0m\u001b[0;34m\u001b[0m\u001b[0m\n\u001b[0m\u001b[1;32m    545\u001b[0m \u001b[0;34m\u001b[0m\u001b[0m\n\u001b[1;32m    546\u001b[0m \u001b[0;34m\u001b[0m\u001b[0m\n",
      "\u001b[0;31mValueError\u001b[0m: setting an array element with a sequence."
     ]
    }
   ],
   "source": [
    "import numpy as np\n",
    "list = (1, 2, 3, 4, 5, 6, 7, 8)\n",
    "firstArray = []\n",
    "secondArray = []\n",
    "\t\n",
    "for i in list:\n",
    "\tif i <= 4:\n",
    "\t\tfirstArray.append(i)\n",
    "\telse:\n",
    "\t\tsecondArray.append(i)\n",
    "\t\t\n",
    "\n",
    "lol = secondArray.append(firstArray)\n",
    "print(secondArray)\n",
    "print(firstArray)\n",
    "print(lol)\n",
    "t = np.array(firstArray)\n",
    "t = np.append(t, secondArray)"
   ]
  },
  {
   "cell_type": "code",
   "execution_count": 28,
   "metadata": {},
   "outputs": [
    {
     "name": "stdout",
     "output_type": "stream",
     "text": [
      "[[ 1  2  3  4  5]\n",
      " [ 6  7  8  9 10]\n",
      " [11 12 13 14 15]\n",
      " [16 17 18 19 20]]\n",
      "[34, 38, 42, 46, 50]\n",
      "[34, 38, 42, 46, 50]\n"
     ]
    }
   ],
   "source": [
    "y = np.array([[1,2,3,4,5], [6,7,8,9,10], [11,12,13,14,15], [16,17,18,19,20]])\n",
    "print(x)\n",
    "\n",
    "print([sum(x) for x in zip(*y)])\n",
    "\n",
    "z = [sum([i[b] for i in y]) for b in range(len(y[0]))]\n",
    "\n",
    "print(z)"
   ]
  },
  {
   "cell_type": "code",
   "execution_count": 12,
   "metadata": {},
   "outputs": [
    {
     "data": {
      "text/plain": [
       "array([[1, 2, 3],\n",
       "       [4, 5, 7]])"
      ]
     },
     "execution_count": 12,
     "metadata": {},
     "output_type": "execute_result"
    }
   ],
   "source": [
    "b.shape\t\t# two-dimensional array with two rows and three columns\n",
    "(2, 3)\n",
    "\n",
    "\n",
    "\n",
    "#For two-dimensional arrays, we use just one square bracket and separate the index numbers by a comma.\n",
    "\n",
    "b[1,2]\n",
    "\n",
    "b[1,2] = 7\n",
    "b\n",
    "\n",
    "\n"
   ]
  },
  {
   "cell_type": "code",
   "execution_count": 21,
   "metadata": {},
   "outputs": [
    {
     "data": {
      "text/plain": [
       "array([5, 2, 3])"
      ]
     },
     "execution_count": 21,
     "metadata": {},
     "output_type": "execute_result"
    }
   ],
   "source": [
    "#We use indexing with square brackets, giving an index number from 0 to the length of the dimension—1.  The same indexing conventions apply as in Python, e.g., you can use -1 to get the last element.\n",
    "\n",
    "a[0]\n",
    "\n",
    "a[0] = 5\t\t# assign a new value to the first location in a\n",
    "a"
   ]
  },
  {
   "cell_type": "code",
   "execution_count": 15,
   "metadata": {},
   "outputs": [
    {
     "data": {
      "text/plain": [
       "array([[0., 0.],\n",
       "       [0., 0.]])"
      ]
     },
     "execution_count": 15,
     "metadata": {},
     "output_type": "execute_result"
    }
   ],
   "source": [
    "#The numPy package hasa number of functions to help createarrays with basic shapesand values.\n",
    "\n",
    "t = np.zeros((2,2))\t#array ofall zeroes\n",
    "t"
   ]
  },
  {
   "cell_type": "code",
   "execution_count": 16,
   "metadata": {},
   "outputs": [
    {
     "data": {
      "text/plain": [
       "array([[1., 1.]])"
      ]
     },
     "execution_count": 16,
     "metadata": {},
     "output_type": "execute_result"
    }
   ],
   "source": [
    "t = np.ones((1,2))\t\t#array ofall ones\n",
    "t"
   ]
  },
  {
   "cell_type": "code",
   "execution_count": 17,
   "metadata": {},
   "outputs": [
    {
     "data": {
      "text/plain": [
       "array([[7, 7, 7, 7],\n",
       "       [7, 7, 7, 7]])"
      ]
     },
     "execution_count": 17,
     "metadata": {},
     "output_type": "execute_result"
    }
   ],
   "source": [
    "t = np.full((2,4), 7)  \t#array of constants (in this case,all 7s)\n",
    "\t\t\t\t# thisalso puts outa future warning\n",
    "t"
   ]
  },
  {
   "cell_type": "code",
   "execution_count": 13,
   "metadata": {},
   "outputs": [
    {
     "data": {
      "text/plain": [
       "dtype('float64')"
      ]
     },
     "execution_count": 13,
     "metadata": {},
     "output_type": "execute_result"
    }
   ],
   "source": [
    "\n",
    "t = np.random.random((2,2))\t#array of random numbers\n",
    "t\n",
    "\n",
    "t.dtype"
   ]
  },
  {
   "cell_type": "code",
   "execution_count": 18,
   "metadata": {},
   "outputs": [
    {
     "data": {
      "text/plain": [
       "array([[1., 0.],\n",
       "       [0., 1.]])"
      ]
     },
     "execution_count": 18,
     "metadata": {},
     "output_type": "execute_result"
    }
   ],
   "source": [
    "t = np.eye(2)\t\t# identity matrix\n",
    "t\n"
   ]
  },
  {
   "cell_type": "code",
   "execution_count": 14,
   "metadata": {},
   "outputs": [
    {
     "data": {
      "text/plain": [
       "array([0, 1, 2, 3, 4, 5, 6, 7, 8, 9])"
      ]
     },
     "execution_count": 14,
     "metadata": {},
     "output_type": "execute_result"
    }
   ],
   "source": [
    "#And one final function uses the NumPy function “arange()”, which is analogous to the Python function “range()” to generate a sequence of numbers.\n",
    "\n",
    "c = np.arange(10)\n",
    "c\n"
   ]
  },
  {
   "cell_type": "code",
   "execution_count": null,
   "metadata": {},
   "outputs": [],
   "source": []
  }
 ],
 "metadata": {
  "kernelspec": {
   "display_name": "Python 3",
   "language": "python",
   "name": "python3"
  },
  "language_info": {
   "codemirror_mode": {
    "name": "ipython",
    "version": 3
   },
   "file_extension": ".py",
   "mimetype": "text/x-python",
   "name": "python",
   "nbconvert_exporter": "python",
   "pygments_lexer": "ipython3",
   "version": "3.6.5"
  }
 },
 "nbformat": 4,
 "nbformat_minor": 2
}
