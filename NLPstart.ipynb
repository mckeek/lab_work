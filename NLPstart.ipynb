{
 "cells": [
  {
   "cell_type": "code",
   "execution_count": null,
   "metadata": {},
   "outputs": [],
   "source": [
    "mp = 'Today is a Great DAY'\n",
    "\n",
    "mp = mp.lower()\n",
    "print(mp)\n",
    "mp = mp.upper()\n",
    "print(mp)\n",
    "mp = mp.strip()\n",
    "print(mp)\n",
    "print(mp.startswith('X'))  #where X is the starting letter of your string\n",
    "print(mp)\n",
    "print(mp.find('Z'))\n",
    "\n",
    "print(mp)"
   ]
  },
  {
   "cell_type": "code",
   "execution_count": null,
   "metadata": {},
   "outputs": [],
   "source": [
    "#Use find and string slicing to extract the portions of the string after the colon character, and then use the float function to convert the extracted string into a floating point number with two decimals.\n",
    "\n",
    "#Submit the code you used and the results in a single file. Once you have submitted your file, check out at least two of your classmates' files and see if their code and results are the same.\n",
    "\n",
    "str = 'X-DSPAM-Confidence:0.8475'\n",
    "\n",
    "ssplit = str.split(\":\")\n",
    "\n",
    "num = float(ssplit[1])\n",
    "\n",
    "#print(num)\n",
    "\n",
    "print('format is {:.2f}'.format(num))"
   ]
  },
  {
   "cell_type": "code",
   "execution_count": null,
   "metadata": {},
   "outputs": [],
   "source": [
    "import sys\n",
    "\n",
    "lone = [10, 20, 30, 40, 50]\n",
    "ltwo = [\"two\", \"four\", \"six\", \"eight\", 'ten']\n",
    "tone = (10, 20, 30, 40, 50)\n",
    "ttwo = (\"two\", \"four\", \"six\", \"eight\",'ten')\n",
    "ltone = [(\"cheese\", \"queso\"), (\"red\", \"rojo\"), (\"school\", \"escuela\")]\n",
    "\n",
    "print(\"LENGTH\")\n",
    "print( \"lone = \", len(lone))\n",
    "print( \"ltwo = \", len(ltwo))\n",
    "print( \"tone = \", len(tone))\n",
    "print( \"ttwo = \", len(ttwo))\n",
    "print( \"ltone = \", len(ltone))\n",
    "\n",
    "print() \n",
    "print()\n",
    "print(\"SIZE\")\n",
    "print( \"lone = \", sys.getsizeof(lone))\n",
    "3print( \"ltwo = \", sys.getsizeof(ltwo))\n",
    "print( \"tone = \", sys.getsizeof(tone))\n",
    "print( \"ttwo = \", sys.getsizeof(ttwo))\n",
    "print( \"ltone = \", sys.getsizeof(ltone))"
   ]
  },
  {
   "cell_type": "code",
   "execution_count": null,
   "metadata": {},
   "outputs": [],
   "source": [
    "\n",
    "#K McKee Week2 Program Exercise\n",
    "#Purpose: \n",
    "#Create a folder on your computer to store your Python programs. \n",
    "#Write a simple program to collect the number of hours worked and rate of pay from the user, \n",
    "#calculate the pay, output should be 'Pay:' and the amount calculated. Run your program in Python, \n",
    "#generate your result, \n",
    "#and place your program code and result in a text document and upload it here.\n",
    "\n",
    "#collect data\n",
    "hours = input('Input number of hours worked: ')\n",
    "rate = input('Input bill rate: ')\n",
    "#find total\n",
    "total = float(hours)*float(rate)\n",
    "\n",
    "#print(total)\n",
    "#print total \n",
    "print('The total for the period is:')\n",
    "print('$'\"{0:.2f}\".format(total))"
   ]
  },
  {
   "cell_type": "code",
   "execution_count": null,
   "metadata": {},
   "outputs": [
    {
     "name": "stdout",
     "output_type": "stream",
     "text": [
      "Input number of hours worked: 45\n",
      "Input bill rate: 20\n"
     ]
    },
    {
     "data": {
      "text/plain": [
       "'The total for the period is: $900.00'"
      ]
     },
     "execution_count": 3,
     "metadata": {},
     "output_type": "execute_result"
    }
   ],
   "source": [
    "def computepay ():\n",
    "    hours = input('Input number of hours worked: ')\n",
    "    rate = input('Input bill rate: ')\n",
    "    total = float(hours)*float(rate)\n",
    "    x = 'The total for the period is: $'\"{0:.2f}\".format(total)\n",
    "    return x\n",
    "\n",
    "\n",
    "computepay()"
   ]
  },
  {
   "cell_type": "code",
   "execution_count": null,
   "metadata": {},
   "outputs": [],
   "source": [
    "# This program reads a file and prints the lines and creates a list of items on the line\n",
    "\n",
    "\n",
    "# open the file for reading (in the same directory as the program)\n",
    "path = '/Users/kenmckee/Desktop/GS/F18/Scrpt/NBA-Attendance-1989.txt'\n",
    "NBAfile = open (path, 'r')\n",
    "\n",
    "\n",
    "# iterate over the lines of the file and count the number of lines\n",
    "\n",
    "count = 0\n",
    "\n",
    "NBAlist = [ ]\n",
    "\n",
    "for line in NBAfile:\n",
    "\n",
    "    # increment adds one to the count variable\n",
    "\n",
    "    count += 1\n",
    "\n",
    "    # strip the newline at the end of the line (and other white space from ends)\n",
    "\n",
    "    textline = line.strip()\n",
    "\n",
    "    # split the line on whitespace\n",
    "\n",
    "    items = textline.split()\n",
    "\n",
    "    # add the list of items to the NBAlist\n",
    "    \n",
    "    NBAlist.append(items)\n",
    "# print the number of teams read\n",
    "\n",
    "print('Number of teams:', count)\n",
    "\n",
    "\n",
    "# print the lines from the list\n",
    "\n",
    "for line in NBAlist:\n",
    "    print ('Line:', line)\n",
    "\n",
    "\n",
    "NBAfile.close()\n",
    "\n"
   ]
  },
  {
   "cell_type": "code",
   "execution_count": null,
   "metadata": {},
   "outputs": [],
   "source": [
    "\n",
    "\n",
    "\n"
   ]
  }
 ],
 "metadata": {
  "kernelspec": {
   "display_name": "Python 3",
   "language": "python",
   "name": "python3"
  },
  "language_info": {
   "codemirror_mode": {
    "name": "ipython",
    "version": 3
   },
   "file_extension": ".py",
   "mimetype": "text/x-python",
   "name": "python",
   "nbconvert_exporter": "python",
   "pygments_lexer": "ipython3",
   "version": "3.6.5"
  }
 },
 "nbformat": 4,
 "nbformat_minor": 2
}
