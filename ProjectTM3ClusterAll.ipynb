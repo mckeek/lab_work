{
 "cells": [
  {
   "cell_type": "code",
   "execution_count": 1,
   "metadata": {},
   "outputs": [],
   "source": [
    "import os, sys, json, argparse\n",
    "import pandas as p\n",
    "import numpy as np\n",
    "import nltk\n",
    "import re\n",
    "import os\n",
    "import codecs\n",
    "from sklearn import feature_extraction\n",
    "import mpld3\n",
    "from string import punctuation"
   ]
  },
  {
   "cell_type": "code",
   "execution_count": 2,
   "metadata": {},
   "outputs": [],
   "source": [
    "\n",
    "\n",
    "with open('/Users/kenmckee/Desktop/GS/S18/tm/Project/PJ/CKOne.json') as fd:\n",
    "    script = json.load(fd)\n",
    "    \n",
    "    #print(script)"
   ]
  },
  {
   "cell_type": "code",
   "execution_count": 3,
   "metadata": {},
   "outputs": [],
   "source": [
    "BLOCK_TYPES=['character', 'speech', 'stage direction', 'location']\n",
    "CHARACTER=0\n",
    "SPEECH=1\n",
    "DIRECTIONS=2\n",
    "LOCATION=3"
   ]
  },
  {
   "cell_type": "code",
   "execution_count": 4,
   "metadata": {},
   "outputs": [],
   "source": [
    "def extract_characters(script):\n",
    "    '''\n",
    "    Extracts the (unique) characters list from the script\n",
    "    '''\n",
    "    characters=[]\n",
    "    for block in script['movie_script']:\n",
    "        if(block['type'] == BLOCK_TYPES[SPEECH]):\n",
    "            character = block['character']\n",
    "            if not character in characters:\n",
    "                characters.append(character)\n",
    "\n",
    "    return characters\n",
    "\n",
    "def extract_locations(script):\n",
    "    '''\n",
    "    Extracts the (unique) locations list from the script\n",
    "    '''\n",
    "    locations=[]\n",
    "    for block in script['movie_script']:\n",
    "        if(block['type'] == BLOCK_TYPES[LOCATION]):\n",
    "            location = block['text']\n",
    "            if not location in locations:\n",
    "                locations.append(location)\n",
    "\n",
    "    return locations\n",
    "\n",
    "def extract_directions(script):\n",
    "    '''\n",
    "    Extracts the stage directions list from the script\n",
    "    '''\n",
    "    directions=[]\n",
    "    for block in script['movie_script']:\n",
    "        if(block['type'] == BLOCK_TYPES[DIRECTIONS]):\n",
    "            directions.append(block['text'])\n",
    "\n",
    "    return directions\n",
    "\n",
    "def extract_speech_given_character(script, character, strict_match=False):\n",
    "    '''\n",
    "    Extracts the given character's utterances from the script\n",
    "\n",
    "    If strict_match is True, we will only extract utterances that perfectly match (==) the parameter;\n",
    "    otherwise, we will extract utterances whose character partly matches (in) the parameter.\n",
    "    In both cases, the match is case-insensitive.\n",
    "\n",
    "    Also asks the user wether one wants to keep the character's name before each utterance.\n",
    "    '''\n",
    "\n",
    "    speeches=[]\n",
    "    for block in script['movie_script']:\n",
    "        if( block['type'] == BLOCK_TYPES[SPEECH] and\n",
    "            (strict_match and (character.lower() == block['character'].lower()) or\n",
    "             not strict_match and (character.lower() in block['character'].lower())) ):\n",
    "            if( keep_character_name ):\n",
    "                speeches.append(block['character'])\n",
    "            speeches.append(block['text'])\n",
    "\n",
    "    return speeches\n",
    "\n",
    "def extract_all_characters_speech(script):\n",
    "    '''\n",
    "    Extracts all speeches from the script\n",
    "    '''\n",
    "    return extract_speech_given_character(script, '')\n",
    "\n",
    "def extract_speech_asking_user(script):\n",
    "    '''\n",
    "    Extracts utterances by asking the user which character one wants to get\n",
    "\n",
    "    Also asks wether the user wants a perfect (==) or partial (in) match.\n",
    "    '''\n",
    "    character = input_string('Please provide the name of the character: ')\n",
    "\n",
    "    strict_match = False\n",
    "    answer = input('Do you want utterances of this exact character (or any character that matches \\'{}\\')? (y/N) '.format(character))\n",
    "    if( answer == 'y' or answer =='Y' ):\n",
    "        strict_match = True\n",
    "\n",
    "    return extract_speech_given_character(script, character, strict_match)\n",
    "\n",
    "def extract_speech_using_characters_list(script):\n",
    "    '''\n",
    "    Extracts utterances by providing the user with the characters list\n",
    "\n",
    "    Also asks wether the user wants a perfect (==) or partial (in) match.\n",
    "    '''\n",
    "    characters = sorted(extract_characters(script))\n",
    "    character = characters[input_from_list('Please choose a character:', characters)]\n",
    "\n",
    "    strict_match = False\n",
    "    answer = input('Do you want utterances of this exact character (or any character that matches \\'{}\\')? (y/N) '.format(character))\n",
    "    if( answer == 'y' or answer =='Y' ):\n",
    "        strict_match = True\n",
    "\n",
    "    return extract_speech_given_character(script, character, strict_match)\n",
    "\n",
    "def extract_speech(script):\n",
    "    '''\n",
    "    Asks the user which speeches one wants to extract, and calls the appropriate function\n",
    "    '''\n",
    "    speech=[]\n",
    "\n",
    "    choices = ['all characters',\n",
    "               'give the character\\'s name',\n",
    "               'choose from the characters list']\n",
    "\n",
    "    action = input_from_list(\"Which character speeches do you want to extract?\", choices)\n",
    "\n",
    "    if( action == 0 ):\n",
    "        return extract_all_characters_speech(script)\n",
    "    elif( action == 1 ):\n",
    "        return extract_speech_asking_user(script)\n",
    "    elif( action == 2 ):\n",
    "        return extract_speech_using_characters_list(script)\n",
    "\n",
    "\n"
   ]
  },
  {
   "cell_type": "code",
   "execution_count": 5,
   "metadata": {},
   "outputs": [],
   "source": [
    "result_character = extract_characters(script)\n",
    "result_direction = extract_directions(script)\n",
    "result_location = extract_locations(script)\n",
    "\n",
    "\n",
    "\n",
    "#print(result_location)\n",
    "#print(result_location)"
   ]
  },
  {
   "cell_type": "code",
   "execution_count": 6,
   "metadata": {},
   "outputs": [],
   "source": [
    "keep_character_name = True\n",
    "strict_match = False\n",
    "\n",
    "text=[]\n",
    "characters=[]\n",
    "for character in result_character:\n",
    "    for block in script['movie_script']:\n",
    "        if( block['type'] == BLOCK_TYPES[SPEECH] and\n",
    "            (strict_match and (character.lower() == block['character'].lower()) or\n",
    "             not strict_match and (character.lower() in block['character'].lower())) ):\n",
    "            if( keep_character_name ):\n",
    "                characters.append(block['character'])\n",
    "                text.append(block['text'])\n",
    "\n",
    "\n",
    "\n",
    "\n",
    "\n",
    "\n"
   ]
  },
  {
   "cell_type": "markdown",
   "metadata": {},
   "source": [
    "Pivoted to numbers and combined some pesky records together. \n",
    "cleaned up some unmanageable formats and built an input csv for posterity"
   ]
  },
  {
   "cell_type": "code",
   "execution_count": 7,
   "metadata": {
    "scrolled": true
   },
   "outputs": [],
   "source": [
    "pre=p.read_csv(\"/Users/kenmckee/Desktop/pri.csv\", delimiter=',') \n",
    "\n",
    "#print(pre)\n",
    "pre = pre.replace('\\n',' ', regex=True)\n",
    "pre = pre.replace('\\r',' ', regex=True)\n",
    "pre = pre.replace('\\.','', regex=True)\n",
    "\n",
    "chars = chars = ['KANE','BERNSTEIN','LELAND','MRS KANE','KANE SR','RAYMOND','SUSAN','THATCHER','THOMPSON','EMILY','RAWLSTON','KELLY']\n",
    "\n",
    "ccorpus = pre.loc[pre['char'].isin(chars)]\n",
    "ccorpus = ccorpus.groupby('char')['text'].apply(' '.join).reset_index()\n",
    "#ccorpus = ccorpus.apply(lambda x: x.str.strip() if x.dtype == \"object\" else x)\n",
    "\n",
    "\n",
    "\n",
    "\n",
    "char=ccorpus['char'].values \n",
    "text=ccorpus['text'].values\n",
    "#y=pre['char'].values \n",
    "#X=pre['text'].values\n",
    "\n",
    "#print(ccorpus.groups)\n",
    "\n",
    "#print(pre)"
   ]
  },
  {
   "cell_type": "code",
   "execution_count": 8,
   "metadata": {},
   "outputs": [],
   "source": [
    "list = 'say','what','are','you','mr','did','say'\n",
    "# load nltk's English stopwords as variable called 'stopwords'\n",
    "stopwords = nltk.corpus.stopwords.words('english')\n",
    "stopwords.extend(['oh','say','yes','what','are','you','mr','did','say','right','got','going','let','looking','want','ca',\"'d\",'new'])\n",
    "stopwords.extend(['kane','bernstein','leland','thompson','emily','charles','susan','brad','rogers','charlie'])\n",
    "# load nltk's SnowballStemmer as variabled 'stemmer'\n",
    "from nltk.stem.snowball import SnowballStemmer\n",
    "stemmer = SnowballStemmer(\"english\")"
   ]
  },
  {
   "cell_type": "code",
   "execution_count": 9,
   "metadata": {},
   "outputs": [],
   "source": [
    "import re\n",
    "# here I define a tokenizer and stemmer which returns the set of stems in the text that it is passed\n",
    "\n",
    "def tokenize_and_stem(text):\n",
    "    # first tokenize by sentence, then by word to ensure that punctuation is caught as it's own token\n",
    "    tokens = [word for sent in nltk.sent_tokenize(text) for word in nltk.word_tokenize(sent)]\n",
    "    filtered_tokens = []\n",
    "    # filter out any tokens not containing letters (e.g., numeric tokens, raw punctuation)\n",
    "    for token in tokens:\n",
    "        if token not in stopwords:\n",
    "            if re.search('[a-zA-Z]', token):\n",
    "                filtered_tokens.append(token)\n",
    "    stems = [stemmer.stem(t) for t in filtered_tokens]\n",
    "    return stems\n",
    "\n",
    "\n",
    "def tokenize_only(text):\n",
    "    # first tokenize by sentence, then by word to ensure that punctuation is caught as it's own token\n",
    "    tokens = [word.lower() for sent in nltk.sent_tokenize(text) for word in nltk.word_tokenize(sent)]\n",
    "    filtered_tokens = []\n",
    "    # filter out any tokens not containing letters (e.g., numeric tokens, raw punctuation)\n",
    "    for token in tokens:\n",
    "        if token not in stopwords:\n",
    "            if re.search('[a-zA-Z]', token):\n",
    "                filtered_tokens.append(token)\n",
    "    return filtered_tokens\n",
    "\n",
    "\n"
   ]
  },
  {
   "cell_type": "code",
   "execution_count": 10,
   "metadata": {},
   "outputs": [],
   "source": [
    "#this is to analyze the characters\n",
    "#not super pythonic, no, not at all.\n",
    "#use extend so it's a big flat list of vocab\n",
    "totalvocab_stemmed = []\n",
    "totalvocab_tokenized = []\n",
    "\n",
    "       \n",
    "\n",
    "\n",
    "for i in text:\n",
    "    \n",
    "    \n",
    "   # allwords_stemmed = tokenize_and_stem(i) #for each item in 'courseDesc', tokenize/stem\n",
    "   # totalvocab_stemmed.extend(allwords_stemmed) #extend the 'totalvocab_stemmed' list\n",
    "    \n",
    "    allwords_tokenized = tokenize_only(i)\n",
    "    totalvocab_tokenized.extend(allwords_tokenized)\n",
    "    \n",
    "    "
   ]
  },
  {
   "cell_type": "code",
   "execution_count": 11,
   "metadata": {},
   "outputs": [
    {
     "name": "stdout",
     "output_type": "stream",
     "text": [
      "there are 7074 items in vocab_frame\n",
      "             words\n",
      "mr              mr\n",
      "thatcher  thatcher\n",
      "wire          wire\n",
      "cuba          cuba\n",
      "mr              mr\n"
     ]
    },
    {
     "data": {
      "text/plain": [
       "<function print>"
      ]
     },
     "execution_count": 11,
     "metadata": {},
     "output_type": "execute_result"
    }
   ],
   "source": [
    "vocab_frame = p.DataFrame({'words': totalvocab_tokenized}, index = totalvocab_tokenized)\n",
    "print('there are ' + str(vocab_frame.shape[0]) + ' items in vocab_frame')\n",
    "\n",
    "print(vocab_frame.head())\n",
    "print\n",
    "print\n",
    "print\n",
    "print\n",
    "\n"
   ]
  },
  {
   "cell_type": "code",
   "execution_count": 12,
   "metadata": {},
   "outputs": [
    {
     "name": "stdout",
     "output_type": "stream",
     "text": [
      "CPU times: user 159 ms, sys: 4.64 ms, total: 164 ms\n",
      "Wall time: 163 ms\n",
      "(11, 123)\n"
     ]
    },
    {
     "data": {
      "text/plain": [
       "<function print>"
      ]
     },
     "execution_count": 12,
     "metadata": {},
     "output_type": "execute_result"
    }
   ],
   "source": [
    "from sklearn.feature_extraction.text import TfidfVectorizer\n",
    "\n",
    "#define vectorizer parameters\n",
    "tfidf_vectorizer = TfidfVectorizer(max_df=30, max_features=1500,\n",
    "                                 min_df=5, stop_words='english',\n",
    "                                 use_idf=True, tokenizer=tokenize_only, ngram_range=(1,5))\n",
    "\n",
    "%time tfidf_matrix = tfidf_vectorizer.fit_transform(text) #fit the vectorizer to synopses\n",
    "\n",
    "print(tfidf_matrix.shape)\n",
    "\n",
    "terms = tfidf_vectorizer.get_feature_names()\n",
    "\n",
    "from sklearn.metrics.pairwise import cosine_similarity\n",
    "dist = 1 - cosine_similarity(tfidf_matrix)\n",
    "print\n",
    "#print(dist)"
   ]
  },
  {
   "cell_type": "code",
   "execution_count": 13,
   "metadata": {},
   "outputs": [
    {
     "name": "stdout",
     "output_type": "stream",
     "text": [
      "\n",
      "\n"
     ]
    }
   ],
   "source": [
    "import os  # for os.path.basename\n",
    "\n",
    "import matplotlib.pyplot as plt\n",
    "import matplotlib as mpl\n",
    "\n",
    "from sklearn.manifold import MDS\n",
    "\n",
    "MDS()\n",
    "\n",
    "# convert two components as we're plotting points in a two-dimensional plane\n",
    "# \"precomputed\" because we provide a distance matrix\n",
    "# we will also specify `random_state` so the plot is reproducible.\n",
    "mds = MDS(n_components=2, dissimilarity=\"precomputed\", random_state=1)\n",
    "\n",
    "pos = mds.fit_transform(dist)  # shape (n_components, n_samples)\n",
    "\n",
    "xs, ys = pos[:, 0], pos[:, 1]\n",
    "print()\n",
    "print()\n",
    "\n"
   ]
  },
  {
   "cell_type": "code",
   "execution_count": 14,
   "metadata": {},
   "outputs": [
    {
     "name": "stdout",
     "output_type": "stream",
     "text": [
      "CPU times: user 30.8 ms, sys: 267 µs, total: 31.1 ms\n",
      "Wall time: 31.2 ms\n"
     ]
    }
   ],
   "source": [
    "from sklearn.cluster import KMeans\n",
    "\n",
    "num_clusters = 4\n",
    "\n",
    "km = KMeans(n_clusters=num_clusters)\n",
    "\n",
    "%time km.fit(tfidf_matrix)\n",
    "\n",
    "clusters = km.labels_.tolist()\n",
    "\n",
    "#print(clusters)"
   ]
  },
  {
   "cell_type": "code",
   "execution_count": 15,
   "metadata": {},
   "outputs": [],
   "source": [
    "from sklearn.externals import joblib\n",
    "\n",
    "#uncomment the below to save your model \n",
    "#since I've already run my model I am loading from the pickle\n",
    "\n",
    "#joblib.dump(km,  'doc_cluster.pkl')\n",
    "\n",
    "#km = joblib.load('doc_cluster.pkl')\n",
    "#clusters = km.labels_.tolist()\n",
    "\n",
    "#joblib.dump(tkm,  'doc_cluster.pkl')\n",
    "\n",
    "#km = joblib.load('doc_cluster.pkl')\n",
    "#clusters = tkm.labels_.tolist()\n",
    "\n",
    "\n",
    "#print(clusters)"
   ]
  },
  {
   "cell_type": "code",
   "execution_count": 16,
   "metadata": {},
   "outputs": [
    {
     "name": "stdout",
     "output_type": "stream",
     "text": [
      "Top terms per cluster:\n",
      "\n",
      "Cluster 0 words: b\"n't\", b\"'s\", b'mr', b\"'m\", b'know', b\"'re\", b'think', b\"'ll\", b\"'ve\", b'going',\n",
      "\n",
      "Cluster 0 titles: BERNSTEIN, EMILY, KANE, LELAND, SUSAN, THATCHER, THOMPSON,\n",
      "\n",
      "Cluster 1 words: b'mr', b'thatcher', b\"'s\", b'mr', b\"n't\", b'going', b\"'re\", b\"'re\", b'want', b\"'ve\",\n",
      "\n",
      "Cluster 1 titles: KANE SR, MRS KANE,\n",
      "\n",
      "Cluster 2 words: b'yes', b'mr', b\"n't\", b'knew', b'mrs', b'said', b'foster', b'years', b\"'s\", b'say',\n",
      "\n",
      "Cluster 2 titles: RAYMOND,\n",
      "\n",
      "Cluster 3 words: b\"'s\", b'man', b'thing', b'people', b'good', b'rosebud', b'minute', b'probably', b'mean', b'knew',\n",
      "\n",
      "Cluster 3 titles: RAWLSTON,\n",
      "\n",
      "\n",
      "\n"
     ]
    },
    {
     "name": "stderr",
     "output_type": "stream",
     "text": [
      "/anaconda3/lib/python3.6/site-packages/ipykernel_launcher.py:27: DeprecationWarning: \n",
      ".ix is deprecated. Please use\n",
      ".loc for label based indexing or\n",
      ".iloc for positional indexing\n",
      "\n",
      "See the documentation here:\n",
      "http://pandas.pydata.org/pandas-docs/stable/indexing.html#ix-indexer-is-deprecated\n",
      "/anaconda3/lib/python3.6/site-packages/ipykernel_launcher.py:32: DeprecationWarning: \n",
      ".ix is deprecated. Please use\n",
      ".loc for label based indexing or\n",
      ".iloc for positional indexing\n",
      "\n",
      "See the documentation here:\n",
      "http://pandas.pydata.org/pandas-docs/stable/indexing.html#ix-indexer-is-deprecated\n"
     ]
    }
   ],
   "source": [
    "films = { 'title': char,'text': text, 'cluster': clusters}\n",
    "frame = p.DataFrame(films, index = [clusters] , columns = ['title', 'text'])\n",
    "framex = p.DataFrame(films,  columns = ['title', 'text','cluster'])\n",
    "\n",
    "\n",
    "#frame['cluster'].value_counts() #number of films per cluster (clusters from 0 to 4)\n",
    "\n",
    "#print(frame)\n",
    "\n",
    "\n",
    "\n",
    "grouped = frame.groupby(frame['title']) #groupby cluster for aggregation purposes\n",
    "\n",
    "#grouped.mean() #average rank (1 to 100) per cluster\n",
    "\n",
    "from __future__ import print_function\n",
    "\n",
    "print(\"Top terms per cluster:\")\n",
    "print()\n",
    "#sort cluster centers by proximity to centroid\n",
    "order_centroids = km.cluster_centers_.argsort()[:, ::-1] \n",
    "\n",
    "for i in range(num_clusters):\n",
    "    print(\"Cluster %d words:\" % i, end='')\n",
    "    \n",
    "    for ind in order_centroids[i, :10]: #replace 6 with n words per cluster\n",
    "        print(' %s' % vocab_frame.ix[terms[ind].split(' ')].values.tolist()[0][0].encode('utf-8', 'ignore'), end=',')\n",
    "    print() #add whitespace\n",
    "    print() #add whitespace\n",
    "    \n",
    "    print(\"Cluster %d titles:\" % i, end='')\n",
    "    for title in frame.ix[i]['title'].values.tolist():\n",
    "        print(' %s,' % title, end='')\n",
    "    print() #add whitespace\n",
    "    print() #add whitespace\n",
    "    \n",
    "print()\n",
    "print()"
   ]
  },
  {
   "cell_type": "code",
   "execution_count": 17,
   "metadata": {},
   "outputs": [
    {
     "data": {
      "text/plain": [
       "0    7\n",
       "1    2\n",
       "3    1\n",
       "2    1\n",
       "Name: cluster, dtype: int64"
      ]
     },
     "execution_count": 17,
     "metadata": {},
     "output_type": "execute_result"
    }
   ],
   "source": [
    "framex['cluster'].value_counts() #number of films per cluster (clusters from 0 to 4)\n"
   ]
  },
  {
   "cell_type": "code",
   "execution_count": 18,
   "metadata": {},
   "outputs": [
    {
     "name": "stdout",
     "output_type": "stream",
     "text": [
      "      title                                               text  cluster\n",
      "3   KANE SR  You people seem to forget that I'm the boy's f...        1\n",
      "5  MRS KANE  calling out Be careful Charles! Calling out th...        1\n"
     ]
    }
   ],
   "source": [
    "fclust = ['1']\n",
    "ccps = framex.loc[framex['cluster'].isin(fclust)]\n",
    "\n",
    "print(ccps)"
   ]
  },
  {
   "cell_type": "code",
   "execution_count": 19,
   "metadata": {},
   "outputs": [],
   "source": [
    "#set up colors per clusters using a dict\n",
    "cluster_colors = {0: '#1b9e77', 1: '#d95f02', 2: '#7570b3', 3: '#e7298a', 4: '#66a61e'}\n",
    "\n",
    "#set up cluster names using a dict\n",
    "cluster_names = {0: 'yes, leland, going', \n",
    "                 1: 'got, look, notice', \n",
    "                 2: 'susan, want, way',\n",
    "                 3: 'bernstein, new, right', \n",
    "                 4: 'let, chronicle, little'}"
   ]
  },
  {
   "cell_type": "code",
   "execution_count": 20,
   "metadata": {},
   "outputs": [
    {
     "name": "stderr",
     "output_type": "stream",
     "text": [
      "/anaconda3/lib/python3.6/site-packages/matplotlib/cbook/deprecation.py:107: MatplotlibDeprecationWarning: Passing one of 'on', 'true', 'off', 'false' as a boolean is deprecated; use an actual boolean (True/False) instead.\n",
      "  warnings.warn(message, mplDeprecation, stacklevel=1)\n",
      "/anaconda3/lib/python3.6/site-packages/ipykernel_launcher.py:37: DeprecationWarning: \n",
      ".ix is deprecated. Please use\n",
      ".loc for label based indexing or\n",
      ".iloc for positional indexing\n",
      "\n",
      "See the documentation here:\n",
      "http://pandas.pydata.org/pandas-docs/stable/indexing.html#ix-indexer-is-deprecated\n"
     ]
    },
    {
     "data": {
      "image/png": "[encoded data removed]",
      "text/plain": [
       "<Figure size 1080x1080 with 1 Axes>"
      ]
     },
     "metadata": {},
     "output_type": "display_data"
    }
   ],
   "source": [
    "#some ipython magic to show the matplotlib plots inline\n",
    "%matplotlib inline \n",
    "\n",
    "#create data frame that has the result of the MDS plus the cluster numbers and titles\n",
    "df = p.DataFrame(dict(x=xs, y=ys, label=clusters, title=char)) \n",
    "\n",
    "#group by cluster\n",
    "groups = df.groupby('label')\n",
    "\n",
    "\n",
    "# set up plot\n",
    "fig, ax = plt.subplots(figsize=(15,15)) # set size\n",
    "ax.margins(0.05) # Optional, just adds 5% padding to the autoscaling\n",
    "\n",
    "#iterate through groups to layer the plot\n",
    "#note that I use the cluster_name and cluster_color dicts with the 'name' lookup to return the appropriate color/label\n",
    "for name, group in groups:\n",
    "    ax.plot(group.x, group.y, marker='o', linestyle='', ms=12, \n",
    "            label=cluster_names[name], color=cluster_colors[name], \n",
    "            mec='none')\n",
    "    ax.set_aspect('auto')\n",
    "    ax.tick_params(\\\n",
    "        axis= 'x',          # changes apply to the x-axis\n",
    "        which='both',      # both major and minor ticks are affected\n",
    "        bottom='off',      # ticks along the bottom edge are off\n",
    "        top='off',         # ticks along the top edge are off\n",
    "        labelbottom='off')\n",
    "    ax.tick_params(\\\n",
    "        axis= 'y',         # changes apply to the y-axis\n",
    "        which='both',      # both major and minor ticks are affected\n",
    "        left='off',      # ticks along the bottom edge are off\n",
    "        top='off',         # ticks along the top edge are off\n",
    "        labelleft='off')\n",
    "    \n",
    "ax.legend(numpoints=1)  #show legend with only 1 point\n",
    "\n",
    "#add label in x,y position with the label as the film title\n",
    "for i in range(len(df)):\n",
    "    ax.text(df.ix[i]['x'], df.ix[i]['y'], df.ix[i]['title'], size=8)  \n",
    "\n",
    "    \n",
    "    \n",
    "plt.show() #show the plot\n",
    "\n",
    "#uncomment the below to save the plot if need be\n",
    "#plt.savefig('clusters_small_noaxes.png', dpi=200)"
   ]
  },
  {
   "cell_type": "code",
   "execution_count": 21,
   "metadata": {},
   "outputs": [
    {
     "name": "stderr",
     "output_type": "stream",
     "text": [
      "/anaconda3/lib/python3.6/site-packages/matplotlib/cbook/deprecation.py:107: MatplotlibDeprecationWarning: Passing one of 'on', 'true', 'off', 'false' as a boolean is deprecated; use an actual boolean (True/False) instead.\n",
      "  warnings.warn(message, mplDeprecation, stacklevel=1)\n"
     ]
    },
    {
     "data": {
      "image/png": "[encoded data removed]",
      "text/plain": [
       "<Figure size 1080x1440 with 1 Axes>"
      ]
     },
     "metadata": {},
     "output_type": "display_data"
    }
   ],
   "source": [
    "plt.close()\n",
    "\n",
    "#define custom toolbar location\n",
    "class TopToolbar(mpld3.plugins.PluginBase):\n",
    "    \"\"\"Plugin for moving toolbar to top of figure\"\"\"\n",
    "\n",
    "    JAVASCRIPT = \"\"\"\n",
    "    mpld3.register_plugin(\"toptoolbar\", TopToolbar);\n",
    "    TopToolbar.prototype = Object.create(mpld3.Plugin.prototype);\n",
    "    TopToolbar.prototype.constructor = TopToolbar;\n",
    "    function TopToolbar(fig, props){\n",
    "        mpld3.Plugin.call(this, fig, props);\n",
    "    };\n",
    "\n",
    "    TopToolbar.prototype.draw = function(){\n",
    "      // the toolbar svg doesn't exist\n",
    "      // yet, so first draw it\n",
    "      this.fig.toolbar.draw();\n",
    "\n",
    "      // then change the y position to be\n",
    "      // at the top of the figure\n",
    "      this.fig.toolbar.toolbar.attr(\"x\", 150);\n",
    "      this.fig.toolbar.toolbar.attr(\"y\", 400);\n",
    "\n",
    "      // then remove the draw function,\n",
    "      // so that it is not called again\n",
    "      this.fig.toolbar.draw = function() {}\n",
    "    }\n",
    "    \"\"\"\n",
    "    def __init__(self):\n",
    "        self.dict_ = {\"type\": \"toptoolbar\"}\n",
    "\n",
    "#create data frame that has the result of the MDS plus the cluster numbers and titles\n",
    "df = p.DataFrame(dict(x=xs, y=ys, label=clusters, title=char)) \n",
    "\n",
    "#group by cluster\n",
    "groups = df.groupby('label')\n",
    "\n",
    "#define custom css to format the font and to remove the axis labeling\n",
    "css = \"\"\"\n",
    "text.mpld3-text, div.mpld3-tooltip {\n",
    "  font-family:Arial, Helvetica, sans-serif;\n",
    "}\n",
    "\n",
    "g.mpld3-xaxis, g.mpld3-yaxis {\n",
    "display: none; }\n",
    "\n",
    "svg.mpld3-figure {\n",
    "margin-left: -200px;}\n",
    "\"\"\"\n",
    "\n",
    "# Plot \n",
    "fig, ax = plt.subplots(figsize=(14,6)) #set plot size\n",
    "ax.margins(0.03) # Optional, just adds 5% padding to the autoscaling\n",
    "\n",
    "#iterate through groups to layer the plot\n",
    "#note that I use the cluster_name and cluster_color dicts with the 'name' lookup to return the appropriate color/label\n",
    "for name, group in groups:\n",
    "    points = ax.plot(group.x, group.y, marker='o', linestyle='', ms=18, \n",
    "                     label=cluster_names[name], mec='none', \n",
    "                     color=cluster_colors[name])\n",
    "    ax.set_aspect('auto')\n",
    "    labels = [i for i in group.title]\n",
    "    \n",
    "    #set tooltip using points, labels and the already defined 'css'\n",
    "    tooltip = mpld3.plugins.PointHTMLTooltip(points[0], labels,\n",
    "                                       voffset=10, hoffset=10, css=css)\n",
    "    #connect tooltip to fig\n",
    "    mpld3.plugins.connect(fig, tooltip, TopToolbar())    \n",
    "    \n",
    "    #set tick marks as blank\n",
    "    ax.axes.get_xaxis().set_ticks([])\n",
    "    ax.axes.get_yaxis().set_ticks([])\n",
    "    \n",
    "    #set axis as blank\n",
    "    ax.axes.get_xaxis().set_visible(False)\n",
    "    ax.axes.get_yaxis().set_visible(False)\n",
    "\n",
    "    \n",
    "ax.legend(numpoints=1) #show legend with only one dot\n",
    "\n",
    "mpld3.display() #show the plot\n",
    "\n",
    "#uncomment the below to export to html\n",
    "#html = mpld3.fig_to_html(fig)\n",
    "#print(html)\n",
    "\n",
    "from scipy.cluster.hierarchy import ward, dendrogram\n",
    "\n",
    "linkage_matrix = ward(dist) #define the linkage_matrix using ward clustering pre-computed distances\n",
    "\n",
    "fig, ax = plt.subplots(figsize=(15, 20)) # set size\n",
    "ax = dendrogram(linkage_matrix, orientation=\"right\", labels=char);\n",
    "\n",
    "plt.tick_params(\\\n",
    "    axis= 'x',          # changes apply to the x-axis\n",
    "    which='both',      # both major and minor ticks are affected\n",
    "    bottom='off',      # ticks along the bottom edge are off\n",
    "    top='off',         # ticks along the top edge are off\n",
    "    labelbottom='off')\n",
    "\n",
    "plt.tight_layout() #show plot with tight layout\n",
    "\n",
    "#uncomment below to save figure\n",
    "plt.savefig('ward_clusters.png', dpi=200) #save figure as ward_clusters\n",
    "\n"
   ]
  },
  {
   "cell_type": "code",
   "execution_count": 22,
   "metadata": {},
   "outputs": [],
   "source": [
    "#fd = open(out_filename, 'w')\n",
    "#fd.write(result_string)\n"
   ]
  },
  {
   "cell_type": "code",
   "execution_count": 23,
   "metadata": {},
   "outputs": [
    {
     "name": "stdout",
     "output_type": "stream",
     "text": [
      "CPU times: user 568 µs, sys: 1 µs, total: 569 µs\n",
      "Wall time: 575 µs\n",
      "CPU times: user 110 ms, sys: 536 µs, total: 110 ms\n",
      "Wall time: 111 ms\n",
      "CPU times: user 2 µs, sys: 0 ns, total: 2 µs\n",
      "Wall time: 4.77 µs\n"
     ]
    }
   ],
   "source": [
    "from gensim import corpora, models, similarities \n",
    "\n",
    "\n",
    "#tokenize\n",
    "%time tokenized_text = [tokenize_only(text) for text in ccorpus]\n",
    "\n",
    "#remove stop words\n",
    "%time texts = [[word for word in text if word not in stopwords] for text in text]\n",
    "\n",
    "#create a Gensim dictionary from the texts\n",
    "dictionary = corpora.Dictionary(texts)\n",
    "\n",
    "#remove extremes (similar to the min/max df step used when creating the tf-idf matrix)\n",
    "dictionary.filter_extremes(no_below=1, no_above=50)\n",
    "\n",
    "#convert the dictionary to a bag of words corpus for reference\n",
    "corpus = [dictionary.doc2bow(text) for text in texts]\n",
    "\n",
    "%time \n",
    "lda = models.LdaModel(corpus, num_topics=8, \n",
    "                            id2word=dictionary, \n",
    "                            update_every=5, \n",
    "                            chunksize=10000, \n",
    "                            passes=100)\n",
    "\n",
    "\n"
   ]
  },
  {
   "cell_type": "code",
   "execution_count": 24,
   "metadata": {},
   "outputs": [
    {
     "data": {
      "text/plain": [
       "[(0,\n",
       "  '0.270*\" \" + 0.202*\"e\" + 0.095*\"r\" + 0.086*\"n\" + 0.074*\"h\" + 0.050*\"l\" + 0.022*\"u\" + 0.022*\"p\" + 0.022*\"g\" + 0.021*\"f\"'),\n",
       " (1,\n",
       "  '0.324*\" \" + 0.139*\"e\" + 0.093*\"n\" + 0.066*\"u\" + 0.061*\"h\" + 0.043*\"r\" + 0.038*\"w\" + 0.035*\"l\" + 0.028*\"g\" + 0.019*\"\\'\"'),\n",
       " (2,\n",
       "  '0.018*\"7\" + 0.018*\"5\" + 0.018*\"J\" + 0.018*\"4\" + 0.018*\"&\" + 0.018*\"X\" + 0.018*\"8\" + 0.018*\"e\" + 0.018*\" \" + 0.018*\"f\"'),\n",
       " (3,\n",
       "  '0.313*\" \" + 0.126*\"e\" + 0.092*\"n\" + 0.072*\"r\" + 0.048*\"h\" + 0.045*\"l\" + 0.035*\"g\" + 0.033*\"u\" + 0.031*\"p\" + 0.027*\"c\"'),\n",
       " (4,\n",
       "  '0.325*\" \" + 0.110*\"e\" + 0.088*\"h\" + 0.071*\"r\" + 0.062*\"l\" + 0.060*\"n\" + 0.037*\"u\" + 0.034*\"g\" + 0.027*\"\\'\" + 0.025*\"c\"'),\n",
       " (5,\n",
       "  '0.018*\"7\" + 0.018*\"5\" + 0.018*\"J\" + 0.018*\"&\" + 0.018*\"4\" + 0.018*\"X\" + 0.018*\"8\" + 0.018*\"e\" + 0.018*\"g\" + 0.018*\"f\"'),\n",
       " (6,\n",
       "  '0.018*\"7\" + 0.018*\"5\" + 0.018*\"J\" + 0.018*\"&\" + 0.018*\"4\" + 0.018*\"X\" + 0.018*\"8\" + 0.018*\"e\" + 0.018*\"g\" + 0.018*\"f\"'),\n",
       " (7,\n",
       "  '0.348*\" \" + 0.118*\"e\" + 0.076*\"n\" + 0.072*\"h\" + 0.057*\"l\" + 0.049*\"r\" + 0.039*\"u\" + 0.035*\"w\" + 0.024*\"f\" + 0.021*\"g\"')]"
      ]
     },
     "execution_count": 24,
     "metadata": {},
     "output_type": "execute_result"
    }
   ],
   "source": [
    "lda.show_topics()"
   ]
  },
  {
   "cell_type": "code",
   "execution_count": 25,
   "metadata": {
    "scrolled": true
   },
   "outputs": [
    {
     "name": "stdout",
     "output_type": "stream",
     "text": [
      "[(0, [(' ', 0.2702107), ('e', 0.20193414), ('r', 0.09525116), ('n', 0.08635104), ('h', 0.074394345)]), (1, [(' ', 0.324186), ('e', 0.13856424), ('n', 0.09304554), ('u', 0.066392705), ('h', 0.061425745)]), (2, [('7', 0.017857168), ('5', 0.017857168), ('J', 0.017857151), ('&', 0.017857147), ('4', 0.017857147)]), (3, [(' ', 0.31273317), ('e', 0.12579796), ('n', 0.09207802), ('r', 0.07204572), ('h', 0.0477808)]), (4, [(' ', 0.32465452), ('e', 0.1103825), ('h', 0.088439204), ('r', 0.071188144), ('l', 0.062196836)]), (5, [('7', 0.017857168), ('5', 0.017857168), ('J', 0.017857151), ('&', 0.017857147), ('4', 0.017857147)]), (6, [('7', 0.017857168), ('5', 0.017857168), ('J', 0.017857151), ('&', 0.017857147), ('4', 0.017857147)]), (7, [(' ', 0.34772018), ('e', 0.11812779), ('n', 0.07636428), ('h', 0.071671866), ('l', 0.057410747)])]\n"
     ]
    },
    {
     "ename": "TypeError",
     "evalue": "list indices must be integers or slices, not tuple",
     "output_type": "error",
     "traceback": [
      "\u001b[0;31m---------------------------------------------------------------------------\u001b[0m",
      "\u001b[0;31mTypeError\u001b[0m                                 Traceback (most recent call last)",
      "\u001b[0;32m<ipython-input-25-437ebd3d9e7a>\u001b[0m in \u001b[0;36m<module>\u001b[0;34m()\u001b[0m\n\u001b[1;32m      3\u001b[0m \u001b[0;31m#topics_matrix = np.array(topics_matrix)\u001b[0m\u001b[0;34m\u001b[0m\u001b[0;34m\u001b[0m\u001b[0m\n\u001b[1;32m      4\u001b[0m \u001b[0;34m\u001b[0m\u001b[0m\n\u001b[0;32m----> 5\u001b[0;31m \u001b[0mtopic_words\u001b[0m \u001b[0;34m=\u001b[0m \u001b[0mtopics_matrix\u001b[0m\u001b[0;34m[\u001b[0m\u001b[0;34m:\u001b[0m\u001b[0;34m,\u001b[0m\u001b[0;34m:\u001b[0m\u001b[0;34m,\u001b[0m\u001b[0;36m1\u001b[0m\u001b[0;34m]\u001b[0m\u001b[0;34m\u001b[0m\u001b[0m\n\u001b[0m\u001b[1;32m      6\u001b[0m \u001b[0;32mfor\u001b[0m \u001b[0mi\u001b[0m \u001b[0;32min\u001b[0m \u001b[0mtopic_words\u001b[0m\u001b[0;34m:\u001b[0m\u001b[0;34m\u001b[0m\u001b[0m\n\u001b[1;32m      7\u001b[0m     \u001b[0mprint\u001b[0m\u001b[0;34m(\u001b[0m\u001b[0;34m[\u001b[0m\u001b[0mstr\u001b[0m\u001b[0;34m(\u001b[0m\u001b[0mword\u001b[0m\u001b[0;34m)\u001b[0m \u001b[0;32mfor\u001b[0m \u001b[0mword\u001b[0m \u001b[0;32min\u001b[0m \u001b[0mi\u001b[0m\u001b[0;34m]\u001b[0m\u001b[0;34m)\u001b[0m\u001b[0;34m\u001b[0m\u001b[0m\n",
      "\u001b[0;31mTypeError\u001b[0m: list indices must be integers or slices, not tuple"
     ]
    }
   ],
   "source": [
    "topics_matrix = lda.show_topics(formatted=False, num_words=5)\n",
    "print(topics_matrix)\n",
    "#topics_matrix = np.array(topics_matrix)\n",
    "\n",
    "topic_words = topics_matrix[:,:,1]\n",
    "for i in topic_words:\n",
    "    print([str(word) for word in i])\n",
    "    print()"
   ]
  },
  {
   "cell_type": "code",
   "execution_count": null,
   "metadata": {},
   "outputs": [],
   "source": []
  }
 ],
 "metadata": {
  "kernelspec": {
   "display_name": "Python 3",
   "language": "python",
   "name": "python3"
  },
  "language_info": {
   "codemirror_mode": {
    "name": "ipython",
    "version": 3
   },
   "file_extension": ".py",
   "mimetype": "text/x-python",
   "name": "python",
   "nbconvert_exporter": "python",
   "pygments_lexer": "ipython3",
   "version": "3.6.5"
  }
 },
 "nbformat": 4,
 "nbformat_minor": 2
}
