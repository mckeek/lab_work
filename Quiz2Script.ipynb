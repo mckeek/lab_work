{
 "cells": [
  {
   "cell_type": "code",
   "execution_count": 2,
   "metadata": {},
   "outputs": [],
   "source": [
    "import pandas as pd\n",
    "import numpy as np"
   ]
  },
  {
   "cell_type": "code",
   "execution_count": 3,
   "metadata": {},
   "outputs": [],
   "source": [
    "infile = '/Users/kenmckee/Downloads/eur.pop.rev.csv'"
   ]
  },
  {
   "cell_type": "code",
   "execution_count": 22,
   "metadata": {},
   "outputs": [
    {
     "data": {
      "text/plain": [
       "pandas.core.frame.DataFrame"
      ]
     },
     "execution_count": 22,
     "metadata": {},
     "output_type": "execute_result"
    }
   ],
   "source": [
    "df = pd.read_csv(infile)\n",
    "type(df)\n",
    "\n",
    "#print(df)"
   ]
  },
  {
   "cell_type": "code",
   "execution_count": 27,
   "metadata": {},
   "outputs": [],
   "source": [
    "#reset the columns \n",
    "cols = ['Country','y1989','y1990','y1991','y1992','y1993','y1994','y1995']\n",
    "\n",
    "df.columns = cols\n",
    "#print(df)"
   ]
  },
  {
   "cell_type": "code",
   "execution_count": 48,
   "metadata": {},
   "outputs": [],
   "source": [
    "#1#Fill with zeros and coerce to numeric\n",
    "\n",
    "cols = ['y1989','y1990','y1991','y1992','y1993','y1994','y1995']\n",
    "df[cols] = df[cols].apply(pd.to_numeric, errors='coerce', axis=1)\n",
    "\n",
    "#print(df)"
   ]
  },
  {
   "cell_type": "code",
   "execution_count": 50,
   "metadata": {},
   "outputs": [
    {
     "name": "stdout",
     "output_type": "stream",
     "text": [
      "                                 Country        y1989        y1990  \\\n",
      "0                                      0          0.0          0.0   \n",
      "1                                      0          0.0          0.0   \n",
      "2                                Austria    7602431.0    7660345.0   \n",
      "3                                Belgium    9927600.0    9947800.0   \n",
      "4                                Denmark    5129800.0    5135400.0   \n",
      "5                                Finland    4954359.0    4974383.0   \n",
      "6                                 France   56269800.0          0.0   \n",
      "7                                Germany   61715000.0   62678000.0   \n",
      "8                                Iceland     253500.0     255708.0   \n",
      "9                                Ireland    3526600.0    3505500.0   \n",
      "10                                 Italy   57504700.0   57576400.0   \n",
      "11                             Luxemburg     374900.0     379300.0   \n",
      "12                            Netherland   14805240.0   14892574.0   \n",
      "13                                Norway    4226901.0    4241473.0   \n",
      "14                              Portugal   10304700.0          0.0   \n",
      "15                                 Spain   38851900.0   38924500.0   \n",
      "16                                Sweden    8458890.0    8527040.0   \n",
      "17                           Switzerland    6619973.0    6673850.0   \n",
      "18                        United Kingdom   57236200.0   57410600.0   \n",
      "19                                     0          0.0          0.0   \n",
      "20                          Total Europe  325665440.0  326962674.0   \n",
      "21                                     0          0.0          0.0   \n",
      "22  Sources: Eurostat, national agencies          0.0          0.0   \n",
      "\n",
      "          y1991        y1992        y1993        y1994        y1995  \n",
      "0           0.0          0.0          0.0          0.0          0.0  \n",
      "1           0.0          0.0          0.0          0.0          0.0  \n",
      "2     7790957.0    7860800.0    7909575.0    7943652.0    8054800.0  \n",
      "3     9987000.0   10068319.0   10100631.0   10130574.0   10143047.0  \n",
      "4     5146500.0    5162100.0    5180614.0    5191000.0    5251027.0  \n",
      "5     4998478.0    5029300.0    5054982.0    5098754.0    5116800.0  \n",
      "6    56893000.0   57217500.0   57529577.0   57847000.0   58265400.0  \n",
      "7    79753000.0   80238000.0   81338000.0   81353000.0   81845000.0  \n",
      "8      259577.0     262193.0     264922.0     266783.0     267806.0  \n",
      "9     3519000.0    3542000.0    3559985.0    3570700.0    3591200.0  \n",
      "10   57746200.0   57788200.0   57114161.0   57201800.0   57268578.0  \n",
      "11     384400.0     389800.0     395200.0     400000.0     412800.0  \n",
      "12   15010445.0   15129200.0   15354000.0   15341553.0   15492800.0  \n",
      "13    4261930.0    4273634.0    4324577.0    4348410.0    4370000.0  \n",
      "14    9858500.0    9846000.0    9987500.0    9776000.0    9920800.0  \n",
      "15   38993800.0   39055900.0   39790955.0   39177400.0   39241900.0  \n",
      "16    8590630.0    8644100.0    8700000.0    8749000.0    8837000.0  \n",
      "17    6750693.0    6831900.0    6871500.0    7021200.0    7060400.0  \n",
      "18   57649200.0   58888800.0   58191230.0   58380000.0   58684000.0  \n",
      "19          0.0          0.0          0.0          0.0          0.0  \n",
      "20  345061045.0  347604719.0  348887853.0  348540020.0  372599752.0  \n",
      "21          0.0          0.0          0.0          0.0          0.0  \n",
      "22          0.0          0.0          0.0          0.0          0.0  \n"
     ]
    }
   ],
   "source": [
    "#fill na with zeros\n",
    "df = df.fillna(0)\n",
    "print(df)"
   ]
  },
  {
   "cell_type": "code",
   "execution_count": 51,
   "metadata": {},
   "outputs": [
    {
     "name": "stdout",
     "output_type": "stream",
     "text": [
      "2            Austria\n",
      "3            Belgium\n",
      "4            Denmark\n",
      "5            Finland\n",
      "6             France\n",
      "7            Germany\n",
      "9            Ireland\n",
      "10             Italy\n",
      "12        Netherland\n",
      "13            Norway\n",
      "14          Portugal\n",
      "15             Spain\n",
      "16            Sweden\n",
      "17       Switzerland\n",
      "18    United Kingdom\n",
      "20      Total Europe\n",
      "Name: Country, dtype: object\n"
     ]
    }
   ],
   "source": [
    "#2#Countries over 1 Million\n",
    "hdf95 = df[df.y1995 > 1000000]\n",
    "print(hdf95['Country'] )"
   ]
  },
  {
   "cell_type": "code",
   "execution_count": 52,
   "metadata": {},
   "outputs": [
    {
     "name": "stdout",
     "output_type": "stream",
     "text": [
      "Country  United Kingdom\n",
      "y1989        57236200.0\n",
      "y1990        57410600.0\n",
      "y1991        57649200.0\n",
      "y1992        58888800.0\n",
      "y1993        58191230.0\n",
      "y1994        58380000.0\n",
      "y1995        58684000.0\n",
      "\n",
      "The avg pop for the UK from 89-95 is  58062861.428571425\n"
     ]
    }
   ],
   "source": [
    "#3\n",
    "#find the average population for the UK for the dataset\n",
    "uk = df.loc[df['Country'] == 'United Kingdom']\n",
    "newuk = uk.set_index('Country').T\n",
    "\n",
    "print(newuk)\n",
    "\n",
    "UKavg = newuk[\"United Kingdom\"].mean()\n",
    "print(\"\")\n",
    "print(\"The avg pop for the UK from 89-95 is \", UKavg)"
   ]
  },
  {
   "cell_type": "code",
   "execution_count": null,
   "metadata": {},
   "outputs": [],
   "source": []
  }
 ],
 "metadata": {
  "kernelspec": {
   "display_name": "Python 3",
   "language": "python",
   "name": "python3"
  },
  "language_info": {
   "codemirror_mode": {
    "name": "ipython",
    "version": 3
   },
   "file_extension": ".py",
   "mimetype": "text/x-python",
   "name": "python",
   "nbconvert_exporter": "python",
   "pygments_lexer": "ipython3",
   "version": "3.6.5"
  }
 },
 "nbformat": 4,
 "nbformat_minor": 2
}
