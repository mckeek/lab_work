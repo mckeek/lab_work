{
 "cells": [
  {
   "cell_type": "code",
   "execution_count": 2,
   "metadata": {},
   "outputs": [
    {
     "ename": "ModuleNotFoundError",
     "evalue": "No module named 'pymongo'",
     "output_type": "error",
     "traceback": [
      "\u001b[0;31m---------------------------------------------------------------------------\u001b[0m",
      "\u001b[0;31mModuleNotFoundError\u001b[0m                       Traceback (most recent call last)",
      "\u001b[0;32m<ipython-input-2-699c308b3fc4>\u001b[0m in \u001b[0;36m<module>\u001b[0;34m\u001b[0m\n\u001b[1;32m      8\u001b[0m \u001b[0;32mimport\u001b[0m \u001b[0murllib\u001b[0m\u001b[0;34m.\u001b[0m\u001b[0mrequest\u001b[0m\u001b[0;34m\u001b[0m\u001b[0;34m\u001b[0m\u001b[0m\n\u001b[1;32m      9\u001b[0m \u001b[0;32mimport\u001b[0m \u001b[0mjson\u001b[0m\u001b[0;34m\u001b[0m\u001b[0;34m\u001b[0m\u001b[0m\n\u001b[0;32m---> 10\u001b[0;31m \u001b[0;32mimport\u001b[0m \u001b[0mpymongo\u001b[0m\u001b[0;34m\u001b[0m\u001b[0;34m\u001b[0m\u001b[0m\n\u001b[0m\u001b[1;32m     11\u001b[0m \u001b[0;34m\u001b[0m\u001b[0m\n\u001b[1;32m     12\u001b[0m \u001b[0;34m\u001b[0m\u001b[0m\n",
      "\u001b[0;31mModuleNotFoundError\u001b[0m: No module named 'pymongo'"
     ]
    }
   ],
   "source": [
    "''' \n",
    "\tThis program accesses the USGS earthquake data feed. This URL is for\n",
    "       significant quakes in the last 30 days.\n",
    "\tIt then saves the earthquakes to a database named usgs and a collection called earthquakes.\n",
    "\tThe mongod server must be running for this program to work!\n",
    "'''\n",
    "\n",
    "import urllib.request\n",
    "import json\n",
    "import pymongo\n",
    "\n",
    "\n",
    "# get the bbc rss feed of news stories and connect to it\n",
    "earthquake_url = \"http://earthquake.usgs.gov/earthquakes/feed/v1.0/summary/significant_month.geojson\"\n",
    "\n",
    "try:\n",
    "\tresponse = urllib.request.urlopen(earthquake_url)\n",
    "except urllib.error.URLError as e:\n",
    "    if hasattr(e, 'reason'):\n",
    "        print('We failed to reach a server.')\n",
    "        print('Reason: ', e.reason)\n",
    "    elif hasattr(e, 'code'):\n",
    "        print('The server couldn\\'t fulfill the request.')\n",
    "        print('Error code: ', e.code)\n",
    "else:\n",
    "\t# the url request was successful - convert the response to a string\n",
    "\tjson_string = response.read().decode('utf-8')\n",
    "\n",
    "\t# the json package loads() converts the string to python dictionaries and lists\n",
    "\teq_json = json.loads(json_string)\n",
    "\t\n",
    "\t# from the json dictionary we get the title to print\n",
    "\ttitle = eq_json['metadata']['title']\n",
    "\tprint('Collected data from', title)\n",
    "\t#  and we get the list of earthquakes\n",
    "\tquakelist = eq_json['features']\n",
    "\n",
    "\t# Connection to Mongo DB\n",
    "\ttry:\n",
    "\t    client=pymongo.MongoClient('localhost', 27017)\n",
    "\t    print (\"Connected successfully!!!\")\n",
    "\texcept pymongo.errors.ConnectionFailure as e:\n",
    "\t   print (\"Could not connect to MongoDB: %s\" % e )\n",
    "\telse:\n",
    "\n",
    "\t\t# use database named usgs or create it if not there already\n",
    "\t\teqdb = client.usgs\n",
    "\t\t# create collection named earthquakes or create it if not there already\n",
    "\t\tquakecoll = eqdb.earthquakes\n",
    "\t\t# add all the earthquakes to the list\n",
    "\t\tquakecoll.insert_many(quakelist)\n",
    "\t\tprint(\"Added\", len(quakelist), \"to earthquakes collection in usgs database\")\n",
    "\t\t\n",
    "\t# Grab back the collection of earthquakes from MongoDB\n",
    "\t\tquake_docs = quakecoll.find()\n",
    "\t\t# Loop through and print out place and time of the earthquakes\n",
    "\t\tfor doc in quake_docs:\n",
    "\t\t\tplace = doc[\"properties\"][\"place\"]\n",
    "\t\t\t# grab unix timestamp in milliseconds\n",
    "\t\t\tunix_time_mil = doc[\"properties\"][\"time\"]\n",
    "\t\t\t# convert to unix in seconds\n",
    "\t\t\tunix_time = unix_time_mil / 1000\n",
    "\t\t\t# use datatime to convert to human readible time format, goes down to milliseconds\n",
    "\t\t\t# print the place and time, with a label to show the time is in UTC\n",
    "\t\t\tprint('Place: ',place,'        Time: ',unix_time)\n",
    "# close the database connection\n",
    "\t\tclient.close()\n",
    "\n",
    "\n",
    "\t\t\n"
   ]
  },
  {
   "cell_type": "code",
   "execution_count": null,
   "metadata": {},
   "outputs": [],
   "source": []
  }
 ],
 "metadata": {
  "kernelspec": {
   "display_name": "Python 3",
   "language": "python",
   "name": "python3"
  },
  "language_info": {
   "codemirror_mode": {
    "name": "ipython",
    "version": 3
   },
   "file_extension": ".py",
   "mimetype": "text/x-python",
   "name": "python",
   "nbconvert_exporter": "python",
   "pygments_lexer": "ipython3",
   "version": "3.7.6"
  }
 },
 "nbformat": 4,
 "nbformat_minor": 2
}
