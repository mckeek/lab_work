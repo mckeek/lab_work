{
 "cells": [
  {
   "cell_type": "code",
   "execution_count": 1,
   "metadata": {},
   "outputs": [
    {
     "name": "stdout",
     "output_type": "stream",
     "text": [
      "{'State': ['Alabama', 'Alaska', 'Arizona', 'Arkansas'], 'PostCode': ['AL', 'AK', 'AZ', 'AR'], 'Area': ['52,423', '656,424', '*', '53,182'], 'Pop': ['4,040,587', '550,043', '3,665,228', '2,350,750']}\n"
     ]
    }
   ],
   "source": [
    "#Week 5-2  - Data Transformation\n",
    "\n",
    "\n",
    "#pandas fill values and functions\n",
    "\n",
    "#Use this data:\n",
    "\n",
    "state_data = {'State':['Alabama','Alaska','Arizona','Arkansas'],'PostCode':['AL','AK','AZ','AR'],'Area':['52,423','656,424','*','53,182'],'Pop':['4,040,587','550,043','3,665,228','2,350,750']}\n",
    "\n",
    "\n",
    "import pandas as pd\n",
    "import numpy as np\n",
    "#state_data =  {'State':['Alabama','Alaska','Arizona','Arkansas'],'PostCode':['AL','AK','AZ','AR'],'Area':['52,423','656,424','*','53,182'],'Pop':['4,040,587','550,043','3,665,228','2,350,750']}\n",
    "state_data = {'State':['Alabama','Alaska','Arizona','Arkansas'],'PostCode':['AL','AK','AZ','AR'],'Area':['52,423','656,424','*','53,182'],'Pop':['4,040,587','550,043','3,665,228','2,350,750']}\n",
    "print(state_data)"
   ]
  },
  {
   "cell_type": "code",
   "execution_count": 2,
   "metadata": {},
   "outputs": [
    {
     "name": "stdout",
     "output_type": "stream",
     "text": [
      "      State PostCode     Area        Pop\n",
      "0   Alabama       AL   52,423  4,040,587\n",
      "1    Alaska       AK  656,424    550,043\n",
      "2   Arizona       AZ        *  3,665,228\n",
      "3  Arkansas       AR   53,182  2,350,750\n"
     ]
    }
   ],
   "source": [
    "stdf = pd.DataFrame(state_data,columns=['State','PostCode','Area','Pop'])\n",
    "\n",
    "print(stdf)"
   ]
  },
  {
   "cell_type": "code",
   "execution_count": 3,
   "metadata": {},
   "outputs": [
    {
     "name": "stdout",
     "output_type": "stream",
     "text": [
      "         PostCode     Area        Pop\n",
      "State                                \n",
      "Alabama        AL   52,423  4,040,587\n",
      "Alaska         AK  656,424    550,043\n",
      "Arizona        AZ        0  3,665,228\n",
      "Arkansas       AR   53,182  2,350,750\n"
     ]
    }
   ],
   "source": [
    "stdf = stdf.set_index('State')\n",
    "stdf =stdf.replace('*','0')\n",
    "\n",
    "print(stdf)"
   ]
  },
  {
   "cell_type": "code",
   "execution_count": 4,
   "metadata": {},
   "outputs": [
    {
     "name": "stdout",
     "output_type": "stream",
     "text": [
      "         PostCode      Area        Pop\n",
      "State                                 \n",
      "Alabama        AL   52423.0  4,040,587\n",
      "Alaska         AK  656424.0    550,043\n",
      "Arizona        AZ       0.0  3,665,228\n",
      "Arkansas       AR   53182.0  2,350,750\n"
     ]
    }
   ],
   "source": [
    "def comma_rep(x):\n",
    "    stdf[x] = stdf[x].str.replace(\",\",\"\").astype(float)\n",
    "    \n",
    "comma_rep(\"Area\")\n",
    "\n",
    "\n",
    "print(stdf)"
   ]
  },
  {
   "cell_type": "code",
   "execution_count": 5,
   "metadata": {},
   "outputs": [
    {
     "name": "stdout",
     "output_type": "stream",
     "text": [
      "         PostCode      Area        Pop\n",
      "State                                 \n",
      "Alabama        AL   52423.0  4040587.0\n",
      "Alaska         AK  656424.0   550043.0\n",
      "Arizona        AZ       0.0  3665228.0\n",
      "Arkansas       AR   53182.0  2350750.0\n"
     ]
    }
   ],
   "source": [
    "comma_rep(\"Pop\")\n",
    "print(stdf)"
   ]
  },
  {
   "cell_type": "markdown",
   "metadata": {},
   "source": [
    "Week 5-3 - Data Stacking and Unstacking\n",
    "\n",
    "Sometimes a need to change how we look at a table of data\n",
    "\n",
    "persondict = {'person':['Bob','Alice','Steve'],'age':[32,24,64],'weight':[128,86,95]}\n",
    "\n",
    "\n",
    "There are packages and spreadsheets that support this data transformation, such as miniTab and Excel.  In pandas, we can use the stack, unstack, and pivot functions.\n",
    "\n",
    "An important point about this data transformation is that it changes the unit of analysis.  \n",
    "\n",
    "Let's look at an example."
   ]
  },
  {
   "cell_type": "code",
   "execution_count": 6,
   "metadata": {},
   "outputs": [
    {
     "data": {
      "text/html": [
       "<div>\n",
       "<style scoped>\n",
       "    .dataframe tbody tr th:only-of-type {\n",
       "        vertical-align: middle;\n",
       "    }\n",
       "\n",
       "    .dataframe tbody tr th {\n",
       "        vertical-align: top;\n",
       "    }\n",
       "\n",
       "    .dataframe thead th {\n",
       "        text-align: right;\n",
       "    }\n",
       "</style>\n",
       "<table border=\"1\" class=\"dataframe\">\n",
       "  <thead>\n",
       "    <tr style=\"text-align: right;\">\n",
       "      <th></th>\n",
       "      <th>age</th>\n",
       "      <th>weight</th>\n",
       "    </tr>\n",
       "    <tr>\n",
       "      <th>person</th>\n",
       "      <th></th>\n",
       "      <th></th>\n",
       "    </tr>\n",
       "  </thead>\n",
       "  <tbody>\n",
       "    <tr>\n",
       "      <th>Bob</th>\n",
       "      <td>32</td>\n",
       "      <td>128</td>\n",
       "    </tr>\n",
       "    <tr>\n",
       "      <th>Alice</th>\n",
       "      <td>24</td>\n",
       "      <td>86</td>\n",
       "    </tr>\n",
       "    <tr>\n",
       "      <th>Steve</th>\n",
       "      <td>64</td>\n",
       "      <td>95</td>\n",
       "    </tr>\n",
       "  </tbody>\n",
       "</table>\n",
       "</div>"
      ],
      "text/plain": [
       "        age  weight\n",
       "person             \n",
       "Bob      32     128\n",
       "Alice    24      86\n",
       "Steve    64      95"
      ]
     },
     "execution_count": 6,
     "metadata": {},
     "output_type": "execute_result"
    }
   ],
   "source": [
    "\n",
    "\n",
    "import pandas as pd\n",
    "persondict = {'person':['Bob','Alice','Steve'], 'age':[32, 24, 64], 'weight':[128, 86, 95]}\n",
    "persontable = pd.DataFrame(persondict, columns=['person','age','weight'])\n",
    "persontable\n",
    "\n",
    "#We use the person column as the index to the table, and now we have the wide format.\n",
    "persontable = persontable.set_index('person')\n",
    "persontable\n",
    "\n",
    "\n"
   ]
  },
  {
   "cell_type": "code",
   "execution_count": 10,
   "metadata": {},
   "outputs": [
    {
     "name": "stdout",
     "output_type": "stream",
     "text": [
      "person        \n",
      "Bob     age        32\n",
      "        weight    128\n",
      "Alice   age        24\n",
      "        weight     86\n",
      "Steve   age        64\n",
      "        weight     95\n",
      "dtype: int64\n"
     ]
    },
    {
     "data": {
      "text/plain": [
       "(6,)"
      ]
     },
     "execution_count": 10,
     "metadata": {},
     "output_type": "execute_result"
    }
   ],
   "source": [
    "result = persontable.stack()\n",
    "\n",
    "print(result)\n",
    "result.shape"
   ]
  },
  {
   "cell_type": "code",
   "execution_count": 13,
   "metadata": {},
   "outputs": [
    {
     "data": {
      "text/html": [
       "<div>\n",
       "<style scoped>\n",
       "    .dataframe tbody tr th:only-of-type {\n",
       "        vertical-align: middle;\n",
       "    }\n",
       "\n",
       "    .dataframe tbody tr th {\n",
       "        vertical-align: top;\n",
       "    }\n",
       "\n",
       "    .dataframe thead th {\n",
       "        text-align: right;\n",
       "    }\n",
       "</style>\n",
       "<table border=\"1\" class=\"dataframe\">\n",
       "  <thead>\n",
       "    <tr style=\"text-align: right;\">\n",
       "      <th></th>\n",
       "      <th>person</th>\n",
       "      <th>attribute</th>\n",
       "      <th>value</th>\n",
       "    </tr>\n",
       "  </thead>\n",
       "  <tbody>\n",
       "    <tr>\n",
       "      <th>0</th>\n",
       "      <td>Bob</td>\n",
       "      <td>age</td>\n",
       "      <td>32</td>\n",
       "    </tr>\n",
       "    <tr>\n",
       "      <th>1</th>\n",
       "      <td>Bob</td>\n",
       "      <td>weight</td>\n",
       "      <td>128</td>\n",
       "    </tr>\n",
       "    <tr>\n",
       "      <th>2</th>\n",
       "      <td>Alice</td>\n",
       "      <td>age</td>\n",
       "      <td>24</td>\n",
       "    </tr>\n",
       "    <tr>\n",
       "      <th>3</th>\n",
       "      <td>Alice</td>\n",
       "      <td>weight</td>\n",
       "      <td>86</td>\n",
       "    </tr>\n",
       "    <tr>\n",
       "      <th>4</th>\n",
       "      <td>Steve</td>\n",
       "      <td>age</td>\n",
       "      <td>64</td>\n",
       "    </tr>\n",
       "    <tr>\n",
       "      <th>5</th>\n",
       "      <td>Steve</td>\n",
       "      <td>weight</td>\n",
       "      <td>95</td>\n",
       "    </tr>\n",
       "  </tbody>\n",
       "</table>\n",
       "</div>"
      ],
      "text/plain": [
       "  person attribute  value\n",
       "0    Bob       age     32\n",
       "1    Bob    weight    128\n",
       "2  Alice       age     24\n",
       "3  Alice    weight     86\n",
       "4  Steve       age     64\n",
       "5  Steve    weight     95"
      ]
     },
     "execution_count": 13,
     "metadata": {},
     "output_type": "execute_result"
    }
   ],
   "source": [
    "persontall = result.reset_index()\n",
    "persontall.columns=[\"person\",\"attribute\",\"value\"]\n",
    "\n",
    "persontall"
   ]
  },
  {
   "cell_type": "code",
   "execution_count": 17,
   "metadata": {},
   "outputs": [
    {
     "data": {
      "text/html": [
       "<div>\n",
       "<style scoped>\n",
       "    .dataframe tbody tr th:only-of-type {\n",
       "        vertical-align: middle;\n",
       "    }\n",
       "\n",
       "    .dataframe tbody tr th {\n",
       "        vertical-align: top;\n",
       "    }\n",
       "\n",
       "    .dataframe thead th {\n",
       "        text-align: right;\n",
       "    }\n",
       "</style>\n",
       "<table border=\"1\" class=\"dataframe\">\n",
       "  <thead>\n",
       "    <tr style=\"text-align: right;\">\n",
       "      <th>attribute</th>\n",
       "      <th>age</th>\n",
       "      <th>weight</th>\n",
       "    </tr>\n",
       "    <tr>\n",
       "      <th>person</th>\n",
       "      <th></th>\n",
       "      <th></th>\n",
       "    </tr>\n",
       "  </thead>\n",
       "  <tbody>\n",
       "    <tr>\n",
       "      <th>Alice</th>\n",
       "      <td>24</td>\n",
       "      <td>86</td>\n",
       "    </tr>\n",
       "    <tr>\n",
       "      <th>Bob</th>\n",
       "      <td>32</td>\n",
       "      <td>128</td>\n",
       "    </tr>\n",
       "    <tr>\n",
       "      <th>Steve</th>\n",
       "      <td>64</td>\n",
       "      <td>95</td>\n",
       "    </tr>\n",
       "  </tbody>\n",
       "</table>\n",
       "</div>"
      ],
      "text/plain": [
       "attribute  age  weight\n",
       "person                \n",
       "Alice       24      86\n",
       "Bob         32     128\n",
       "Steve       64      95"
      ]
     },
     "execution_count": 17,
     "metadata": {},
     "output_type": "execute_result"
    }
   ],
   "source": [
    "persontall.pivot('person','attribute','value')"
   ]
  },
  {
   "cell_type": "code",
   "execution_count": null,
   "metadata": {},
   "outputs": [],
   "source": []
  }
 ],
 "metadata": {
  "kernelspec": {
   "display_name": "Python 3",
   "language": "python",
   "name": "python3"
  },
  "language_info": {
   "codemirror_mode": {
    "name": "ipython",
    "version": 3
   },
   "file_extension": ".py",
   "mimetype": "text/x-python",
   "name": "python",
   "nbconvert_exporter": "python",
   "pygments_lexer": "ipython3",
   "version": "3.6.5"
  }
 },
 "nbformat": 4,
 "nbformat_minor": 2
}
