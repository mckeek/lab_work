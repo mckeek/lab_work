{
 "cells": [
  {
   "cell_type": "code",
   "execution_count": 3,
   "metadata": {},
   "outputs": [
    {
     "ename": "ModuleNotFoundError",
     "evalue": "No module named 'selenium'",
     "output_type": "error",
     "traceback": [
      "\u001b[0;31m---------------------------------------------------------------------------\u001b[0m",
      "\u001b[0;31mModuleNotFoundError\u001b[0m                       Traceback (most recent call last)",
      "\u001b[0;32m<ipython-input-3-0bd662974b11>\u001b[0m in \u001b[0;36m<module>\u001b[0;34m\u001b[0m\n\u001b[1;32m      1\u001b[0m \u001b[0;31m#load webdriver function from selenium\u001b[0m\u001b[0;34m\u001b[0m\u001b[0;34m\u001b[0m\u001b[0;34m\u001b[0m\u001b[0m\n\u001b[0;32m----> 2\u001b[0;31m \u001b[0;32mfrom\u001b[0m \u001b[0mselenium\u001b[0m \u001b[0;32mimport\u001b[0m \u001b[0mwebdriver\u001b[0m\u001b[0;34m\u001b[0m\u001b[0;34m\u001b[0m\u001b[0m\n\u001b[0m\u001b[1;32m      3\u001b[0m \u001b[0;32mfrom\u001b[0m \u001b[0mselenium\u001b[0m\u001b[0;34m.\u001b[0m\u001b[0mwebdriver\u001b[0m\u001b[0;34m.\u001b[0m\u001b[0mcommon\u001b[0m\u001b[0;34m.\u001b[0m\u001b[0mkeys\u001b[0m \u001b[0;32mimport\u001b[0m \u001b[0mKeys\u001b[0m\u001b[0;34m\u001b[0m\u001b[0;34m\u001b[0m\u001b[0m\n\u001b[1;32m      4\u001b[0m \u001b[0;34m\u001b[0m\u001b[0m\n\u001b[1;32m      5\u001b[0m \u001b[0;32mfrom\u001b[0m \u001b[0mselenium\u001b[0m \u001b[0;32mimport\u001b[0m \u001b[0mwebdriver\u001b[0m\u001b[0;34m\u001b[0m\u001b[0;34m\u001b[0m\u001b[0m\n",
      "\u001b[0;31mModuleNotFoundError\u001b[0m: No module named 'selenium'"
     ]
    }
   ],
   "source": [
    "#load webdriver function from selenium\n",
    "from selenium import webdriver\n",
    "from selenium.webdriver.common.keys import Keys\n",
    "\n",
    "from selenium import webdriver\n",
    "from time import sleep\n",
    "from bs4 import BeautifulSoup, Comment\n",
    "import pandas as pd\n",
    "\n",
    "\n",
    "#Setting up Chrome webdriver Options\n",
    "chrome_options = webdriver.ChromeOptions()\n",
    "\n",
    "#setting  up local path of chrome binary file \n",
    "chrome_options.binary_location = \"C:\\\\Users\\\\SA31\\\\Downloads\\\\dt\\\\Win_337026_chrome-win32\\\\chrome-win32\\\\chrome.exe\"\n",
    "\n",
    "#creating Chrome webdriver instance with the set chrome_options\n",
    "driver = webdriver.Chrome(chrome_options=chrome_options)\n",
    "link = \"https://play.google.com/store/apps/details?id=uk.co.o2.android.myo2&hl=en_GB\"\n",
    "driver.get(link)\n",
    "#driver.execute_script(\"window.scrollTo(0, document.body.scrollHeight)\")\n",
    "Ptitle = driver.find_element_by_class_name('id-app-title').text.replace(' ','')\n",
    "print(Ptitle)\n",
    "#driver.find_element_by_xpath('//*[@id=\"body-content\"]/div/div/div[1]/div[2]/div[2]/div[1]/div[4]/button[2]/div[2]').click()\n",
    "\n",
    "sleep(1)\n",
    "driver.find_element_by_xpath('//*[@id=\"body-content\"]/div/div/div[1]/div[2]/div[2]/div[1]/div[4]/button[2]/div[2]/div/div').click()\n",
    "#select_newest.select_by_visible_text('Newest')                       \n",
    "#driver.find_element_by_xpath('//*[@id=\"body-content\"]/div/div/div[1]/div[2]/div[2]/div[1]/div[4]/button[2]/div[2]/div/div').click()\n",
    "sleep(2)\n",
    "#driver.find_element_by_css_selector('.review-filter.id-review-sort-filter.dropdown-menu-container').click()\n",
    "driver.find_element_by_css_selector('.displayed-child').click()\n",
    "#driver.find_element_by_xpath(\"//button[@data-dropdown-value='1']\").click()\n",
    "driver.execute_script(\"document.querySelectorAll('button.dropdown-child')[0].click()\")\n",
    "reviews_df = []\n",
    "for i in range(1,5):\n",
    "    try:\n",
    "        for elem in driver.find_elements_by_class_name('single-review'):\n",
    "            print(str(i))\n",
    "            content = elem.get_attribute('outerHTML')\n",
    "            soup = BeautifulSoup(content, \"html.parser\")\n",
    "            #print(soup.prettify())\n",
    "            date = soup.find('span',class_='review-date').get_text()\n",
    "            rating = soup.find('div',class_='tiny-star')['aria-label'][6:7]\n",
    "            title = soup.find('span',class_='review-title').get_text()\n",
    "            txt = soup.find('div',class_='review-body').get_text().replace('Full Review','')[len(title)+1:]\n",
    "            print(soup.get_text())\n",
    "            temp = pd.DataFrame({'Date':date,'Rating':rating,'Review Title':title,'Review Text':txt},index=[0])\n",
    "            print('-'*10)\n",
    "            reviews_df.append(temp)\n",
    "            #print(elem)\n",
    "    except:\n",
    "        print('s')\n",
    "    driver.find_element_by_xpath('//*[@id=\"body-content\"]/div/div/div[1]/div[2]/div[2]/div[1]/div[4]/button[2]/div[2]/div/div').click()\n",
    "reviews_df = pd.concat(reviews_df,ignore_index=True)\n",
    "\n",
    "reviews_df.to_csv(Ptitle+'_reviews_list.csv', encoding='utf-8')\n",
    " \n",
    "#driver.close()"
   ]
  },
  {
   "cell_type": "code",
   "execution_count": null,
   "metadata": {},
   "outputs": [],
   "source": []
  }
 ],
 "metadata": {
  "kernelspec": {
   "display_name": "Python 3",
   "language": "python",
   "name": "python3"
  },
  "language_info": {
   "codemirror_mode": {
    "name": "ipython",
    "version": 3
   },
   "file_extension": ".py",
   "mimetype": "text/x-python",
   "name": "python",
   "nbconvert_exporter": "python",
   "pygments_lexer": "ipython3",
   "version": "3.7.6"
  }
 },
 "nbformat": 4,
 "nbformat_minor": 2
}
