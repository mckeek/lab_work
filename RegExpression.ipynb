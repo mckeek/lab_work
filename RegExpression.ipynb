{
 "cells": [
  {
   "cell_type": "code",
   "execution_count": null,
   "metadata": {},
   "outputs": [],
   "source": [
    "That U.S.A. poster-print from NG costs $12.40, and there are 1,259,000 copies.\n",
    "\n",
    "\n",
    "\n",
    "(#[^\\s]+) will match any hashtag, selecting anything after \"#\" until a whitespace character.\n",
    "    \\b([A-Z][\\.]?)+\\b # cap letter followed by optional period\n",
    "    ([A-Z]\\.?){2,} # acronym using two or more cap letters"
   ]
  },
  {
   "cell_type": "code",
   "execution_count": null,
   "metadata": {},
   "outputs": [],
   "source": [
    "#I thought [A-Z][\\w']+\\\\.?|[\\w']+ for 1.b worked. Not sure why I have mixed double-escape and regular escape in there now, though ",
    "\n",
    "#From Editt Gonen-Friedman to Everyone: (05:39 PM)\n",
    "#It was getting the word Gov.\n",
    "#From Justin Clark to Everyone: (05:40 PM)\n",
    "#| [A-Za-z]+’{1}?[a-z]\n",
    "#From Samuel Peoples to Everyone: (05:40 PM)\n",
    "#title_tester = \"Sen. Richard Burr spoke with Rep. Maxine Waters and VP. Pence about healthcare. \\ ",
    "This was reported by Dr. Sebastian Gorka, and Mr. President earlier today.\" ",
    "print(nltk.regexp_tokenize(title_tester, tweetPattern)) ",
    "['Sen.', 'Richard', 'Burr', 'spoke', 'with', 'Rep.', 'Maxine', 'Waters', 'and', 'VP.', 'Pence', 'about', 'healthcare', '.', 'This', 'was', 'reported', 'by', 'Dr.', 'Sebastian', 'Gorka', ',', 'and', 'Mr.', 'President', 'earlier', 'today', '.'] "
   ]
  },
  {
   "cell_type": "code",
   "execution_count": null,
   "metadata": {},
   "outputs": [],
   "source": [
    "| [A-Za-z]+’{1}?[a-z]"
   ]
  }
 ],
 "metadata": {
  "kernelspec": {
   "display_name": "Python 3",
   "language": "python",
   "name": "python3"
  },
  "language_info": {
   "codemirror_mode": {
    "name": "ipython",
    "version": 3
   },
   "file_extension": ".py",
   "mimetype": "text/x-python",
   "name": "python",
   "nbconvert_exporter": "python",
   "pygments_lexer": "ipython3",
   "version": "3.7.6"
  }
 },
 "nbformat": 4,
 "nbformat_minor": 2
}
