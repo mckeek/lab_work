{
 "cells": [
  {
   "cell_type": "code",
   "execution_count": 3,
   "metadata": {},
   "outputs": [
    {
     "name": "stderr",
     "output_type": "stream",
     "text": [
      "usage: ipykernel_launcher.py [-h] [script_url]\n",
      "ipykernel_launcher.py: error: unrecognized arguments: -f\n"
     ]
    },
    {
     "ename": "SystemExit",
     "evalue": "2",
     "output_type": "error",
     "traceback": [
      "An exception has occurred, use %tb to see the full traceback.\n",
      "\u001b[0;31mSystemExit\u001b[0m\u001b[0;31m:\u001b[0m 2\n"
     ]
    },
    {
     "name": "stderr",
     "output_type": "stream",
     "text": [
      "/anaconda3/lib/python3.6/site-packages/IPython/core/interactiveshell.py:2971: UserWarning: To exit: use 'exit', 'quit', or Ctrl-D.\n",
      "  warn(\"To exit: use 'exit', 'quit', or Ctrl-D.\", stacklevel=1)\n"
     ]
    }
   ],
   "source": [
    "# loop until we get a valid script_url\n",
    "\n",
    "script_url = 'https://www.imsdb.com/scripts/Citizen-Kane.html'\n",
    "# coding: utf-8\n",
    "\n",
    "# https://docs.python.org/3.0/library/urllib.request.html\n",
    "# webpage type : https://docs.python.org/3.4/library/http.client.html\n",
    "import os, sys, json, re, argparse, urllib.request, html5lib\n",
    "from bs4 import BeautifulSoup, Tag, UnicodeDammit\n",
    "\n",
    "\n",
    "#aliens_url = 'https://www.imsdb.com/scripts/Citizen-Kane.html'\n",
    "#matrix_url = 'http://www.imsdb.com/scripts/Matrix,-The.html'\n",
    "#wrong_url = 'http://www.imqsdsdb.com/scriptljhs/Maqsdtrix,-The.html'\n",
    "\n",
    "# https://docs.python.org/3.0/library/urllib.request.html\n",
    "# webpage type : https://docs.python.org/3.4/library/http.client.html\n",
    "import os, sys, json, re, argparse, urllib.request, html5lib\n",
    "from bs4 import BeautifulSoup, Tag, UnicodeDammit\n",
    "\n",
    "\n",
    "#aliens_url = 'https://www.imsdb.com/scripts/Citizen-Kane.html'\n",
    "#matrix_url = 'http://www.imsdb.com/scripts/Matrix,-The.html'\n",
    "#wrong_url = 'http://www.imqsdsdb.com/scriptljhs/Maqsdtrix,-The.html'\n",
    "\n",
    "\n",
    "\n",
    "\n",
    "argparser= argparse.ArgumentParser(description=helptext)\n",
    "argparser.add_argument('script_url', metavar='script_url', type=str, nargs='?',\n",
    "        help='URL of the webpage containing the movie script')\n",
    "\n",
    "args=argparser.parse_args()\n",
    "\n",
    "\n"
   ]
  },
  {
   "cell_type": "code",
   "execution_count": null,
   "metadata": {},
   "outputs": [],
   "source": []
  }
 ],
 "metadata": {
  "kernelspec": {
   "display_name": "Python 3",
   "language": "python",
   "name": "python3"
  },
  "language_info": {
   "codemirror_mode": {
    "name": "ipython",
    "version": 3
   },
   "file_extension": ".py",
   "mimetype": "text/x-python",
   "name": "python",
   "nbconvert_exporter": "python",
   "pygments_lexer": "ipython3",
   "version": "3.6.5"
  }
 },
 "nbformat": 4,
 "nbformat_minor": 2
}
