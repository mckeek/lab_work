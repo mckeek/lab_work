{
 "cells": [
  {
   "cell_type": "code",
   "execution_count": 2,
   "metadata": {},
   "outputs": [
    {
     "name": "stdout",
     "output_type": "stream",
     "text": [
      "44\n"
     ]
    }
   ],
   "source": [
    "x = 43\n",
    "x = x +1 \n",
    "print (x)"
   ]
  },
  {
   "cell_type": "code",
   "execution_count": 30,
   "metadata": {},
   "outputs": [
    {
     "name": "stdout",
     "output_type": "stream",
     "text": [
      "enter a score between 0 and 1 .5\n",
      "your input 0.5 is a: F\n"
     ]
    }
   ],
   "source": [
    "a = .9\n",
    "b = .8\n",
    "c = .7\n",
    "d = .6\n",
    "\n",
    "\n",
    "\n",
    "\n",
    "score = (input(\"enter a score between 0 and 1 \"))\n",
    "\n",
    "try:\n",
    "    float(score)\n",
    "except ValueError:\n",
    "    grade = \"Bad Score\"\n",
    "else:\n",
    "    score = float(score)\n",
    "    if score > a:\n",
    "        grade = 'A'\n",
    "    elif score > b:\n",
    "        grade = 'B'\n",
    "    elif score > c:\n",
    "        grade = 'C'\n",
    "    elif score > d:\n",
    "        grade = 'D'\n",
    "    else:\n",
    "        grade = 'F'\n",
    "print(\"your input \" + str(score) + \" is a: \" + grade)\n",
    "\n",
    "\n",
    "\n"
   ]
  },
  {
   "cell_type": "markdown",
   "metadata": {},
   "source": [
    "enter a score between 0 and 1 .95\n",
    "your input 0.95 is a: A\n",
    "\n",
    "    enter a score between 0 and 1 perfect\n",
    "your input perfect is a: Bad Score\n",
    "\n",
    "    enter a score between 0 and 1 .75\n",
    "your input 0.75 is a: C\n",
    "    \n",
    "enter a score between 0 and 1 .5\n",
    "your input 0.5 is a: F\n",
    "\n",
    "    enter a score between 0 and 1 .55\n",
    "your input 0.55 is a: F"
   ]
  },
  {
   "cell_type": "code",
   "execution_count": 25,
   "metadata": {},
   "outputs": [
    {
     "name": "stdout",
     "output_type": "stream",
     "text": [
      "8.5\n",
      "8.5\n",
      "4.0\n",
      "11\n"
     ]
    }
   ],
   "source": [
    "width = 17\n",
    "height = 12.0\n",
    "\n",
    "print(width/2)\n",
    "print(width/2.0)\n",
    "print(height/3)\n",
    "print(1+2*5)"
   ]
  },
  {
   "cell_type": "code",
   "execution_count": 36,
   "metadata": {},
   "outputs": [
    {
     "name": "stdout",
     "output_type": "stream",
     "text": [
      "['book', 'dog', 'elephant', 'good', 'goodness']\n",
      "book\n",
      "dog\n",
      "elephant\n",
      "good\n",
      "goodness\n"
     ]
    }
   ],
   "source": [
    "samples = ['at', 'book', 'c', 'dog', 'elephant', 'go', 'g', 'good','goodness', 'g']\n",
    "\n",
    "\n",
    "words = [i for i in samples if len(i) > 2]\n",
    "\n",
    "print(words)\n",
    "\n",
    "for x in samples:\n",
    "    if len(x) > 2:\n",
    "        print(x)"
   ]
  },
  {
   "cell_type": "code",
   "execution_count": 38,
   "metadata": {},
   "outputs": [
    {
     "name": "stdout",
     "output_type": "stream",
     "text": [
      "['book', 'dog', 'good']\n",
      "book\n",
      "dog\n",
      "good\n"
     ]
    }
   ],
   "source": [
    "samples = ['at', 'book', 'c', 'dog', 'elephant', 'go', 'g', 'good','goodness', 'g']\n",
    "\n",
    "\n",
    "words = [i for i in samples if len(i) > 2 and  len(i) < 5]\n",
    "\n",
    "print(words)\n",
    "\n",
    "for x in samples:\n",
    "    if len(x) > 2 and len(x) < 5:\n",
    "        print(x)"
   ]
  },
  {
   "cell_type": "code",
   "execution_count": null,
   "metadata": {},
   "outputs": [
    {
     "name": "stdout",
     "output_type": "stream",
     "text": [
      "showing info https://raw.githubusercontent.com/nltk/nltk_data/gh-pages/index.xml\n"
     ]
    }
   ],
   "source": [
    "import nltk\n",
    "\n",
    "nltk.download()"
   ]
  },
  {
   "cell_type": "code",
   "execution_count": null,
   "metadata": {},
   "outputs": [],
   "source": []
  }
 ],
 "metadata": {
  "kernelspec": {
   "display_name": "Python 3",
   "language": "python",
   "name": "python3"
  },
  "language_info": {
   "codemirror_mode": {
    "name": "ipython",
    "version": 3
   },
   "file_extension": ".py",
   "mimetype": "text/x-python",
   "name": "python",
   "nbconvert_exporter": "python",
   "pygments_lexer": "ipython3",
   "version": "3.7.6"
  }
 },
 "nbformat": 4,
 "nbformat_minor": 2
}
