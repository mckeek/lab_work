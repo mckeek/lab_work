{
 "cells": [
  {
   "cell_type": "code",
   "execution_count": 1,
   "metadata": {},
   "outputs": [
    {
     "name": "stdout",
     "output_type": "stream",
     "text": [
      "[nltk_data] Downloading package names to /Users/kenmckee/nltk_data...\n",
      "[nltk_data]   Package names is already up-to-date!\n",
      "[nltk_data] Downloading package movie_reviews to\n",
      "[nltk_data]     /Users/kenmckee/nltk_data...\n",
      "[nltk_data]   Package movie_reviews is already up-to-date!\n",
      "[nltk_data] Downloading package names to /Users/kenmckee/nltk_data...\n",
      "[nltk_data]   Package names is already up-to-date!\n"
     ]
    },
    {
     "data": {
      "text/plain": [
       "True"
      ]
     },
     "execution_count": 1,
     "metadata": {},
     "output_type": "execute_result"
    }
   ],
   "source": [
    "import nltk\n",
    "nltk.download('names')\n",
    "nltk.download('movie_reviews')\n",
    "nltk.download('names')"
   ]
  },
  {
   "cell_type": "code",
   "execution_count": 2,
   "metadata": {},
   "outputs": [
    {
     "name": "stdout",
     "output_type": "stream",
     "text": [
      "{'last_twoletters': 'ek'}\n",
      "['Aamir', 'Aaron', 'Abbey', 'Abbie', 'Abbot', 'Abbott', 'Abby', 'Abdel', 'Abdul', 'Abdulkarim', 'Abdullah', 'Abe', 'Abel', 'Abelard', 'Abner', 'Abraham', 'Abram', 'Ace', 'Adair', 'Adam']\n",
      "['Abagael', 'Abagail', 'Abbe', 'Abbey', 'Abbi', 'Abbie', 'Abby', 'Abigael', 'Abigail', 'Abigale', 'Abra', 'Acacia', 'Ada', 'Adah', 'Adaline', 'Adara', 'Addie', 'Addis', 'Adel', 'Adela']\n"
     ]
    }
   ],
   "source": [
    "# Lab Week 7 - Classification tasks with different types of features\n",
    "# This file has small examples that are meant to be run individually\n",
    "#   in the Python shell\n",
    "\n",
    "import nltk\n",
    "\n",
    "# define a feature extraction function for each name\n",
    "def gender_features(word):\n",
    "    return{'last_twoletters': word[-2:]}\n",
    "\n",
    "print(gender_features('Shrek'))\n",
    "\n",
    "# resource for male and female first names\n",
    "from nltk.corpus import names\n",
    "print(names.words('male.txt')[:20])\n",
    "print(names.words('female.txt')[:20])"
   ]
  },
  {
   "cell_type": "code",
   "execution_count": 3,
   "metadata": {},
   "outputs": [
    {
     "name": "stdout",
     "output_type": "stream",
     "text": [
      "7944\n",
      "[('Aamir', 'male'), ('Aaron', 'male'), ('Abbey', 'male'), ('Abbie', 'male'), ('Abbot', 'male'), ('Abbott', 'male'), ('Abby', 'male'), ('Abdel', 'male'), ('Abdul', 'male'), ('Abdulkarim', 'male'), ('Abdullah', 'male'), ('Abe', 'male'), ('Abel', 'male'), ('Abelard', 'male'), ('Abner', 'male'), ('Abraham', 'male'), ('Abram', 'male'), ('Ace', 'male'), ('Adair', 'male'), ('Adam', 'male')]\n",
      "\n",
      "\n",
      "\n",
      "[('Zena', 'female'), ('Zenia', 'female'), ('Zia', 'female'), ('Zilvia', 'female'), ('Zita', 'female'), ('Zitella', 'female'), ('Zoe', 'female'), ('Zola', 'female'), ('Zonda', 'female'), ('Zondra', 'female'), ('Zonnya', 'female'), ('Zora', 'female'), ('Zorah', 'female'), ('Zorana', 'female'), ('Zorina', 'female'), ('Zorine', 'female'), ('Zsa Zsa', 'female'), ('Zsazsa', 'female'), ('Zulema', 'female'), ('Zuzana', 'female')]\n"
     ]
    }
   ],
   "source": [
    "# make list of male and female names paired with gender\n",
    "namesgender = ([(name, 'male') for name in names.words('male.txt')] +\n",
    "          [(name, 'female') for name in names.words('female.txt')])\n",
    "print(len(namesgender))\n",
    "print(namesgender[:20])\n",
    "print('\\n\\n')\n",
    "print(namesgender[7924:])\n",
    "\n"
   ]
  },
  {
   "cell_type": "code",
   "execution_count": 4,
   "metadata": {},
   "outputs": [
    {
     "name": "stdout",
     "output_type": "stream",
     "text": [
      "[('Ervin', 'male'), ('Liora', 'female'), ('Cookie', 'female'), ('Worden', 'male'), ('Chery', 'female'), ('Jorrie', 'female'), ('Chandler', 'male'), ('Luanna', 'female'), ('Melodie', 'female'), ('Thorstein', 'male'), ('Waly', 'female'), ('Mateo', 'male'), ('Bartie', 'male'), ('Selie', 'female'), ('Aylmer', 'male'), ('Enrico', 'male'), ('Edee', 'female'), ('Agustin', 'male'), ('Wally', 'female'), ('Izak', 'male')]\n",
      "\n",
      "\n",
      "\n",
      "\n",
      "\n",
      "\n",
      "[({'last_twoletters': 'us'}, 'male'), ({'last_twoletters': 'ie'}, 'male'), ({'last_twoletters': 'on'}, 'male'), ({'last_twoletters': 'yl'}, 'male'), ({'last_twoletters': 'la'}, 'female'), ({'last_twoletters': 'ie'}, 'female'), ({'last_twoletters': 'ia'}, 'female'), ({'last_twoletters': 'na'}, 'female'), ({'last_twoletters': 'ey'}, 'female'), ({'last_twoletters': 'tt'}, 'female'), ({'last_twoletters': 'ia'}, 'female'), ({'last_twoletters': 'ne'}, 'female'), ({'last_twoletters': 'na'}, 'female'), ({'last_twoletters': 'ch'}, 'male'), ({'last_twoletters': 'lt'}, 'male'), ({'last_twoletters': 'ie'}, 'female'), ({'last_twoletters': 'll'}, 'female'), ({'last_twoletters': 'ni'}, 'female'), ({'last_twoletters': 'te'}, 'female'), ({'last_twoletters': 'cy'}, 'female')]\n"
     ]
    }
   ],
   "source": [
    "\n",
    "\n",
    "\n",
    "# put the list into random order\n",
    "import random\n",
    "random.shuffle(namesgender)\n",
    "print(namesgender[:20])\n",
    "\n",
    "# separate the names into training and test\n",
    "train_names = namesgender[500:]\n",
    "print('\\n\\n')\n",
    "test_names = namesgender[:500]\n",
    "print('\\n\\n')\n",
    "\n",
    "\n",
    "# use our features to train a classify and test on the development test set\n",
    "train_set = [(gender_features(n), g) for (n, g) in train_names]\n",
    "test_set = [(gender_features(n), g) for (n, g) in test_names]\n",
    "print(train_set[:20])\n",
    "\n"
   ]
  },
  {
   "cell_type": "code",
   "execution_count": 5,
   "metadata": {},
   "outputs": [
    {
     "name": "stdout",
     "output_type": "stream",
     "text": [
      "male\n",
      "female\n",
      "0.814\n",
      "Most Informative Features\n",
      "         last_twoletters = 'na'           female : male   =     99.2 : 1.0\n",
      "         last_twoletters = 'la'           female : male   =     71.8 : 1.0\n",
      "         last_twoletters = 'ia'           female : male   =     39.5 : 1.0\n",
      "         last_twoletters = 'sa'           female : male   =     36.6 : 1.0\n",
      "         last_twoletters = 'ta'           female : male   =     33.5 : 1.0\n",
      "         last_twoletters = 'us'             male : female =     28.3 : 1.0\n",
      "         last_twoletters = 'do'             male : female =     27.2 : 1.0\n",
      "         last_twoletters = 'ra'           female : male   =     26.6 : 1.0\n",
      "         last_twoletters = 'ch'             male : female =     25.0 : 1.0\n",
      "         last_twoletters = 'rd'             male : female =     23.9 : 1.0\n",
      "         last_twoletters = 'ld'             male : female =     23.7 : 1.0\n",
      "         last_twoletters = 'rt'             male : female =     22.2 : 1.0\n",
      "         last_twoletters = 'os'             male : female =     20.6 : 1.0\n",
      "         last_twoletters = 'io'             male : female =     15.0 : 1.0\n",
      "         last_twoletters = 'ka'           female : male   =     14.6 : 1.0\n",
      "         last_twoletters = 'ya'           female : male   =     11.8 : 1.0\n",
      "         last_twoletters = 'ns'             male : female =     11.7 : 1.0\n",
      "         last_twoletters = 'rn'             male : female =     11.7 : 1.0\n",
      "         last_twoletters = 'em'             male : female =     11.7 : 1.0\n",
      "         last_twoletters = 'ip'             male : female =     10.6 : 1.0\n",
      "None\n",
      "93\n"
     ]
    }
   ],
   "source": [
    "classifier = nltk.NaiveBayesClassifier.train(train_set)\n",
    "\n",
    "# classify new instances\n",
    "print(classifier.classify(gender_features('Neo')))\n",
    "print(classifier.classify(gender_features('Trinity')))\n",
    "\n",
    "# classify accuracy function runs the classifier on the test set and reports\n",
    "#   comparisons between predicted labels and actual/gold labels\n",
    "print(nltk.classify.accuracy(classifier, test_set))\n",
    "\n",
    "\n",
    "# this function available for naive bayes classifiers\n",
    "print(classifier.show_most_informative_features(20))\n",
    "\n",
    "\n",
    "# define a function that will compare the classifier labels with the gold standard labels\n",
    "def geterrors(test):\n",
    "    errors = []\n",
    "    for (name, tag) in test:\n",
    "        guess = classifier.classify(gender_features(name))\n",
    "        if guess != tag:\n",
    "            errors.append( (tag, guess, name) )\n",
    "    return errors\n",
    "\n",
    "errors = geterrors(test_names)\n",
    "print(len(errors))"
   ]
  },
  {
   "cell_type": "code",
   "execution_count": 6,
   "metadata": {},
   "outputs": [
    {
     "name": "stdout",
     "output_type": "stream",
     "text": [
      "correct=female   guess=male     name=Abbe                          \n",
      "correct=female   guess=male     name=Abigail                       \n",
      "correct=female   guess=male     name=Ame                           \n",
      "correct=female   guess=male     name=Andrei                        \n",
      "correct=female   guess=male     name=Astrid                        \n",
      "correct=female   guess=male     name=Avril                         \n",
      "correct=female   guess=male     name=Bebe                          \n",
      "correct=female   guess=male     name=Caril                         \n",
      "correct=female   guess=male     name=Caro                          \n",
      "correct=female   guess=male     name=Ceil                          \n",
      "correct=female   guess=male     name=Demeter                       \n",
      "correct=female   guess=male     name=Devi                          \n",
      "correct=female   guess=male     name=Dolores                       \n",
      "correct=female   guess=male     name=Eve                           \n",
      "correct=female   guess=male     name=Fan                           \n",
      "correct=female   guess=male     name=Gates                         \n",
      "correct=female   guess=male     name=Ivett                         \n",
      "correct=female   guess=male     name=Jackquelin                    \n",
      "correct=female   guess=male     name=Jaime                         \n",
      "correct=female   guess=male     name=Jessalin                      \n",
      "correct=female   guess=male     name=Jocelin                       \n",
      "correct=female   guess=male     name=Joy                           \n",
      "correct=female   guess=male     name=Leigh                         \n",
      "correct=female   guess=male     name=Lilian                        \n",
      "correct=female   guess=male     name=Love                          \n",
      "correct=female   guess=male     name=Marilin                       \n",
      "correct=female   guess=male     name=Maud                          \n",
      "correct=female   guess=male     name=Megan                         \n",
      "correct=female   guess=male     name=Milissent                     \n",
      "correct=female   guess=male     name=Millicent                     \n",
      "correct=female   guess=male     name=Miran                         \n",
      "correct=female   guess=male     name=Nil                           \n",
      "correct=female   guess=male     name=Phil                          \n",
      "correct=female   guess=male     name=Roch                          \n",
      "correct=male     guess=female   name=Aguste                        \n",
      "correct=male     guess=female   name=Aldis                         \n",
      "correct=male     guess=female   name=Alec                          \n",
      "correct=male     guess=female   name=Ambrose                       \n",
      "correct=male     guess=female   name=Antoni                        \n",
      "correct=male     guess=female   name=Baily                         \n",
      "correct=male     guess=female   name=Barney                        \n",
      "correct=male     guess=female   name=Bartie                        \n",
      "correct=male     guess=female   name=Beau                          \n",
      "correct=male     guess=female   name=Benny                         \n",
      "correct=male     guess=female   name=Bradly                        \n",
      "correct=male     guess=female   name=Burl                          \n",
      "correct=male     guess=female   name=Burnaby                       \n",
      "correct=male     guess=female   name=Claybourne                    \n",
      "correct=male     guess=female   name=Clyde                         \n",
      "correct=male     guess=female   name=Derrol                        \n",
      "correct=male     guess=female   name=Douglis                       \n",
      "correct=male     guess=female   name=Elmore                        \n",
      "correct=male     guess=female   name=Ezechiel                      \n",
      "correct=male     guess=female   name=Harvey                        \n",
      "correct=male     guess=female   name=Helmuth                       \n",
      "correct=male     guess=female   name=Herby                         \n",
      "correct=male     guess=female   name=Herculie                      \n",
      "correct=male     guess=female   name=Hiralal                       \n",
      "correct=male     guess=female   name=Jeffrey                       \n",
      "correct=male     guess=female   name=Jeremy                        \n",
      "correct=male     guess=female   name=Johnny                        \n",
      "correct=male     guess=female   name=Johny                         \n",
      "correct=male     guess=female   name=Jory                          \n",
      "correct=male     guess=female   name=Kirby                         \n",
      "correct=male     guess=female   name=Lawerence                     \n",
      "correct=male     guess=female   name=Louis                         \n",
      "correct=male     guess=female   name=Luce                          \n",
      "correct=male     guess=female   name=Marietta                      \n",
      "correct=male     guess=female   name=Meredeth                      \n",
      "correct=male     guess=female   name=Michele                       \n",
      "correct=male     guess=female   name=Nichole                       \n",
      "correct=male     guess=female   name=Oral                          \n",
      "correct=male     guess=female   name=Pascal                        \n",
      "correct=male     guess=female   name=Patel                         \n",
      "correct=male     guess=female   name=Price                         \n",
      "correct=male     guess=female   name=Rice                          \n",
      "correct=male     guess=female   name=Rodge                         \n",
      "correct=male     guess=female   name=Rory                          \n",
      "correct=male     guess=female   name=Ruben                         \n",
      "correct=male     guess=female   name=Sandy                         \n",
      "correct=male     guess=female   name=Scottie                       \n",
      "correct=male     guess=female   name=Sebastien                     \n",
      "correct=male     guess=female   name=Sonnie                        \n",
      "correct=male     guess=female   name=Tab                           \n",
      "correct=male     guess=female   name=Tonnie                        \n",
      "correct=male     guess=female   name=Torrance                      \n",
      "correct=male     guess=female   name=Uli                           \n",
      "correct=male     guess=female   name=Westbrook                     \n",
      "correct=male     guess=female   name=Wilden                        \n",
      "correct=male     guess=female   name=Willis                        \n",
      "correct=male     guess=female   name=Worden                        \n",
      "correct=male     guess=female   name=Yankee                        \n",
      "correct=male     guess=female   name=Zebedee                       \n",
      "['The', 'Fulton', 'County', 'Grand', 'Jury', 'said', 'Friday', 'an', 'investigation', 'of', \"Atlanta's\", 'recent', 'primary', 'election', 'produced', '``', 'no', 'evidence', \"''\", 'that', 'any', 'irregularities', 'took', 'place', '.']\n",
      "investigation\n"
     ]
    }
   ],
   "source": [
    "\n",
    "# define a function to print the errors\n",
    "def printerrors(errors):\n",
    "    for (tag, guess, name) in sorted(errors):\n",
    "        print('correct={:<8s} guess={:<8s} name={:<30s}'.format(tag, guess, name))\n",
    "\n",
    "printerrors(errors)\n",
    "\n",
    "\n",
    "\n",
    "## classify part of speech based on sentence context\n",
    "from nltk.corpus import brown\n",
    "\n",
    "# define features for the \"i\"th word in the sentence, including three types of suffix \n",
    "#     and one pre-word\n",
    "# the pos features function takes the sentence of untagged words and the index of a word i\n",
    "#   it creates features for word i, including the previous word i-1\n",
    "def pos_features(sentence, i):    \n",
    "    features = {\"suffix(1)\": sentence[i][-2:],\n",
    "\t\t    \"suffix(2)\": sentence[i][-2:],\n",
    "\t\t    \"suffix(3)\": sentence[i][-3:]}\n",
    "    if i == 0:\n",
    "        features[\"prev-word\"] = \"<START>\"\n",
    "    else:\n",
    "        features[\"prev-word\"] = sentence[i-1]\n",
    "    return features \n",
    "\n",
    "# look at features of a specific word in a specific sentence\n",
    "# first sentence of brown corpus\n",
    "sentence0 = brown.sents()[0]\n",
    "print(sentence0)\n",
    "# word 8 of sentence 0\n",
    "print(sentence0[8])"
   ]
  },
  {
   "cell_type": "code",
   "execution_count": 7,
   "metadata": {},
   "outputs": [
    {
     "name": "stdout",
     "output_type": "stream",
     "text": [
      "{'suffix(1)': 'n', 'suffix(2)': 'on', 'suffix(3)': 'ion', 'prev-word': 'an'}\n"
     ]
    }
   ],
   "source": [
    "\n",
    "# pos features of the word 8 \n",
    "print(pos_features(sentence0, 8))"
   ]
  },
  {
   "cell_type": "code",
   "execution_count": 8,
   "metadata": {},
   "outputs": [
    {
     "name": "stdout",
     "output_type": "stream",
     "text": [
      "0 The AT\n",
      "1 Fulton NP-TL\n",
      "2 County NN-TL\n",
      "3 Grand JJ-TL\n",
      "4 Jury NN-TL\n",
      "5 said VBD\n",
      "6 Friday NR\n",
      "7 an AT\n",
      "8 investigation NN\n",
      "9 of IN\n",
      "10 Atlanta's NP$\n",
      "11 recent JJ\n",
      "12 primary NN\n",
      "13 election NN\n",
      "14 produced VBD\n",
      "15 `` ``\n",
      "16 no AT\n",
      "17 evidence NN\n",
      "18 '' ''\n",
      "19 that CS\n",
      "20 any DTI\n",
      "21 irregularities NNS\n",
      "22 took VBD\n",
      "23 place NN\n",
      "24 . .\n"
     ]
    }
   ],
   "source": [
    "\n",
    "\n",
    "\n",
    "\n",
    "# get the POS tagged sentences with categories of news\n",
    "tagged_sents = brown.tagged_sents(categories='news')\n",
    "tag_sent0 = tagged_sents[0]\n",
    "tag_sent0\n",
    "\n",
    "# the function nltk.tag.untag will take the tags off\n",
    "nltk.tag.untag(tag_sent0)\n",
    "\n",
    "# the python enumerate function generates an index number for each item in a list\n",
    "for i,(word,tag) in enumerate(tag_sent0):\n",
    "    print (i, word, tag)"
   ]
  },
  {
   "cell_type": "code",
   "execution_count": 9,
   "metadata": {},
   "outputs": [
    {
     "name": "stdout",
     "output_type": "stream",
     "text": [
      "({'suffix(1)': 'e', 'suffix(2)': 'he', 'suffix(3)': 'The', 'prev-word': '<START>'}, 'AT')\n",
      "({'suffix(1)': 'n', 'suffix(2)': 'on', 'suffix(3)': 'ton', 'prev-word': 'The'}, 'NP-TL')\n",
      "({'suffix(1)': 'y', 'suffix(2)': 'ty', 'suffix(3)': 'nty', 'prev-word': 'Fulton'}, 'NN-TL')\n",
      "({'suffix(1)': 'd', 'suffix(2)': 'nd', 'suffix(3)': 'and', 'prev-word': 'County'}, 'JJ-TL')\n",
      "({'suffix(1)': 'y', 'suffix(2)': 'ry', 'suffix(3)': 'ury', 'prev-word': 'Grand'}, 'NN-TL')\n",
      "({'suffix(1)': 'd', 'suffix(2)': 'id', 'suffix(3)': 'aid', 'prev-word': 'Jury'}, 'VBD')\n",
      "({'suffix(1)': 'y', 'suffix(2)': 'ay', 'suffix(3)': 'day', 'prev-word': 'said'}, 'NR')\n",
      "({'suffix(1)': 'n', 'suffix(2)': 'an', 'suffix(3)': 'an', 'prev-word': 'Friday'}, 'AT')\n",
      "({'suffix(1)': 'n', 'suffix(2)': 'on', 'suffix(3)': 'ion', 'prev-word': 'an'}, 'NN')\n",
      "({'suffix(1)': 'f', 'suffix(2)': 'of', 'suffix(3)': 'of', 'prev-word': 'investigation'}, 'IN')\n"
     ]
    }
   ],
   "source": [
    "\n",
    "# get feature sets of words appearing in the corpus, from untagged sentences.\n",
    "# and then get their tags from corresponding tagged sentence\n",
    "# use the Python function enumerate to pair the index numbers with sentence words \n",
    "#   for the pos features function\n",
    "featuresets = []\n",
    "for tagged_sent in tagged_sents:\n",
    "\tuntagged_sent = nltk.tag.untag(tagged_sent)\n",
    "\tfor i, (word, tag) in enumerate(tagged_sent):\n",
    "\t\tfeaturesets.append( (pos_features(untagged_sent, i), tag) )\n",
    "\n",
    "# look at the feature sets of the first 10 words\n",
    "for f in featuresets[:10]:\n",
    "\tprint (f)\n",
    "\t"
   ]
  },
  {
   "cell_type": "code",
   "execution_count": 10,
   "metadata": {},
   "outputs": [
    {
     "name": "stdout",
     "output_type": "stream",
     "text": [
      "90499\n",
      "10055\n",
      "0.7891596220785678\n"
     ]
    }
   ],
   "source": [
    "\n",
    "\n",
    "# using naive Bayesian as classifier\n",
    "# split data into a training set and a test set, using a 90%/10% split\n",
    "size = int(len(featuresets) * 0.1)\n",
    "train_set, test_set = featuresets[size:], featuresets[:size]\n",
    "print(len(train_set))\n",
    "print(len(test_set))\n",
    "\n",
    "# train classifier on the training set\n",
    "classifier = nltk.NaiveBayesClassifier.train(train_set)\n",
    "\n",
    "# evaluate the accuracy (this will take a little while)\n",
    "print(nltk.classify.accuracy(classifier, test_set))\n",
    "# the result is reasonable for features without the previous tag"
   ]
  },
  {
   "cell_type": "code",
   "execution_count": 11,
   "metadata": {},
   "outputs": [
    {
     "name": "stdout",
     "output_type": "stream",
     "text": [
      "['neg', 'pos']\n",
      "2000\n"
     ]
    }
   ],
   "source": [
    "\n",
    "\n",
    "\n",
    "### classify documents based on keywords\n",
    "from nltk.corpus import movie_reviews\n",
    "import random\n",
    "\n",
    "# movie reviews are labeled either positive or negative (by human annotators)\n",
    "print(movie_reviews.categories())\n",
    "\n",
    "# for each document in movie_reviews, get its words and category (positive/negative)\n",
    "documents = [(list(movie_reviews.words(fileid)), category)\n",
    "              for category in movie_reviews.categories()\n",
    "              for fileid in movie_reviews.fileids(category)]\n",
    "print(len(documents))\n",
    "\n"
   ]
  },
  {
   "cell_type": "code",
   "execution_count": 12,
   "metadata": {},
   "outputs": [
    {
     "name": "stdout",
     "output_type": "stream",
     "text": [
      "(['director', 'doug', 'ellin', \"'\", 's', 'kissing', 'a', 'fool', ',', 'released', 'earlier', 'this', 'year', ',', 'is', 'an', 'aptly', 'titled', 'comedy', 'about', 'two', 'plastic', 'couples', 'housed', 'in', 'an', 'artificial', 'story', '.', 'like', 'a', 'sitcom', 'with', 'jokes', 'so', 'lame', 'that', 'it', 'would', 'be', 'impossible', 'to', 'overlay', 'a', 'laugh', 'track', 'on', 'it', ',', 'the', 'movie', 'meanders', 'along', 'insulting', 'the', 'viewers', \"'\", 'intelligence', 'in', 'almost', 'every', 'frame', '.', 'the', 'script', 'by', 'james', 'frey', 'and', 'the', 'director', 'is', 'filled', 'with', 'vapid', 'actors', 'who', 'read', 'meaningless', 'lines', 'you', \"'\", 've', 'heard', 'before', '.', '(', '\"', 'i', \"'\", 'm', 'not', 'wearing', 'any', 'underwear', ',', '\"', 'the', 'bimbo', 'tells', 'the', 'famous', 'sportscaster', ',', 'max', ',', 'in', 'what', 'she', 'assumes', 'will', 'be', 'a', 'sure', '-', 'fire', 'come', '-', 'on', 'line', '.', ')', 'max', ',', 'chicago', \"'\", 's', 'biggest', 'playboy', ',', 'decides', 'to', 'get', 'married', 'after', 'a', 'whirlwind', 'love', 'affair', 'with', 'sam', ',', 'short', 'for', 'samantha', '.', 'max', 'and', 'sam', 'possess', 'two', 'irritating', 'personalities', ',', 'and', 'they', 'hold', 'little', 'chemistry', 'for', 'each', 'other', 'or', 'the', 'audience', '.', 'max', 'is', 'played', 'without', 'any', 'style', 'by', 'david', 'schwimmer', '.', 'schwimmer', ',', 'whose', 'acting', 'talent', 'is', 'playing', 'characters', 'devoid', 'of', 'personality', ',', 'makes', 'an', 'unlikely', 'lover', '.', 'his', 'costar', ',', 'mili', 'avital', 'as', 'sam', ',', 'is', 'cut', 'from', 'the', 'same', 'cloth', ',', 'so', 'they', 'can', 'be', 'argued', 'to', 'be', 'a', 'matched', 'pair', '.', 'after', 'all', ',', 'people', 'of', 'the', 'same', 'intelligence', 'are', 'naturally', 'drawn', 'to', 'each', 'other', ',', 'ditto', 'for', 'similar', 'looks', ',', 'so', 'why', 'shouldn', \"'\", 't', 'the', 'personality', '-', 'challenged', 'be', 'attracted', '?', 'the', 'implausible', 'plot', 'has', 'max', 'asking', 'his', 'best', 'friend', ',', 'jay', '(', 'jason', 'lee', ')', ',', 'to', 'hit', 'on', 'sam', 'as', 'a', 'test', '.', 'jay', 'is', 'supposed', 'to', 'try', 'to', 'get', 'her', 'to', 'sleep', 'with', 'him', ',', 'but', 'stop', 'short', 'of', 'the', 'actual', 'act', '.', 'max', ',', 'being', 'promiscuous', 'by', 'nature', ',', 'worries', 'that', 'his', 'future', 'bride', 'may', 'have', 'the', 'same', 'need', 'to', 'sleep', 'around', 'as', 'he', 'does', '.', 'the', 'idea', 'of', 'flirting', 'with', 'the', 'beautiful', 'sam', 'makes', 'jay', 'so', 'sick', 'that', 'he', 'becomes', 'unable', 'to', 'eat', 'or', 'work', '.', 'neither', 'the', 'script', 'nor', 'the', 'actors', 'make', 'this', 'test', 'believable', '.', '\"', 'the', '64', ',', '000', 'question', 'is', ':', 'how', 'do', 'you', 'know', 'you', \"'\", 're', 'with', 'the', 'wrong', 'person', 'so', 'you', 'can', 'avoid', 'wreaking', 'havoc', 'on', 'major', 'parts', 'of', 'your', 'life', '?', '\"', 'jay', 'asks', 'in', 'one', 'of', 'the', 'unsuccessful', 'attempts', 'at', 'adding', 'some', 'seriousness', 'to', 'the', 'film', '.', 'finally', ',', 'there', 'is', 'the', 'film', \"'\", 's', 'attempt', 'at', 'physical', 'comedy', '.', 'jay', \"'\", 's', 'ex', '-', 'girlfriend', 'natasha', '(', 'vanessa', 'angel', ')', 'becomes', 'infatuated', 'with', 'jay', 'again', 'once', 'she', 'thinks', 'he', 'is', 'going', 'out', 'with', 'someone', 'else', '.', 'natasha', 'rips', 'jay', \"'\", 's', 'shirt', 'open', 'after', 'pushing', 'him', 'down', 'onto', 'the', 'sofa', '.', 'as', 'she', 'throws', 'her', 'hair', 'on', 'his', 'bare', 'chest', ',', 'she', 'demands', 'he', 'pull', 'it', '.', 'this', 'is', 'supposed', 'to', 'be', 'funny', '?', 'most', 'films', 'have', 'some', 'saving', 'grace', '.', 'some', 'bit', 'part', 'was', 'done', 'especially', 'well', 'or', 'some', 'scene', 'managed', 'to', 'be', 'funny', 'even', 'if', 'the', 'rest', 'of', 'the', 'picture', 'wasn', \"'\", 't', '.', 'kissing', 'a', 'fool', ',', 'on', 'the', 'other', 'hand', ',', 'has', 'nothing', 'to', 'recommend', 'it', '.', 'kissing', 'a', 'fool', 'runs', '1', ':', '45', '.', 'it', 'is', 'rated', 'r', 'for', 'profanity', 'and', 'sexuality', 'and', 'would', 'be', 'acceptable', 'for', 'most', 'teenagers', '.'], 'neg')\n"
     ]
    }
   ],
   "source": [
    "random.shuffle(documents)\n",
    "# look at the first document - consists of a list of all the words in the review\n",
    "# followed by the category\n",
    "print(documents[0])"
   ]
  },
  {
   "cell_type": "code",
   "execution_count": 13,
   "metadata": {},
   "outputs": [
    {
     "name": "stdout",
     "output_type": "stream",
     "text": [
      "39768\n"
     ]
    }
   ],
   "source": [
    "\n",
    "\n",
    "\n",
    "\n",
    "## use words from all documents to define the word vector for features\n",
    "# get all words from all movie_reviews and put into a frequency distribution\n",
    "all_words = nltk.FreqDist(w.lower() for w in movie_reviews.words())\n",
    "print(len(all_words))\n",
    "\n"
   ]
  },
  {
   "cell_type": "code",
   "execution_count": 14,
   "metadata": {},
   "outputs": [
    {
     "name": "stdout",
     "output_type": "stream",
     "text": [
      "[',', 'the', '.', 'a', 'and', 'of', 'to', \"'\", 'is', 'in', 's', '\"', 'it', 'that', '-', ')', '(', 'as', 'with', 'for', 'his', 'this', 'film', 'i', 'he', 'but', 'on', 'are', 't', 'by', 'be', 'one', 'movie', 'an', 'who', 'not', 'you', 'from', 'at', 'was', 'have', 'they', 'has', 'her', 'all', '?', 'there', 'like', 'so', 'out', 'about', 'up', 'more', 'what', 'when', 'which', 'or', 'she', 'their', ':', 'some', 'just', 'can', 'if', 'we', 'him', 'into', 'even', 'only', 'than', 'no', 'good', 'time', 'most', 'its', 'will', 'story', 'would', 'been', 'much', 'character', 'also', 'get', 'other', 'do', 'two', 'well', 'them', 'very', 'characters', ';', 'first', '--', 'after', 'see', '!', 'way', 'because', 'make', 'life']\n"
     ]
    }
   ],
   "source": [
    "# get the 2000 most frequently appearing keywords in the corpus\n",
    "word_items = all_words.most_common(1250)\n",
    "word_features = [word for (word, freq) in word_items]   # just the words\n",
    "\n",
    "# look at the first 100 words\n",
    "print(word_features[:100])"
   ]
  },
  {
   "cell_type": "code",
   "execution_count": 15,
   "metadata": {},
   "outputs": [
    {
     "name": "stdout",
     "output_type": "stream",
     "text": [
      "({'V_,': True, 'V_the': True, 'V_.': True, 'V_a': True, 'V_and': True, 'V_of': True, 'V_to': True, \"V_'\": True, 'V_is': True, 'V_in': True, 'V_s': True, 'V_\"': True, 'V_it': True, 'V_that': True, 'V_-': True, 'V_)': True, 'V_(': True, 'V_as': True, 'V_with': True, 'V_for': True, 'V_his': True, 'V_this': True, 'V_film': True, 'V_i': True, 'V_he': True, 'V_but': True, 'V_on': True, 'V_are': True, 'V_t': True, 'V_by': True, 'V_be': True, 'V_one': True, 'V_movie': True, 'V_an': True, 'V_who': True, 'V_not': True, 'V_you': True, 'V_from': True, 'V_at': True, 'V_was': True, 'V_have': True, 'V_they': True, 'V_has': True, 'V_her': True, 'V_all': True, 'V_?': True, 'V_there': True, 'V_like': True, 'V_so': True, 'V_out': True, 'V_about': True, 'V_up': False, 'V_more': False, 'V_what': True, 'V_when': False, 'V_which': False, 'V_or': True, 'V_she': True, 'V_their': False, 'V_:': True, 'V_some': True, 'V_just': False, 'V_can': True, 'V_if': True, 'V_we': False, 'V_him': True, 'V_into': False, 'V_even': True, 'V_only': False, 'V_than': False, 'V_no': False, 'V_good': False, 'V_time': False, 'V_most': True, 'V_its': False, 'V_will': True, 'V_story': True, 'V_would': True, 'V_been': False, 'V_much': False, 'V_character': False, 'V_also': False, 'V_get': True, 'V_other': True, 'V_do': True, 'V_two': True, 'V_well': True, 'V_them': False, 'V_very': False, 'V_characters': True, 'V_;': False, 'V_first': False, 'V_--': False, 'V_after': True, 'V_see': False, 'V_!': False, 'V_way': False, 'V_because': False, 'V_make': True, 'V_life': True, 'V_off': False, 'V_too': False, 'V_any': True, 'V_does': True, 'V_really': False, 'V_had': False, 'V_while': False, 'V_films': True, 'V_how': True, 'V_plot': True, 'V_little': True, 'V_where': False, 'V_people': True, 'V_over': False, 'V_could': False, 'V_then': False, 'V_me': False, 'V_scene': True, 'V_man': False, 'V_bad': False, 'V_my': False, 'V_never': False, 'V_being': True, 'V_best': True, 'V_these': False, 'V_don': False, 'V_new': False, 'V_doesn': False, 'V_scenes': False, 'V_many': False, 'V_director': True, 'V_such': False, 'V_know': True, 'V_were': False, 'V_movies': False, 'V_through': False, 'V_here': False, 'V_action': False, 'V_great': False, 'V_re': True, 'V_another': False, 'V_love': True, 'V_go': False, 'V_made': False, 'V_us': False, 'V_big': False, 'V_end': False, 'V_something': False, 'V_back': False, 'V_*': False, 'V_still': False, 'V_world': False, 'V_seems': False, 'V_work': True, 'V_those': False, 'V_makes': True, 'V_now': False, 'V_before': True, 'V_however': False, 'V_between': False, 'V_few': False, 'V_/': False, 'V_down': True, 'V_every': True, 'V_though': False, 'V_better': False, 'V_real': False, 'V_audience': True, 'V_enough': False, 'V_seen': False, 'V_take': False, 'V_around': True, 'V_both': False, 'V_going': True, 'V_year': True, 'V_performance': False, 'V_why': True, 'V_should': False, 'V_role': False, 'V_isn': False, 'V_same': True, 'V_old': False, 'V_gets': False, 'V_your': True, 'V_may': True, 'V_things': False, 'V_think': False, 'V_years': False, 'V_last': False, 'V_comedy': True, 'V_funny': True, 'V_actually': False, 'V_ve': True, 'V_long': False, 'V_look': False, 'V_almost': True, 'V_own': False, 'V_thing': False, 'V_fact': False, 'V_nothing': True, 'V_say': False, 'V_right': False, 'V_john': False, 'V_although': False, 'V_played': True, 'V_find': False, 'V_script': True, 'V_come': True, 'V_ever': False, 'V_cast': False, 'V_since': False, 'V_did': False, 'V_star': False, 'V_plays': False, 'V_young': False, 'V_show': False, 'V_comes': False, 'V_m': True, 'V_part': True, 'V_original': False, 'V_actors': True, 'V_screen': False, 'V_without': True, 'V_again': True, 'V_acting': True, 'V_three': False, 'V_day': False, 'V_each': True, 'V_point': False, 'V_lot': False, 'V_least': False, 'V_takes': False, 'V_guy': False, 'V_quite': False, 'V_himself': False, 'V_away': False, 'V_during': False, 'V_family': False, 'V_effects': False, 'V_course': False, 'V_goes': False, 'V_minutes': False, 'V_interesting': False, 'V_might': False, 'V_far': False, 'V_high': False, 'V_rather': False, 'V_once': True, 'V_must': False, 'V_anything': False, 'V_place': False, 'V_set': False, 'V_yet': False, 'V_watch': False, 'V_d': False, 'V_making': False, 'V_our': False, 'V_wife': False, 'V_hard': False, 'V_always': False, 'V_fun': False, 'V_didn': False, 'V_ll': False, 'V_seem': False, 'V_special': False, 'V_bit': True, 'V_times': False, 'V_trying': False, 'V_hollywood': False, 'V_instead': False, 'V_give': False, 'V_want': False, 'V_picture': True, 'V_kind': False, 'V_american': False, 'V_job': False, 'V_sense': False, 'V_woman': False, 'V_home': False, 'V_having': False, 'V_series': False, 'V_actor': False, 'V_probably': False, 'V_help': False, 'V_half': False, 'V_along': True, 'V_men': False, 'V_everything': False, 'V_pretty': False, 'V_becomes': True, 'V_sure': True, 'V_black': False, 'V_together': False, 'V_dialogue': False, 'V_money': False, 'V_become': False, 'V_gives': False, 'V_given': False, 'V_looking': False, 'V_whole': False, 'V_watching': False, 'V_father': False, 'V_`': False, 'V_feel': False, 'V_everyone': False, 'V_music': False, 'V_wants': False, 'V_sex': False, 'V_less': False, 'V_done': True, 'V_horror': False, 'V_got': False, 'V_death': False, 'V_perhaps': False, 'V_city': False, 'V_next': False, 'V_especially': True, 'V_play': False, 'V_girl': False, 'V_mind': False, 'V_10': False, 'V_moments': False, 'V_looks': True, 'V_completely': False, 'V_2': False, 'V_reason': False, 'V_mother': False, 'V_whose': True, 'V_line': True, 'V_night': False, 'V_human': False, 'V_until': False, 'V_rest': True, 'V_performances': False, 'V_different': False, 'V_evil': False, 'V_small': False, 'V_james': True, 'V_simply': False, 'V_couple': False, 'V_put': False, 'V_let': False, 'V_anyone': False, 'V_ending': False, 'V_case': False, 'V_several': False, 'V_dead': False, 'V_michael': False, 'V_left': False, 'V_thought': False, 'V_school': False, 'V_shows': False, 'V_humor': False, 'V_true': False, 'V_lost': False, 'V_written': False, 'V_itself': False, 'V_friend': True, 'V_entire': False, 'V_getting': False, 'V_town': False, 'V_turns': False, 'V_soon': False, 'V_someone': True, 'V_second': False, 'V_main': False, 'V_stars': False, 'V_found': False, 'V_use': False, 'V_problem': False, 'V_friends': False, 'V_tv': False, 'V_top': False, 'V_name': False, 'V_begins': False, 'V_called': False, 'V_based': False, 'V_comic': False, 'V_david': True, 'V_head': False, 'V_else': True, 'V_idea': True, 'V_either': False, 'V_wrong': True, 'V_unfortunately': False, 'V_later': False, 'V_final': False, 'V_hand': True, 'V_alien': False, 'V_house': False, 'V_group': False, 'V_full': False, 'V_used': False, 'V_tries': False, 'V_often': False, 'V_against': False, 'V_war': False, 'V_sequence': False, 'V_keep': False, 'V_turn': False, 'V_playing': True, 'V_boy': False, 'V_behind': False, 'V_named': False, 'V_certainly': False, 'V_live': False, 'V_believe': False, 'V_under': False, 'V_works': False, 'V_relationship': False, 'V_face': False, 'V_hour': False, 'V_run': False, 'V_style': True, 'V_said': False, 'V_despite': False, 'V_person': True, 'V_finally': True, 'V_shot': False, 'V_book': False, 'V_doing': False, 'V_tell': False, 'V_maybe': False, 'V_nice': False, 'V_son': False, 'V_perfect': False, 'V_side': False, 'V_seeing': False, 'V_able': False, 'V_finds': False, 'V_children': False, 'V_days': False, 'V_past': False, 'V_summer': False, 'V_camera': False, 'V_won': False, 'V_including': False, 'V_mr': False, 'V_kids': False, 'V_lives': False, 'V_directed': False, 'V_moment': False, 'V_game': False, 'V_running': False, 'V_fight': False, 'V_supposed': True, 'V_video': False, 'V_car': False, 'V_matter': False, 'V_kevin': False, 'V_joe': False, 'V_lines': True, 'V_worth': False, 'V_=': False, 'V_daughter': False, 'V_earth': False, 'V_starts': False, 'V_need': True, 'V_entertaining': False, 'V_white': False, 'V_start': False, 'V_writer': False, 'V_dark': False, 'V_short': True, 'V_self': False, 'V_worst': False, 'V_nearly': False, 'V_opening': False, 'V_try': True, 'V_upon': False, 'V_care': False, 'V_early': False, 'V_violence': False, 'V_throughout': False, 'V_team': False, 'V_production': False, 'V_example': False, 'V_beautiful': True, 'V_title': False, 'V_exactly': False, 'V_jack': False, 'V_review': False, 'V_major': True, 'V_drama': False, 'V_&': False, 'V_problems': False, 'V_sequences': False, 'V_obvious': False, 'V_version': False, 'V_screenplay': False, 'V_known': False, 'V_killer': False, 'V_wasn': True, 'V_robert': False, 'V_disney': False, 'V_already': False, 'V_close': False, 'V_classic': False, 'V_others': False, 'V_hit': True, 'V_kill': False, 'V_deep': False, 'V_five': False, 'V_order': False, 'V_act': True, 'V_simple': False, 'V_fine': False, 'V_themselves': False, 'V_heart': False, 'V_roles': False, 'V_jackie': False, 'V_direction': False, 'V_eyes': False, 'V_four': False, 'V_question': True, 'V_sort': False, 'V_sometimes': False, 'V_knows': False, 'V_supporting': False, 'V_coming': False, 'V_voice': False, 'V_women': False, 'V_truly': False, 'V_save': False, 'V_jokes': True, 'V_computer': False, 'V_child': False, 'V_o': False, 'V_boring': False, 'V_tom': False, 'V_level': False, 'V_1': True, 'V_body': False, 'V_guys': False, 'V_genre': False, 'V_brother': False, 'V_strong': False, 'V_stop': True, 'V_room': False, 'V_space': False, 'V_lee': True, 'V_ends': False, 'V_beginning': False, 'V_ship': False, 'V_york': False, 'V_attempt': True, 'V_thriller': False, 'V_scream': False, 'V_peter': False, 'V_aren': False, 'V_husband': False, 'V_fiction': False, 'V_happens': False, 'V_hero': False, 'V_novel': False, 'V_note': False, 'V_hope': False, 'V_king': False, 'V_yes': False, 'V_says': False, 'V_tells': True, 'V_quickly': False, 'V_romantic': False, 'V_dog': False, 'V_oscar': False, 'V_stupid': False, 'V_possible': False, 'V_saw': False, 'V_lead': False, 'V_career': False, 'V_murder': False, 'V_extremely': False, 'V_manages': False, 'V_god': False, 'V_mostly': False, 'V_wonder': False, 'V_particularly': False, 'V_future': True, 'V_fans': False, 'V_sound': False, 'V_worse': False, 'V_piece': False, 'V_involving': False, 'V_de': False, 'V_appears': False, 'V_planet': False, 'V_paul': False, 'V_involved': False, 'V_mean': False, 'V_none': False, 'V_taking': False, 'V_hours': False, 'V_laugh': True, 'V_police': False, 'V_sets': False, 'V_attention': False, 'V_co': False, 'V_hell': False, 'V_eventually': False, 'V_single': False, 'V_fall': False, 'V_falls': False, 'V_material': False, 'V_emotional': False, 'V_power': False, 'V_late': False, 'V_lack': False, 'V_dr': False, 'V_van': False, 'V_result': False, 'V_elements': False, 'V_meet': False, 'V_smith': False, 'V_science': False, 'V_experience': False, 'V_bring': False, 'V_wild': False, 'V_living': False, 'V_theater': False, 'V_interest': False, 'V_leads': False, 'V_word': False, 'V_feature': False, 'V_battle': False, 'V_girls': False, 'V_alone': False, 'V_obviously': False, 'V_george': False, 'V_within': False, 'V_usually': False, 'V_enjoy': False, 'V_guess': False, 'V_among': False, 'V_taken': False, 'V_feeling': False, 'V_laughs': False, 'V_aliens': False, 'V_talk': False, 'V_chance': False, 'V_talent': True, 'V_3': False, 'V_middle': False, 'V_number': False, 'V_easy': False, 'V_across': False, 'V_needs': False, 'V_attempts': True, 'V_happen': False, 'V_television': False, 'V_chris': False, 'V_deal': False, 'V_poor': False, 'V_form': False, 'V_girlfriend': True, 'V_viewer': False, 'V_release': False, 'V_killed': False, 'V_forced': False, 'V_whether': False, 'V_wonderful': False, 'V_feels': False, 'V_oh': False, 'V_tale': False, 'V_serious': False, 'V_expect': False, 'V_except': False, 'V_light': False, 'V_success': False, 'V_features': False, 'V_premise': False, 'V_happy': False, 'V_words': False, 'V_leave': False, 'V_important': False, 'V_meets': False, 'V_history': False, 'V_giving': False, 'V_crew': False, 'V_type': False, 'V_call': False, 'V_turned': False, 'V_released': True, 'V_parents': False, 'V_art': False, 'V_impressive': False, 'V_mission': False, 'V_working': False, 'V_seemed': False, 'V_score': False, 'V_told': False, 'V_recent': False, 'V_robin': False, 'V_basically': False, 'V_entertainment': False, 'V_america': False, 'V_$': False, 'V_surprise': False, 'V_apparently': False, 'V_easily': False, 'V_ryan': False, 'V_cool': False, 'V_stuff': False, 'V_cop': False, 'V_change': False, 'V_williams': False, 'V_crime': False, 'V_office': False, 'V_parts': True, 'V_somehow': False, 'V_sequel': False, 'V_william': False, 'V_cut': True, 'V_die': False, 'V_jones': False, 'V_credits': False, 'V_batman': False, 'V_suspense': False, 'V_brings': False, 'V_events': False, 'V_reality': False, 'V_whom': False, 'V_local': False, 'V_talking': False, 'V_difficult': False, 'V_using': False, 'V_went': False, 'V_writing': False, 'V_remember': False, 'V_near': False, 'V_straight': False, 'V_hilarious': False, 'V_ago': False, 'V_certain': False, 'V_ben': False, 'V_kid': False, 'V_wouldn': False, 'V_slow': False, 'V_blood': False, 'V_mystery': False, 'V_complete': False, 'V_red': False, 'V_popular': False, 'V_effective': False, 'V_am': False, 'V_fast': False, 'V_flick': False, 'V_due': False, 'V_runs': True, 'V_gone': False, 'V_return': False, 'V_presence': False, 'V_quality': False, 'V_dramatic': False, 'V_filmmakers': False, 'V_age': False, 'V_brothers': False, 'V_business': False, 'V_general': False, 'V_rock': False, 'V_sexual': False, 'V_present': False, 'V_surprisingly': False, 'V_anyway': False, 'V_uses': False, 'V_4': False, 'V_personal': False, 'V_figure': False, 'V_smart': False, 'V_ways': False, 'V_decides': True, 'V_annoying': False, 'V_begin': False, 'V_couldn': False, 'V_somewhat': False, 'V_shots': False, 'V_rich': False, 'V_minute': False, 'V_law': False, 'V_previous': False, 'V_jim': False, 'V_successful': False, 'V_harry': False, 'V_water': False, 'V_similar': True, 'V_absolutely': False, 'V_motion': False, 'V_former': False, 'V_strange': False, 'V_came': False, 'V_follow': False, 'V_read': True, 'V_project': False, 'V_million': False, 'V_secret': False, 'V_starring': False, 'V_clear': False, 'V_familiar': False, 'V_romance': False, 'V_intelligent': False, 'V_third': False, 'V_excellent': False, 'V_amazing': False, 'V_party': False, 'V_budget': False, 'V_eye': False, 'V_actress': False, 'V_prison': False, 'V_latest': False, 'V_means': False, 'V_company': False, 'V_towards': False, 'V_predictable': False, 'V_powerful': False, 'V_nor': True, 'V_bob': False, 'V_beyond': False, 'V_visual': False, 'V_leaves': False, 'V_r': True, 'V_nature': True, 'V_following': False, 'V_villain': False, 'V_leaving': False, 'V_animated': False, 'V_low': False, 'V_myself': False, 'V_b': False, 'V_bill': False, 'V_sam': True, 'V_filled': True, 'V_wars': False, 'V_questions': False, 'V_cinema': False, 'V_message': False, 'V_box': False, 'V_moving': False, 'V_herself': False, 'V_country': False, 'V_usual': False, 'V_martin': False, 'V_definitely': False, 'V_add': False, 'V_large': False, 'V_clever': False, 'V_create': False, 'V_felt': False, 'V_stories': False, 'V_brilliant': False, 'V_ones': False, 'V_giant': False, 'V_situation': False, 'V_murphy': False, 'V_break': False, 'V_opens': False, 'V_scary': False, 'V_doubt': False, 'V_drug': False, 'V_bunch': False, 'V_thinking': False, 'V_solid': False, 'V_effect': False, 'V_learn': False, 'V_move': False, 'V_force': False, 'V_potential': False, 'V_seriously': False, 'V_follows': False, 'V_above': False, 'V_saying': False, 'V_huge': False, 'V_class': False, 'V_plan': False, 'V_agent': False, 'V_created': False, 'V_unlike': False, 'V_pay': False, 'V_non': False, 'V_married': True, 'V_mark': False, 'V_sweet': False, 'V_perfectly': False, 'V_ex': True, 'V_realize': False, 'V_audiences': False, 'V_took': False, 'V_decent': False, 'V_likely': False, 'V_dream': False, 'V_view': False, 'V_scott': False, 'V_subject': False, 'V_understand': False, 'V_happened': False, 'V_enjoyable': False, 'V_studio': False, 'V_immediately': False, 'V_open': True, 'V_e': False, 'V_points': False, 'V_heard': True, 'V_viewers': True, 'V_cameron': False, 'V_truman': False, 'V_bruce': False, 'V_frank': False, 'V_private': False, 'V_stay': False, 'V_fails': False, 'V_impossible': True, 'V_cold': False, 'V_richard': False, 'V_overall': False, 'V_merely': False, 'V_exciting': False, 'V_mess': False, 'V_chase': False, 'V_free': False, 'V_ten': False, 'V_neither': True, 'V_wanted': False, 'V_gun': False, 'V_appear': False, 'V_carter': False, 'V_escape': False, 'V_ultimately': False, 'V_+': False, 'V_fan': False, 'V_inside': False, 'V_favorite': False, 'V_haven': False, 'V_modern': False, 'V_l': False, 'V_wedding': False, 'V_stone': False, 'V_trek': False, 'V_brought': False, 'V_trouble': False, 'V_otherwise': False, 'V_tim': False, 'V_5': False, 'V_allen': False, 'V_bond': False, 'V_society': False, 'V_liked': False, 'V_dumb': False, 'V_musical': False, 'V_stand': False, 'V_political': False, 'V_various': False, 'V_talented': False, 'V_particular': False, 'V_west': False, 'V_state': False, 'V_keeps': False, 'V_english': False, 'V_silly': False, 'V_u': False, 'V_situations': False, 'V_park': False, 'V_teen': False, 'V_rating': False, 'V_slightly': False, 'V_steve': False, 'V_truth': False, 'V_air': False, 'V_element': False, 'V_joke': False, 'V_spend': False, 'V_key': False, 'V_biggest': True, 'V_members': False, 'V_effort': False, 'V_government': False, 'V_focus': False, 'V_eddie': False, 'V_soundtrack': False, 'V_hands': False, 'V_earlier': True, 'V_chan': False, 'V_purpose': False, 'V_today': False, 'V_showing': False, 'V_memorable': False, 'V_six': False, 'V_cannot': False, 'V_max': True, 'V_offers': False, 'V_rated': True, 'V_mars': False, 'V_heavy': False, 'V_totally': False, 'V_control': False, 'V_credit': False, 'V_fi': False, 'V_woody': False, 'V_ideas': False, 'V_sci': False, 'V_wait': False, 'V_sit': False, 'V_female': False, 'V_ask': False, 'V_waste': False, 'V_terrible': False, 'V_depth': False, 'V_simon': False, 'V_aspect': False, 'V_list': False, 'V_mary': False, 'V_sister': False, 'V_animation': False, 'V_entirely': False, 'V_fear': False, 'V_steven': False, 'V_moves': False, 'V_actual': True, 'V_army': False, 'V_british': False, 'V_constantly': False, 'V_fire': True, 'V_convincing': False, 'V_setting': False, 'V_gave': False, 'V_tension': False, 'V_street': False, 'V_8': False, 'V_brief': False, 'V_ridiculous': False, 'V_cinematography': False, 'V_typical': False, 'V_nick': False, 'V_screenwriter': False, 'V_ability': False, 'V_spent': False, 'V_quick': False, 'V_violent': False, 'V_atmosphere': False, 'V_subtle': False, 'V_expected': False, 'V_fairly': False, 'V_seven': False, 'V_killing': False, 'V_tone': False, 'V_master': False, 'V_disaster': False, 'V_lots': False, 'V_thinks': True, 'V_song': False, 'V_cheap': False, 'V_suddenly': False, 'V_background': False, 'V_club': False, 'V_willis': False, 'V_whatever': False, 'V_highly': False, 'V_sees': False, 'V_complex': False, 'V_greatest': False, 'V_impact': False, 'V_beauty': False, 'V_front': False, 'V_humans': False, 'V_indeed': False, 'V_flat': False, 'V_grace': True, 'V_wrote': False, 'V_amusing': False, 'V_ii': False, 'V_mike': False, 'V_further': False, 'V_cute': False, 'V_dull': False, 'V_minor': False, 'V_recently': False, 'V_hate': False, 'V_outside': False, 'V_plenty': False, 'V_wish': False, 'V_godzilla': False, 'V_college': False, 'V_titanic': False, 'V_sounds': False, 'V_telling': False, 'V_sight': False, 'V_double': False, 'V_cinematic': False, 'V_queen': False, 'V_hold': True, 'V_meanwhile': False, 'V_awful': False, 'V_clearly': False, 'V_theme': False, 'V_hear': False, 'V_x': False, 'V_amount': False, 'V_baby': False, 'V_approach': False, 'V_dreams': False, 'V_shown': False, 'V_island': False, 'V_reasons': False, 'V_charm': False, 'V_miss': False, 'V_longer': False, 'V_common': False, 'V_sean': False, 'V_carry': False, 'V_believable': True, 'V_realistic': False, 'V_chemistry': True, 'V_possibly': False, 'V_casting': False, 'V_carrey': False, 'V_french': False, 'V_trailer': False, 'V_tough': False, 'V_produced': False, 'V_imagine': False, 'V_choice': False, 'V_ride': False, 'V_somewhere': False, 'V_hot': False, 'V_race': False, 'V_road': False, 'V_leader': False, 'V_thin': False, 'V_jerry': False, 'V_slowly': False, 'V_delivers': False, 'V_detective': False, 'V_brown': False, 'V_jackson': False, 'V_member': False, 'V_provide': False, 'V_president': False, 'V_puts': False, 'V_asks': True, 'V_critics': False, 'V_appearance': False, 'V_famous': True, 'V_okay': False, 'V_intelligence': True, 'V_energy': False, 'V_sent': False, 'V_spielberg': False, 'V_development': False, 'V_etc': False, 'V_language': False, 'V_blue': False, 'V_proves': False, 'V_vampire': False, 'V_seemingly': False, 'V_basic': False, 'V_caught': False, 'V_decide': False, 'V_opportunity': False, 'V_incredibly': False, 'V_images': False, 'V_band': False, 'V_j': False, 'V_writers': False, 'V_knew': False, 'V_interested': False, 'V_considering': False, 'V_boys': False, 'V_thanks': False, 'V_remains': False, 'V_climax': False, 'V_event': False, 'V_directing': False, 'V_conclusion': False, 'V_leading': False, 'V_ground': False, 'V_lies': False, 'V_forget': False, 'V_alive': False, 'V_tarzan': False, 'V_century': False, 'V_provides': False, 'V_trip': False, 'V_partner': False, 'V_central': False, 'V_tarantino': False, 'V_period': False, 'V_pace': False, 'V_yourself': False, 'V_worked': False, 'V_ready': False, 'V_date': False, 'V_thus': False, 'V_1998': False, 'V_terrific': False, 'V_write': False, 'V_average': False, 'V_onto': True, 'V_songs': False, 'V_occasionally': False, 'V_doctor': False, 'V_stands': False, 'V_hardly': False, 'V_monster': False, 'V_led': False, 'V_mysterious': False, 'V_details': False, 'V_wasted': False, 'V_apart': False, 'V_aside': False, 'V_store': False, 'V_billy': False, 'V_boss': False, 'V_travolta': False, 'V_producer': False, 'V_pull': True, 'V_consider': False, 'V_pictures': False, 'V_becoming': False, 'V_cage': False, 'V_loud': False, 'V_looked': False, 'V_officer': False, 'V_twenty': False, 'V_system': False, 'V_contains': False, 'V_julia': False, 'V_subplot': False, 'V_missing': False, 'V_personality': True, 'V_building': False, 'V_learns': False, 'V_hong': False, 'V_la': False, 'V_apartment': False, 'V_7': False, 'V_bizarre': False, 'V_powers': False, 'V_flaws': False, 'V_catch': False, 'V_lawyer': False, 'V_shoot': False, 'V_student': False, 'V_unique': False, 'V_000': True, 'V_admit': False, 'V_concept': False, 'V_needed': False, 'V_thrown': False, 'V_christopher': False, 'V_laughing': False, 'V_green': False, 'V_twists': False, 'V_matthew': False}, 'neg')\n"
     ]
    }
   ],
   "source": [
    "\n",
    "# define features (keywords) of a document\n",
    "# each feature is 'contains(keyword)' and is true or false depending\n",
    "# on whether that keyword is in the document\n",
    "def document_features(document, word_features):\n",
    "\tdocument_words = set(document)\n",
    "\tfeatures = {}\n",
    "\tfor word in word_features:\n",
    "\t\tfeatures['V_%s' % word] = (word in document_words)\n",
    "\treturn features\n",
    "\n",
    "# get features sets for a document, including keyword features and category feature\n",
    "featuresets = [(document_features(d, word_features), c) for (d,c) in documents]\n",
    "\n",
    "# the feature sets are 2000 words long - so this is optional\n",
    "print(featuresets[0])\n",
    "\n"
   ]
  },
  {
   "cell_type": "code",
   "execution_count": 18,
   "metadata": {},
   "outputs": [
    {
     "name": "stdout",
     "output_type": "stream",
     "text": [
      "0.8083333333333333\n"
     ]
    }
   ],
   "source": [
    "\n",
    "\n",
    "\n",
    "# training using naive Baysian classifier with a 95/5 split\n",
    "train_set, test_set = featuresets[120:], featuresets[:120]\n",
    "classifier = nltk.NaiveBayesClassifier.train(train_set)\n",
    "\n",
    "# evaluate the accuracy of the classifier\n",
    "print (nltk.classify.accuracy(classifier, test_set))\n",
    "# the accuracy result may vary since we randomized the documents\n",
    "\n",
    "\n"
   ]
  },
  {
   "cell_type": "code",
   "execution_count": 17,
   "metadata": {},
   "outputs": [
    {
     "name": "stdout",
     "output_type": "stream",
     "text": [
      "Most Informative Features\n",
      "                 V_awful = True              neg : pos    =      5.9 : 1.0\n",
      "                V_wasted = True              neg : pos    =      5.6 : 1.0\n",
      "                 V_waste = True              neg : pos    =      4.9 : 1.0\n",
      "            V_ridiculous = True              neg : pos    =      4.8 : 1.0\n",
      "                 V_worst = True              neg : pos    =      4.3 : 1.0\n",
      "                  V_dull = True              neg : pos    =      4.1 : 1.0\n",
      "                V_stupid = True              neg : pos    =      3.9 : 1.0\n",
      "              V_terrific = True              pos : neg    =      3.8 : 1.0\n",
      "                  V_mess = True              neg : pos    =      3.7 : 1.0\n",
      "             V_memorable = True              pos : neg    =      3.5 : 1.0\n",
      "                V_boring = True              neg : pos    =      3.4 : 1.0\n",
      "              V_terrible = True              neg : pos    =      3.4 : 1.0\n",
      "                V_subtle = True              pos : neg    =      3.3 : 1.0\n",
      "             V_excellent = True              pos : neg    =      3.1 : 1.0\n",
      "             V_perfectly = True              pos : neg    =      3.0 : 1.0\n",
      "             V_realistic = True              pos : neg    =      2.9 : 1.0\n",
      "                 V_flaws = True              pos : neg    =      2.9 : 1.0\n",
      "                 V_fails = True              neg : pos    =      2.8 : 1.0\n",
      "             V_effective = True              pos : neg    =      2.7 : 1.0\n",
      "             V_wonderful = True              pos : neg    =      2.6 : 1.0\n",
      "                V_period = True              pos : neg    =      2.6 : 1.0\n",
      "             V_political = True              pos : neg    =      2.6 : 1.0\n",
      "             V_hilarious = True              pos : neg    =      2.5 : 1.0\n",
      "              V_powerful = True              pos : neg    =      2.5 : 1.0\n",
      "               V_complex = True              pos : neg    =      2.5 : 1.0\n",
      "                  V_dumb = True              neg : pos    =      2.5 : 1.0\n",
      "             V_brilliant = True              pos : neg    =      2.5 : 1.0\n",
      "              V_supposed = True              neg : pos    =      2.4 : 1.0\n",
      "               V_cameron = True              pos : neg    =      2.4 : 1.0\n",
      "                 V_solid = True              pos : neg    =      2.4 : 1.0\n",
      "None\n"
     ]
    }
   ],
   "source": [
    "\n",
    "# show which features of classifier are most informative\n",
    "print(classifier.show_most_informative_features(30))"
   ]
  },
  {
   "cell_type": "code",
   "execution_count": null,
   "metadata": {},
   "outputs": [],
   "source": []
  },
  {
   "cell_type": "code",
   "execution_count": null,
   "metadata": {},
   "outputs": [],
   "source": []
  }
 ],
 "metadata": {
  "kernelspec": {
   "display_name": "Python 3",
   "language": "python",
   "name": "python3"
  },
  "language_info": {
   "codemirror_mode": {
    "name": "ipython",
    "version": 3
   },
   "file_extension": ".py",
   "mimetype": "text/x-python",
   "name": "python",
   "nbconvert_exporter": "python",
   "pygments_lexer": "ipython3",
   "version": "3.6.5"
  }
 },
 "nbformat": 4,
 "nbformat_minor": 2
}
